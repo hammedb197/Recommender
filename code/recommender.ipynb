{
 "cells": [
  {
   "cell_type": "code",
   "execution_count": 1,
   "metadata": {},
   "outputs": [],
   "source": [
    "import pandas as pd\n",
    "import turicreate as tc"
   ]
  },
  {
   "cell_type": "code",
   "execution_count": 104,
   "metadata": {},
   "outputs": [
    {
     "data": {
      "text/html": [
       "<pre>Read 100 lines. Lines per second: 1146.13</pre>"
      ],
      "text/plain": [
       "Read 100 lines. Lines per second: 1146.13"
      ]
     },
     "metadata": {},
     "output_type": "display_data"
    },
    {
     "data": {
      "text/html": [
       "<pre>Finished parsing file /home/hammed/Documents/PythonProject/ds-ml-al/Recommender/code/ml-100k/u.user</pre>"
      ],
      "text/plain": [
       "Finished parsing file /home/hammed/Documents/PythonProject/ds-ml-al/Recommender/code/ml-100k/u.user"
      ]
     },
     "metadata": {},
     "output_type": "display_data"
    },
    {
     "data": {
      "text/html": [
       "<pre>Parsing completed. Parsed 100 lines in 0.087433 secs.</pre>"
      ],
      "text/plain": [
       "Parsing completed. Parsed 100 lines in 0.087433 secs."
      ]
     },
     "metadata": {},
     "output_type": "display_data"
    },
    {
     "name": "stdout",
     "output_type": "stream",
     "text": [
      "------------------------------------------------------\n",
      "Inferred types from first 100 line(s) of file as \n",
      "column_type_hints=[int,int,str,str]\n",
      "If parsing fails due to incorrect types, you can correct\n",
      "the inferred type list above and pass it to read_csv in\n",
      "the column_type_hints argument\n",
      "------------------------------------------------------\n"
     ]
    },
    {
     "data": {
      "text/html": [
       "<pre>Finished parsing file /home/hammed/Documents/PythonProject/ds-ml-al/Recommender/code/ml-100k/u.user</pre>"
      ],
      "text/plain": [
       "Finished parsing file /home/hammed/Documents/PythonProject/ds-ml-al/Recommender/code/ml-100k/u.user"
      ]
     },
     "metadata": {},
     "output_type": "display_data"
    },
    {
     "data": {
      "text/html": [
       "<pre>Parsing completed. Parsed 943 lines in 0.09756 secs.</pre>"
      ],
      "text/plain": [
       "Parsing completed. Parsed 943 lines in 0.09756 secs."
      ]
     },
     "metadata": {},
     "output_type": "display_data"
    },
    {
     "data": {
      "text/html": [
       "<pre>Finished parsing file /home/hammed/Documents/PythonProject/ds-ml-al/Recommender/code/ml-100k/u1.base</pre>"
      ],
      "text/plain": [
       "Finished parsing file /home/hammed/Documents/PythonProject/ds-ml-al/Recommender/code/ml-100k/u1.base"
      ]
     },
     "metadata": {},
     "output_type": "display_data"
    },
    {
     "data": {
      "text/html": [
       "<pre>Parsing completed. Parsed 100 lines in 0.178498 secs.</pre>"
      ],
      "text/plain": [
       "Parsing completed. Parsed 100 lines in 0.178498 secs."
      ]
     },
     "metadata": {},
     "output_type": "display_data"
    },
    {
     "name": "stdout",
     "output_type": "stream",
     "text": [
      "------------------------------------------------------\n",
      "Inferred types from first 100 line(s) of file as \n",
      "column_type_hints=[int,int,int]\n",
      "If parsing fails due to incorrect types, you can correct\n",
      "the inferred type list above and pass it to read_csv in\n",
      "the column_type_hints argument\n",
      "------------------------------------------------------\n"
     ]
    },
    {
     "data": {
      "text/html": [
       "<pre>Finished parsing file /home/hammed/Documents/PythonProject/ds-ml-al/Recommender/code/ml-100k/u1.base</pre>"
      ],
      "text/plain": [
       "Finished parsing file /home/hammed/Documents/PythonProject/ds-ml-al/Recommender/code/ml-100k/u1.base"
      ]
     },
     "metadata": {},
     "output_type": "display_data"
    },
    {
     "data": {
      "text/html": [
       "<pre>Parsing completed. Parsed 80000 lines in 0.15425 secs.</pre>"
      ],
      "text/plain": [
       "Parsing completed. Parsed 80000 lines in 0.15425 secs."
      ]
     },
     "metadata": {},
     "output_type": "display_data"
    },
    {
     "data": {
      "text/html": [
       "<pre>Finished parsing file /home/hammed/Documents/PythonProject/ds-ml-al/Recommender/code/ml-100k/u.item</pre>"
      ],
      "text/plain": [
       "Finished parsing file /home/hammed/Documents/PythonProject/ds-ml-al/Recommender/code/ml-100k/u.item"
      ]
     },
     "metadata": {},
     "output_type": "display_data"
    },
    {
     "data": {
      "text/html": [
       "<pre>Parsing completed. Parsed 100 lines in 0.068201 secs.</pre>"
      ],
      "text/plain": [
       "Parsing completed. Parsed 100 lines in 0.068201 secs."
      ]
     },
     "metadata": {},
     "output_type": "display_data"
    },
    {
     "name": "stdout",
     "output_type": "stream",
     "text": [
      "------------------------------------------------------\n",
      "Inferred types from first 100 line(s) of file as \n",
      "column_type_hints=[int,str]\n",
      "If parsing fails due to incorrect types, you can correct\n",
      "the inferred type list above and pass it to read_csv in\n",
      "the column_type_hints argument\n",
      "------------------------------------------------------\n"
     ]
    },
    {
     "data": {
      "text/html": [
       "<pre>Finished parsing file /home/hammed/Documents/PythonProject/ds-ml-al/Recommender/code/ml-100k/u.item</pre>"
      ],
      "text/plain": [
       "Finished parsing file /home/hammed/Documents/PythonProject/ds-ml-al/Recommender/code/ml-100k/u.item"
      ]
     },
     "metadata": {},
     "output_type": "display_data"
    },
    {
     "data": {
      "text/html": [
       "<pre>Parsing completed. Parsed 1682 lines in 0.103629 secs.</pre>"
      ],
      "text/plain": [
       "Parsing completed. Parsed 1682 lines in 0.103629 secs."
      ]
     },
     "metadata": {},
     "output_type": "display_data"
    }
   ],
   "source": [
    "user = tc.SFrame.read_csv(\"ml-100k/u.user\", header=None, delimiter='|', usecols=[\"X1\", \"X2\", \"X3\", \"X4\"])\n",
    "user = user.rename({\"X1\":\"user_id\", \"X2\":\"Age\", \"X4\":\"occupation\", \"X3\":\"Sex\"})\n",
    "base = tc.SFrame.read_csv(\"ml-100k/u1.base\", header=None, delimiter='\\t', usecols=[\"X1\", \"X2\", \"X3\"])\n",
    "base = base.rename({\"X1\":\"movie_id\", \"X2\":\"user_id\", \"X3\":\"ratings\"})\n",
    "item = tc.SFrame.read_csv(\"ml-100k/u.item\", delimiter=\"|\",header=None, usecols=[\"X1\", \"X2\"])\n",
    "item = item.rename({\"X1\":\"user_id\", \"X2\":\"movie_title\"})"
   ]
  },
  {
   "cell_type": "code",
   "execution_count": 114,
   "metadata": {},
   "outputs": [],
   "source": [
    "use = user.join(base)\n",
    "analyse =use.join(item)"
   ]
  },
  {
   "cell_type": "code",
   "execution_count": 118,
   "metadata": {},
   "outputs": [
    {
     "data": {
      "text/html": [
       "<div style=\"max-height:1000px;max-width:1500px;overflow:auto;\"><table frame=\"box\" rules=\"cols\">\n",
       "    <tr>\n",
       "        <th style=\"padding-left: 1em; padding-right: 1em; text-align: center\">user_id</th>\n",
       "        <th style=\"padding-left: 1em; padding-right: 1em; text-align: center\">Age</th>\n",
       "        <th style=\"padding-left: 1em; padding-right: 1em; text-align: center\">Sex</th>\n",
       "        <th style=\"padding-left: 1em; padding-right: 1em; text-align: center\">occupation</th>\n",
       "        <th style=\"padding-left: 1em; padding-right: 1em; text-align: center\">movie_id</th>\n",
       "        <th style=\"padding-left: 1em; padding-right: 1em; text-align: center\">ratings</th>\n",
       "        <th style=\"padding-left: 1em; padding-right: 1em; text-align: center\">movie_title</th>\n",
       "    </tr>\n",
       "    <tr>\n",
       "        <td style=\"padding-left: 1em; padding-right: 1em; text-align: center; vertical-align: top\">1</td>\n",
       "        <td style=\"padding-left: 1em; padding-right: 1em; text-align: center; vertical-align: top\">24</td>\n",
       "        <td style=\"padding-left: 1em; padding-right: 1em; text-align: center; vertical-align: top\">M</td>\n",
       "        <td style=\"padding-left: 1em; padding-right: 1em; text-align: center; vertical-align: top\">technician</td>\n",
       "        <td style=\"padding-left: 1em; padding-right: 1em; text-align: center; vertical-align: top\">1</td>\n",
       "        <td style=\"padding-left: 1em; padding-right: 1em; text-align: center; vertical-align: top\">5</td>\n",
       "        <td style=\"padding-left: 1em; padding-right: 1em; text-align: center; vertical-align: top\">Toy Story (1995)</td>\n",
       "    </tr>\n",
       "    <tr>\n",
       "        <td style=\"padding-left: 1em; padding-right: 1em; text-align: center; vertical-align: top\">2</td>\n",
       "        <td style=\"padding-left: 1em; padding-right: 1em; text-align: center; vertical-align: top\">53</td>\n",
       "        <td style=\"padding-left: 1em; padding-right: 1em; text-align: center; vertical-align: top\">F</td>\n",
       "        <td style=\"padding-left: 1em; padding-right: 1em; text-align: center; vertical-align: top\">other</td>\n",
       "        <td style=\"padding-left: 1em; padding-right: 1em; text-align: center; vertical-align: top\">1</td>\n",
       "        <td style=\"padding-left: 1em; padding-right: 1em; text-align: center; vertical-align: top\">3</td>\n",
       "        <td style=\"padding-left: 1em; padding-right: 1em; text-align: center; vertical-align: top\">GoldenEye (1995)</td>\n",
       "    </tr>\n",
       "    <tr>\n",
       "        <td style=\"padding-left: 1em; padding-right: 1em; text-align: center; vertical-align: top\">3</td>\n",
       "        <td style=\"padding-left: 1em; padding-right: 1em; text-align: center; vertical-align: top\">23</td>\n",
       "        <td style=\"padding-left: 1em; padding-right: 1em; text-align: center; vertical-align: top\">M</td>\n",
       "        <td style=\"padding-left: 1em; padding-right: 1em; text-align: center; vertical-align: top\">writer</td>\n",
       "        <td style=\"padding-left: 1em; padding-right: 1em; text-align: center; vertical-align: top\">1</td>\n",
       "        <td style=\"padding-left: 1em; padding-right: 1em; text-align: center; vertical-align: top\">4</td>\n",
       "        <td style=\"padding-left: 1em; padding-right: 1em; text-align: center; vertical-align: top\">Four Rooms (1995)</td>\n",
       "    </tr>\n",
       "    <tr>\n",
       "        <td style=\"padding-left: 1em; padding-right: 1em; text-align: center; vertical-align: top\">4</td>\n",
       "        <td style=\"padding-left: 1em; padding-right: 1em; text-align: center; vertical-align: top\">24</td>\n",
       "        <td style=\"padding-left: 1em; padding-right: 1em; text-align: center; vertical-align: top\">M</td>\n",
       "        <td style=\"padding-left: 1em; padding-right: 1em; text-align: center; vertical-align: top\">technician</td>\n",
       "        <td style=\"padding-left: 1em; padding-right: 1em; text-align: center; vertical-align: top\">1</td>\n",
       "        <td style=\"padding-left: 1em; padding-right: 1em; text-align: center; vertical-align: top\">3</td>\n",
       "        <td style=\"padding-left: 1em; padding-right: 1em; text-align: center; vertical-align: top\">Get Shorty (1995)</td>\n",
       "    </tr>\n",
       "    <tr>\n",
       "        <td style=\"padding-left: 1em; padding-right: 1em; text-align: center; vertical-align: top\">5</td>\n",
       "        <td style=\"padding-left: 1em; padding-right: 1em; text-align: center; vertical-align: top\">33</td>\n",
       "        <td style=\"padding-left: 1em; padding-right: 1em; text-align: center; vertical-align: top\">F</td>\n",
       "        <td style=\"padding-left: 1em; padding-right: 1em; text-align: center; vertical-align: top\">other</td>\n",
       "        <td style=\"padding-left: 1em; padding-right: 1em; text-align: center; vertical-align: top\">1</td>\n",
       "        <td style=\"padding-left: 1em; padding-right: 1em; text-align: center; vertical-align: top\">3</td>\n",
       "        <td style=\"padding-left: 1em; padding-right: 1em; text-align: center; vertical-align: top\">Copycat (1995)</td>\n",
       "    </tr>\n",
       "    <tr>\n",
       "        <td style=\"padding-left: 1em; padding-right: 1em; text-align: center; vertical-align: top\">7</td>\n",
       "        <td style=\"padding-left: 1em; padding-right: 1em; text-align: center; vertical-align: top\">57</td>\n",
       "        <td style=\"padding-left: 1em; padding-right: 1em; text-align: center; vertical-align: top\">M</td>\n",
       "        <td style=\"padding-left: 1em; padding-right: 1em; text-align: center; vertical-align: top\">administrator</td>\n",
       "        <td style=\"padding-left: 1em; padding-right: 1em; text-align: center; vertical-align: top\">1</td>\n",
       "        <td style=\"padding-left: 1em; padding-right: 1em; text-align: center; vertical-align: top\">4</td>\n",
       "        <td style=\"padding-left: 1em; padding-right: 1em; text-align: center; vertical-align: top\">Twelve Monkeys (1995)</td>\n",
       "    </tr>\n",
       "    <tr>\n",
       "        <td style=\"padding-left: 1em; padding-right: 1em; text-align: center; vertical-align: top\">8</td>\n",
       "        <td style=\"padding-left: 1em; padding-right: 1em; text-align: center; vertical-align: top\">36</td>\n",
       "        <td style=\"padding-left: 1em; padding-right: 1em; text-align: center; vertical-align: top\">M</td>\n",
       "        <td style=\"padding-left: 1em; padding-right: 1em; text-align: center; vertical-align: top\">administrator</td>\n",
       "        <td style=\"padding-left: 1em; padding-right: 1em; text-align: center; vertical-align: top\">1</td>\n",
       "        <td style=\"padding-left: 1em; padding-right: 1em; text-align: center; vertical-align: top\">1</td>\n",
       "        <td style=\"padding-left: 1em; padding-right: 1em; text-align: center; vertical-align: top\">Babe (1995)</td>\n",
       "    </tr>\n",
       "    <tr>\n",
       "        <td style=\"padding-left: 1em; padding-right: 1em; text-align: center; vertical-align: top\">9</td>\n",
       "        <td style=\"padding-left: 1em; padding-right: 1em; text-align: center; vertical-align: top\">29</td>\n",
       "        <td style=\"padding-left: 1em; padding-right: 1em; text-align: center; vertical-align: top\">M</td>\n",
       "        <td style=\"padding-left: 1em; padding-right: 1em; text-align: center; vertical-align: top\">student</td>\n",
       "        <td style=\"padding-left: 1em; padding-right: 1em; text-align: center; vertical-align: top\">1</td>\n",
       "        <td style=\"padding-left: 1em; padding-right: 1em; text-align: center; vertical-align: top\">5</td>\n",
       "        <td style=\"padding-left: 1em; padding-right: 1em; text-align: center; vertical-align: top\">Dead Man Walking (1995)</td>\n",
       "    </tr>\n",
       "    <tr>\n",
       "        <td style=\"padding-left: 1em; padding-right: 1em; text-align: center; vertical-align: top\">11</td>\n",
       "        <td style=\"padding-left: 1em; padding-right: 1em; text-align: center; vertical-align: top\">39</td>\n",
       "        <td style=\"padding-left: 1em; padding-right: 1em; text-align: center; vertical-align: top\">F</td>\n",
       "        <td style=\"padding-left: 1em; padding-right: 1em; text-align: center; vertical-align: top\">other</td>\n",
       "        <td style=\"padding-left: 1em; padding-right: 1em; text-align: center; vertical-align: top\">1</td>\n",
       "        <td style=\"padding-left: 1em; padding-right: 1em; text-align: center; vertical-align: top\">2</td>\n",
       "        <td style=\"padding-left: 1em; padding-right: 1em; text-align: center; vertical-align: top\">Seven (Se7en) (1995)</td>\n",
       "    </tr>\n",
       "    <tr>\n",
       "        <td style=\"padding-left: 1em; padding-right: 1em; text-align: center; vertical-align: top\">13</td>\n",
       "        <td style=\"padding-left: 1em; padding-right: 1em; text-align: center; vertical-align: top\">47</td>\n",
       "        <td style=\"padding-left: 1em; padding-right: 1em; text-align: center; vertical-align: top\">M</td>\n",
       "        <td style=\"padding-left: 1em; padding-right: 1em; text-align: center; vertical-align: top\">educator</td>\n",
       "        <td style=\"padding-left: 1em; padding-right: 1em; text-align: center; vertical-align: top\">1</td>\n",
       "        <td style=\"padding-left: 1em; padding-right: 1em; text-align: center; vertical-align: top\">5</td>\n",
       "        <td style=\"padding-left: 1em; padding-right: 1em; text-align: center; vertical-align: top\">Mighty Aphrodite (1995)</td>\n",
       "    </tr>\n",
       "</table>\n",
       "[10 rows x 7 columns]<br/>\n",
       "</div>"
      ],
      "text/plain": [
       "Columns:\n",
       "\tuser_id\tint\n",
       "\tAge\tint\n",
       "\tSex\tstr\n",
       "\toccupation\tstr\n",
       "\tmovie_id\tint\n",
       "\tratings\tint\n",
       "\tmovie_title\tstr\n",
       "\n",
       "Rows: 10\n",
       "\n",
       "Data:\n",
       "+---------+-----+-----+---------------+----------+---------+\n",
       "| user_id | Age | Sex |   occupation  | movie_id | ratings |\n",
       "+---------+-----+-----+---------------+----------+---------+\n",
       "|    1    |  24 |  M  |   technician  |    1     |    5    |\n",
       "|    2    |  53 |  F  |     other     |    1     |    3    |\n",
       "|    3    |  23 |  M  |     writer    |    1     |    4    |\n",
       "|    4    |  24 |  M  |   technician  |    1     |    3    |\n",
       "|    5    |  33 |  F  |     other     |    1     |    3    |\n",
       "|    7    |  57 |  M  | administrator |    1     |    4    |\n",
       "|    8    |  36 |  M  | administrator |    1     |    1    |\n",
       "|    9    |  29 |  M  |    student    |    1     |    5    |\n",
       "|    11   |  39 |  F  |     other     |    1     |    2    |\n",
       "|    13   |  47 |  M  |    educator   |    1     |    5    |\n",
       "+---------+-----+-----+---------------+----------+---------+\n",
       "+-------------------------+\n",
       "|       movie_title       |\n",
       "+-------------------------+\n",
       "|     Toy Story (1995)    |\n",
       "|     GoldenEye (1995)    |\n",
       "|    Four Rooms (1995)    |\n",
       "|    Get Shorty (1995)    |\n",
       "|      Copycat (1995)     |\n",
       "|  Twelve Monkeys (1995)  |\n",
       "|       Babe (1995)       |\n",
       "| Dead Man Walking (1995) |\n",
       "|   Seven (Se7en) (1995)  |\n",
       "| Mighty Aphrodite (1995) |\n",
       "+-------------------------+\n",
       "[10 rows x 7 columns]"
      ]
     },
     "execution_count": 118,
     "metadata": {},
     "output_type": "execute_result"
    }
   ],
   "source": [
    "analyse.head()"
   ]
  },
  {
   "cell_type": "code",
   "execution_count": 133,
   "metadata": {},
   "outputs": [
    {
     "data": {
      "text/html": [
       "<pre>Recsys training: model = item_similarity</pre>"
      ],
      "text/plain": [
       "Recsys training: model = item_similarity"
      ]
     },
     "metadata": {},
     "output_type": "display_data"
    },
    {
     "data": {
      "text/html": [
       "<pre>Warning: Ignoring columns Age, Sex, occupation, movie_title;</pre>"
      ],
      "text/plain": [
       "Warning: Ignoring columns Age, Sex, occupation, movie_title;"
      ]
     },
     "metadata": {},
     "output_type": "display_data"
    },
    {
     "data": {
      "text/html": [
       "<pre>    To use these columns in scoring predictions, use a model that allows the use of additional features.</pre>"
      ],
      "text/plain": [
       "    To use these columns in scoring predictions, use a model that allows the use of additional features."
      ]
     },
     "metadata": {},
     "output_type": "display_data"
    },
    {
     "data": {
      "text/html": [
       "<pre>Preparing data set.</pre>"
      ],
      "text/plain": [
       "Preparing data set."
      ]
     },
     "metadata": {},
     "output_type": "display_data"
    },
    {
     "data": {
      "text/html": [
       "<pre>    Data has 72544 observations with 937 users and 943 items.</pre>"
      ],
      "text/plain": [
       "    Data has 72544 observations with 937 users and 943 items."
      ]
     },
     "metadata": {},
     "output_type": "display_data"
    },
    {
     "data": {
      "text/html": [
       "<pre>    Data prepared in: 0.508002s</pre>"
      ],
      "text/plain": [
       "    Data prepared in: 0.508002s"
      ]
     },
     "metadata": {},
     "output_type": "display_data"
    },
    {
     "data": {
      "text/html": [
       "<pre>Training model from provided data.</pre>"
      ],
      "text/plain": [
       "Training model from provided data."
      ]
     },
     "metadata": {},
     "output_type": "display_data"
    },
    {
     "data": {
      "text/html": [
       "<pre>Gathering per-item and per-user statistics.</pre>"
      ],
      "text/plain": [
       "Gathering per-item and per-user statistics."
      ]
     },
     "metadata": {},
     "output_type": "display_data"
    },
    {
     "data": {
      "text/html": [
       "<pre>+--------------------------------+------------+</pre>"
      ],
      "text/plain": [
       "+--------------------------------+------------+"
      ]
     },
     "metadata": {},
     "output_type": "display_data"
    },
    {
     "data": {
      "text/html": [
       "<pre>| Elapsed Time (Item Statistics) | % Complete |</pre>"
      ],
      "text/plain": [
       "| Elapsed Time (Item Statistics) | % Complete |"
      ]
     },
     "metadata": {},
     "output_type": "display_data"
    },
    {
     "data": {
      "text/html": [
       "<pre>+--------------------------------+------------+</pre>"
      ],
      "text/plain": [
       "+--------------------------------+------------+"
      ]
     },
     "metadata": {},
     "output_type": "display_data"
    },
    {
     "data": {
      "text/html": [
       "<pre>| 401.559ms                      | 100        |</pre>"
      ],
      "text/plain": [
       "| 401.559ms                      | 100        |"
      ]
     },
     "metadata": {},
     "output_type": "display_data"
    },
    {
     "data": {
      "text/html": [
       "<pre>+--------------------------------+------------+</pre>"
      ],
      "text/plain": [
       "+--------------------------------+------------+"
      ]
     },
     "metadata": {},
     "output_type": "display_data"
    },
    {
     "data": {
      "text/html": [
       "<pre>Setting up lookup tables.</pre>"
      ],
      "text/plain": [
       "Setting up lookup tables."
      ]
     },
     "metadata": {},
     "output_type": "display_data"
    },
    {
     "data": {
      "text/html": [
       "<pre>Processing data in one pass using dense lookup tables.</pre>"
      ],
      "text/plain": [
       "Processing data in one pass using dense lookup tables."
      ]
     },
     "metadata": {},
     "output_type": "display_data"
    },
    {
     "data": {
      "text/html": [
       "<pre>+-------------------------------------+------------------+-----------------+</pre>"
      ],
      "text/plain": [
       "+-------------------------------------+------------------+-----------------+"
      ]
     },
     "metadata": {},
     "output_type": "display_data"
    },
    {
     "data": {
      "text/html": [
       "<pre>| Elapsed Time (Constructing Lookups) | Total % Complete | Items Processed |</pre>"
      ],
      "text/plain": [
       "| Elapsed Time (Constructing Lookups) | Total % Complete | Items Processed |"
      ]
     },
     "metadata": {},
     "output_type": "display_data"
    },
    {
     "data": {
      "text/html": [
       "<pre>+-------------------------------------+------------------+-----------------+</pre>"
      ],
      "text/plain": [
       "+-------------------------------------+------------------+-----------------+"
      ]
     },
     "metadata": {},
     "output_type": "display_data"
    },
    {
     "data": {
      "text/html": [
       "<pre>| 433.889ms                           | 1.25             | 13              |</pre>"
      ],
      "text/plain": [
       "| 433.889ms                           | 1.25             | 13              |"
      ]
     },
     "metadata": {},
     "output_type": "display_data"
    },
    {
     "data": {
      "text/html": [
       "<pre>| 746.338ms                           | 100              | 943             |</pre>"
      ],
      "text/plain": [
       "| 746.338ms                           | 100              | 943             |"
      ]
     },
     "metadata": {},
     "output_type": "display_data"
    },
    {
     "data": {
      "text/html": [
       "<pre>+-------------------------------------+------------------+-----------------+</pre>"
      ],
      "text/plain": [
       "+-------------------------------------+------------------+-----------------+"
      ]
     },
     "metadata": {},
     "output_type": "display_data"
    },
    {
     "data": {
      "text/html": [
       "<pre>Finalizing lookup tables.</pre>"
      ],
      "text/plain": [
       "Finalizing lookup tables."
      ]
     },
     "metadata": {},
     "output_type": "display_data"
    },
    {
     "data": {
      "text/html": [
       "<pre>Generating candidate set for working with new users.</pre>"
      ],
      "text/plain": [
       "Generating candidate set for working with new users."
      ]
     },
     "metadata": {},
     "output_type": "display_data"
    },
    {
     "data": {
      "text/html": [
       "<pre>Finished training in 2.11591s</pre>"
      ],
      "text/plain": [
       "Finished training in 2.11591s"
      ]
     },
     "metadata": {},
     "output_type": "display_data"
    },
    {
     "name": "stdout",
     "output_type": "stream",
     "text": [
      "Applying transform:\n",
      "Class             : AutoVectorizer\n",
      "\n",
      "Model Fields\n",
      "------------\n",
      "Features          : ['user_id', 'Age', 'Sex', 'occupation', 'ratings', 'movie_title']\n",
      "Excluded Features : ['movie_id']\n",
      "\n",
      "Column       Type  Interpretation  Transforms                         Output Type\n",
      "-----------  ----  --------------  ---------------------------------  -----------\n",
      "user_id      int   numerical       None                               int        \n",
      "Age          int   numerical       None                               int        \n",
      "Sex          str   categorical     None                               str        \n",
      "occupation   str   categorical     None                               str        \n",
      "ratings      int   numerical       None                               int        \n",
      "movie_title  str   short_text      3-Character NGram Counts -> TFIDF  dict       \n",
      "\n",
      "\n"
     ]
    },
    {
     "data": {
      "text/html": [
       "<pre>Recsys training: model = item_content_recommender</pre>"
      ],
      "text/plain": [
       "Recsys training: model = item_content_recommender"
      ]
     },
     "metadata": {},
     "output_type": "display_data"
    },
    {
     "name": "stdout",
     "output_type": "stream",
     "text": [
      "Defaulting to brute force instead of ball tree because there are multiple distance components.\n"
     ]
    },
    {
     "data": {
      "text/html": [
       "<pre>Starting brute force nearest neighbors model training.</pre>"
      ],
      "text/plain": [
       "Starting brute force nearest neighbors model training."
      ]
     },
     "metadata": {},
     "output_type": "display_data"
    },
    {
     "data": {
      "text/html": [
       "<pre>Starting pairwise querying.</pre>"
      ],
      "text/plain": [
       "Starting pairwise querying."
      ]
     },
     "metadata": {},
     "output_type": "display_data"
    },
    {
     "data": {
      "text/html": [
       "<pre>+--------------+---------+-------------+--------------+</pre>"
      ],
      "text/plain": [
       "+--------------+---------+-------------+--------------+"
      ]
     },
     "metadata": {},
     "output_type": "display_data"
    },
    {
     "data": {
      "text/html": [
       "<pre>| Query points | # Pairs | % Complete. | Elapsed Time |</pre>"
      ],
      "text/plain": [
       "| Query points | # Pairs | % Complete. | Elapsed Time |"
      ]
     },
     "metadata": {},
     "output_type": "display_data"
    },
    {
     "data": {
      "text/html": [
       "<pre>+--------------+---------+-------------+--------------+</pre>"
      ],
      "text/plain": [
       "+--------------+---------+-------------+--------------+"
      ]
     },
     "metadata": {},
     "output_type": "display_data"
    },
    {
     "data": {
      "text/html": [
       "<pre>| 1            | 72544   | 0.00137847  | 369.61ms     |</pre>"
      ],
      "text/plain": [
       "| 1            | 72544   | 0.00137847  | 369.61ms     |"
      ]
     },
     "metadata": {},
     "output_type": "display_data"
    },
    {
     "data": {
      "text/html": [
       "<pre>| 33           | 2393952 | 0.0454896   | 4.49s        |</pre>"
      ],
      "text/plain": [
       "| 33           | 2393952 | 0.0454896   | 4.49s        |"
      ]
     },
     "metadata": {},
     "output_type": "display_data"
    },
    {
     "data": {
      "text/html": [
       "<pre>| 62           | 4497728 | 0.0854654   | 6.39s        |</pre>"
      ],
      "text/plain": [
       "| 62           | 4497728 | 0.0854654   | 6.39s        |"
      ]
     },
     "metadata": {},
     "output_type": "display_data"
    },
    {
     "data": {
      "text/html": [
       "<pre>| 75           | 5440800 | 0.103386    | 9.32s        |</pre>"
      ],
      "text/plain": [
       "| 75           | 5440800 | 0.103386    | 9.32s        |"
      ]
     },
     "metadata": {},
     "output_type": "display_data"
    },
    {
     "data": {
      "text/html": [
       "<pre>| 122          | 8850368 | 0.168174    | 12.36s       |</pre>"
      ],
      "text/plain": [
       "| 122          | 8850368 | 0.168174    | 12.36s       |"
      ]
     },
     "metadata": {},
     "output_type": "display_data"
    },
    {
     "data": {
      "text/html": [
       "<pre>| 176          | 1.3e+07 | 0.242611    | 15.34s       |</pre>"
      ],
      "text/plain": [
       "| 176          | 1.3e+07 | 0.242611    | 15.34s       |"
      ]
     },
     "metadata": {},
     "output_type": "display_data"
    },
    {
     "data": {
      "text/html": [
       "<pre>| 229          | 1.7e+07 | 0.31567     | 18.33s       |</pre>"
      ],
      "text/plain": [
       "| 229          | 1.7e+07 | 0.31567     | 18.33s       |"
      ]
     },
     "metadata": {},
     "output_type": "display_data"
    },
    {
     "data": {
      "text/html": [
       "<pre>| 273          | 2e+07   | 0.376323    | 21.33s       |</pre>"
      ],
      "text/plain": [
       "| 273          | 2e+07   | 0.376323    | 21.33s       |"
      ]
     },
     "metadata": {},
     "output_type": "display_data"
    },
    {
     "data": {
      "text/html": [
       "<pre>| 326          | 2.4e+07 | 0.449382    | 24.34s       |</pre>"
      ],
      "text/plain": [
       "| 326          | 2.4e+07 | 0.449382    | 24.34s       |"
      ]
     },
     "metadata": {},
     "output_type": "display_data"
    },
    {
     "data": {
      "text/html": [
       "<pre>| 372          | 2.7e+07 | 0.512792    | 27.33s       |</pre>"
      ],
      "text/plain": [
       "| 372          | 2.7e+07 | 0.512792    | 27.33s       |"
      ]
     },
     "metadata": {},
     "output_type": "display_data"
    },
    {
     "data": {
      "text/html": [
       "<pre>| 410          | 3e+07   | 0.565174    | 30.39s       |</pre>"
      ],
      "text/plain": [
       "| 410          | 3e+07   | 0.565174    | 30.39s       |"
      ]
     },
     "metadata": {},
     "output_type": "display_data"
    },
    {
     "data": {
      "text/html": [
       "<pre>| 458          | 3.3e+07 | 0.631341    | 33.36s       |</pre>"
      ],
      "text/plain": [
       "| 458          | 3.3e+07 | 0.631341    | 33.36s       |"
      ]
     },
     "metadata": {},
     "output_type": "display_data"
    },
    {
     "data": {
      "text/html": [
       "<pre>| 514          | 3.7e+07 | 0.708536    | 36.34s       |</pre>"
      ],
      "text/plain": [
       "| 514          | 3.7e+07 | 0.708536    | 36.34s       |"
      ]
     },
     "metadata": {},
     "output_type": "display_data"
    },
    {
     "data": {
      "text/html": [
       "<pre>| 566          | 4.1e+07 | 0.780216    | 39.41s       |</pre>"
      ],
      "text/plain": [
       "| 566          | 4.1e+07 | 0.780216    | 39.41s       |"
      ]
     },
     "metadata": {},
     "output_type": "display_data"
    },
    {
     "data": {
      "text/html": [
       "<pre>| 602          | 4.4e+07 | 0.829841    | 42.37s       |</pre>"
      ],
      "text/plain": [
       "| 602          | 4.4e+07 | 0.829841    | 42.37s       |"
      ]
     },
     "metadata": {},
     "output_type": "display_data"
    },
    {
     "data": {
      "text/html": [
       "<pre>| 647          | 4.7e+07 | 0.891873    | 45.32s       |</pre>"
      ],
      "text/plain": [
       "| 647          | 4.7e+07 | 0.891873    | 45.32s       |"
      ]
     },
     "metadata": {},
     "output_type": "display_data"
    },
    {
     "data": {
      "text/html": [
       "<pre>| 717          | 5.2e+07 | 0.988366    | 48.31s       |</pre>"
      ],
      "text/plain": [
       "| 717          | 5.2e+07 | 0.988366    | 48.31s       |"
      ]
     },
     "metadata": {},
     "output_type": "display_data"
    },
    {
     "data": {
      "text/html": [
       "<pre>| 781          | 5.7e+07 | 1.07659     | 51.36s       |</pre>"
      ],
      "text/plain": [
       "| 781          | 5.7e+07 | 1.07659     | 51.36s       |"
      ]
     },
     "metadata": {},
     "output_type": "display_data"
    },
    {
     "data": {
      "text/html": [
       "<pre>| 829          | 6e+07   | 1.14275     | 54.40s       |</pre>"
      ],
      "text/plain": [
       "| 829          | 6e+07   | 1.14275     | 54.40s       |"
      ]
     },
     "metadata": {},
     "output_type": "display_data"
    },
    {
     "data": {
      "text/html": [
       "<pre>| 890          | 6.5e+07 | 1.22684     | 57.40s       |</pre>"
      ],
      "text/plain": [
       "| 890          | 6.5e+07 | 1.22684     | 57.40s       |"
      ]
     },
     "metadata": {},
     "output_type": "display_data"
    },
    {
     "data": {
      "text/html": [
       "<pre>| 947          | 6.9e+07 | 1.30541     | 1m 0s        |</pre>"
      ],
      "text/plain": [
       "| 947          | 6.9e+07 | 1.30541     | 1m 0s        |"
      ]
     },
     "metadata": {},
     "output_type": "display_data"
    },
    {
     "data": {
      "text/html": [
       "<pre>| 1007         | 7.3e+07 | 1.38812     | 1m 3s        |</pre>"
      ],
      "text/plain": [
       "| 1007         | 7.3e+07 | 1.38812     | 1m 3s        |"
      ]
     },
     "metadata": {},
     "output_type": "display_data"
    },
    {
     "data": {
      "text/html": [
       "<pre>| 1057         | 7.7e+07 | 1.45705     | 1m 6s        |</pre>"
      ],
      "text/plain": [
       "| 1057         | 7.7e+07 | 1.45705     | 1m 6s        |"
      ]
     },
     "metadata": {},
     "output_type": "display_data"
    },
    {
     "data": {
      "text/html": [
       "<pre>| 1122         | 8.1e+07 | 1.54665     | 1m 9s        |</pre>"
      ],
      "text/plain": [
       "| 1122         | 8.1e+07 | 1.54665     | 1m 9s        |"
      ]
     },
     "metadata": {},
     "output_type": "display_data"
    },
    {
     "data": {
      "text/html": [
       "<pre>| 1185         | 8.6e+07 | 1.63349     | 1m 12s       |</pre>"
      ],
      "text/plain": [
       "| 1185         | 8.6e+07 | 1.63349     | 1m 12s       |"
      ]
     },
     "metadata": {},
     "output_type": "display_data"
    },
    {
     "data": {
      "text/html": [
       "<pre>| 1244         | 9e+07   | 1.71482     | 1m 15s       |</pre>"
      ],
      "text/plain": [
       "| 1244         | 9e+07   | 1.71482     | 1m 15s       |"
      ]
     },
     "metadata": {},
     "output_type": "display_data"
    },
    {
     "data": {
      "text/html": [
       "<pre>| 1319         | 9.6e+07 | 1.81821     | 1m 18s       |</pre>"
      ],
      "text/plain": [
       "| 1319         | 9.6e+07 | 1.81821     | 1m 18s       |"
      ]
     },
     "metadata": {},
     "output_type": "display_data"
    },
    {
     "data": {
      "text/html": [
       "<pre>| 1397         | 1e+08   | 1.92573     | 1m 21s       |</pre>"
      ],
      "text/plain": [
       "| 1397         | 1e+08   | 1.92573     | 1m 21s       |"
      ]
     },
     "metadata": {},
     "output_type": "display_data"
    },
    {
     "data": {
      "text/html": [
       "<pre>| 1474         | 1.1e+08 | 2.03187     | 1m 24s       |</pre>"
      ],
      "text/plain": [
       "| 1474         | 1.1e+08 | 2.03187     | 1m 24s       |"
      ]
     },
     "metadata": {},
     "output_type": "display_data"
    },
    {
     "data": {
      "text/html": [
       "<pre>| 1529         | 1.1e+08 | 2.10769     | 1m 27s       |</pre>"
      ],
      "text/plain": [
       "| 1529         | 1.1e+08 | 2.10769     | 1m 27s       |"
      ]
     },
     "metadata": {},
     "output_type": "display_data"
    },
    {
     "data": {
      "text/html": [
       "<pre>| 1575         | 1.1e+08 | 2.1711      | 1m 30s       |</pre>"
      ],
      "text/plain": [
       "| 1575         | 1.1e+08 | 2.1711      | 1m 30s       |"
      ]
     },
     "metadata": {},
     "output_type": "display_data"
    },
    {
     "data": {
      "text/html": [
       "<pre>| 1635         | 1.2e+08 | 2.2538      | 1m 33s       |</pre>"
      ],
      "text/plain": [
       "| 1635         | 1.2e+08 | 2.2538      | 1m 33s       |"
      ]
     },
     "metadata": {},
     "output_type": "display_data"
    },
    {
     "data": {
      "text/html": [
       "<pre>| 1706         | 1.2e+08 | 2.35168     | 1m 36s       |</pre>"
      ],
      "text/plain": [
       "| 1706         | 1.2e+08 | 2.35168     | 1m 36s       |"
      ]
     },
     "metadata": {},
     "output_type": "display_data"
    },
    {
     "data": {
      "text/html": [
       "<pre>| 1757         | 1.3e+08 | 2.42198     | 1m 39s       |</pre>"
      ],
      "text/plain": [
       "| 1757         | 1.3e+08 | 2.42198     | 1m 39s       |"
      ]
     },
     "metadata": {},
     "output_type": "display_data"
    },
    {
     "data": {
      "text/html": [
       "<pre>| 1809         | 1.3e+08 | 2.49366     | 1m 42s       |</pre>"
      ],
      "text/plain": [
       "| 1809         | 1.3e+08 | 2.49366     | 1m 42s       |"
      ]
     },
     "metadata": {},
     "output_type": "display_data"
    },
    {
     "data": {
      "text/html": [
       "<pre>| 1856         | 1.3e+08 | 2.55845     | 1m 45s       |</pre>"
      ],
      "text/plain": [
       "| 1856         | 1.3e+08 | 2.55845     | 1m 45s       |"
      ]
     },
     "metadata": {},
     "output_type": "display_data"
    },
    {
     "data": {
      "text/html": [
       "<pre>| 1918         | 1.4e+08 | 2.64391     | 1m 48s       |</pre>"
      ],
      "text/plain": [
       "| 1918         | 1.4e+08 | 2.64391     | 1m 48s       |"
      ]
     },
     "metadata": {},
     "output_type": "display_data"
    },
    {
     "data": {
      "text/html": [
       "<pre>| 1996         | 1.4e+08 | 2.75143     | 1m 51s       |</pre>"
      ],
      "text/plain": [
       "| 1996         | 1.4e+08 | 2.75143     | 1m 51s       |"
      ]
     },
     "metadata": {},
     "output_type": "display_data"
    },
    {
     "data": {
      "text/html": [
       "<pre>| 2073         | 1.5e+08 | 2.85758     | 1m 54s       |</pre>"
      ],
      "text/plain": [
       "| 2073         | 1.5e+08 | 2.85758     | 1m 54s       |"
      ]
     },
     "metadata": {},
     "output_type": "display_data"
    },
    {
     "data": {
      "text/html": [
       "<pre>| 2128         | 1.5e+08 | 2.93339     | 1m 57s       |</pre>"
      ],
      "text/plain": [
       "| 2128         | 1.5e+08 | 2.93339     | 1m 57s       |"
      ]
     },
     "metadata": {},
     "output_type": "display_data"
    },
    {
     "data": {
      "text/html": [
       "<pre>| 2205         |         | 3.03953     | 2m 0s        |</pre>"
      ],
      "text/plain": [
       "| 2205         |         | 3.03953     | 2m 0s        |"
      ]
     },
     "metadata": {},
     "output_type": "display_data"
    },
    {
     "data": {
      "text/html": [
       "<pre>| 2280         | 1.7e+08 | 3.14292     | 2m 3s        |</pre>"
      ],
      "text/plain": [
       "| 2280         | 1.7e+08 | 3.14292     | 2m 3s        |"
      ]
     },
     "metadata": {},
     "output_type": "display_data"
    },
    {
     "data": {
      "text/html": [
       "<pre>| 2349         | 1.7e+08 | 3.23803     | 2m 6s        |</pre>"
      ],
      "text/plain": [
       "| 2349         | 1.7e+08 | 3.23803     | 2m 6s        |"
      ]
     },
     "metadata": {},
     "output_type": "display_data"
    },
    {
     "data": {
      "text/html": [
       "<pre>| 2418         | 1.8e+08 | 3.33315     | 2m 9s        |</pre>"
      ],
      "text/plain": [
       "| 2418         | 1.8e+08 | 3.33315     | 2m 9s        |"
      ]
     },
     "metadata": {},
     "output_type": "display_data"
    },
    {
     "data": {
      "text/html": [
       "<pre>| 2481         |         | 3.41999     | 2m 12s       |</pre>"
      ],
      "text/plain": [
       "| 2481         |         | 3.41999     | 2m 12s       |"
      ]
     },
     "metadata": {},
     "output_type": "display_data"
    },
    {
     "data": {
      "text/html": [
       "<pre>| 2540         | 1.8e+08 | 3.50132     | 2m 15s       |</pre>"
      ],
      "text/plain": [
       "| 2540         | 1.8e+08 | 3.50132     | 2m 15s       |"
      ]
     },
     "metadata": {},
     "output_type": "display_data"
    },
    {
     "data": {
      "text/html": [
       "<pre>| 2614         | 1.9e+08 | 3.60333     | 2m 18s       |</pre>"
      ],
      "text/plain": [
       "| 2614         | 1.9e+08 | 3.60333     | 2m 18s       |"
      ]
     },
     "metadata": {},
     "output_type": "display_data"
    },
    {
     "data": {
      "text/html": [
       "<pre>| 2694         | 2e+08   | 3.71361     | 2m 21s       |</pre>"
      ],
      "text/plain": [
       "| 2694         | 2e+08   | 3.71361     | 2m 21s       |"
      ]
     },
     "metadata": {},
     "output_type": "display_data"
    },
    {
     "data": {
      "text/html": [
       "<pre>| 2773         | 2e+08   | 3.82251     | 2m 24s       |</pre>"
      ],
      "text/plain": [
       "| 2773         | 2e+08   | 3.82251     | 2m 24s       |"
      ]
     },
     "metadata": {},
     "output_type": "display_data"
    },
    {
     "data": {
      "text/html": [
       "<pre>| 2854         | 2.1e+08 | 3.93416     | 2m 27s       |</pre>"
      ],
      "text/plain": [
       "| 2854         | 2.1e+08 | 3.93416     | 2m 27s       |"
      ]
     },
     "metadata": {},
     "output_type": "display_data"
    },
    {
     "data": {
      "text/html": [
       "<pre>| 2934         | 2.1e+08 | 4.04444     | 2m 30s       |</pre>"
      ],
      "text/plain": [
       "| 2934         | 2.1e+08 | 4.04444     | 2m 30s       |"
      ]
     },
     "metadata": {},
     "output_type": "display_data"
    },
    {
     "data": {
      "text/html": [
       "<pre>| 3014         | 2.2e+08 | 4.15472     | 2m 33s       |</pre>"
      ],
      "text/plain": [
       "| 3014         | 2.2e+08 | 4.15472     | 2m 33s       |"
      ]
     },
     "metadata": {},
     "output_type": "display_data"
    },
    {
     "data": {
      "text/html": [
       "<pre>| 3059         | 2.2e+08 | 4.21675     | 2m 36s       |</pre>"
      ],
      "text/plain": [
       "| 3059         | 2.2e+08 | 4.21675     | 2m 36s       |"
      ]
     },
     "metadata": {},
     "output_type": "display_data"
    },
    {
     "data": {
      "text/html": [
       "<pre>| 3115         | 2.3e+08 | 4.29395     | 2m 39s       |</pre>"
      ],
      "text/plain": [
       "| 3115         | 2.3e+08 | 4.29395     | 2m 39s       |"
      ]
     },
     "metadata": {},
     "output_type": "display_data"
    },
    {
     "data": {
      "text/html": [
       "<pre>| 3163         | 2.3e+08 | 4.36011     | 2m 42s       |</pre>"
      ],
      "text/plain": [
       "| 3163         | 2.3e+08 | 4.36011     | 2m 42s       |"
      ]
     },
     "metadata": {},
     "output_type": "display_data"
    },
    {
     "data": {
      "text/html": [
       "<pre>| 3242         | 2.4e+08 | 4.46901     | 2m 45s       |</pre>"
      ],
      "text/plain": [
       "| 3242         | 2.4e+08 | 4.46901     | 2m 45s       |"
      ]
     },
     "metadata": {},
     "output_type": "display_data"
    },
    {
     "data": {
      "text/html": [
       "<pre>| 3303         | 2.4e+08 | 4.5531      | 2m 48s       |</pre>"
      ],
      "text/plain": [
       "| 3303         | 2.4e+08 | 4.5531      | 2m 48s       |"
      ]
     },
     "metadata": {},
     "output_type": "display_data"
    },
    {
     "data": {
      "text/html": [
       "<pre>| 3382         | 2.5e+08 | 4.662       | 2m 51s       |</pre>"
      ],
      "text/plain": [
       "| 3382         | 2.5e+08 | 4.662       | 2m 51s       |"
      ]
     },
     "metadata": {},
     "output_type": "display_data"
    },
    {
     "data": {
      "text/html": [
       "<pre>| 3461         | 2.5e+08 | 4.7709      | 2m 54s       |</pre>"
      ],
      "text/plain": [
       "| 3461         | 2.5e+08 | 4.7709      | 2m 54s       |"
      ]
     },
     "metadata": {},
     "output_type": "display_data"
    },
    {
     "data": {
      "text/html": [
       "<pre>| 3542         | 2.6e+08 | 4.88255     | 2m 57s       |</pre>"
      ],
      "text/plain": [
       "| 3542         | 2.6e+08 | 4.88255     | 2m 57s       |"
      ]
     },
     "metadata": {},
     "output_type": "display_data"
    },
    {
     "data": {
      "text/html": [
       "<pre>| 3603         | 2.6e+08 | 4.96664     | 3m 0s        |</pre>"
      ],
      "text/plain": [
       "| 3603         | 2.6e+08 | 4.96664     | 3m 0s        |"
      ]
     },
     "metadata": {},
     "output_type": "display_data"
    },
    {
     "data": {
      "text/html": [
       "<pre>| 3658         | 2.7e+08 | 5.04246     | 3m 3s        |</pre>"
      ],
      "text/plain": [
       "| 3658         | 2.7e+08 | 5.04246     | 3m 3s        |"
      ]
     },
     "metadata": {},
     "output_type": "display_data"
    },
    {
     "data": {
      "text/html": [
       "<pre>| 3735         | 2.7e+08 | 5.1486      | 3m 6s        |</pre>"
      ],
      "text/plain": [
       "| 3735         | 2.7e+08 | 5.1486      | 3m 6s        |"
      ]
     },
     "metadata": {},
     "output_type": "display_data"
    },
    {
     "data": {
      "text/html": [
       "<pre>| 3794         | 2.8e+08 | 5.22993     | 3m 9s        |</pre>"
      ],
      "text/plain": [
       "| 3794         | 2.8e+08 | 5.22993     | 3m 9s        |"
      ]
     },
     "metadata": {},
     "output_type": "display_data"
    },
    {
     "data": {
      "text/html": [
       "<pre>| 3873         | 2.8e+08 | 5.33883     | 3m 12s       |</pre>"
      ],
      "text/plain": [
       "| 3873         | 2.8e+08 | 5.33883     | 3m 12s       |"
      ]
     },
     "metadata": {},
     "output_type": "display_data"
    },
    {
     "data": {
      "text/html": [
       "<pre>| 3953         | 2.9e+08 | 5.44911     | 3m 15s       |</pre>"
      ],
      "text/plain": [
       "| 3953         | 2.9e+08 | 5.44911     | 3m 15s       |"
      ]
     },
     "metadata": {},
     "output_type": "display_data"
    },
    {
     "data": {
      "text/html": [
       "<pre>| 4014         | 2.9e+08 | 5.53319     | 3m 18s       |</pre>"
      ],
      "text/plain": [
       "| 4014         | 2.9e+08 | 5.53319     | 3m 18s       |"
      ]
     },
     "metadata": {},
     "output_type": "display_data"
    },
    {
     "data": {
      "text/html": [
       "<pre>| 4093         | 3e+08   | 5.64209     | 3m 21s       |</pre>"
      ],
      "text/plain": [
       "| 4093         | 3e+08   | 5.64209     | 3m 21s       |"
      ]
     },
     "metadata": {},
     "output_type": "display_data"
    },
    {
     "data": {
      "text/html": [
       "<pre>| 4164         | 3e+08   | 5.73996     | 3m 24s       |</pre>"
      ],
      "text/plain": [
       "| 4164         | 3e+08   | 5.73996     | 3m 24s       |"
      ]
     },
     "metadata": {},
     "output_type": "display_data"
    },
    {
     "data": {
      "text/html": [
       "<pre>| 4223         | 3.1e+08 | 5.82129     | 3m 27s       |</pre>"
      ],
      "text/plain": [
       "| 4223         | 3.1e+08 | 5.82129     | 3m 27s       |"
      ]
     },
     "metadata": {},
     "output_type": "display_data"
    },
    {
     "data": {
      "text/html": [
       "<pre>| 4274         | 3.1e+08 | 5.8916      | 3m 30s       |</pre>"
      ],
      "text/plain": [
       "| 4274         | 3.1e+08 | 5.8916      | 3m 30s       |"
      ]
     },
     "metadata": {},
     "output_type": "display_data"
    },
    {
     "data": {
      "text/html": [
       "<pre>| 4327         | 3.1e+08 | 5.96466     | 3m 33s       |</pre>"
      ],
      "text/plain": [
       "| 4327         | 3.1e+08 | 5.96466     | 3m 33s       |"
      ]
     },
     "metadata": {},
     "output_type": "display_data"
    },
    {
     "data": {
      "text/html": [
       "<pre>| 4377         | 3.2e+08 | 6.03358     | 3m 36s       |</pre>"
      ],
      "text/plain": [
       "| 4377         | 3.2e+08 | 6.03358     | 3m 36s       |"
      ]
     },
     "metadata": {},
     "output_type": "display_data"
    },
    {
     "data": {
      "text/html": [
       "<pre>| 4439         | 3.2e+08 | 6.11904     | 3m 39s       |</pre>"
      ],
      "text/plain": [
       "| 4439         | 3.2e+08 | 6.11904     | 3m 39s       |"
      ]
     },
     "metadata": {},
     "output_type": "display_data"
    },
    {
     "data": {
      "text/html": [
       "<pre>| 4495         | 3.3e+08 | 6.19624     | 3m 42s       |</pre>"
      ],
      "text/plain": [
       "| 4495         | 3.3e+08 | 6.19624     | 3m 42s       |"
      ]
     },
     "metadata": {},
     "output_type": "display_data"
    },
    {
     "data": {
      "text/html": [
       "<pre>| 4563         | 3.3e+08 | 6.28998     | 3m 45s       |</pre>"
      ],
      "text/plain": [
       "| 4563         | 3.3e+08 | 6.28998     | 3m 45s       |"
      ]
     },
     "metadata": {},
     "output_type": "display_data"
    },
    {
     "data": {
      "text/html": [
       "<pre>| 4634         | 3.4e+08 | 6.38785     | 3m 48s       |</pre>"
      ],
      "text/plain": [
       "| 4634         | 3.4e+08 | 6.38785     | 3m 48s       |"
      ]
     },
     "metadata": {},
     "output_type": "display_data"
    },
    {
     "data": {
      "text/html": [
       "<pre>| 4709         | 3.4e+08 | 6.49123     | 3m 51s       |</pre>"
      ],
      "text/plain": [
       "| 4709         | 3.4e+08 | 6.49123     | 3m 51s       |"
      ]
     },
     "metadata": {},
     "output_type": "display_data"
    },
    {
     "data": {
      "text/html": [
       "<pre>| 4777         | 3.5e+08 | 6.58497     | 3m 54s       |</pre>"
      ],
      "text/plain": [
       "| 4777         | 3.5e+08 | 6.58497     | 3m 54s       |"
      ]
     },
     "metadata": {},
     "output_type": "display_data"
    },
    {
     "data": {
      "text/html": [
       "<pre>| 4849         | 3.5e+08 | 6.68422     | 3m 57s       |</pre>"
      ],
      "text/plain": [
       "| 4849         | 3.5e+08 | 6.68422     | 3m 57s       |"
      ]
     },
     "metadata": {},
     "output_type": "display_data"
    },
    {
     "data": {
      "text/html": [
       "<pre>| 4924         | 3.6e+08 | 6.7876      | 4m 0s        |</pre>"
      ],
      "text/plain": [
       "| 4924         | 3.6e+08 | 6.7876      | 4m 0s        |"
      ]
     },
     "metadata": {},
     "output_type": "display_data"
    },
    {
     "data": {
      "text/html": [
       "<pre>| 4995         | 3.6e+08 | 6.88548     | 4m 3s        |</pre>"
      ],
      "text/plain": [
       "| 4995         | 3.6e+08 | 6.88548     | 4m 3s        |"
      ]
     },
     "metadata": {},
     "output_type": "display_data"
    },
    {
     "data": {
      "text/html": [
       "<pre>| 5070         | 3.7e+08 | 6.98886     | 4m 6s        |</pre>"
      ],
      "text/plain": [
       "| 5070         | 3.7e+08 | 6.98886     | 4m 6s        |"
      ]
     },
     "metadata": {},
     "output_type": "display_data"
    },
    {
     "data": {
      "text/html": [
       "<pre>| 5123         | 3.7e+08 | 7.06192     | 4m 9s        |</pre>"
      ],
      "text/plain": [
       "| 5123         | 3.7e+08 | 7.06192     | 4m 9s        |"
      ]
     },
     "metadata": {},
     "output_type": "display_data"
    },
    {
     "data": {
      "text/html": [
       "<pre>| 5181         | 3.8e+08 | 7.14187     | 4m 12s       |</pre>"
      ],
      "text/plain": [
       "| 5181         | 3.8e+08 | 7.14187     | 4m 12s       |"
      ]
     },
     "metadata": {},
     "output_type": "display_data"
    },
    {
     "data": {
      "text/html": [
       "<pre>| 5252         | 3.8e+08 | 7.23974     | 4m 15s       |</pre>"
      ],
      "text/plain": [
       "| 5252         | 3.8e+08 | 7.23974     | 4m 15s       |"
      ]
     },
     "metadata": {},
     "output_type": "display_data"
    },
    {
     "data": {
      "text/html": [
       "<pre>| 5301         | 3.8e+08 | 7.30729     | 4m 18s       |</pre>"
      ],
      "text/plain": [
       "| 5301         | 3.8e+08 | 7.30729     | 4m 18s       |"
      ]
     },
     "metadata": {},
     "output_type": "display_data"
    },
    {
     "data": {
      "text/html": [
       "<pre>| 5365         | 3.9e+08 | 7.39551     | 4m 21s       |</pre>"
      ],
      "text/plain": [
       "| 5365         | 3.9e+08 | 7.39551     | 4m 21s       |"
      ]
     },
     "metadata": {},
     "output_type": "display_data"
    },
    {
     "data": {
      "text/html": [
       "<pre>| 5432         | 3.9e+08 | 7.48787     | 4m 24s       |</pre>"
      ],
      "text/plain": [
       "| 5432         | 3.9e+08 | 7.48787     | 4m 24s       |"
      ]
     },
     "metadata": {},
     "output_type": "display_data"
    },
    {
     "data": {
      "text/html": [
       "<pre>| 5501         | 4e+08   | 7.58298     | 4m 27s       |</pre>"
      ],
      "text/plain": [
       "| 5501         | 4e+08   | 7.58298     | 4m 27s       |"
      ]
     },
     "metadata": {},
     "output_type": "display_data"
    },
    {
     "data": {
      "text/html": [
       "<pre>| 5575         | 4e+08   | 7.68499     | 4m 30s       |</pre>"
      ],
      "text/plain": [
       "| 5575         | 4e+08   | 7.68499     | 4m 30s       |"
      ]
     },
     "metadata": {},
     "output_type": "display_data"
    },
    {
     "data": {
      "text/html": [
       "<pre>| 5645         | 4.1e+08 | 7.78148     | 4m 33s       |</pre>"
      ],
      "text/plain": [
       "| 5645         | 4.1e+08 | 7.78148     | 4m 33s       |"
      ]
     },
     "metadata": {},
     "output_type": "display_data"
    },
    {
     "data": {
      "text/html": [
       "<pre>| 5714         | 4.1e+08 | 7.8766      | 4m 36s       |</pre>"
      ],
      "text/plain": [
       "| 5714         | 4.1e+08 | 7.8766      | 4m 36s       |"
      ]
     },
     "metadata": {},
     "output_type": "display_data"
    },
    {
     "data": {
      "text/html": [
       "<pre>| 5786         | 4.2e+08 | 7.97585     | 4m 39s       |</pre>"
      ],
      "text/plain": [
       "| 5786         | 4.2e+08 | 7.97585     | 4m 39s       |"
      ]
     },
     "metadata": {},
     "output_type": "display_data"
    },
    {
     "data": {
      "text/html": [
       "<pre>| 5862         | 4.3e+08 | 8.08061     | 4m 42s       |</pre>"
      ],
      "text/plain": [
       "| 5862         | 4.3e+08 | 8.08061     | 4m 42s       |"
      ]
     },
     "metadata": {},
     "output_type": "display_data"
    },
    {
     "data": {
      "text/html": [
       "<pre>| 5918         | 4.3e+08 | 8.15781     | 4m 45s       |</pre>"
      ],
      "text/plain": [
       "| 5918         | 4.3e+08 | 8.15781     | 4m 45s       |"
      ]
     },
     "metadata": {},
     "output_type": "display_data"
    },
    {
     "data": {
      "text/html": [
       "<pre>| 5989         | 4.3e+08 | 8.25568     | 4m 48s       |</pre>"
      ],
      "text/plain": [
       "| 5989         | 4.3e+08 | 8.25568     | 4m 48s       |"
      ]
     },
     "metadata": {},
     "output_type": "display_data"
    },
    {
     "data": {
      "text/html": [
       "<pre>| 6043         | 4.4e+08 | 8.33012     | 4m 51s       |</pre>"
      ],
      "text/plain": [
       "| 6043         | 4.4e+08 | 8.33012     | 4m 51s       |"
      ]
     },
     "metadata": {},
     "output_type": "display_data"
    },
    {
     "data": {
      "text/html": [
       "<pre>| 6117         | 4.4e+08 | 8.43212     | 4m 54s       |</pre>"
      ],
      "text/plain": [
       "| 6117         | 4.4e+08 | 8.43212     | 4m 54s       |"
      ]
     },
     "metadata": {},
     "output_type": "display_data"
    },
    {
     "data": {
      "text/html": [
       "<pre>| 6160         | 4.5e+08 | 8.4914      | 4m 57s       |</pre>"
      ],
      "text/plain": [
       "| 6160         | 4.5e+08 | 8.4914      | 4m 57s       |"
      ]
     },
     "metadata": {},
     "output_type": "display_data"
    },
    {
     "data": {
      "text/html": [
       "<pre>| 6217         | 4.5e+08 | 8.56997     | 5m 0s        |</pre>"
      ],
      "text/plain": [
       "| 6217         | 4.5e+08 | 8.56997     | 5m 0s        |"
      ]
     },
     "metadata": {},
     "output_type": "display_data"
    },
    {
     "data": {
      "text/html": [
       "<pre>| 6289         | 4.6e+08 | 8.66922     | 5m 3s        |</pre>"
      ],
      "text/plain": [
       "| 6289         | 4.6e+08 | 8.66922     | 5m 3s        |"
      ]
     },
     "metadata": {},
     "output_type": "display_data"
    },
    {
     "data": {
      "text/html": [
       "<pre>| 6363         | 4.6e+08 | 8.77123     | 5m 6s        |</pre>"
      ],
      "text/plain": [
       "| 6363         | 4.6e+08 | 8.77123     | 5m 6s        |"
      ]
     },
     "metadata": {},
     "output_type": "display_data"
    },
    {
     "data": {
      "text/html": [
       "<pre>| 6437         | 4.7e+08 | 8.87324     | 5m 9s        |</pre>"
      ],
      "text/plain": [
       "| 6437         | 4.7e+08 | 8.87324     | 5m 9s        |"
      ]
     },
     "metadata": {},
     "output_type": "display_data"
    },
    {
     "data": {
      "text/html": [
       "<pre>| 6507         | 4.7e+08 | 8.96973     | 5m 12s       |</pre>"
      ],
      "text/plain": [
       "| 6507         | 4.7e+08 | 8.96973     | 5m 12s       |"
      ]
     },
     "metadata": {},
     "output_type": "display_data"
    },
    {
     "data": {
      "text/html": [
       "<pre>| 6555         | 4.8e+08 | 9.0359      | 5m 15s       |</pre>"
      ],
      "text/plain": [
       "| 6555         | 4.8e+08 | 9.0359      | 5m 15s       |"
      ]
     },
     "metadata": {},
     "output_type": "display_data"
    },
    {
     "data": {
      "text/html": [
       "<pre>| 6620         | 4.8e+08 | 9.1255      | 5m 18s       |</pre>"
      ],
      "text/plain": [
       "| 6620         | 4.8e+08 | 9.1255      | 5m 18s       |"
      ]
     },
     "metadata": {},
     "output_type": "display_data"
    },
    {
     "data": {
      "text/html": [
       "<pre>| 6686         | 4.9e+08 | 9.21648     | 5m 21s       |</pre>"
      ],
      "text/plain": [
       "| 6686         | 4.9e+08 | 9.21648     | 5m 21s       |"
      ]
     },
     "metadata": {},
     "output_type": "display_data"
    },
    {
     "data": {
      "text/html": [
       "<pre>| 6760         | 4.9e+08 | 9.31848     | 5m 24s       |</pre>"
      ],
      "text/plain": [
       "| 6760         | 4.9e+08 | 9.31848     | 5m 24s       |"
      ]
     },
     "metadata": {},
     "output_type": "display_data"
    },
    {
     "data": {
      "text/html": [
       "<pre>| 6840         | 5e+08   | 9.42876     | 5m 27s       |</pre>"
      ],
      "text/plain": [
       "| 6840         | 5e+08   | 9.42876     | 5m 27s       |"
      ]
     },
     "metadata": {},
     "output_type": "display_data"
    },
    {
     "data": {
      "text/html": [
       "<pre>| 6908         | 5e+08   | 9.5225      | 5m 30s       |</pre>"
      ],
      "text/plain": [
       "| 6908         | 5e+08   | 9.5225      | 5m 30s       |"
      ]
     },
     "metadata": {},
     "output_type": "display_data"
    },
    {
     "data": {
      "text/html": [
       "<pre>| 6989         | 5.1e+08 | 9.63415     | 5m 33s       |</pre>"
      ],
      "text/plain": [
       "| 6989         | 5.1e+08 | 9.63415     | 5m 33s       |"
      ]
     },
     "metadata": {},
     "output_type": "display_data"
    },
    {
     "data": {
      "text/html": [
       "<pre>| 7069         | 5.1e+08 | 9.74443     | 5m 36s       |</pre>"
      ],
      "text/plain": [
       "| 7069         | 5.1e+08 | 9.74443     | 5m 36s       |"
      ]
     },
     "metadata": {},
     "output_type": "display_data"
    },
    {
     "data": {
      "text/html": [
       "<pre>| 7125         | 5.2e+08 | 9.82163     | 5m 39s       |</pre>"
      ],
      "text/plain": [
       "| 7125         | 5.2e+08 | 9.82163     | 5m 39s       |"
      ]
     },
     "metadata": {},
     "output_type": "display_data"
    },
    {
     "data": {
      "text/html": [
       "<pre>| 7176         | 5.2e+08 | 9.89193     | 5m 42s       |</pre>"
      ],
      "text/plain": [
       "| 7176         | 5.2e+08 | 9.89193     | 5m 42s       |"
      ]
     },
     "metadata": {},
     "output_type": "display_data"
    },
    {
     "data": {
      "text/html": [
       "<pre>| 7238         | 5.3e+08 | 9.97739     | 5m 45s       |</pre>"
      ],
      "text/plain": [
       "| 7238         | 5.3e+08 | 9.97739     | 5m 45s       |"
      ]
     },
     "metadata": {},
     "output_type": "display_data"
    },
    {
     "data": {
      "text/html": [
       "<pre>| 7310         | 5.3e+08 | 10.0766     | 5m 48s       |</pre>"
      ],
      "text/plain": [
       "| 7310         | 5.3e+08 | 10.0766     | 5m 48s       |"
      ]
     },
     "metadata": {},
     "output_type": "display_data"
    },
    {
     "data": {
      "text/html": [
       "<pre>| 7385         | 5.4e+08 | 10.18       | 5m 51s       |</pre>"
      ],
      "text/plain": [
       "| 7385         | 5.4e+08 | 10.18       | 5m 51s       |"
      ]
     },
     "metadata": {},
     "output_type": "display_data"
    },
    {
     "data": {
      "text/html": [
       "<pre>| 7456         | 5.4e+08 | 10.2779     | 5m 54s       |</pre>"
      ],
      "text/plain": [
       "| 7456         | 5.4e+08 | 10.2779     | 5m 54s       |"
      ]
     },
     "metadata": {},
     "output_type": "display_data"
    },
    {
     "data": {
      "text/html": [
       "<pre>| 7530         | 5.5e+08 | 10.3799     | 5m 57s       |</pre>"
      ],
      "text/plain": [
       "| 7530         | 5.5e+08 | 10.3799     | 5m 57s       |"
      ]
     },
     "metadata": {},
     "output_type": "display_data"
    },
    {
     "data": {
      "text/html": [
       "<pre>| 7606         | 5.5e+08 | 10.4847     | 6m 0s        |</pre>"
      ],
      "text/plain": [
       "| 7606         | 5.5e+08 | 10.4847     | 6m 0s        |"
      ]
     },
     "metadata": {},
     "output_type": "display_data"
    },
    {
     "data": {
      "text/html": [
       "<pre>| 7681         | 5.6e+08 | 10.5881     | 6m 3s        |</pre>"
      ],
      "text/plain": [
       "| 7681         | 5.6e+08 | 10.5881     | 6m 3s        |"
      ]
     },
     "metadata": {},
     "output_type": "display_data"
    },
    {
     "data": {
      "text/html": [
       "<pre>| 7753         | 5.6e+08 | 10.6873     | 6m 6s        |</pre>"
      ],
      "text/plain": [
       "| 7753         | 5.6e+08 | 10.6873     | 6m 6s        |"
      ]
     },
     "metadata": {},
     "output_type": "display_data"
    },
    {
     "data": {
      "text/html": [
       "<pre>| 7821         | 5.7e+08 | 10.781      | 6m 9s        |</pre>"
      ],
      "text/plain": [
       "| 7821         | 5.7e+08 | 10.781      | 6m 9s        |"
      ]
     },
     "metadata": {},
     "output_type": "display_data"
    },
    {
     "data": {
      "text/html": [
       "<pre>| 7891         | 5.7e+08 | 10.8775     | 6m 12s       |</pre>"
      ],
      "text/plain": [
       "| 7891         | 5.7e+08 | 10.8775     | 6m 12s       |"
      ]
     },
     "metadata": {},
     "output_type": "display_data"
    },
    {
     "data": {
      "text/html": [
       "<pre>| 7962         | 5.8e+08 | 10.9754     | 6m 15s       |</pre>"
      ],
      "text/plain": [
       "| 7962         | 5.8e+08 | 10.9754     | 6m 15s       |"
      ]
     },
     "metadata": {},
     "output_type": "display_data"
    },
    {
     "data": {
      "text/html": [
       "<pre>| 8031         | 5.8e+08 | 11.0705     | 6m 18s       |</pre>"
      ],
      "text/plain": [
       "| 8031         | 5.8e+08 | 11.0705     | 6m 18s       |"
      ]
     },
     "metadata": {},
     "output_type": "display_data"
    },
    {
     "data": {
      "text/html": [
       "<pre>| 8097         | 5.9e+08 | 11.1615     | 6m 21s       |</pre>"
      ],
      "text/plain": [
       "| 8097         | 5.9e+08 | 11.1615     | 6m 21s       |"
      ]
     },
     "metadata": {},
     "output_type": "display_data"
    },
    {
     "data": {
      "text/html": [
       "<pre>| 8164         | 5.9e+08 | 11.2539     | 6m 24s       |</pre>"
      ],
      "text/plain": [
       "| 8164         | 5.9e+08 | 11.2539     | 6m 24s       |"
      ]
     },
     "metadata": {},
     "output_type": "display_data"
    },
    {
     "data": {
      "text/html": [
       "<pre>| 8236         | 6e+08   | 11.3531     | 6m 27s       |</pre>"
      ],
      "text/plain": [
       "| 8236         | 6e+08   | 11.3531     | 6m 27s       |"
      ]
     },
     "metadata": {},
     "output_type": "display_data"
    },
    {
     "data": {
      "text/html": [
       "<pre>| 8302         | 6e+08   | 11.4441     | 6m 30s       |</pre>"
      ],
      "text/plain": [
       "| 8302         | 6e+08   | 11.4441     | 6m 30s       |"
      ]
     },
     "metadata": {},
     "output_type": "display_data"
    },
    {
     "data": {
      "text/html": [
       "<pre>| 8377         | 6.1e+08 | 11.5475     | 6m 33s       |</pre>"
      ],
      "text/plain": [
       "| 8377         | 6.1e+08 | 11.5475     | 6m 33s       |"
      ]
     },
     "metadata": {},
     "output_type": "display_data"
    },
    {
     "data": {
      "text/html": [
       "<pre>| 8433         | 6.1e+08 | 11.6247     | 3h 23m       |</pre>"
      ],
      "text/plain": [
       "| 8433         | 6.1e+08 | 11.6247     | 3h 23m       |"
      ]
     },
     "metadata": {},
     "output_type": "display_data"
    },
    {
     "data": {
      "text/html": [
       "<pre>| 8502         | 6.2e+08 | 11.7198     | 3h 23m       |</pre>"
      ],
      "text/plain": [
       "| 8502         | 6.2e+08 | 11.7198     | 3h 23m       |"
      ]
     },
     "metadata": {},
     "output_type": "display_data"
    },
    {
     "data": {
      "text/html": [
       "<pre>| 8575         | 6.2e+08 | 11.8204     | 3h 23m       |</pre>"
      ],
      "text/plain": [
       "| 8575         | 6.2e+08 | 11.8204     | 3h 23m       |"
      ]
     },
     "metadata": {},
     "output_type": "display_data"
    },
    {
     "data": {
      "text/html": [
       "<pre>| 8639         | 6.3e+08 | 11.9086     | 3h 23m       |</pre>"
      ],
      "text/plain": [
       "| 8639         | 6.3e+08 | 11.9086     | 3h 23m       |"
      ]
     },
     "metadata": {},
     "output_type": "display_data"
    },
    {
     "data": {
      "text/html": [
       "<pre>| 8708         | 6.3e+08 | 12.0037     | 3h 23m       |</pre>"
      ],
      "text/plain": [
       "| 8708         | 6.3e+08 | 12.0037     | 3h 23m       |"
      ]
     },
     "metadata": {},
     "output_type": "display_data"
    },
    {
     "data": {
      "text/html": [
       "<pre>| 8776         | 6.4e+08 | 12.0975     | 3h 23m       |</pre>"
      ],
      "text/plain": [
       "| 8776         | 6.4e+08 | 12.0975     | 3h 23m       |"
      ]
     },
     "metadata": {},
     "output_type": "display_data"
    },
    {
     "data": {
      "text/html": [
       "<pre>| 8849         | 6.4e+08 | 12.1981     | 3h 23m       |</pre>"
      ],
      "text/plain": [
       "| 8849         | 6.4e+08 | 12.1981     | 3h 23m       |"
      ]
     },
     "metadata": {},
     "output_type": "display_data"
    },
    {
     "data": {
      "text/html": [
       "<pre>| 8913         | 6.5e+08 | 12.2863     | 3h 23m       |</pre>"
      ],
      "text/plain": [
       "| 8913         | 6.5e+08 | 12.2863     | 3h 23m       |"
      ]
     },
     "metadata": {},
     "output_type": "display_data"
    },
    {
     "data": {
      "text/html": [
       "<pre>| 8980         | 6.5e+08 | 12.3787     | 3h 23m       |</pre>"
      ],
      "text/plain": [
       "| 8980         | 6.5e+08 | 12.3787     | 3h 23m       |"
      ]
     },
     "metadata": {},
     "output_type": "display_data"
    },
    {
     "data": {
      "text/html": [
       "<pre>| 9051         | 6.6e+08 | 12.4766     | 3h 24m       |</pre>"
      ],
      "text/plain": [
       "| 9051         | 6.6e+08 | 12.4766     | 3h 24m       |"
      ]
     },
     "metadata": {},
     "output_type": "display_data"
    },
    {
     "data": {
      "text/html": [
       "<pre>| 9125         | 6.6e+08 | 12.5786     | 3h 24m       |</pre>"
      ],
      "text/plain": [
       "| 9125         | 6.6e+08 | 12.5786     | 3h 24m       |"
      ]
     },
     "metadata": {},
     "output_type": "display_data"
    },
    {
     "data": {
      "text/html": [
       "<pre>| 9191         | 6.7e+08 | 12.6696     | 3h 24m       |</pre>"
      ],
      "text/plain": [
       "| 9191         | 6.7e+08 | 12.6696     | 3h 24m       |"
      ]
     },
     "metadata": {},
     "output_type": "display_data"
    },
    {
     "data": {
      "text/html": [
       "<pre>| 9255         | 6.7e+08 | 12.7578     | 3h 24m       |</pre>"
      ],
      "text/plain": [
       "| 9255         | 6.7e+08 | 12.7578     | 3h 24m       |"
      ]
     },
     "metadata": {},
     "output_type": "display_data"
    },
    {
     "data": {
      "text/html": [
       "<pre>| 9306         | 6.8e+08 | 12.8281     | 3h 24m       |</pre>"
      ],
      "text/plain": [
       "| 9306         | 6.8e+08 | 12.8281     | 3h 24m       |"
      ]
     },
     "metadata": {},
     "output_type": "display_data"
    },
    {
     "data": {
      "text/html": [
       "<pre>| 9370         | 6.8e+08 | 12.9163     | 3h 24m       |</pre>"
      ],
      "text/plain": [
       "| 9370         | 6.8e+08 | 12.9163     | 3h 24m       |"
      ]
     },
     "metadata": {},
     "output_type": "display_data"
    },
    {
     "data": {
      "text/html": [
       "<pre>| 9423         | 6.8e+08 | 12.9894     | 3h 24m       |</pre>"
      ],
      "text/plain": [
       "| 9423         | 6.8e+08 | 12.9894     | 3h 24m       |"
      ]
     },
     "metadata": {},
     "output_type": "display_data"
    },
    {
     "data": {
      "text/html": [
       "<pre>| 9473         | 6.9e+08 | 13.0583     | 3h 24m       |</pre>"
      ],
      "text/plain": [
       "| 9473         | 6.9e+08 | 13.0583     | 3h 24m       |"
      ]
     },
     "metadata": {},
     "output_type": "display_data"
    },
    {
     "data": {
      "text/html": [
       "<pre>| 9537         | 6.9e+08 | 13.1465     | 3h 24m       |</pre>"
      ],
      "text/plain": [
       "| 9537         | 6.9e+08 | 13.1465     | 3h 24m       |"
      ]
     },
     "metadata": {},
     "output_type": "display_data"
    },
    {
     "data": {
      "text/html": [
       "<pre>| 9606         | 7e+08   | 13.2416     | 3h 24m       |</pre>"
      ],
      "text/plain": [
       "| 9606         | 7e+08   | 13.2416     | 3h 24m       |"
      ]
     },
     "metadata": {},
     "output_type": "display_data"
    },
    {
     "data": {
      "text/html": [
       "<pre>| 9656         | 7e+08   | 13.3105     | 3h 24m       |</pre>"
      ],
      "text/plain": [
       "| 9656         | 7e+08   | 13.3105     | 3h 24m       |"
      ]
     },
     "metadata": {},
     "output_type": "display_data"
    },
    {
     "data": {
      "text/html": [
       "<pre>| 9720         | 7.1e+08 | 13.3988     | 3h 24m       |</pre>"
      ],
      "text/plain": [
       "| 9720         | 7.1e+08 | 13.3988     | 3h 24m       |"
      ]
     },
     "metadata": {},
     "output_type": "display_data"
    },
    {
     "data": {
      "text/html": [
       "<pre>| 9785         | 7.1e+08 | 13.4884     | 3h 24m       |</pre>"
      ],
      "text/plain": [
       "| 9785         | 7.1e+08 | 13.4884     | 3h 24m       |"
      ]
     },
     "metadata": {},
     "output_type": "display_data"
    },
    {
     "data": {
      "text/html": [
       "<pre>| 9838         | 7.1e+08 | 13.5614     | 3h 24m       |</pre>"
      ],
      "text/plain": [
       "| 9838         | 7.1e+08 | 13.5614     | 3h 24m       |"
      ]
     },
     "metadata": {},
     "output_type": "display_data"
    },
    {
     "data": {
      "text/html": [
       "<pre>| 9880         | 7.2e+08 | 13.6193     | 3h 24m       |</pre>"
      ],
      "text/plain": [
       "| 9880         | 7.2e+08 | 13.6193     | 3h 24m       |"
      ]
     },
     "metadata": {},
     "output_type": "display_data"
    },
    {
     "data": {
      "text/html": [
       "<pre>| 9935         | 7.2e+08 | 13.6951     | 3h 24m       |</pre>"
      ],
      "text/plain": [
       "| 9935         | 7.2e+08 | 13.6951     | 3h 24m       |"
      ]
     },
     "metadata": {},
     "output_type": "display_data"
    },
    {
     "data": {
      "text/html": [
       "<pre>| 9976         | 7.2e+08 | 13.7517     | 3h 24m       |</pre>"
      ],
      "text/plain": [
       "| 9976         | 7.2e+08 | 13.7517     | 3h 24m       |"
      ]
     },
     "metadata": {},
     "output_type": "display_data"
    },
    {
     "data": {
      "text/html": [
       "<pre>| 10015        | 7.3e+08 | 13.8054     | 3h 24m       |</pre>"
      ],
      "text/plain": [
       "| 10015        | 7.3e+08 | 13.8054     | 3h 24m       |"
      ]
     },
     "metadata": {},
     "output_type": "display_data"
    },
    {
     "data": {
      "text/html": [
       "<pre>| 10056        | 7.3e+08 | 13.8619     | 3h 24m       |</pre>"
      ],
      "text/plain": [
       "| 10056        | 7.3e+08 | 13.8619     | 3h 24m       |"
      ]
     },
     "metadata": {},
     "output_type": "display_data"
    },
    {
     "data": {
      "text/html": [
       "<pre>| 10093        | 7.3e+08 | 13.9129     | 3h 24m       |</pre>"
      ],
      "text/plain": [
       "| 10093        | 7.3e+08 | 13.9129     | 3h 24m       |"
      ]
     },
     "metadata": {},
     "output_type": "display_data"
    },
    {
     "data": {
      "text/html": [
       "<pre>| 10133        | 7.4e+08 | 13.9681     | 3h 25m       |</pre>"
      ],
      "text/plain": [
       "| 10133        | 7.4e+08 | 13.9681     | 3h 25m       |"
      ]
     },
     "metadata": {},
     "output_type": "display_data"
    },
    {
     "data": {
      "text/html": [
       "<pre>| 10177        | 7.4e+08 | 14.0287     | 3h 25m       |</pre>"
      ],
      "text/plain": [
       "| 10177        | 7.4e+08 | 14.0287     | 3h 25m       |"
      ]
     },
     "metadata": {},
     "output_type": "display_data"
    },
    {
     "data": {
      "text/html": [
       "<pre>| 10215        | 7.4e+08 | 14.0811     | 3h 25m       |</pre>"
      ],
      "text/plain": [
       "| 10215        | 7.4e+08 | 14.0811     | 3h 25m       |"
      ]
     },
     "metadata": {},
     "output_type": "display_data"
    },
    {
     "data": {
      "text/html": [
       "<pre>| 10277        | 7.5e+08 | 14.1666     | 3h 25m       |</pre>"
      ],
      "text/plain": [
       "| 10277        | 7.5e+08 | 14.1666     | 3h 25m       |"
      ]
     },
     "metadata": {},
     "output_type": "display_data"
    },
    {
     "data": {
      "text/html": [
       "<pre>| 10351        | 7.5e+08 | 14.2686     | 3h 25m       |</pre>"
      ],
      "text/plain": [
       "| 10351        | 7.5e+08 | 14.2686     | 3h 25m       |"
      ]
     },
     "metadata": {},
     "output_type": "display_data"
    },
    {
     "data": {
      "text/html": [
       "<pre>| 10426        | 7.6e+08 | 14.372      | 3h 25m       |</pre>"
      ],
      "text/plain": [
       "| 10426        | 7.6e+08 | 14.372      | 3h 25m       |"
      ]
     },
     "metadata": {},
     "output_type": "display_data"
    },
    {
     "data": {
      "text/html": [
       "<pre>| 10495        | 7.6e+08 | 14.4671     | 3h 25m       |</pre>"
      ],
      "text/plain": [
       "| 10495        | 7.6e+08 | 14.4671     | 3h 25m       |"
      ]
     },
     "metadata": {},
     "output_type": "display_data"
    },
    {
     "data": {
      "text/html": [
       "<pre>| 10576        | 7.7e+08 | 14.5787     | 3h 25m       |</pre>"
      ],
      "text/plain": [
       "| 10576        | 7.7e+08 | 14.5787     | 3h 25m       |"
      ]
     },
     "metadata": {},
     "output_type": "display_data"
    },
    {
     "data": {
      "text/html": [
       "<pre>| 10649        | 7.7e+08 | 14.6794     | 3h 25m       |</pre>"
      ],
      "text/plain": [
       "| 10649        | 7.7e+08 | 14.6794     | 3h 25m       |"
      ]
     },
     "metadata": {},
     "output_type": "display_data"
    },
    {
     "data": {
      "text/html": [
       "<pre>| 10710        | 7.8e+08 | 14.7635     | 3h 25m       |</pre>"
      ],
      "text/plain": [
       "| 10710        | 7.8e+08 | 14.7635     | 3h 25m       |"
      ]
     },
     "metadata": {},
     "output_type": "display_data"
    },
    {
     "data": {
      "text/html": [
       "<pre>| 10778        | 7.8e+08 | 14.8572     | 3h 25m       |</pre>"
      ],
      "text/plain": [
       "| 10778        | 7.8e+08 | 14.8572     | 3h 25m       |"
      ]
     },
     "metadata": {},
     "output_type": "display_data"
    },
    {
     "data": {
      "text/html": [
       "<pre>| 10852        | 7.9e+08 | 14.9592     | 3h 25m       |</pre>"
      ],
      "text/plain": [
       "| 10852        | 7.9e+08 | 14.9592     | 3h 25m       |"
      ]
     },
     "metadata": {},
     "output_type": "display_data"
    },
    {
     "data": {
      "text/html": [
       "<pre>| 10926        | 7.9e+08 | 15.0612     | 3h 25m       |</pre>"
      ],
      "text/plain": [
       "| 10926        | 7.9e+08 | 15.0612     | 3h 25m       |"
      ]
     },
     "metadata": {},
     "output_type": "display_data"
    },
    {
     "data": {
      "text/html": [
       "<pre>| 10985        | 8e+08   | 15.1425     | 3h 25m       |</pre>"
      ],
      "text/plain": [
       "| 10985        | 8e+08   | 15.1425     | 3h 25m       |"
      ]
     },
     "metadata": {},
     "output_type": "display_data"
    },
    {
     "data": {
      "text/html": [
       "<pre>| 11047        | 8e+08   | 15.228      | 3h 25m       |</pre>"
      ],
      "text/plain": [
       "| 11047        | 8e+08   | 15.228      | 3h 25m       |"
      ]
     },
     "metadata": {},
     "output_type": "display_data"
    },
    {
     "data": {
      "text/html": [
       "<pre>| 11101        | 8.1e+08 | 15.3024     | 3h 25m       |</pre>"
      ],
      "text/plain": [
       "| 11101        | 8.1e+08 | 15.3024     | 3h 25m       |"
      ]
     },
     "metadata": {},
     "output_type": "display_data"
    },
    {
     "data": {
      "text/html": [
       "<pre>| 11161        | 8.1e+08 | 15.3851     | 3h 25m       |</pre>"
      ],
      "text/plain": [
       "| 11161        | 8.1e+08 | 15.3851     | 3h 25m       |"
      ]
     },
     "metadata": {},
     "output_type": "display_data"
    },
    {
     "data": {
      "text/html": [
       "<pre>| 11226        | 8.1e+08 | 15.4747     | 3h 25m       |</pre>"
      ],
      "text/plain": [
       "| 11226        | 8.1e+08 | 15.4747     | 3h 25m       |"
      ]
     },
     "metadata": {},
     "output_type": "display_data"
    },
    {
     "data": {
      "text/html": [
       "<pre>| 11292        | 8.2e+08 | 15.5657     | 3h 25m       |</pre>"
      ],
      "text/plain": [
       "| 11292        | 8.2e+08 | 15.5657     | 3h 25m       |"
      ]
     },
     "metadata": {},
     "output_type": "display_data"
    },
    {
     "data": {
      "text/html": [
       "<pre>| 11361        | 8.2e+08 | 15.6608     | 3h 25m       |</pre>"
      ],
      "text/plain": [
       "| 11361        | 8.2e+08 | 15.6608     | 3h 25m       |"
      ]
     },
     "metadata": {},
     "output_type": "display_data"
    },
    {
     "data": {
      "text/html": [
       "<pre>| 11435        | 8.3e+08 | 15.7628     | 3h 26m       |</pre>"
      ],
      "text/plain": [
       "| 11435        | 8.3e+08 | 15.7628     | 3h 26m       |"
      ]
     },
     "metadata": {},
     "output_type": "display_data"
    },
    {
     "data": {
      "text/html": [
       "<pre>| 11512        | 8.4e+08 | 15.869      | 3h 26m       |</pre>"
      ],
      "text/plain": [
       "| 11512        | 8.4e+08 | 15.869      | 3h 26m       |"
      ]
     },
     "metadata": {},
     "output_type": "display_data"
    },
    {
     "data": {
      "text/html": [
       "<pre>| 11581        | 8.4e+08 | 15.9641     | 3h 26m       |</pre>"
      ],
      "text/plain": [
       "| 11581        | 8.4e+08 | 15.9641     | 3h 26m       |"
      ]
     },
     "metadata": {},
     "output_type": "display_data"
    },
    {
     "data": {
      "text/html": [
       "<pre>| 11653        | 8.5e+08 | 16.0634     | 3h 26m       |</pre>"
      ],
      "text/plain": [
       "| 11653        | 8.5e+08 | 16.0634     | 3h 26m       |"
      ]
     },
     "metadata": {},
     "output_type": "display_data"
    },
    {
     "data": {
      "text/html": [
       "<pre>| 11721        | 8.5e+08 | 16.1571     | 3h 26m       |</pre>"
      ],
      "text/plain": [
       "| 11721        | 8.5e+08 | 16.1571     | 3h 26m       |"
      ]
     },
     "metadata": {},
     "output_type": "display_data"
    },
    {
     "data": {
      "text/html": [
       "<pre>| 11791        | 8.6e+08 | 16.2536     | 3h 26m       |</pre>"
      ],
      "text/plain": [
       "| 11791        | 8.6e+08 | 16.2536     | 3h 26m       |"
      ]
     },
     "metadata": {},
     "output_type": "display_data"
    },
    {
     "data": {
      "text/html": [
       "<pre>| 11853        | 8.6e+08 | 16.339      | 3h 26m       |</pre>"
      ],
      "text/plain": [
       "| 11853        | 8.6e+08 | 16.339      | 3h 26m       |"
      ]
     },
     "metadata": {},
     "output_type": "display_data"
    },
    {
     "data": {
      "text/html": [
       "<pre>| 11916        | 8.6e+08 | 16.4259     | 3h 26m       |</pre>"
      ],
      "text/plain": [
       "| 11916        | 8.6e+08 | 16.4259     | 3h 26m       |"
      ]
     },
     "metadata": {},
     "output_type": "display_data"
    },
    {
     "data": {
      "text/html": [
       "<pre>| 11987        | 8.7e+08 | 16.5238     | 3h 26m       |</pre>"
      ],
      "text/plain": [
       "| 11987        | 8.7e+08 | 16.5238     | 3h 26m       |"
      ]
     },
     "metadata": {},
     "output_type": "display_data"
    },
    {
     "data": {
      "text/html": [
       "<pre>| 12056        | 8.7e+08 | 16.6189     | 3h 26m       |</pre>"
      ],
      "text/plain": [
       "| 12056        | 8.7e+08 | 16.6189     | 3h 26m       |"
      ]
     },
     "metadata": {},
     "output_type": "display_data"
    },
    {
     "data": {
      "text/html": [
       "<pre>| 12125        | 8.8e+08 | 16.714      | 3h 26m       |</pre>"
      ],
      "text/plain": [
       "| 12125        | 8.8e+08 | 16.714      | 3h 26m       |"
      ]
     },
     "metadata": {},
     "output_type": "display_data"
    },
    {
     "data": {
      "text/html": [
       "<pre>| 12195        | 8.8e+08 | 16.8105     | 3h 26m       |</pre>"
      ],
      "text/plain": [
       "| 12195        | 8.8e+08 | 16.8105     | 3h 26m       |"
      ]
     },
     "metadata": {},
     "output_type": "display_data"
    },
    {
     "data": {
      "text/html": [
       "<pre>| 12268        |         | 16.9111     | 3h 26m       |</pre>"
      ],
      "text/plain": [
       "| 12268        |         | 16.9111     | 3h 26m       |"
      ]
     },
     "metadata": {},
     "output_type": "display_data"
    },
    {
     "data": {
      "text/html": [
       "<pre>| 12343        | 9e+08   | 17.0145     | 3h 26m       |</pre>"
      ],
      "text/plain": [
       "| 12343        | 9e+08   | 17.0145     | 3h 26m       |"
      ]
     },
     "metadata": {},
     "output_type": "display_data"
    },
    {
     "data": {
      "text/html": [
       "<pre>| 12415        | 9e+08   | 17.1138     | 3h 26m       |</pre>"
      ],
      "text/plain": [
       "| 12415        | 9e+08   | 17.1138     | 3h 26m       |"
      ]
     },
     "metadata": {},
     "output_type": "display_data"
    },
    {
     "data": {
      "text/html": [
       "<pre>| 12480        | 9.1e+08 | 17.2034     | 3h 26m       |</pre>"
      ],
      "text/plain": [
       "| 12480        | 9.1e+08 | 17.2034     | 3h 26m       |"
      ]
     },
     "metadata": {},
     "output_type": "display_data"
    },
    {
     "data": {
      "text/html": [
       "<pre>| 12538        | 9.1e+08 | 17.2833     | 3h 26m       |</pre>"
      ],
      "text/plain": [
       "| 12538        | 9.1e+08 | 17.2833     | 3h 26m       |"
      ]
     },
     "metadata": {},
     "output_type": "display_data"
    },
    {
     "data": {
      "text/html": [
       "<pre>| 12599        | 9.1e+08 | 17.3674     | 3h 26m       |</pre>"
      ],
      "text/plain": [
       "| 12599        | 9.1e+08 | 17.3674     | 3h 26m       |"
      ]
     },
     "metadata": {},
     "output_type": "display_data"
    },
    {
     "data": {
      "text/html": [
       "<pre>| 12667        | 9.2e+08 | 17.4611     | 3h 26m       |</pre>"
      ],
      "text/plain": [
       "| 12667        | 9.2e+08 | 17.4611     | 3h 26m       |"
      ]
     },
     "metadata": {},
     "output_type": "display_data"
    },
    {
     "data": {
      "text/html": [
       "<pre>| 12746        | 9.2e+08 | 17.57       | 3h 26m       |</pre>"
      ],
      "text/plain": [
       "| 12746        | 9.2e+08 | 17.57       | 3h 26m       |"
      ]
     },
     "metadata": {},
     "output_type": "display_data"
    },
    {
     "data": {
      "text/html": [
       "<pre>| 12821        | 9.3e+08 | 17.6734     | 3h 27m       |</pre>"
      ],
      "text/plain": [
       "| 12821        | 9.3e+08 | 17.6734     | 3h 27m       |"
      ]
     },
     "metadata": {},
     "output_type": "display_data"
    },
    {
     "data": {
      "text/html": [
       "<pre>| 12901        | 9.4e+08 | 17.7837     | 3h 27m       |</pre>"
      ],
      "text/plain": [
       "| 12901        | 9.4e+08 | 17.7837     | 3h 27m       |"
      ]
     },
     "metadata": {},
     "output_type": "display_data"
    },
    {
     "data": {
      "text/html": [
       "<pre>| 12974        | 9.4e+08 | 17.8843     | 3h 27m       |</pre>"
      ],
      "text/plain": [
       "| 12974        | 9.4e+08 | 17.8843     | 3h 27m       |"
      ]
     },
     "metadata": {},
     "output_type": "display_data"
    },
    {
     "data": {
      "text/html": [
       "<pre>| 13038        | 9.5e+08 | 17.9725     | 3h 27m       |</pre>"
      ],
      "text/plain": [
       "| 13038        | 9.5e+08 | 17.9725     | 3h 27m       |"
      ]
     },
     "metadata": {},
     "output_type": "display_data"
    },
    {
     "data": {
      "text/html": [
       "<pre>| 13089        | 9.5e+08 | 18.0428     | 3h 27m       |</pre>"
      ],
      "text/plain": [
       "| 13089        | 9.5e+08 | 18.0428     | 3h 27m       |"
      ]
     },
     "metadata": {},
     "output_type": "display_data"
    },
    {
     "data": {
      "text/html": [
       "<pre>| 13162        | 9.5e+08 | 18.1435     | 3h 27m       |</pre>"
      ],
      "text/plain": [
       "| 13162        | 9.5e+08 | 18.1435     | 3h 27m       |"
      ]
     },
     "metadata": {},
     "output_type": "display_data"
    },
    {
     "data": {
      "text/html": [
       "<pre>| 13215        | 9.6e+08 | 18.2165     | 3h 27m       |</pre>"
      ],
      "text/plain": [
       "| 13215        | 9.6e+08 | 18.2165     | 3h 27m       |"
      ]
     },
     "metadata": {},
     "output_type": "display_data"
    },
    {
     "data": {
      "text/html": [
       "<pre>| 13281        | 9.6e+08 | 18.3075     | 3h 27m       |</pre>"
      ],
      "text/plain": [
       "| 13281        | 9.6e+08 | 18.3075     | 3h 27m       |"
      ]
     },
     "metadata": {},
     "output_type": "display_data"
    },
    {
     "data": {
      "text/html": [
       "<pre>| 13325        | 9.7e+08 | 18.3682     | 3h 27m       |</pre>"
      ],
      "text/plain": [
       "| 13325        | 9.7e+08 | 18.3682     | 3h 27m       |"
      ]
     },
     "metadata": {},
     "output_type": "display_data"
    },
    {
     "data": {
      "text/html": [
       "<pre>| 13370        | 9.7e+08 | 18.4302     | 3h 27m       |</pre>"
      ],
      "text/plain": [
       "| 13370        | 9.7e+08 | 18.4302     | 3h 27m       |"
      ]
     },
     "metadata": {},
     "output_type": "display_data"
    },
    {
     "data": {
      "text/html": [
       "<pre>| 13425        | 9.7e+08 | 18.506      | 3h 27m       |</pre>"
      ],
      "text/plain": [
       "| 13425        | 9.7e+08 | 18.506      | 3h 27m       |"
      ]
     },
     "metadata": {},
     "output_type": "display_data"
    },
    {
     "data": {
      "text/html": [
       "<pre>| 13503        | 9.8e+08 | 18.6135     | 3h 27m       |</pre>"
      ],
      "text/plain": [
       "| 13503        | 9.8e+08 | 18.6135     | 3h 27m       |"
      ]
     },
     "metadata": {},
     "output_type": "display_data"
    },
    {
     "data": {
      "text/html": [
       "<pre>| 13549        | 9.8e+08 | 18.6769     | 3h 27m       |</pre>"
      ],
      "text/plain": [
       "| 13549        | 9.8e+08 | 18.6769     | 3h 27m       |"
      ]
     },
     "metadata": {},
     "output_type": "display_data"
    },
    {
     "data": {
      "text/html": [
       "<pre>| 13571        | 9.8e+08 | 18.7073     | 3h 27m       |</pre>"
      ],
      "text/plain": [
       "| 13571        | 9.8e+08 | 18.7073     | 3h 27m       |"
      ]
     },
     "metadata": {},
     "output_type": "display_data"
    },
    {
     "data": {
      "text/html": [
       "<pre>| 13572        | 9.8e+08 | 18.7086     | 3h 27m       |</pre>"
      ],
      "text/plain": [
       "| 13572        | 9.8e+08 | 18.7086     | 3h 27m       |"
      ]
     },
     "metadata": {},
     "output_type": "display_data"
    },
    {
     "data": {
      "text/html": [
       "<pre>| 13637        | 9.9e+08 | 18.7982     | 3h 27m       |</pre>"
      ],
      "text/plain": [
       "| 13637        | 9.9e+08 | 18.7982     | 3h 27m       |"
      ]
     },
     "metadata": {},
     "output_type": "display_data"
    },
    {
     "data": {
      "text/html": [
       "<pre>| 13693        | 9.9e+08 | 18.8754     | 3h 27m       |</pre>"
      ],
      "text/plain": [
       "| 13693        | 9.9e+08 | 18.8754     | 3h 27m       |"
      ]
     },
     "metadata": {},
     "output_type": "display_data"
    },
    {
     "data": {
      "text/html": [
       "<pre>| 13760        | 1e+09   | 18.9678     | 3h 27m       |</pre>"
      ],
      "text/plain": [
       "| 13760        | 1e+09   | 18.9678     | 3h 27m       |"
      ]
     },
     "metadata": {},
     "output_type": "display_data"
    },
    {
     "data": {
      "text/html": [
       "<pre>| 13838        | 1e+09   | 19.0753     | 3h 27m       |</pre>"
      ],
      "text/plain": [
       "| 13838        | 1e+09   | 19.0753     | 3h 27m       |"
      ]
     },
     "metadata": {},
     "output_type": "display_data"
    },
    {
     "data": {
      "text/html": [
       "<pre>| 13908        | 1e+09   | 19.1718     | 3h 28m       |</pre>"
      ],
      "text/plain": [
       "| 13908        | 1e+09   | 19.1718     | 3h 28m       |"
      ]
     },
     "metadata": {},
     "output_type": "display_data"
    },
    {
     "data": {
      "text/html": [
       "<pre>| 13982        | 1e+09   | 19.2738     | 3h 28m       |</pre>"
      ],
      "text/plain": [
       "| 13982        | 1e+09   | 19.2738     | 3h 28m       |"
      ]
     },
     "metadata": {},
     "output_type": "display_data"
    },
    {
     "data": {
      "text/html": [
       "<pre>| 14045        | 1e+09   | 19.3607     | 3h 28m       |</pre>"
      ],
      "text/plain": [
       "| 14045        | 1e+09   | 19.3607     | 3h 28m       |"
      ]
     },
     "metadata": {},
     "output_type": "display_data"
    },
    {
     "data": {
      "text/html": [
       "<pre>| 14107        | 1e+09   | 19.4461     | 3h 28m       |</pre>"
      ],
      "text/plain": [
       "| 14107        | 1e+09   | 19.4461     | 3h 28m       |"
      ]
     },
     "metadata": {},
     "output_type": "display_data"
    },
    {
     "data": {
      "text/html": [
       "<pre>| 14155        | 1e+09   | 19.5123     | 3h 28m       |</pre>"
      ],
      "text/plain": [
       "| 14155        | 1e+09   | 19.5123     | 3h 28m       |"
      ]
     },
     "metadata": {},
     "output_type": "display_data"
    },
    {
     "data": {
      "text/html": [
       "<pre>| 14218        | 1e+09   | 19.5991     | 3h 28m       |</pre>"
      ],
      "text/plain": [
       "| 14218        | 1e+09   | 19.5991     | 3h 28m       |"
      ]
     },
     "metadata": {},
     "output_type": "display_data"
    },
    {
     "data": {
      "text/html": [
       "<pre>| 14285        | 1e+09   | 19.6915     | 3h 28m       |</pre>"
      ],
      "text/plain": [
       "| 14285        | 1e+09   | 19.6915     | 3h 28m       |"
      ]
     },
     "metadata": {},
     "output_type": "display_data"
    },
    {
     "data": {
      "text/html": [
       "<pre>| 14354        | 1e+09   | 19.7866     | 3h 28m       |</pre>"
      ],
      "text/plain": [
       "| 14354        | 1e+09   | 19.7866     | 3h 28m       |"
      ]
     },
     "metadata": {},
     "output_type": "display_data"
    },
    {
     "data": {
      "text/html": [
       "<pre>| 14423        | 1e+09   | 19.8817     | 3h 28m       |</pre>"
      ],
      "text/plain": [
       "| 14423        | 1e+09   | 19.8817     | 3h 28m       |"
      ]
     },
     "metadata": {},
     "output_type": "display_data"
    },
    {
     "data": {
      "text/html": [
       "<pre>| 14502        | 1.1e+09 | 19.9906     | 3h 28m       |</pre>"
      ],
      "text/plain": [
       "| 14502        | 1.1e+09 | 19.9906     | 3h 28m       |"
      ]
     },
     "metadata": {},
     "output_type": "display_data"
    },
    {
     "data": {
      "text/html": [
       "<pre>| 14580        | 1.1e+09 | 20.0981     | 3h 28m       |</pre>"
      ],
      "text/plain": [
       "| 14580        | 1.1e+09 | 20.0981     | 3h 28m       |"
      ]
     },
     "metadata": {},
     "output_type": "display_data"
    },
    {
     "data": {
      "text/html": [
       "<pre>| 14660        | 1.1e+09 | 20.2084     | 3h 28m       |</pre>"
      ],
      "text/plain": [
       "| 14660        | 1.1e+09 | 20.2084     | 3h 28m       |"
      ]
     },
     "metadata": {},
     "output_type": "display_data"
    },
    {
     "data": {
      "text/html": [
       "<pre>| 14739        | 1.1e+09 | 20.3173     | 3h 28m       |</pre>"
      ],
      "text/plain": [
       "| 14739        | 1.1e+09 | 20.3173     | 3h 28m       |"
      ]
     },
     "metadata": {},
     "output_type": "display_data"
    },
    {
     "data": {
      "text/html": [
       "<pre>| 14819        | 1.1e+09 | 20.4276     | 3h 28m       |</pre>"
      ],
      "text/plain": [
       "| 14819        | 1.1e+09 | 20.4276     | 3h 28m       |"
      ]
     },
     "metadata": {},
     "output_type": "display_data"
    },
    {
     "data": {
      "text/html": [
       "<pre>| 14900        | 1.1e+09 | 20.5393     | 3h 28m       |</pre>"
      ],
      "text/plain": [
       "| 14900        | 1.1e+09 | 20.5393     | 3h 28m       |"
      ]
     },
     "metadata": {},
     "output_type": "display_data"
    },
    {
     "data": {
      "text/html": [
       "<pre>| 14979        | 1.1e+09 | 20.6482     | 3h 28m       |</pre>"
      ],
      "text/plain": [
       "| 14979        | 1.1e+09 | 20.6482     | 3h 28m       |"
      ]
     },
     "metadata": {},
     "output_type": "display_data"
    },
    {
     "data": {
      "text/html": [
       "<pre>| 15058        | 1.1e+09 | 20.7571     | 3h 28m       |</pre>"
      ],
      "text/plain": [
       "| 15058        | 1.1e+09 | 20.7571     | 3h 28m       |"
      ]
     },
     "metadata": {},
     "output_type": "display_data"
    },
    {
     "data": {
      "text/html": [
       "<pre>| 15131        | 1.1e+09 | 20.8577     | 3h 28m       |</pre>"
      ],
      "text/plain": [
       "| 15131        | 1.1e+09 | 20.8577     | 3h 28m       |"
      ]
     },
     "metadata": {},
     "output_type": "display_data"
    },
    {
     "data": {
      "text/html": [
       "<pre>| 15191        | 1.1e+09 | 20.9404     | 3h 28m       |</pre>"
      ],
      "text/plain": [
       "| 15191        | 1.1e+09 | 20.9404     | 3h 28m       |"
      ]
     },
     "metadata": {},
     "output_type": "display_data"
    },
    {
     "data": {
      "text/html": [
       "<pre>| 15239        | 1.1e+09 | 21.0066     | 3h 28m       |</pre>"
      ],
      "text/plain": [
       "| 15239        | 1.1e+09 | 21.0066     | 3h 28m       |"
      ]
     },
     "metadata": {},
     "output_type": "display_data"
    },
    {
     "data": {
      "text/html": [
       "<pre>| 15286        | 1.1e+09 | 21.0713     | 3h 29m       |</pre>"
      ],
      "text/plain": [
       "| 15286        | 1.1e+09 | 21.0713     | 3h 29m       |"
      ]
     },
     "metadata": {},
     "output_type": "display_data"
    },
    {
     "data": {
      "text/html": [
       "<pre>| 15343        | 1.1e+09 | 21.1499     | 3h 29m       |</pre>"
      ],
      "text/plain": [
       "| 15343        | 1.1e+09 | 21.1499     | 3h 29m       |"
      ]
     },
     "metadata": {},
     "output_type": "display_data"
    },
    {
     "data": {
      "text/html": [
       "<pre>| 15412        | 1.1e+09 | 21.245      | 3h 29m       |</pre>"
      ],
      "text/plain": [
       "| 15412        | 1.1e+09 | 21.245      | 3h 29m       |"
      ]
     },
     "metadata": {},
     "output_type": "display_data"
    },
    {
     "data": {
      "text/html": [
       "<pre>| 15465        | 1.1e+09 | 21.3181     | 3h 29m       |</pre>"
      ],
      "text/plain": [
       "| 15465        | 1.1e+09 | 21.3181     | 3h 29m       |"
      ]
     },
     "metadata": {},
     "output_type": "display_data"
    },
    {
     "data": {
      "text/html": [
       "<pre>| 15537        | 1.1e+09 | 21.4173     | 3h 29m       |</pre>"
      ],
      "text/plain": [
       "| 15537        | 1.1e+09 | 21.4173     | 3h 29m       |"
      ]
     },
     "metadata": {},
     "output_type": "display_data"
    },
    {
     "data": {
      "text/html": [
       "<pre>| 15602        | 1.1e+09 | 21.5069     | 3h 29m       |</pre>"
      ],
      "text/plain": [
       "| 15602        | 1.1e+09 | 21.5069     | 3h 29m       |"
      ]
     },
     "metadata": {},
     "output_type": "display_data"
    },
    {
     "data": {
      "text/html": [
       "<pre>| 15681        | 1.1e+09 | 21.6158     | 3h 29m       |</pre>"
      ],
      "text/plain": [
       "| 15681        | 1.1e+09 | 21.6158     | 3h 29m       |"
      ]
     },
     "metadata": {},
     "output_type": "display_data"
    },
    {
     "data": {
      "text/html": [
       "<pre>| 15731        | 1.1e+09 | 21.6848     | 3h 29m       |</pre>"
      ],
      "text/plain": [
       "| 15731        | 1.1e+09 | 21.6848     | 3h 29m       |"
      ]
     },
     "metadata": {},
     "output_type": "display_data"
    },
    {
     "data": {
      "text/html": [
       "<pre>| 15787        | 1.1e+09 | 21.762      | 3h 29m       |</pre>"
      ],
      "text/plain": [
       "| 15787        | 1.1e+09 | 21.762      | 3h 29m       |"
      ]
     },
     "metadata": {},
     "output_type": "display_data"
    },
    {
     "data": {
      "text/html": [
       "<pre>| 15843        | 1.1e+09 | 21.8392     | 3h 29m       |</pre>"
      ],
      "text/plain": [
       "| 15843        | 1.1e+09 | 21.8392     | 3h 29m       |"
      ]
     },
     "metadata": {},
     "output_type": "display_data"
    },
    {
     "data": {
      "text/html": [
       "<pre>| 15904        | 1.2e+09 | 21.9232     | 3h 29m       |</pre>"
      ],
      "text/plain": [
       "| 15904        | 1.2e+09 | 21.9232     | 3h 29m       |"
      ]
     },
     "metadata": {},
     "output_type": "display_data"
    },
    {
     "data": {
      "text/html": [
       "<pre>| 15972        | 1.2e+09 | 22.017      | 3h 29m       |</pre>"
      ],
      "text/plain": [
       "| 15972        | 1.2e+09 | 22.017      | 3h 29m       |"
      ]
     },
     "metadata": {},
     "output_type": "display_data"
    },
    {
     "data": {
      "text/html": [
       "<pre>| 16041        | 1.2e+09 | 22.1121     | 3h 29m       |</pre>"
      ],
      "text/plain": [
       "| 16041        | 1.2e+09 | 22.1121     | 3h 29m       |"
      ]
     },
     "metadata": {},
     "output_type": "display_data"
    },
    {
     "data": {
      "text/html": [
       "<pre>| 16103        | 1.2e+09 | 22.1976     | 3h 29m       |</pre>"
      ],
      "text/plain": [
       "| 16103        | 1.2e+09 | 22.1976     | 3h 29m       |"
      ]
     },
     "metadata": {},
     "output_type": "display_data"
    },
    {
     "data": {
      "text/html": [
       "<pre>| 16182        | 1.2e+09 | 22.3065     | 3h 29m       |</pre>"
      ],
      "text/plain": [
       "| 16182        | 1.2e+09 | 22.3065     | 3h 29m       |"
      ]
     },
     "metadata": {},
     "output_type": "display_data"
    },
    {
     "data": {
      "text/html": [
       "<pre>| 16262        | 1.2e+09 | 22.4167     | 3h 29m       |</pre>"
      ],
      "text/plain": [
       "| 16262        | 1.2e+09 | 22.4167     | 3h 29m       |"
      ]
     },
     "metadata": {},
     "output_type": "display_data"
    },
    {
     "data": {
      "text/html": [
       "<pre>| 16333        | 1.2e+09 | 22.5146     | 3h 29m       |</pre>"
      ],
      "text/plain": [
       "| 16333        | 1.2e+09 | 22.5146     | 3h 29m       |"
      ]
     },
     "metadata": {},
     "output_type": "display_data"
    },
    {
     "data": {
      "text/html": [
       "<pre>| 16415        | 1.2e+09 | 22.6276     | 3h 29m       |</pre>"
      ],
      "text/plain": [
       "| 16415        | 1.2e+09 | 22.6276     | 3h 29m       |"
      ]
     },
     "metadata": {},
     "output_type": "display_data"
    },
    {
     "data": {
      "text/html": [
       "<pre>| 16494        | 1.2e+09 | 22.7365     | 3h 29m       |</pre>"
      ],
      "text/plain": [
       "| 16494        | 1.2e+09 | 22.7365     | 3h 29m       |"
      ]
     },
     "metadata": {},
     "output_type": "display_data"
    },
    {
     "data": {
      "text/html": [
       "<pre>| 16575        | 1.2e+09 | 22.8482     | 3h 29m       |</pre>"
      ],
      "text/plain": [
       "| 16575        | 1.2e+09 | 22.8482     | 3h 29m       |"
      ]
     },
     "metadata": {},
     "output_type": "display_data"
    },
    {
     "data": {
      "text/html": [
       "<pre>| 16654        | 1.2e+09 | 22.9571     | 3h 30m       |</pre>"
      ],
      "text/plain": [
       "| 16654        | 1.2e+09 | 22.9571     | 3h 30m       |"
      ]
     },
     "metadata": {},
     "output_type": "display_data"
    },
    {
     "data": {
      "text/html": [
       "<pre>| 16736        | 1.2e+09 | 23.0701     | 3h 30m       |</pre>"
      ],
      "text/plain": [
       "| 16736        | 1.2e+09 | 23.0701     | 3h 30m       |"
      ]
     },
     "metadata": {},
     "output_type": "display_data"
    },
    {
     "data": {
      "text/html": [
       "<pre>| 16814        | 1.2e+09 | 23.1777     | 3h 30m       |</pre>"
      ],
      "text/plain": [
       "| 16814        | 1.2e+09 | 23.1777     | 3h 30m       |"
      ]
     },
     "metadata": {},
     "output_type": "display_data"
    },
    {
     "data": {
      "text/html": [
       "<pre>| 16895        | 1.2e+09 | 23.2893     | 3h 30m       |</pre>"
      ],
      "text/plain": [
       "| 16895        | 1.2e+09 | 23.2893     | 3h 30m       |"
      ]
     },
     "metadata": {},
     "output_type": "display_data"
    },
    {
     "data": {
      "text/html": [
       "<pre>| 16974        | 1.2e+09 | 23.3982     | 3h 30m       |</pre>"
      ],
      "text/plain": [
       "| 16974        | 1.2e+09 | 23.3982     | 3h 30m       |"
      ]
     },
     "metadata": {},
     "output_type": "display_data"
    },
    {
     "data": {
      "text/html": [
       "<pre>| 17045        | 1.2e+09 | 23.4961     | 3h 30m       |</pre>"
      ],
      "text/plain": [
       "| 17045        | 1.2e+09 | 23.4961     | 3h 30m       |"
      ]
     },
     "metadata": {},
     "output_type": "display_data"
    },
    {
     "data": {
      "text/html": [
       "<pre>| 17110        | 1.2e+09 | 23.5857     | 3h 30m       |</pre>"
      ],
      "text/plain": [
       "| 17110        | 1.2e+09 | 23.5857     | 3h 30m       |"
      ]
     },
     "metadata": {},
     "output_type": "display_data"
    },
    {
     "data": {
      "text/html": [
       "<pre>| 17188        | 1.2e+09 | 23.6932     | 3h 30m       |</pre>"
      ],
      "text/plain": [
       "| 17188        | 1.2e+09 | 23.6932     | 3h 30m       |"
      ]
     },
     "metadata": {},
     "output_type": "display_data"
    },
    {
     "data": {
      "text/html": [
       "<pre>| 17267        | 1.3e+09 | 23.8021     | 3h 30m       |</pre>"
      ],
      "text/plain": [
       "| 17267        | 1.3e+09 | 23.8021     | 3h 30m       |"
      ]
     },
     "metadata": {},
     "output_type": "display_data"
    },
    {
     "data": {
      "text/html": [
       "<pre>| 17348        | 1.3e+09 | 23.9138     | 3h 30m       |</pre>"
      ],
      "text/plain": [
       "| 17348        | 1.3e+09 | 23.9138     | 3h 30m       |"
      ]
     },
     "metadata": {},
     "output_type": "display_data"
    },
    {
     "data": {
      "text/html": [
       "<pre>| 17428        | 1.3e+09 | 24.024      | 3h 30m       |</pre>"
      ],
      "text/plain": [
       "| 17428        | 1.3e+09 | 24.024      | 3h 30m       |"
      ]
     },
     "metadata": {},
     "output_type": "display_data"
    },
    {
     "data": {
      "text/html": [
       "<pre>| 17509        | 1.3e+09 | 24.1357     | 3h 30m       |</pre>"
      ],
      "text/plain": [
       "| 17509        | 1.3e+09 | 24.1357     | 3h 30m       |"
      ]
     },
     "metadata": {},
     "output_type": "display_data"
    },
    {
     "data": {
      "text/html": [
       "<pre>| 17589        | 1.3e+09 | 24.246      | 3h 30m       |</pre>"
      ],
      "text/plain": [
       "| 17589        | 1.3e+09 | 24.246      | 3h 30m       |"
      ]
     },
     "metadata": {},
     "output_type": "display_data"
    },
    {
     "data": {
      "text/html": [
       "<pre>| 17664        | 1.3e+09 | 24.3494     | 3h 30m       |</pre>"
      ],
      "text/plain": [
       "| 17664        | 1.3e+09 | 24.3494     | 3h 30m       |"
      ]
     },
     "metadata": {},
     "output_type": "display_data"
    },
    {
     "data": {
      "text/html": [
       "<pre>| 17742        | 1.3e+09 | 24.4569     | 3h 30m       |</pre>"
      ],
      "text/plain": [
       "| 17742        | 1.3e+09 | 24.4569     | 3h 30m       |"
      ]
     },
     "metadata": {},
     "output_type": "display_data"
    },
    {
     "data": {
      "text/html": [
       "<pre>| 17819        | 1.3e+09 | 24.563      | 3h 30m       |</pre>"
      ],
      "text/plain": [
       "| 17819        | 1.3e+09 | 24.563      | 3h 30m       |"
      ]
     },
     "metadata": {},
     "output_type": "display_data"
    },
    {
     "data": {
      "text/html": [
       "<pre>| 17886        | 1.3e+09 | 24.6554     | 3h 30m       |</pre>"
      ],
      "text/plain": [
       "| 17886        | 1.3e+09 | 24.6554     | 3h 30m       |"
      ]
     },
     "metadata": {},
     "output_type": "display_data"
    },
    {
     "data": {
      "text/html": [
       "<pre>| 17967        | 1.3e+09 | 24.767      | 3h 30m       |</pre>"
      ],
      "text/plain": [
       "| 17967        | 1.3e+09 | 24.767      | 3h 30m       |"
      ]
     },
     "metadata": {},
     "output_type": "display_data"
    },
    {
     "data": {
      "text/html": [
       "<pre>| 18031        | 1.3e+09 | 24.8553     | 3h 30m       |</pre>"
      ],
      "text/plain": [
       "| 18031        | 1.3e+09 | 24.8553     | 3h 30m       |"
      ]
     },
     "metadata": {},
     "output_type": "display_data"
    },
    {
     "data": {
      "text/html": [
       "<pre>| 18071        | 1.3e+09 | 24.9104     | 3h 30m       |</pre>"
      ],
      "text/plain": [
       "| 18071        | 1.3e+09 | 24.9104     | 3h 30m       |"
      ]
     },
     "metadata": {},
     "output_type": "display_data"
    },
    {
     "data": {
      "text/html": [
       "<pre>| 18134        | 1.3e+09 | 24.9972     | 3h 31m       |</pre>"
      ],
      "text/plain": [
       "| 18134        | 1.3e+09 | 24.9972     | 3h 31m       |"
      ]
     },
     "metadata": {},
     "output_type": "display_data"
    },
    {
     "data": {
      "text/html": [
       "<pre>| 18179        | 1.3e+09 | 25.0593     | 3h 31m       |</pre>"
      ],
      "text/plain": [
       "| 18179        | 1.3e+09 | 25.0593     | 3h 31m       |"
      ]
     },
     "metadata": {},
     "output_type": "display_data"
    },
    {
     "data": {
      "text/html": [
       "<pre>| 18225        | 1.3e+09 | 25.1227     | 3h 31m       |</pre>"
      ],
      "text/plain": [
       "| 18225        | 1.3e+09 | 25.1227     | 3h 31m       |"
      ]
     },
     "metadata": {},
     "output_type": "display_data"
    },
    {
     "data": {
      "text/html": [
       "<pre>| 18289        | 1.3e+09 | 25.2109     | 3h 31m       |</pre>"
      ],
      "text/plain": [
       "| 18289        | 1.3e+09 | 25.2109     | 3h 31m       |"
      ]
     },
     "metadata": {},
     "output_type": "display_data"
    },
    {
     "data": {
      "text/html": [
       "<pre>| 18369        | 1.3e+09 | 25.3212     | 3h 31m       |</pre>"
      ],
      "text/plain": [
       "| 18369        | 1.3e+09 | 25.3212     | 3h 31m       |"
      ]
     },
     "metadata": {},
     "output_type": "display_data"
    },
    {
     "data": {
      "text/html": [
       "<pre>| 18449        | 1.3e+09 | 25.4315     | 3h 31m       |</pre>"
      ],
      "text/plain": [
       "| 18449        | 1.3e+09 | 25.4315     | 3h 31m       |"
      ]
     },
     "metadata": {},
     "output_type": "display_data"
    },
    {
     "data": {
      "text/html": [
       "<pre>| 18529        | 1.3e+09 | 25.5417     | 3h 31m       |</pre>"
      ],
      "text/plain": [
       "| 18529        | 1.3e+09 | 25.5417     | 3h 31m       |"
      ]
     },
     "metadata": {},
     "output_type": "display_data"
    },
    {
     "data": {
      "text/html": [
       "<pre>| 18609        | 1.3e+09 | 25.652      | 3h 31m       |</pre>"
      ],
      "text/plain": [
       "| 18609        | 1.3e+09 | 25.652      | 3h 31m       |"
      ]
     },
     "metadata": {},
     "output_type": "display_data"
    },
    {
     "data": {
      "text/html": [
       "<pre>| 18688        | 1.4e+09 | 25.7609     | 3h 31m       |</pre>"
      ],
      "text/plain": [
       "| 18688        | 1.4e+09 | 25.7609     | 3h 31m       |"
      ]
     },
     "metadata": {},
     "output_type": "display_data"
    },
    {
     "data": {
      "text/html": [
       "<pre>| 18752        | 1.4e+09 | 25.8491     | 3h 31m       |</pre>"
      ],
      "text/plain": [
       "| 18752        | 1.4e+09 | 25.8491     | 3h 31m       |"
      ]
     },
     "metadata": {},
     "output_type": "display_data"
    },
    {
     "data": {
      "text/html": [
       "<pre>| 18804        | 1.4e+09 | 25.9208     | 3h 31m       |</pre>"
      ],
      "text/plain": [
       "| 18804        | 1.4e+09 | 25.9208     | 3h 31m       |"
      ]
     },
     "metadata": {},
     "output_type": "display_data"
    },
    {
     "data": {
      "text/html": [
       "<pre>| 18883        | 1.4e+09 | 26.0297     | 3h 31m       |</pre>"
      ],
      "text/plain": [
       "| 18883        | 1.4e+09 | 26.0297     | 3h 31m       |"
      ]
     },
     "metadata": {},
     "output_type": "display_data"
    },
    {
     "data": {
      "text/html": [
       "<pre>| 18963        | 1.4e+09 | 26.14       | 3h 31m       |</pre>"
      ],
      "text/plain": [
       "| 18963        | 1.4e+09 | 26.14       | 3h 31m       |"
      ]
     },
     "metadata": {},
     "output_type": "display_data"
    },
    {
     "data": {
      "text/html": [
       "<pre>| 19044        | 1.4e+09 | 26.2517     | 3h 31m       |</pre>"
      ],
      "text/plain": [
       "| 19044        | 1.4e+09 | 26.2517     | 3h 31m       |"
      ]
     },
     "metadata": {},
     "output_type": "display_data"
    },
    {
     "data": {
      "text/html": [
       "<pre>| 19123        | 1.4e+09 | 26.3606     | 3h 31m       |</pre>"
      ],
      "text/plain": [
       "| 19123        | 1.4e+09 | 26.3606     | 3h 31m       |"
      ]
     },
     "metadata": {},
     "output_type": "display_data"
    },
    {
     "data": {
      "text/html": [
       "<pre>| 19173        | 1.4e+09 | 26.4295     | 3h 31m       |</pre>"
      ],
      "text/plain": [
       "| 19173        | 1.4e+09 | 26.4295     | 3h 31m       |"
      ]
     },
     "metadata": {},
     "output_type": "display_data"
    },
    {
     "data": {
      "text/html": [
       "<pre>| 19238        | 1.4e+09 | 26.5191     | 3h 31m       |</pre>"
      ],
      "text/plain": [
       "| 19238        | 1.4e+09 | 26.5191     | 3h 31m       |"
      ]
     },
     "metadata": {},
     "output_type": "display_data"
    },
    {
     "data": {
      "text/html": [
       "<pre>| 19319        | 1.4e+09 | 26.6307     | 3h 31m       |</pre>"
      ],
      "text/plain": [
       "| 19319        | 1.4e+09 | 26.6307     | 3h 31m       |"
      ]
     },
     "metadata": {},
     "output_type": "display_data"
    },
    {
     "data": {
      "text/html": [
       "<pre>| 19398        | 1.4e+09 | 26.7396     | 3h 31m       |</pre>"
      ],
      "text/plain": [
       "| 19398        | 1.4e+09 | 26.7396     | 3h 31m       |"
      ]
     },
     "metadata": {},
     "output_type": "display_data"
    },
    {
     "data": {
      "text/html": [
       "<pre>| 19479        | 1.4e+09 | 26.8513     | 3h 31m       |</pre>"
      ],
      "text/plain": [
       "| 19479        | 1.4e+09 | 26.8513     | 3h 31m       |"
      ]
     },
     "metadata": {},
     "output_type": "display_data"
    },
    {
     "data": {
      "text/html": [
       "<pre>| 19555        | 1.4e+09 | 26.9561     | 3h 32m       |</pre>"
      ],
      "text/plain": [
       "| 19555        | 1.4e+09 | 26.9561     | 3h 32m       |"
      ]
     },
     "metadata": {},
     "output_type": "display_data"
    },
    {
     "data": {
      "text/html": [
       "<pre>| 19610        | 1.4e+09 | 27.0319     | 3h 32m       |</pre>"
      ],
      "text/plain": [
       "| 19610        | 1.4e+09 | 27.0319     | 3h 32m       |"
      ]
     },
     "metadata": {},
     "output_type": "display_data"
    },
    {
     "data": {
      "text/html": [
       "<pre>| 19683        | 1.4e+09 | 27.1325     | 3h 32m       |</pre>"
      ],
      "text/plain": [
       "| 19683        | 1.4e+09 | 27.1325     | 3h 32m       |"
      ]
     },
     "metadata": {},
     "output_type": "display_data"
    },
    {
     "data": {
      "text/html": [
       "<pre>| 19748        | 1.4e+09 | 27.2221     | 3h 32m       |</pre>"
      ],
      "text/plain": [
       "| 19748        | 1.4e+09 | 27.2221     | 3h 32m       |"
      ]
     },
     "metadata": {},
     "output_type": "display_data"
    },
    {
     "data": {
      "text/html": [
       "<pre>| 19819        | 1.4e+09 | 27.32       | 3h 32m       |</pre>"
      ],
      "text/plain": [
       "| 19819        | 1.4e+09 | 27.32       | 3h 32m       |"
      ]
     },
     "metadata": {},
     "output_type": "display_data"
    },
    {
     "data": {
      "text/html": [
       "<pre>| 19897        | 1.4e+09 | 27.4275     | 3h 32m       |</pre>"
      ],
      "text/plain": [
       "| 19897        | 1.4e+09 | 27.4275     | 3h 32m       |"
      ]
     },
     "metadata": {},
     "output_type": "display_data"
    },
    {
     "data": {
      "text/html": [
       "<pre>| 19963        | 1.4e+09 | 27.5185     | 3h 32m       |</pre>"
      ],
      "text/plain": [
       "| 19963        | 1.4e+09 | 27.5185     | 3h 32m       |"
      ]
     },
     "metadata": {},
     "output_type": "display_data"
    },
    {
     "data": {
      "text/html": [
       "<pre>| 20036        | 1.5e+09 | 27.6191     | 3h 32m       |</pre>"
      ],
      "text/plain": [
       "| 20036        | 1.5e+09 | 27.6191     | 3h 32m       |"
      ]
     },
     "metadata": {},
     "output_type": "display_data"
    },
    {
     "data": {
      "text/html": [
       "<pre>| 20106        | 1.5e+09 | 27.7156     | 3h 32m       |</pre>"
      ],
      "text/plain": [
       "| 20106        | 1.5e+09 | 27.7156     | 3h 32m       |"
      ]
     },
     "metadata": {},
     "output_type": "display_data"
    },
    {
     "data": {
      "text/html": [
       "<pre>| 20153        | 1.5e+09 | 27.7804     | 3h 32m       |</pre>"
      ],
      "text/plain": [
       "| 20153        | 1.5e+09 | 27.7804     | 3h 32m       |"
      ]
     },
     "metadata": {},
     "output_type": "display_data"
    },
    {
     "data": {
      "text/html": [
       "<pre>| 20215        | 1.5e+09 | 27.8658     | 3h 32m       |</pre>"
      ],
      "text/plain": [
       "| 20215        | 1.5e+09 | 27.8658     | 3h 32m       |"
      ]
     },
     "metadata": {},
     "output_type": "display_data"
    },
    {
     "data": {
      "text/html": [
       "<pre>| 20281        | 1.5e+09 | 27.9568     | 3h 32m       |</pre>"
      ],
      "text/plain": [
       "| 20281        | 1.5e+09 | 27.9568     | 3h 32m       |"
      ]
     },
     "metadata": {},
     "output_type": "display_data"
    },
    {
     "data": {
      "text/html": [
       "<pre>| 20361        | 1.5e+09 | 28.0671     | 3h 32m       |</pre>"
      ],
      "text/plain": [
       "| 20361        | 1.5e+09 | 28.0671     | 3h 32m       |"
      ]
     },
     "metadata": {},
     "output_type": "display_data"
    },
    {
     "data": {
      "text/html": [
       "<pre>| 20434        | 1.5e+09 | 28.1677     | 3h 32m       |</pre>"
      ],
      "text/plain": [
       "| 20434        | 1.5e+09 | 28.1677     | 3h 32m       |"
      ]
     },
     "metadata": {},
     "output_type": "display_data"
    },
    {
     "data": {
      "text/html": [
       "<pre>| 20499        | 1.5e+09 | 28.2573     | 3h 32m       |</pre>"
      ],
      "text/plain": [
       "| 20499        | 1.5e+09 | 28.2573     | 3h 32m       |"
      ]
     },
     "metadata": {},
     "output_type": "display_data"
    },
    {
     "data": {
      "text/html": [
       "<pre>| 20572        | 1.5e+09 | 28.358      | 3h 32m       |</pre>"
      ],
      "text/plain": [
       "| 20572        | 1.5e+09 | 28.358      | 3h 32m       |"
      ]
     },
     "metadata": {},
     "output_type": "display_data"
    },
    {
     "data": {
      "text/html": [
       "<pre>| 20651        | 1.5e+09 | 28.4669     | 3h 32m       |</pre>"
      ],
      "text/plain": [
       "| 20651        | 1.5e+09 | 28.4669     | 3h 32m       |"
      ]
     },
     "metadata": {},
     "output_type": "display_data"
    },
    {
     "data": {
      "text/html": [
       "<pre>| 20732        | 1.5e+09 | 28.5785     | 3h 32m       |</pre>"
      ],
      "text/plain": [
       "| 20732        | 1.5e+09 | 28.5785     | 3h 32m       |"
      ]
     },
     "metadata": {},
     "output_type": "display_data"
    },
    {
     "data": {
      "text/html": [
       "<pre>| 20810        | 1.5e+09 | 28.686      | 3h 32m       |</pre>"
      ],
      "text/plain": [
       "| 20810        | 1.5e+09 | 28.686      | 3h 32m       |"
      ]
     },
     "metadata": {},
     "output_type": "display_data"
    },
    {
     "data": {
      "text/html": [
       "<pre>| 20892        | 1.5e+09 | 28.7991     | 3h 32m       |</pre>"
      ],
      "text/plain": [
       "| 20892        | 1.5e+09 | 28.7991     | 3h 32m       |"
      ]
     },
     "metadata": {},
     "output_type": "display_data"
    },
    {
     "data": {
      "text/html": [
       "<pre>| 20972        | 1.5e+09 | 28.9094     | 3h 33m       |</pre>"
      ],
      "text/plain": [
       "| 20972        | 1.5e+09 | 28.9094     | 3h 33m       |"
      ]
     },
     "metadata": {},
     "output_type": "display_data"
    },
    {
     "data": {
      "text/html": [
       "<pre>| 21053        | 1.5e+09 | 29.021      | 3h 33m       |</pre>"
      ],
      "text/plain": [
       "| 21053        | 1.5e+09 | 29.021      | 3h 33m       |"
      ]
     },
     "metadata": {},
     "output_type": "display_data"
    },
    {
     "data": {
      "text/html": [
       "<pre>| 21132        | 1.5e+09 | 29.1299     | 3h 33m       |</pre>"
      ],
      "text/plain": [
       "| 21132        | 1.5e+09 | 29.1299     | 3h 33m       |"
      ]
     },
     "metadata": {},
     "output_type": "display_data"
    },
    {
     "data": {
      "text/html": [
       "<pre>| 21213        | 1.5e+09 | 29.2416     | 3h 33m       |</pre>"
      ],
      "text/plain": [
       "| 21213        | 1.5e+09 | 29.2416     | 3h 33m       |"
      ]
     },
     "metadata": {},
     "output_type": "display_data"
    },
    {
     "data": {
      "text/html": [
       "<pre>| 21289        | 1.5e+09 | 29.3463     | 3h 33m       |</pre>"
      ],
      "text/plain": [
       "| 21289        | 1.5e+09 | 29.3463     | 3h 33m       |"
      ]
     },
     "metadata": {},
     "output_type": "display_data"
    },
    {
     "data": {
      "text/html": [
       "<pre>| 21353        | 1.5e+09 | 29.4346     | 3h 33m       |</pre>"
      ],
      "text/plain": [
       "| 21353        | 1.5e+09 | 29.4346     | 3h 33m       |"
      ]
     },
     "metadata": {},
     "output_type": "display_data"
    },
    {
     "data": {
      "text/html": [
       "<pre>| 21422        | 1.6e+09 | 29.5297     | 3h 33m       |</pre>"
      ],
      "text/plain": [
       "| 21422        | 1.6e+09 | 29.5297     | 3h 33m       |"
      ]
     },
     "metadata": {},
     "output_type": "display_data"
    },
    {
     "data": {
      "text/html": [
       "<pre>| 21503        | 1.6e+09 | 29.6413     | 3h 33m       |</pre>"
      ],
      "text/plain": [
       "| 21503        | 1.6e+09 | 29.6413     | 3h 33m       |"
      ]
     },
     "metadata": {},
     "output_type": "display_data"
    },
    {
     "data": {
      "text/html": [
       "<pre>| 21582        | 1.6e+09 | 29.7502     | 3h 33m       |</pre>"
      ],
      "text/plain": [
       "| 21582        | 1.6e+09 | 29.7502     | 3h 33m       |"
      ]
     },
     "metadata": {},
     "output_type": "display_data"
    },
    {
     "data": {
      "text/html": [
       "<pre>| 21663        | 1.6e+09 | 29.8619     | 3h 33m       |</pre>"
      ],
      "text/plain": [
       "| 21663        | 1.6e+09 | 29.8619     | 3h 33m       |"
      ]
     },
     "metadata": {},
     "output_type": "display_data"
    },
    {
     "data": {
      "text/html": [
       "<pre>| 21740        | 1.6e+09 | 29.968      | 3h 33m       |</pre>"
      ],
      "text/plain": [
       "| 21740        | 1.6e+09 | 29.968      | 3h 33m       |"
      ]
     },
     "metadata": {},
     "output_type": "display_data"
    },
    {
     "data": {
      "text/html": [
       "<pre>| 21813        | 1.6e+09 | 30.0686     | 3h 33m       |</pre>"
      ],
      "text/plain": [
       "| 21813        | 1.6e+09 | 30.0686     | 3h 33m       |"
      ]
     },
     "metadata": {},
     "output_type": "display_data"
    },
    {
     "data": {
      "text/html": [
       "<pre>| 21871        | 1.6e+09 | 30.1486     | 3h 33m       |</pre>"
      ],
      "text/plain": [
       "| 21871        | 1.6e+09 | 30.1486     | 3h 33m       |"
      ]
     },
     "metadata": {},
     "output_type": "display_data"
    },
    {
     "data": {
      "text/html": [
       "<pre>| 21951        | 1.6e+09 | 30.2589     | 3h 33m       |</pre>"
      ],
      "text/plain": [
       "| 21951        | 1.6e+09 | 30.2589     | 3h 33m       |"
      ]
     },
     "metadata": {},
     "output_type": "display_data"
    },
    {
     "data": {
      "text/html": [
       "<pre>| 22031        | 1.6e+09 | 30.3692     | 3h 33m       |</pre>"
      ],
      "text/plain": [
       "| 22031        | 1.6e+09 | 30.3692     | 3h 33m       |"
      ]
     },
     "metadata": {},
     "output_type": "display_data"
    },
    {
     "data": {
      "text/html": [
       "<pre>| 22110        | 1.6e+09 | 30.4781     | 3h 33m       |</pre>"
      ],
      "text/plain": [
       "| 22110        | 1.6e+09 | 30.4781     | 3h 33m       |"
      ]
     },
     "metadata": {},
     "output_type": "display_data"
    },
    {
     "data": {
      "text/html": [
       "<pre>| 22177        | 1.6e+09 | 30.5704     | 3h 33m       |</pre>"
      ],
      "text/plain": [
       "| 22177        | 1.6e+09 | 30.5704     | 3h 33m       |"
      ]
     },
     "metadata": {},
     "output_type": "display_data"
    },
    {
     "data": {
      "text/html": [
       "<pre>| 22258        | 1.6e+09 | 30.6821     | 3h 33m       |</pre>"
      ],
      "text/plain": [
       "| 22258        | 1.6e+09 | 30.6821     | 3h 33m       |"
      ]
     },
     "metadata": {},
     "output_type": "display_data"
    },
    {
     "data": {
      "text/html": [
       "<pre>| 22337        | 1.6e+09 | 30.791      | 3h 33m       |</pre>"
      ],
      "text/plain": [
       "| 22337        | 1.6e+09 | 30.791      | 3h 33m       |"
      ]
     },
     "metadata": {},
     "output_type": "display_data"
    },
    {
     "data": {
      "text/html": [
       "<pre>| 22418        | 1.6e+09 | 30.9026     | 3h 33m       |</pre>"
      ],
      "text/plain": [
       "| 22418        | 1.6e+09 | 30.9026     | 3h 33m       |"
      ]
     },
     "metadata": {},
     "output_type": "display_data"
    },
    {
     "data": {
      "text/html": [
       "<pre>| 22495        | 1.6e+09 | 31.0088     | 3h 34m       |</pre>"
      ],
      "text/plain": [
       "| 22495        | 1.6e+09 | 31.0088     | 3h 34m       |"
      ]
     },
     "metadata": {},
     "output_type": "display_data"
    },
    {
     "data": {
      "text/html": [
       "<pre>| 22574        | 1.6e+09 | 31.1177     | 3h 34m       |</pre>"
      ],
      "text/plain": [
       "| 22574        | 1.6e+09 | 31.1177     | 3h 34m       |"
      ]
     },
     "metadata": {},
     "output_type": "display_data"
    },
    {
     "data": {
      "text/html": [
       "<pre>| 22650        | 1.6e+09 | 31.2224     | 3h 34m       |</pre>"
      ],
      "text/plain": [
       "| 22650        | 1.6e+09 | 31.2224     | 3h 34m       |"
      ]
     },
     "metadata": {},
     "output_type": "display_data"
    },
    {
     "data": {
      "text/html": [
       "<pre>| 22726        | 1.6e+09 | 31.3272     | 3h 34m       |</pre>"
      ],
      "text/plain": [
       "| 22726        | 1.6e+09 | 31.3272     | 3h 34m       |"
      ]
     },
     "metadata": {},
     "output_type": "display_data"
    },
    {
     "data": {
      "text/html": [
       "<pre>| 22804        | 1.7e+09 | 31.4347     | 3h 34m       |</pre>"
      ],
      "text/plain": [
       "| 22804        | 1.7e+09 | 31.4347     | 3h 34m       |"
      ]
     },
     "metadata": {},
     "output_type": "display_data"
    },
    {
     "data": {
      "text/html": [
       "<pre>| 22882        | 1.7e+09 | 31.5422     | 3h 34m       |</pre>"
      ],
      "text/plain": [
       "| 22882        | 1.7e+09 | 31.5422     | 3h 34m       |"
      ]
     },
     "metadata": {},
     "output_type": "display_data"
    },
    {
     "data": {
      "text/html": [
       "<pre>| 22934        | 1.7e+09 | 31.6139     | 3h 34m       |</pre>"
      ],
      "text/plain": [
       "| 22934        | 1.7e+09 | 31.6139     | 3h 34m       |"
      ]
     },
     "metadata": {},
     "output_type": "display_data"
    },
    {
     "data": {
      "text/html": [
       "<pre>| 22997        | 1.7e+09 | 31.7008     | 3h 34m       |</pre>"
      ],
      "text/plain": [
       "| 22997        | 1.7e+09 | 31.7008     | 3h 34m       |"
      ]
     },
     "metadata": {},
     "output_type": "display_data"
    },
    {
     "data": {
      "text/html": [
       "<pre>| 23067        | 1.7e+09 | 31.7973     | 3h 34m       |</pre>"
      ],
      "text/plain": [
       "| 23067        | 1.7e+09 | 31.7973     | 3h 34m       |"
      ]
     },
     "metadata": {},
     "output_type": "display_data"
    },
    {
     "data": {
      "text/html": [
       "<pre>| 23149        | 1.7e+09 | 31.9103     | 3h 34m       |</pre>"
      ],
      "text/plain": [
       "| 23149        | 1.7e+09 | 31.9103     | 3h 34m       |"
      ]
     },
     "metadata": {},
     "output_type": "display_data"
    },
    {
     "data": {
      "text/html": [
       "<pre>| 23222        | 1.7e+09 | 32.0109     | 3h 34m       |</pre>"
      ],
      "text/plain": [
       "| 23222        | 1.7e+09 | 32.0109     | 3h 34m       |"
      ]
     },
     "metadata": {},
     "output_type": "display_data"
    },
    {
     "data": {
      "text/html": [
       "<pre>| 23280        | 1.7e+09 | 32.0909     | 3h 34m       |</pre>"
      ],
      "text/plain": [
       "| 23280        | 1.7e+09 | 32.0909     | 3h 34m       |"
      ]
     },
     "metadata": {},
     "output_type": "display_data"
    },
    {
     "data": {
      "text/html": [
       "<pre>| 23350        | 1.7e+09 | 32.1874     | 3h 34m       |</pre>"
      ],
      "text/plain": [
       "| 23350        | 1.7e+09 | 32.1874     | 3h 34m       |"
      ]
     },
     "metadata": {},
     "output_type": "display_data"
    },
    {
     "data": {
      "text/html": [
       "<pre>| 23416        | 1.7e+09 | 32.2783     | 3h 34m       |</pre>"
      ],
      "text/plain": [
       "| 23416        | 1.7e+09 | 32.2783     | 3h 34m       |"
      ]
     },
     "metadata": {},
     "output_type": "display_data"
    },
    {
     "data": {
      "text/html": [
       "<pre>| 23493        | 1.7e+09 | 32.3845     | 3h 34m       |</pre>"
      ],
      "text/plain": [
       "| 23493        | 1.7e+09 | 32.3845     | 3h 34m       |"
      ]
     },
     "metadata": {},
     "output_type": "display_data"
    },
    {
     "data": {
      "text/html": [
       "<pre>| 23570        | 1.7e+09 | 32.4906     | 3h 34m       |</pre>"
      ],
      "text/plain": [
       "| 23570        | 1.7e+09 | 32.4906     | 3h 34m       |"
      ]
     },
     "metadata": {},
     "output_type": "display_data"
    },
    {
     "data": {
      "text/html": [
       "<pre>| 23650        | 1.7e+09 | 32.6009     | 3h 34m       |</pre>"
      ],
      "text/plain": [
       "| 23650        | 1.7e+09 | 32.6009     | 3h 34m       |"
      ]
     },
     "metadata": {},
     "output_type": "display_data"
    },
    {
     "data": {
      "text/html": [
       "<pre>| 23731        | 1.7e+09 | 32.7126     | 3h 34m       |</pre>"
      ],
      "text/plain": [
       "| 23731        | 1.7e+09 | 32.7126     | 3h 34m       |"
      ]
     },
     "metadata": {},
     "output_type": "display_data"
    },
    {
     "data": {
      "text/html": [
       "<pre>| 23810        | 1.7e+09 | 32.8215     | 3h 34m       |</pre>"
      ],
      "text/plain": [
       "| 23810        | 1.7e+09 | 32.8215     | 3h 34m       |"
      ]
     },
     "metadata": {},
     "output_type": "display_data"
    },
    {
     "data": {
      "text/html": [
       "<pre>| 23881        | 1.7e+09 | 32.9193     | 3h 34m       |</pre>"
      ],
      "text/plain": [
       "| 23881        | 1.7e+09 | 32.9193     | 3h 34m       |"
      ]
     },
     "metadata": {},
     "output_type": "display_data"
    },
    {
     "data": {
      "text/html": [
       "<pre>| 23958        | 1.7e+09 | 33.0255     | 3h 35m       |</pre>"
      ],
      "text/plain": [
       "| 23958        | 1.7e+09 | 33.0255     | 3h 35m       |"
      ]
     },
     "metadata": {},
     "output_type": "display_data"
    },
    {
     "data": {
      "text/html": [
       "<pre>| 24028        | 1.7e+09 | 33.122      | 3h 35m       |</pre>"
      ],
      "text/plain": [
       "| 24028        | 1.7e+09 | 33.122      | 3h 35m       |"
      ]
     },
     "metadata": {},
     "output_type": "display_data"
    },
    {
     "data": {
      "text/html": [
       "<pre>| 24098        | 1.7e+09 | 33.2185     | 3h 35m       |</pre>"
      ],
      "text/plain": [
       "| 24098        | 1.7e+09 | 33.2185     | 3h 35m       |"
      ]
     },
     "metadata": {},
     "output_type": "display_data"
    },
    {
     "data": {
      "text/html": [
       "<pre>| 24177        | 1.8e+09 | 33.3274     | 3h 35m       |</pre>"
      ],
      "text/plain": [
       "| 24177        | 1.8e+09 | 33.3274     | 3h 35m       |"
      ]
     },
     "metadata": {},
     "output_type": "display_data"
    },
    {
     "data": {
      "text/html": [
       "<pre>| 24246        | 1.8e+09 | 33.4225     | 3h 35m       |</pre>"
      ],
      "text/plain": [
       "| 24246        | 1.8e+09 | 33.4225     | 3h 35m       |"
      ]
     },
     "metadata": {},
     "output_type": "display_data"
    },
    {
     "data": {
      "text/html": [
       "<pre>| 24313        | 1.8e+09 | 33.5148     | 3h 35m       |</pre>"
      ],
      "text/plain": [
       "| 24313        | 1.8e+09 | 33.5148     | 3h 35m       |"
      ]
     },
     "metadata": {},
     "output_type": "display_data"
    },
    {
     "data": {
      "text/html": [
       "<pre>| 24372        | 1.8e+09 | 33.5962     | 3h 35m       |</pre>"
      ],
      "text/plain": [
       "| 24372        | 1.8e+09 | 33.5962     | 3h 35m       |"
      ]
     },
     "metadata": {},
     "output_type": "display_data"
    },
    {
     "data": {
      "text/html": [
       "<pre>| 24451        | 1.8e+09 | 33.7051     | 3h 35m       |</pre>"
      ],
      "text/plain": [
       "| 24451        | 1.8e+09 | 33.7051     | 3h 35m       |"
      ]
     },
     "metadata": {},
     "output_type": "display_data"
    },
    {
     "data": {
      "text/html": [
       "<pre>| 24522        | 1.8e+09 | 33.8029     | 3h 35m       |</pre>"
      ],
      "text/plain": [
       "| 24522        | 1.8e+09 | 33.8029     | 3h 35m       |"
      ]
     },
     "metadata": {},
     "output_type": "display_data"
    },
    {
     "data": {
      "text/html": [
       "<pre>| 24579        | 1.8e+09 | 33.8815     | 3h 35m       |</pre>"
      ],
      "text/plain": [
       "| 24579        | 1.8e+09 | 33.8815     | 3h 35m       |"
      ]
     },
     "metadata": {},
     "output_type": "display_data"
    },
    {
     "data": {
      "text/html": [
       "<pre>| 24640        | 1.8e+09 | 33.9656     | 3h 35m       |</pre>"
      ],
      "text/plain": [
       "| 24640        | 1.8e+09 | 33.9656     | 3h 35m       |"
      ]
     },
     "metadata": {},
     "output_type": "display_data"
    },
    {
     "data": {
      "text/html": [
       "<pre>| 24715        | 1.8e+09 | 34.069      | 3h 35m       |</pre>"
      ],
      "text/plain": [
       "| 24715        | 1.8e+09 | 34.069      | 3h 35m       |"
      ]
     },
     "metadata": {},
     "output_type": "display_data"
    },
    {
     "data": {
      "text/html": [
       "<pre>| 24796        | 1.8e+09 | 34.1806     | 3h 35m       |</pre>"
      ],
      "text/plain": [
       "| 24796        | 1.8e+09 | 34.1806     | 3h 35m       |"
      ]
     },
     "metadata": {},
     "output_type": "display_data"
    },
    {
     "data": {
      "text/html": [
       "<pre>| 24864        | 1.8e+09 | 34.2744     | 3h 35m       |</pre>"
      ],
      "text/plain": [
       "| 24864        | 1.8e+09 | 34.2744     | 3h 35m       |"
      ]
     },
     "metadata": {},
     "output_type": "display_data"
    },
    {
     "data": {
      "text/html": [
       "<pre>| 24913        | 1.8e+09 | 34.3419     | 3h 35m       |</pre>"
      ],
      "text/plain": [
       "| 24913        | 1.8e+09 | 34.3419     | 3h 35m       |"
      ]
     },
     "metadata": {},
     "output_type": "display_data"
    },
    {
     "data": {
      "text/html": [
       "<pre>| 24981        | 1.8e+09 | 34.4357     | 3h 35m       |</pre>"
      ],
      "text/plain": [
       "| 24981        | 1.8e+09 | 34.4357     | 3h 35m       |"
      ]
     },
     "metadata": {},
     "output_type": "display_data"
    },
    {
     "data": {
      "text/html": [
       "<pre>| 25046        | 1.8e+09 | 34.5253     | 3h 35m       |</pre>"
      ],
      "text/plain": [
       "| 25046        | 1.8e+09 | 34.5253     | 3h 35m       |"
      ]
     },
     "metadata": {},
     "output_type": "display_data"
    },
    {
     "data": {
      "text/html": [
       "<pre>| 25112        | 1.8e+09 | 34.6162     | 3h 35m       |</pre>"
      ],
      "text/plain": [
       "| 25112        | 1.8e+09 | 34.6162     | 3h 35m       |"
      ]
     },
     "metadata": {},
     "output_type": "display_data"
    },
    {
     "data": {
      "text/html": [
       "<pre>| 25190        | 1.8e+09 | 34.7238     | 3h 35m       |</pre>"
      ],
      "text/plain": [
       "| 25190        | 1.8e+09 | 34.7238     | 3h 35m       |"
      ]
     },
     "metadata": {},
     "output_type": "display_data"
    },
    {
     "data": {
      "text/html": [
       "<pre>| 25270        | 1.8e+09 | 34.834      | 3h 35m       |</pre>"
      ],
      "text/plain": [
       "| 25270        | 1.8e+09 | 34.834      | 3h 35m       |"
      ]
     },
     "metadata": {},
     "output_type": "display_data"
    },
    {
     "data": {
      "text/html": [
       "<pre>| 25351        | 1.8e+09 | 34.9457     | 3h 36m       |</pre>"
      ],
      "text/plain": [
       "| 25351        | 1.8e+09 | 34.9457     | 3h 36m       |"
      ]
     },
     "metadata": {},
     "output_type": "display_data"
    },
    {
     "data": {
      "text/html": [
       "<pre>| 25432        | 1.8e+09 | 35.0573     | 3h 36m       |</pre>"
      ],
      "text/plain": [
       "| 25432        | 1.8e+09 | 35.0573     | 3h 36m       |"
      ]
     },
     "metadata": {},
     "output_type": "display_data"
    },
    {
     "data": {
      "text/html": [
       "<pre>| 25504        | 1.9e+09 | 35.1566     | 3h 36m       |</pre>"
      ],
      "text/plain": [
       "| 25504        | 1.9e+09 | 35.1566     | 3h 36m       |"
      ]
     },
     "metadata": {},
     "output_type": "display_data"
    },
    {
     "data": {
      "text/html": [
       "<pre>| 25580        | 1.9e+09 | 35.2614     | 3h 36m       |</pre>"
      ],
      "text/plain": [
       "| 25580        | 1.9e+09 | 35.2614     | 3h 36m       |"
      ]
     },
     "metadata": {},
     "output_type": "display_data"
    },
    {
     "data": {
      "text/html": [
       "<pre>| 25653        | 1.9e+09 | 35.362      | 3h 36m       |</pre>"
      ],
      "text/plain": [
       "| 25653        | 1.9e+09 | 35.362      | 3h 36m       |"
      ]
     },
     "metadata": {},
     "output_type": "display_data"
    },
    {
     "data": {
      "text/html": [
       "<pre>| 25716        | 1.9e+09 | 35.4488     | 3h 36m       |</pre>"
      ],
      "text/plain": [
       "| 25716        | 1.9e+09 | 35.4488     | 3h 36m       |"
      ]
     },
     "metadata": {},
     "output_type": "display_data"
    },
    {
     "data": {
      "text/html": [
       "<pre>| 25772        | 1.9e+09 | 35.526      | 3h 36m       |</pre>"
      ],
      "text/plain": [
       "| 25772        | 1.9e+09 | 35.526      | 3h 36m       |"
      ]
     },
     "metadata": {},
     "output_type": "display_data"
    },
    {
     "data": {
      "text/html": [
       "<pre>| 25828        | 1.9e+09 | 35.6032     | 3h 36m       |</pre>"
      ],
      "text/plain": [
       "| 25828        | 1.9e+09 | 35.6032     | 3h 36m       |"
      ]
     },
     "metadata": {},
     "output_type": "display_data"
    },
    {
     "data": {
      "text/html": [
       "<pre>| 25894        | 1.9e+09 | 35.6942     | 3h 36m       |</pre>"
      ],
      "text/plain": [
       "| 25894        | 1.9e+09 | 35.6942     | 3h 36m       |"
      ]
     },
     "metadata": {},
     "output_type": "display_data"
    },
    {
     "data": {
      "text/html": [
       "<pre>| 25968        | 1.9e+09 | 35.7962     | 3h 36m       |</pre>"
      ],
      "text/plain": [
       "| 25968        | 1.9e+09 | 35.7962     | 3h 36m       |"
      ]
     },
     "metadata": {},
     "output_type": "display_data"
    },
    {
     "data": {
      "text/html": [
       "<pre>| 26047        | 1.9e+09 | 35.9051     | 3h 36m       |</pre>"
      ],
      "text/plain": [
       "| 26047        | 1.9e+09 | 35.9051     | 3h 36m       |"
      ]
     },
     "metadata": {},
     "output_type": "display_data"
    },
    {
     "data": {
      "text/html": [
       "<pre>| 26121        | 1.9e+09 | 36.0071     | 3h 36m       |</pre>"
      ],
      "text/plain": [
       "| 26121        | 1.9e+09 | 36.0071     | 3h 36m       |"
      ]
     },
     "metadata": {},
     "output_type": "display_data"
    },
    {
     "data": {
      "text/html": [
       "<pre>| 26189        |         | 36.1008     | 3h 36m       |</pre>"
      ],
      "text/plain": [
       "| 26189        |         | 36.1008     | 3h 36m       |"
      ]
     },
     "metadata": {},
     "output_type": "display_data"
    },
    {
     "data": {
      "text/html": [
       "<pre>| 26261        | 1.9e+09 | 36.2001     | 3h 36m       |</pre>"
      ],
      "text/plain": [
       "| 26261        | 1.9e+09 | 36.2001     | 3h 36m       |"
      ]
     },
     "metadata": {},
     "output_type": "display_data"
    },
    {
     "data": {
      "text/html": [
       "<pre>| 26316        | 1.9e+09 | 36.2759     | 3h 36m       |</pre>"
      ],
      "text/plain": [
       "| 26316        | 1.9e+09 | 36.2759     | 3h 36m       |"
      ]
     },
     "metadata": {},
     "output_type": "display_data"
    },
    {
     "data": {
      "text/html": [
       "<pre>| 26372        | 1.9e+09 | 36.3531     | 3h 36m       |</pre>"
      ],
      "text/plain": [
       "| 26372        | 1.9e+09 | 36.3531     | 3h 36m       |"
      ]
     },
     "metadata": {},
     "output_type": "display_data"
    },
    {
     "data": {
      "text/html": [
       "<pre>| 26438        | 1.9e+09 | 36.4441     | 3h 36m       |</pre>"
      ],
      "text/plain": [
       "| 26438        | 1.9e+09 | 36.4441     | 3h 36m       |"
      ]
     },
     "metadata": {},
     "output_type": "display_data"
    },
    {
     "data": {
      "text/html": [
       "<pre>| 26498        | 1.9e+09 | 36.5268     | 3h 36m       |</pre>"
      ],
      "text/plain": [
       "| 26498        | 1.9e+09 | 36.5268     | 3h 36m       |"
      ]
     },
     "metadata": {},
     "output_type": "display_data"
    },
    {
     "data": {
      "text/html": [
       "<pre>| 26550        | 1.9e+09 | 36.5985     | 3h 36m       |</pre>"
      ],
      "text/plain": [
       "| 26550        | 1.9e+09 | 36.5985     | 3h 36m       |"
      ]
     },
     "metadata": {},
     "output_type": "display_data"
    },
    {
     "data": {
      "text/html": [
       "<pre>| 26610        | 1.9e+09 | 36.6812     | 3h 36m       |</pre>"
      ],
      "text/plain": [
       "| 26610        | 1.9e+09 | 36.6812     | 3h 36m       |"
      ]
     },
     "metadata": {},
     "output_type": "display_data"
    },
    {
     "data": {
      "text/html": [
       "<pre>| 26655        | 1.9e+09 | 36.7432     | 3h 37m       |</pre>"
      ],
      "text/plain": [
       "| 26655        | 1.9e+09 | 36.7432     | 3h 37m       |"
      ]
     },
     "metadata": {},
     "output_type": "display_data"
    },
    {
     "data": {
      "text/html": [
       "<pre>| 26697        | 1.9e+09 | 36.8011     | 3h 37m       |</pre>"
      ],
      "text/plain": [
       "| 26697        | 1.9e+09 | 36.8011     | 3h 37m       |"
      ]
     },
     "metadata": {},
     "output_type": "display_data"
    },
    {
     "data": {
      "text/html": [
       "<pre>| 26754        | 1.9e+09 | 36.8797     | 3h 37m       |</pre>"
      ],
      "text/plain": [
       "| 26754        | 1.9e+09 | 36.8797     | 3h 37m       |"
      ]
     },
     "metadata": {},
     "output_type": "display_data"
    },
    {
     "data": {
      "text/html": [
       "<pre>| 26807        | 1.9e+09 | 36.9527     | 3h 37m       |</pre>"
      ],
      "text/plain": [
       "| 26807        | 1.9e+09 | 36.9527     | 3h 37m       |"
      ]
     },
     "metadata": {},
     "output_type": "display_data"
    },
    {
     "data": {
      "text/html": [
       "<pre>| 26872        | 1.9e+09 | 37.0423     | 3h 37m       |</pre>"
      ],
      "text/plain": [
       "| 26872        | 1.9e+09 | 37.0423     | 3h 37m       |"
      ]
     },
     "metadata": {},
     "output_type": "display_data"
    },
    {
     "data": {
      "text/html": [
       "<pre>| 26947        | 2e+09   | 37.1457     | 3h 37m       |</pre>"
      ],
      "text/plain": [
       "| 26947        | 2e+09   | 37.1457     | 3h 37m       |"
      ]
     },
     "metadata": {},
     "output_type": "display_data"
    },
    {
     "data": {
      "text/html": [
       "<pre>| 27025        | 2e+09   | 37.2533     | 3h 37m       |</pre>"
      ],
      "text/plain": [
       "| 27025        | 2e+09   | 37.2533     | 3h 37m       |"
      ]
     },
     "metadata": {},
     "output_type": "display_data"
    },
    {
     "data": {
      "text/html": [
       "<pre>| 27096        | 2e+09   | 37.3511     | 3h 37m       |</pre>"
      ],
      "text/plain": [
       "| 27096        | 2e+09   | 37.3511     | 3h 37m       |"
      ]
     },
     "metadata": {},
     "output_type": "display_data"
    },
    {
     "data": {
      "text/html": [
       "<pre>| 27164        | 2e+09   | 37.4449     | 3h 37m       |</pre>"
      ],
      "text/plain": [
       "| 27164        | 2e+09   | 37.4449     | 3h 37m       |"
      ]
     },
     "metadata": {},
     "output_type": "display_data"
    },
    {
     "data": {
      "text/html": [
       "<pre>| 27228        | 2e+09   | 37.5331     | 3h 37m       |</pre>"
      ],
      "text/plain": [
       "| 27228        | 2e+09   | 37.5331     | 3h 37m       |"
      ]
     },
     "metadata": {},
     "output_type": "display_data"
    },
    {
     "data": {
      "text/html": [
       "<pre>| 27302        | 2e+09   | 37.6351     | 3h 37m       |</pre>"
      ],
      "text/plain": [
       "| 27302        | 2e+09   | 37.6351     | 3h 37m       |"
      ]
     },
     "metadata": {},
     "output_type": "display_data"
    },
    {
     "data": {
      "text/html": [
       "<pre>| 27362        | 2e+09   | 37.7178     | 3h 37m       |</pre>"
      ],
      "text/plain": [
       "| 27362        | 2e+09   | 37.7178     | 3h 37m       |"
      ]
     },
     "metadata": {},
     "output_type": "display_data"
    },
    {
     "data": {
      "text/html": [
       "<pre>| 27430        | 2e+09   | 37.8115     | 3h 37m       |</pre>"
      ],
      "text/plain": [
       "| 27430        | 2e+09   | 37.8115     | 3h 37m       |"
      ]
     },
     "metadata": {},
     "output_type": "display_data"
    },
    {
     "data": {
      "text/html": [
       "<pre>| 27501        | 2e+09   | 37.9094     | 3h 37m       |</pre>"
      ],
      "text/plain": [
       "| 27501        | 2e+09   | 37.9094     | 3h 37m       |"
      ]
     },
     "metadata": {},
     "output_type": "display_data"
    },
    {
     "data": {
      "text/html": [
       "<pre>| 27545        | 2e+09   | 37.9701     | 3h 37m       |</pre>"
      ],
      "text/plain": [
       "| 27545        | 2e+09   | 37.9701     | 3h 37m       |"
      ]
     },
     "metadata": {},
     "output_type": "display_data"
    },
    {
     "data": {
      "text/html": [
       "<pre>| 27597        | 2e+09   | 38.0417     | 3h 37m       |</pre>"
      ],
      "text/plain": [
       "| 27597        | 2e+09   | 38.0417     | 3h 37m       |"
      ]
     },
     "metadata": {},
     "output_type": "display_data"
    },
    {
     "data": {
      "text/html": [
       "<pre>| 27678        | 2e+09   | 38.1534     | 3h 37m       |</pre>"
      ],
      "text/plain": [
       "| 27678        | 2e+09   | 38.1534     | 3h 37m       |"
      ]
     },
     "metadata": {},
     "output_type": "display_data"
    },
    {
     "data": {
      "text/html": [
       "<pre>| 27752        | 2e+09   | 38.2554     | 3h 37m       |</pre>"
      ],
      "text/plain": [
       "| 27752        | 2e+09   | 38.2554     | 3h 37m       |"
      ]
     },
     "metadata": {},
     "output_type": "display_data"
    },
    {
     "data": {
      "text/html": [
       "<pre>| 27802        | 2e+09   | 38.3243     | 3h 37m       |</pre>"
      ],
      "text/plain": [
       "| 27802        | 2e+09   | 38.3243     | 3h 37m       |"
      ]
     },
     "metadata": {},
     "output_type": "display_data"
    },
    {
     "data": {
      "text/html": [
       "<pre>| 27852        | 2e+09   | 38.3933     | 3h 37m       |</pre>"
      ],
      "text/plain": [
       "| 27852        | 2e+09   | 38.3933     | 3h 37m       |"
      ]
     },
     "metadata": {},
     "output_type": "display_data"
    },
    {
     "data": {
      "text/html": [
       "<pre>| 27899        | 2e+09   | 38.458      | 3h 38m       |</pre>"
      ],
      "text/plain": [
       "| 27899        | 2e+09   | 38.458      | 3h 38m       |"
      ]
     },
     "metadata": {},
     "output_type": "display_data"
    },
    {
     "data": {
      "text/html": [
       "<pre>| 27966        | 2e+09   | 38.5504     | 3h 38m       |</pre>"
      ],
      "text/plain": [
       "| 27966        | 2e+09   | 38.5504     | 3h 38m       |"
      ]
     },
     "metadata": {},
     "output_type": "display_data"
    },
    {
     "data": {
      "text/html": [
       "<pre>| 28044        | 2e+09   | 38.6579     | 3h 38m       |</pre>"
      ],
      "text/plain": [
       "| 28044        | 2e+09   | 38.6579     | 3h 38m       |"
      ]
     },
     "metadata": {},
     "output_type": "display_data"
    },
    {
     "data": {
      "text/html": [
       "<pre>| 28124        | 2e+09   | 38.7682     | 3h 38m       |</pre>"
      ],
      "text/plain": [
       "| 28124        | 2e+09   | 38.7682     | 3h 38m       |"
      ]
     },
     "metadata": {},
     "output_type": "display_data"
    },
    {
     "data": {
      "text/html": [
       "<pre>| 28184        | 2e+09   | 38.8509     | 3h 38m       |</pre>"
      ],
      "text/plain": [
       "| 28184        | 2e+09   | 38.8509     | 3h 38m       |"
      ]
     },
     "metadata": {},
     "output_type": "display_data"
    },
    {
     "data": {
      "text/html": [
       "<pre>| 28227        | 2e+09   | 38.9102     | 3h 38m       |</pre>"
      ],
      "text/plain": [
       "| 28227        | 2e+09   | 38.9102     | 3h 38m       |"
      ]
     },
     "metadata": {},
     "output_type": "display_data"
    },
    {
     "data": {
      "text/html": [
       "<pre>| 28280        | 2.1e+09 | 38.9832     | 3h 38m       |</pre>"
      ],
      "text/plain": [
       "| 28280        | 2.1e+09 | 38.9832     | 3h 38m       |"
      ]
     },
     "metadata": {},
     "output_type": "display_data"
    },
    {
     "data": {
      "text/html": [
       "<pre>| 28332        | 2.1e+09 | 39.0549     | 3h 38m       |</pre>"
      ],
      "text/plain": [
       "| 28332        | 2.1e+09 | 39.0549     | 3h 38m       |"
      ]
     },
     "metadata": {},
     "output_type": "display_data"
    },
    {
     "data": {
      "text/html": [
       "<pre>| 28413        | 2.1e+09 | 39.1666     | 3h 38m       |</pre>"
      ],
      "text/plain": [
       "| 28413        | 2.1e+09 | 39.1666     | 3h 38m       |"
      ]
     },
     "metadata": {},
     "output_type": "display_data"
    },
    {
     "data": {
      "text/html": [
       "<pre>| 28493        | 2.1e+09 | 39.2769     | 3h 38m       |</pre>"
      ],
      "text/plain": [
       "| 28493        | 2.1e+09 | 39.2769     | 3h 38m       |"
      ]
     },
     "metadata": {},
     "output_type": "display_data"
    },
    {
     "data": {
      "text/html": [
       "<pre>| 28561        | 2.1e+09 | 39.3706     | 3h 38m       |</pre>"
      ],
      "text/plain": [
       "| 28561        | 2.1e+09 | 39.3706     | 3h 38m       |"
      ]
     },
     "metadata": {},
     "output_type": "display_data"
    },
    {
     "data": {
      "text/html": [
       "<pre>| 28637        | 2.1e+09 | 39.4754     | 3h 38m       |</pre>"
      ],
      "text/plain": [
       "| 28637        | 2.1e+09 | 39.4754     | 3h 38m       |"
      ]
     },
     "metadata": {},
     "output_type": "display_data"
    },
    {
     "data": {
      "text/html": [
       "<pre>| 28718        | 2.1e+09 | 39.587      | 3h 38m       |</pre>"
      ],
      "text/plain": [
       "| 28718        | 2.1e+09 | 39.587      | 3h 38m       |"
      ]
     },
     "metadata": {},
     "output_type": "display_data"
    },
    {
     "data": {
      "text/html": [
       "<pre>| 28798        | 2.1e+09 | 39.6973     | 3h 38m       |</pre>"
      ],
      "text/plain": [
       "| 28798        | 2.1e+09 | 39.6973     | 3h 38m       |"
      ]
     },
     "metadata": {},
     "output_type": "display_data"
    },
    {
     "data": {
      "text/html": [
       "<pre>| 28862        | 2.1e+09 | 39.7855     | 3h 38m       |</pre>"
      ],
      "text/plain": [
       "| 28862        | 2.1e+09 | 39.7855     | 3h 38m       |"
      ]
     },
     "metadata": {},
     "output_type": "display_data"
    },
    {
     "data": {
      "text/html": [
       "<pre>| 28915        | 2.1e+09 | 39.8586     | 3h 38m       |</pre>"
      ],
      "text/plain": [
       "| 28915        | 2.1e+09 | 39.8586     | 3h 38m       |"
      ]
     },
     "metadata": {},
     "output_type": "display_data"
    },
    {
     "data": {
      "text/html": [
       "<pre>| 28972        | 2.1e+09 | 39.9371     | 3h 38m       |</pre>"
      ],
      "text/plain": [
       "| 28972        | 2.1e+09 | 39.9371     | 3h 38m       |"
      ]
     },
     "metadata": {},
     "output_type": "display_data"
    },
    {
     "data": {
      "text/html": [
       "<pre>| 29045        | 2.1e+09 | 40.0378     | 3h 38m       |</pre>"
      ],
      "text/plain": [
       "| 29045        | 2.1e+09 | 40.0378     | 3h 38m       |"
      ]
     },
     "metadata": {},
     "output_type": "display_data"
    },
    {
     "data": {
      "text/html": [
       "<pre>| 29126        | 2.1e+09 | 40.1494     | 3h 38m       |</pre>"
      ],
      "text/plain": [
       "| 29126        | 2.1e+09 | 40.1494     | 3h 38m       |"
      ]
     },
     "metadata": {},
     "output_type": "display_data"
    },
    {
     "data": {
      "text/html": [
       "<pre>| 29205        | 2.1e+09 | 40.2583     | 3h 38m       |</pre>"
      ],
      "text/plain": [
       "| 29205        | 2.1e+09 | 40.2583     | 3h 38m       |"
      ]
     },
     "metadata": {},
     "output_type": "display_data"
    },
    {
     "data": {
      "text/html": [
       "<pre>| 29283        | 2.1e+09 | 40.3658     | 3h 39m       |</pre>"
      ],
      "text/plain": [
       "| 29283        | 2.1e+09 | 40.3658     | 3h 39m       |"
      ]
     },
     "metadata": {},
     "output_type": "display_data"
    },
    {
     "data": {
      "text/html": [
       "<pre>| 29363        | 2.1e+09 | 40.4761     | 3h 39m       |</pre>"
      ],
      "text/plain": [
       "| 29363        | 2.1e+09 | 40.4761     | 3h 39m       |"
      ]
     },
     "metadata": {},
     "output_type": "display_data"
    },
    {
     "data": {
      "text/html": [
       "<pre>| 29444        | 2.1e+09 | 40.5878     | 3h 39m       |</pre>"
      ],
      "text/plain": [
       "| 29444        | 2.1e+09 | 40.5878     | 3h 39m       |"
      ]
     },
     "metadata": {},
     "output_type": "display_data"
    },
    {
     "data": {
      "text/html": [
       "<pre>| 29524        | 2.1e+09 | 40.6981     | 3h 39m       |</pre>"
      ],
      "text/plain": [
       "| 29524        | 2.1e+09 | 40.6981     | 3h 39m       |"
      ]
     },
     "metadata": {},
     "output_type": "display_data"
    },
    {
     "data": {
      "text/html": [
       "<pre>| 29607        | 2.1e+09 | 40.8125     | 3h 39m       |</pre>"
      ],
      "text/plain": [
       "| 29607        | 2.1e+09 | 40.8125     | 3h 39m       |"
      ]
     },
     "metadata": {},
     "output_type": "display_data"
    },
    {
     "data": {
      "text/html": [
       "<pre>| 29683        | 2.2e+09 | 40.9172     | 3h 39m       |</pre>"
      ],
      "text/plain": [
       "| 29683        | 2.2e+09 | 40.9172     | 3h 39m       |"
      ]
     },
     "metadata": {},
     "output_type": "display_data"
    },
    {
     "data": {
      "text/html": [
       "<pre>| 29752        | 2.2e+09 | 41.0124     | 3h 39m       |</pre>"
      ],
      "text/plain": [
       "| 29752        | 2.2e+09 | 41.0124     | 3h 39m       |"
      ]
     },
     "metadata": {},
     "output_type": "display_data"
    },
    {
     "data": {
      "text/html": [
       "<pre>| 29830        | 2.2e+09 | 41.1199     | 3h 39m       |</pre>"
      ],
      "text/plain": [
       "| 29830        | 2.2e+09 | 41.1199     | 3h 39m       |"
      ]
     },
     "metadata": {},
     "output_type": "display_data"
    },
    {
     "data": {
      "text/html": [
       "<pre>| 29912        | 2.2e+09 | 41.2329     | 3h 39m       |</pre>"
      ],
      "text/plain": [
       "| 29912        | 2.2e+09 | 41.2329     | 3h 39m       |"
      ]
     },
     "metadata": {},
     "output_type": "display_data"
    },
    {
     "data": {
      "text/html": [
       "<pre>| 29992        | 2.2e+09 | 41.3432     | 3h 39m       |</pre>"
      ],
      "text/plain": [
       "| 29992        | 2.2e+09 | 41.3432     | 3h 39m       |"
      ]
     },
     "metadata": {},
     "output_type": "display_data"
    },
    {
     "data": {
      "text/html": [
       "<pre>| 30063        | 2.2e+09 | 41.4411     | 3h 39m       |</pre>"
      ],
      "text/plain": [
       "| 30063        | 2.2e+09 | 41.4411     | 3h 39m       |"
      ]
     },
     "metadata": {},
     "output_type": "display_data"
    },
    {
     "data": {
      "text/html": [
       "<pre>| 30143        | 2.2e+09 | 41.5513     | 3h 39m       |</pre>"
      ],
      "text/plain": [
       "| 30143        | 2.2e+09 | 41.5513     | 3h 39m       |"
      ]
     },
     "metadata": {},
     "output_type": "display_data"
    },
    {
     "data": {
      "text/html": [
       "<pre>| 30224        | 2.2e+09 | 41.663      | 3h 39m       |</pre>"
      ],
      "text/plain": [
       "| 30224        | 2.2e+09 | 41.663      | 3h 39m       |"
      ]
     },
     "metadata": {},
     "output_type": "display_data"
    },
    {
     "data": {
      "text/html": [
       "<pre>| 30303        | 2.2e+09 | 41.7719     | 3h 39m       |</pre>"
      ],
      "text/plain": [
       "| 30303        | 2.2e+09 | 41.7719     | 3h 39m       |"
      ]
     },
     "metadata": {},
     "output_type": "display_data"
    },
    {
     "data": {
      "text/html": [
       "<pre>| 30382        | 2.2e+09 | 41.8808     | 3h 39m       |</pre>"
      ],
      "text/plain": [
       "| 30382        | 2.2e+09 | 41.8808     | 3h 39m       |"
      ]
     },
     "metadata": {},
     "output_type": "display_data"
    },
    {
     "data": {
      "text/html": [
       "<pre>| 30460        | 2.2e+09 | 41.9883     | 3h 39m       |</pre>"
      ],
      "text/plain": [
       "| 30460        | 2.2e+09 | 41.9883     | 3h 39m       |"
      ]
     },
     "metadata": {},
     "output_type": "display_data"
    },
    {
     "data": {
      "text/html": [
       "<pre>| 30534        | 2.2e+09 | 42.0903     | 3h 39m       |</pre>"
      ],
      "text/plain": [
       "| 30534        | 2.2e+09 | 42.0903     | 3h 39m       |"
      ]
     },
     "metadata": {},
     "output_type": "display_data"
    },
    {
     "data": {
      "text/html": [
       "<pre>| 30592        | 2.2e+09 | 42.1703     | 3h 39m       |</pre>"
      ],
      "text/plain": [
       "| 30592        | 2.2e+09 | 42.1703     | 3h 39m       |"
      ]
     },
     "metadata": {},
     "output_type": "display_data"
    },
    {
     "data": {
      "text/html": [
       "<pre>| 30673        | 2.2e+09 | 42.2819     | 3h 39m       |</pre>"
      ],
      "text/plain": [
       "| 30673        | 2.2e+09 | 42.2819     | 3h 39m       |"
      ]
     },
     "metadata": {},
     "output_type": "display_data"
    },
    {
     "data": {
      "text/html": [
       "<pre>| 30752        | 2.2e+09 | 42.3908     | 3h 39m       |</pre>"
      ],
      "text/plain": [
       "| 30752        | 2.2e+09 | 42.3908     | 3h 39m       |"
      ]
     },
     "metadata": {},
     "output_type": "display_data"
    },
    {
     "data": {
      "text/html": [
       "<pre>| 30821        | 2.2e+09 | 42.4859     | 3h 40m       |</pre>"
      ],
      "text/plain": [
       "| 30821        | 2.2e+09 | 42.4859     | 3h 40m       |"
      ]
     },
     "metadata": {},
     "output_type": "display_data"
    },
    {
     "data": {
      "text/html": [
       "<pre>| 30901        | 2.2e+09 | 42.5962     | 3h 40m       |</pre>"
      ],
      "text/plain": [
       "| 30901        | 2.2e+09 | 42.5962     | 3h 40m       |"
      ]
     },
     "metadata": {},
     "output_type": "display_data"
    },
    {
     "data": {
      "text/html": [
       "<pre>| 30971        | 2.2e+09 | 42.6927     | 3h 40m       |</pre>"
      ],
      "text/plain": [
       "| 30971        | 2.2e+09 | 42.6927     | 3h 40m       |"
      ]
     },
     "metadata": {},
     "output_type": "display_data"
    },
    {
     "data": {
      "text/html": [
       "<pre>| 31051        | 2.3e+09 | 42.803      | 3h 40m       |</pre>"
      ],
      "text/plain": [
       "| 31051        | 2.3e+09 | 42.803      | 3h 40m       |"
      ]
     },
     "metadata": {},
     "output_type": "display_data"
    },
    {
     "data": {
      "text/html": [
       "<pre>| 31133        | 2.3e+09 | 42.916      | 3h 40m       |</pre>"
      ],
      "text/plain": [
       "| 31133        | 2.3e+09 | 42.916      | 3h 40m       |"
      ]
     },
     "metadata": {},
     "output_type": "display_data"
    },
    {
     "data": {
      "text/html": [
       "<pre>| 31200        | 2.3e+09 | 43.0084     | 3h 40m       |</pre>"
      ],
      "text/plain": [
       "| 31200        | 2.3e+09 | 43.0084     | 3h 40m       |"
      ]
     },
     "metadata": {},
     "output_type": "display_data"
    },
    {
     "data": {
      "text/html": [
       "<pre>| 31261        | 2.3e+09 | 43.0925     | 3h 40m       |</pre>"
      ],
      "text/plain": [
       "| 31261        | 2.3e+09 | 43.0925     | 3h 40m       |"
      ]
     },
     "metadata": {},
     "output_type": "display_data"
    },
    {
     "data": {
      "text/html": [
       "<pre>| 31312        | 2.3e+09 | 43.1628     | 3h 40m       |</pre>"
      ],
      "text/plain": [
       "| 31312        | 2.3e+09 | 43.1628     | 3h 40m       |"
      ]
     },
     "metadata": {},
     "output_type": "display_data"
    },
    {
     "data": {
      "text/html": [
       "<pre>| 31380        | 2.3e+09 | 43.2565     | 3h 40m       |</pre>"
      ],
      "text/plain": [
       "| 31380        | 2.3e+09 | 43.2565     | 3h 40m       |"
      ]
     },
     "metadata": {},
     "output_type": "display_data"
    },
    {
     "data": {
      "text/html": [
       "<pre>| 31435        | 2.3e+09 | 43.3323     | 3h 40m       |</pre>"
      ],
      "text/plain": [
       "| 31435        | 2.3e+09 | 43.3323     | 3h 40m       |"
      ]
     },
     "metadata": {},
     "output_type": "display_data"
    },
    {
     "data": {
      "text/html": [
       "<pre>| 31489        | 2.3e+09 | 43.4068     | 3h 40m       |</pre>"
      ],
      "text/plain": [
       "| 31489        | 2.3e+09 | 43.4068     | 3h 40m       |"
      ]
     },
     "metadata": {},
     "output_type": "display_data"
    },
    {
     "data": {
      "text/html": [
       "<pre>| 31568        | 2.3e+09 | 43.5157     | 3h 40m       |</pre>"
      ],
      "text/plain": [
       "| 31568        | 2.3e+09 | 43.5157     | 3h 40m       |"
      ]
     },
     "metadata": {},
     "output_type": "display_data"
    },
    {
     "data": {
      "text/html": [
       "<pre>| 31649        | 2.3e+09 | 43.6273     | 3h 40m       |</pre>"
      ],
      "text/plain": [
       "| 31649        | 2.3e+09 | 43.6273     | 3h 40m       |"
      ]
     },
     "metadata": {},
     "output_type": "display_data"
    },
    {
     "data": {
      "text/html": [
       "<pre>| 31720        | 2.3e+09 | 43.7252     | 3h 40m       |</pre>"
      ],
      "text/plain": [
       "| 31720        | 2.3e+09 | 43.7252     | 3h 40m       |"
      ]
     },
     "metadata": {},
     "output_type": "display_data"
    },
    {
     "data": {
      "text/html": [
       "<pre>| 31784        | 2.3e+09 | 43.8134     | 3h 40m       |</pre>"
      ],
      "text/plain": [
       "| 31784        | 2.3e+09 | 43.8134     | 3h 40m       |"
      ]
     },
     "metadata": {},
     "output_type": "display_data"
    },
    {
     "data": {
      "text/html": [
       "<pre>| 31860        | 2.3e+09 | 43.9182     | 3h 40m       |</pre>"
      ],
      "text/plain": [
       "| 31860        | 2.3e+09 | 43.9182     | 3h 40m       |"
      ]
     },
     "metadata": {},
     "output_type": "display_data"
    },
    {
     "data": {
      "text/html": [
       "<pre>| 31904        | 2.3e+09 | 43.9788     | 3h 40m       |</pre>"
      ],
      "text/plain": [
       "| 31904        | 2.3e+09 | 43.9788     | 3h 40m       |"
      ]
     },
     "metadata": {},
     "output_type": "display_data"
    },
    {
     "data": {
      "text/html": [
       "<pre>| 31959        | 2.3e+09 | 44.0546     | 3h 40m       |</pre>"
      ],
      "text/plain": [
       "| 31959        | 2.3e+09 | 44.0546     | 3h 40m       |"
      ]
     },
     "metadata": {},
     "output_type": "display_data"
    },
    {
     "data": {
      "text/html": [
       "<pre>| 32016        | 2.3e+09 | 44.1332     | 3h 40m       |</pre>"
      ],
      "text/plain": [
       "| 32016        | 2.3e+09 | 44.1332     | 3h 40m       |"
      ]
     },
     "metadata": {},
     "output_type": "display_data"
    },
    {
     "data": {
      "text/html": [
       "<pre>| 32061        | 2.3e+09 | 44.1952     | 3h 40m       |</pre>"
      ],
      "text/plain": [
       "| 32061        | 2.3e+09 | 44.1952     | 3h 40m       |"
      ]
     },
     "metadata": {},
     "output_type": "display_data"
    },
    {
     "data": {
      "text/html": [
       "<pre>| 32101        | 2.3e+09 | 44.2504     | 3h 41m       |</pre>"
      ],
      "text/plain": [
       "| 32101        | 2.3e+09 | 44.2504     | 3h 41m       |"
      ]
     },
     "metadata": {},
     "output_type": "display_data"
    },
    {
     "data": {
      "text/html": [
       "<pre>| 32176        | 2.3e+09 | 44.3538     | 3h 41m       |</pre>"
      ],
      "text/plain": [
       "| 32176        | 2.3e+09 | 44.3538     | 3h 41m       |"
      ]
     },
     "metadata": {},
     "output_type": "display_data"
    },
    {
     "data": {
      "text/html": [
       "<pre>| 32256        | 2.3e+09 | 44.464      | 3h 41m       |</pre>"
      ],
      "text/plain": [
       "| 32256        | 2.3e+09 | 44.464      | 3h 41m       |"
      ]
     },
     "metadata": {},
     "output_type": "display_data"
    },
    {
     "data": {
      "text/html": [
       "<pre>| 32335        | 2.3e+09 | 44.5729     | 3h 41m       |</pre>"
      ],
      "text/plain": [
       "| 32335        | 2.3e+09 | 44.5729     | 3h 41m       |"
      ]
     },
     "metadata": {},
     "output_type": "display_data"
    },
    {
     "data": {
      "text/html": [
       "<pre>| 32415        | 2.4e+09 | 44.6832     | 3h 41m       |</pre>"
      ],
      "text/plain": [
       "| 32415        | 2.4e+09 | 44.6832     | 3h 41m       |"
      ]
     },
     "metadata": {},
     "output_type": "display_data"
    },
    {
     "data": {
      "text/html": [
       "<pre>| 32495        | 2.4e+09 | 44.7935     | 3h 41m       |</pre>"
      ],
      "text/plain": [
       "| 32495        | 2.4e+09 | 44.7935     | 3h 41m       |"
      ]
     },
     "metadata": {},
     "output_type": "display_data"
    },
    {
     "data": {
      "text/html": [
       "<pre>| 32576        | 2.4e+09 | 44.9052     | 3h 41m       |</pre>"
      ],
      "text/plain": [
       "| 32576        | 2.4e+09 | 44.9052     | 3h 41m       |"
      ]
     },
     "metadata": {},
     "output_type": "display_data"
    },
    {
     "data": {
      "text/html": [
       "<pre>| 32640        | 2.4e+09 | 44.9934     | 3h 41m       |</pre>"
      ],
      "text/plain": [
       "| 32640        | 2.4e+09 | 44.9934     | 3h 41m       |"
      ]
     },
     "metadata": {},
     "output_type": "display_data"
    },
    {
     "data": {
      "text/html": [
       "<pre>| 32719        | 2.4e+09 | 45.1023     | 3h 41m       |</pre>"
      ],
      "text/plain": [
       "| 32719        | 2.4e+09 | 45.1023     | 3h 41m       |"
      ]
     },
     "metadata": {},
     "output_type": "display_data"
    },
    {
     "data": {
      "text/html": [
       "<pre>| 32801        | 2.4e+09 | 45.2153     | 3h 41m       |</pre>"
      ],
      "text/plain": [
       "| 32801        | 2.4e+09 | 45.2153     | 3h 41m       |"
      ]
     },
     "metadata": {},
     "output_type": "display_data"
    },
    {
     "data": {
      "text/html": [
       "<pre>| 32882        | 2.4e+09 | 45.327      | 3h 41m       |</pre>"
      ],
      "text/plain": [
       "| 32882        | 2.4e+09 | 45.327      | 3h 41m       |"
      ]
     },
     "metadata": {},
     "output_type": "display_data"
    },
    {
     "data": {
      "text/html": [
       "<pre>| 32962        | 2.4e+09 | 45.4373     | 3h 41m       |</pre>"
      ],
      "text/plain": [
       "| 32962        | 2.4e+09 | 45.4373     | 3h 41m       |"
      ]
     },
     "metadata": {},
     "output_type": "display_data"
    },
    {
     "data": {
      "text/html": [
       "<pre>| 33043        | 2.4e+09 | 45.5489     | 3h 41m       |</pre>"
      ],
      "text/plain": [
       "| 33043        | 2.4e+09 | 45.5489     | 3h 41m       |"
      ]
     },
     "metadata": {},
     "output_type": "display_data"
    },
    {
     "data": {
      "text/html": [
       "<pre>| 33123        | 2.4e+09 | 45.6592     | 3h 41m       |</pre>"
      ],
      "text/plain": [
       "| 33123        | 2.4e+09 | 45.6592     | 3h 41m       |"
      ]
     },
     "metadata": {},
     "output_type": "display_data"
    },
    {
     "data": {
      "text/html": [
       "<pre>| 33204        | 2.4e+09 | 45.7708     | 3h 41m       |</pre>"
      ],
      "text/plain": [
       "| 33204        | 2.4e+09 | 45.7708     | 3h 41m       |"
      ]
     },
     "metadata": {},
     "output_type": "display_data"
    },
    {
     "data": {
      "text/html": [
       "<pre>| 33279        | 2.4e+09 | 45.8742     | 3h 41m       |</pre>"
      ],
      "text/plain": [
       "| 33279        | 2.4e+09 | 45.8742     | 3h 41m       |"
      ]
     },
     "metadata": {},
     "output_type": "display_data"
    },
    {
     "data": {
      "text/html": [
       "<pre>| 33325        | 2.4e+09 | 45.9376     | 3h 41m       |</pre>"
      ],
      "text/plain": [
       "| 33325        | 2.4e+09 | 45.9376     | 3h 41m       |"
      ]
     },
     "metadata": {},
     "output_type": "display_data"
    },
    {
     "data": {
      "text/html": [
       "<pre>| 33366        | 2.4e+09 | 45.9942     | 3h 41m       |</pre>"
      ],
      "text/plain": [
       "| 33366        | 2.4e+09 | 45.9942     | 3h 41m       |"
      ]
     },
     "metadata": {},
     "output_type": "display_data"
    },
    {
     "data": {
      "text/html": [
       "<pre>| 33430        | 2.4e+09 | 46.0824     | 3h 41m       |</pre>"
      ],
      "text/plain": [
       "| 33430        | 2.4e+09 | 46.0824     | 3h 41m       |"
      ]
     },
     "metadata": {},
     "output_type": "display_data"
    },
    {
     "data": {
      "text/html": [
       "<pre>| 33510        | 2.4e+09 | 46.1927     | 3h 41m       |</pre>"
      ],
      "text/plain": [
       "| 33510        | 2.4e+09 | 46.1927     | 3h 41m       |"
      ]
     },
     "metadata": {},
     "output_type": "display_data"
    },
    {
     "data": {
      "text/html": [
       "<pre>| 33591        | 2.4e+09 | 46.3043     | 3h 42m       |</pre>"
      ],
      "text/plain": [
       "| 33591        | 2.4e+09 | 46.3043     | 3h 42m       |"
      ]
     },
     "metadata": {},
     "output_type": "display_data"
    },
    {
     "data": {
      "text/html": [
       "<pre>| 33670        | 2.4e+09 | 46.4132     | 3h 42m       |</pre>"
      ],
      "text/plain": [
       "| 33670        | 2.4e+09 | 46.4132     | 3h 42m       |"
      ]
     },
     "metadata": {},
     "output_type": "display_data"
    },
    {
     "data": {
      "text/html": [
       "<pre>| 33749        | 2.4e+09 | 46.5221     | 3h 42m       |</pre>"
      ],
      "text/plain": [
       "| 33749        | 2.4e+09 | 46.5221     | 3h 42m       |"
      ]
     },
     "metadata": {},
     "output_type": "display_data"
    },
    {
     "data": {
      "text/html": [
       "<pre>| 33829        | 2.5e+09 | 46.6324     | 3h 42m       |</pre>"
      ],
      "text/plain": [
       "| 33829        | 2.5e+09 | 46.6324     | 3h 42m       |"
      ]
     },
     "metadata": {},
     "output_type": "display_data"
    },
    {
     "data": {
      "text/html": [
       "<pre>| 33911        | 2.5e+09 | 46.7454     | 3h 42m       |</pre>"
      ],
      "text/plain": [
       "| 33911        | 2.5e+09 | 46.7454     | 3h 42m       |"
      ]
     },
     "metadata": {},
     "output_type": "display_data"
    },
    {
     "data": {
      "text/html": [
       "<pre>| 33990        | 2.5e+09 | 46.8543     | 3h 42m       |</pre>"
      ],
      "text/plain": [
       "| 33990        | 2.5e+09 | 46.8543     | 3h 42m       |"
      ]
     },
     "metadata": {},
     "output_type": "display_data"
    },
    {
     "data": {
      "text/html": [
       "<pre>| 34056        | 2.5e+09 | 46.9453     | 3h 42m       |</pre>"
      ],
      "text/plain": [
       "| 34056        | 2.5e+09 | 46.9453     | 3h 42m       |"
      ]
     },
     "metadata": {},
     "output_type": "display_data"
    },
    {
     "data": {
      "text/html": [
       "<pre>| 34122        | 2.5e+09 | 47.0363     | 3h 42m       |</pre>"
      ],
      "text/plain": [
       "| 34122        | 2.5e+09 | 47.0363     | 3h 42m       |"
      ]
     },
     "metadata": {},
     "output_type": "display_data"
    },
    {
     "data": {
      "text/html": [
       "<pre>| 34204        | 2.5e+09 | 47.1493     | 3h 42m       |</pre>"
      ],
      "text/plain": [
       "| 34204        | 2.5e+09 | 47.1493     | 3h 42m       |"
      ]
     },
     "metadata": {},
     "output_type": "display_data"
    },
    {
     "data": {
      "text/html": [
       "<pre>| 34283        | 2.5e+09 | 47.2582     | 3h 42m       |</pre>"
      ],
      "text/plain": [
       "| 34283        | 2.5e+09 | 47.2582     | 3h 42m       |"
      ]
     },
     "metadata": {},
     "output_type": "display_data"
    },
    {
     "data": {
      "text/html": [
       "<pre>| 34364        | 2.5e+09 | 47.3699     | 3h 42m       |</pre>"
      ],
      "text/plain": [
       "| 34364        | 2.5e+09 | 47.3699     | 3h 42m       |"
      ]
     },
     "metadata": {},
     "output_type": "display_data"
    },
    {
     "data": {
      "text/html": [
       "<pre>| 34445        | 2.5e+09 | 47.4815     | 3h 42m       |</pre>"
      ],
      "text/plain": [
       "| 34445        | 2.5e+09 | 47.4815     | 3h 42m       |"
      ]
     },
     "metadata": {},
     "output_type": "display_data"
    },
    {
     "data": {
      "text/html": [
       "<pre>| 34526        | 2.5e+09 | 47.5932     | 3h 42m       |</pre>"
      ],
      "text/plain": [
       "| 34526        | 2.5e+09 | 47.5932     | 3h 42m       |"
      ]
     },
     "metadata": {},
     "output_type": "display_data"
    },
    {
     "data": {
      "text/html": [
       "<pre>| 34571        | 2.5e+09 | 47.6552     | 3h 42m       |</pre>"
      ],
      "text/plain": [
       "| 34571        | 2.5e+09 | 47.6552     | 3h 42m       |"
      ]
     },
     "metadata": {},
     "output_type": "display_data"
    },
    {
     "data": {
      "text/html": [
       "<pre>| 34645        | 2.5e+09 | 47.7572     | 3h 42m       |</pre>"
      ],
      "text/plain": [
       "| 34645        | 2.5e+09 | 47.7572     | 3h 42m       |"
      ]
     },
     "metadata": {},
     "output_type": "display_data"
    },
    {
     "data": {
      "text/html": [
       "<pre>| 34706        | 2.5e+09 | 47.8413     | 3h 42m       |</pre>"
      ],
      "text/plain": [
       "| 34706        | 2.5e+09 | 47.8413     | 3h 42m       |"
      ]
     },
     "metadata": {},
     "output_type": "display_data"
    },
    {
     "data": {
      "text/html": [
       "<pre>| 34779        | 2.5e+09 | 47.9419     | 3h 42m       |</pre>"
      ],
      "text/plain": [
       "| 34779        | 2.5e+09 | 47.9419     | 3h 42m       |"
      ]
     },
     "metadata": {},
     "output_type": "display_data"
    },
    {
     "data": {
      "text/html": [
       "<pre>| 34854        | 2.5e+09 | 48.0453     | 3h 42m       |</pre>"
      ],
      "text/plain": [
       "| 34854        | 2.5e+09 | 48.0453     | 3h 42m       |"
      ]
     },
     "metadata": {},
     "output_type": "display_data"
    },
    {
     "data": {
      "text/html": [
       "<pre>| 34919        | 2.5e+09 | 48.1349     | 3h 42m       |</pre>"
      ],
      "text/plain": [
       "| 34919        | 2.5e+09 | 48.1349     | 3h 42m       |"
      ]
     },
     "metadata": {},
     "output_type": "display_data"
    },
    {
     "data": {
      "text/html": [
       "<pre>| 34989        | 2.5e+09 | 48.2314     | 3h 42m       |</pre>"
      ],
      "text/plain": [
       "| 34989        | 2.5e+09 | 48.2314     | 3h 42m       |"
      ]
     },
     "metadata": {},
     "output_type": "display_data"
    },
    {
     "data": {
      "text/html": [
       "<pre>| 35043        | 2.5e+09 | 48.3059     | 3h 43m       |</pre>"
      ],
      "text/plain": [
       "| 35043        | 2.5e+09 | 48.3059     | 3h 43m       |"
      ]
     },
     "metadata": {},
     "output_type": "display_data"
    },
    {
     "data": {
      "text/html": [
       "<pre>| 35097        | 2.5e+09 | 48.3803     | 3h 43m       |</pre>"
      ],
      "text/plain": [
       "| 35097        | 2.5e+09 | 48.3803     | 3h 43m       |"
      ]
     },
     "metadata": {},
     "output_type": "display_data"
    },
    {
     "data": {
      "text/html": [
       "<pre>| 35159        | 2.6e+09 | 48.4658     | 3h 43m       |</pre>"
      ],
      "text/plain": [
       "| 35159        | 2.6e+09 | 48.4658     | 3h 43m       |"
      ]
     },
     "metadata": {},
     "output_type": "display_data"
    },
    {
     "data": {
      "text/html": [
       "<pre>| 35220        | 2.6e+09 | 48.5498     | 3h 43m       |</pre>"
      ],
      "text/plain": [
       "| 35220        | 2.6e+09 | 48.5498     | 3h 43m       |"
      ]
     },
     "metadata": {},
     "output_type": "display_data"
    },
    {
     "data": {
      "text/html": [
       "<pre>| 35282        | 2.6e+09 | 48.6353     | 3h 43m       |</pre>"
      ],
      "text/plain": [
       "| 35282        | 2.6e+09 | 48.6353     | 3h 43m       |"
      ]
     },
     "metadata": {},
     "output_type": "display_data"
    },
    {
     "data": {
      "text/html": [
       "<pre>| 35358        | 2.6e+09 | 48.7401     | 3h 43m       |</pre>"
      ],
      "text/plain": [
       "| 35358        | 2.6e+09 | 48.7401     | 3h 43m       |"
      ]
     },
     "metadata": {},
     "output_type": "display_data"
    },
    {
     "data": {
      "text/html": [
       "<pre>| 35436        | 2.6e+09 | 48.8476     | 3h 43m       |</pre>"
      ],
      "text/plain": [
       "| 35436        | 2.6e+09 | 48.8476     | 3h 43m       |"
      ]
     },
     "metadata": {},
     "output_type": "display_data"
    },
    {
     "data": {
      "text/html": [
       "<pre>| 35515        | 2.6e+09 | 48.9565     | 3h 43m       |</pre>"
      ],
      "text/plain": [
       "| 35515        | 2.6e+09 | 48.9565     | 3h 43m       |"
      ]
     },
     "metadata": {},
     "output_type": "display_data"
    },
    {
     "data": {
      "text/html": [
       "<pre>| 35590        | 2.6e+09 | 49.0599     | 3h 43m       |</pre>"
      ],
      "text/plain": [
       "| 35590        | 2.6e+09 | 49.0599     | 3h 43m       |"
      ]
     },
     "metadata": {},
     "output_type": "display_data"
    },
    {
     "data": {
      "text/html": [
       "<pre>| 35655        | 2.6e+09 | 49.1495     | 3h 43m       |</pre>"
      ],
      "text/plain": [
       "| 35655        | 2.6e+09 | 49.1495     | 3h 43m       |"
      ]
     },
     "metadata": {},
     "output_type": "display_data"
    },
    {
     "data": {
      "text/html": [
       "<pre>| 35731        | 2.6e+09 | 49.2542     | 3h 43m       |</pre>"
      ],
      "text/plain": [
       "| 35731        | 2.6e+09 | 49.2542     | 3h 43m       |"
      ]
     },
     "metadata": {},
     "output_type": "display_data"
    },
    {
     "data": {
      "text/html": [
       "<pre>| 35810        | 2.6e+09 | 49.3631     | 3h 43m       |</pre>"
      ],
      "text/plain": [
       "| 35810        | 2.6e+09 | 49.3631     | 3h 43m       |"
      ]
     },
     "metadata": {},
     "output_type": "display_data"
    },
    {
     "data": {
      "text/html": [
       "<pre>| 35887        | 2.6e+09 | 49.4693     | 3h 43m       |</pre>"
      ],
      "text/plain": [
       "| 35887        | 2.6e+09 | 49.4693     | 3h 43m       |"
      ]
     },
     "metadata": {},
     "output_type": "display_data"
    },
    {
     "data": {
      "text/html": [
       "<pre>| 35967        | 2.6e+09 | 49.5796     | 3h 43m       |</pre>"
      ],
      "text/plain": [
       "| 35967        | 2.6e+09 | 49.5796     | 3h 43m       |"
      ]
     },
     "metadata": {},
     "output_type": "display_data"
    },
    {
     "data": {
      "text/html": [
       "<pre>| 36036        | 2.6e+09 | 49.6747     | 3h 43m       |</pre>"
      ],
      "text/plain": [
       "| 36036        | 2.6e+09 | 49.6747     | 3h 43m       |"
      ]
     },
     "metadata": {},
     "output_type": "display_data"
    },
    {
     "data": {
      "text/html": [
       "<pre>| 36111        | 2.6e+09 | 49.7781     | 3h 43m       |</pre>"
      ],
      "text/plain": [
       "| 36111        | 2.6e+09 | 49.7781     | 3h 43m       |"
      ]
     },
     "metadata": {},
     "output_type": "display_data"
    },
    {
     "data": {
      "text/html": [
       "<pre>| 36171        | 2.6e+09 | 49.8608     | 3h 43m       |</pre>"
      ],
      "text/plain": [
       "| 36171        | 2.6e+09 | 49.8608     | 3h 43m       |"
      ]
     },
     "metadata": {},
     "output_type": "display_data"
    },
    {
     "data": {
      "text/html": [
       "<pre>| 36231        | 2.6e+09 | 49.9435     | 3h 43m       |</pre>"
      ],
      "text/plain": [
       "| 36231        | 2.6e+09 | 49.9435     | 3h 43m       |"
      ]
     },
     "metadata": {},
     "output_type": "display_data"
    },
    {
     "data": {
      "text/html": [
       "<pre>| 36271        | 2.6e+09 | 49.9986     | 3h 43m       |</pre>"
      ],
      "text/plain": [
       "| 36271        | 2.6e+09 | 49.9986     | 3h 43m       |"
      ]
     },
     "metadata": {},
     "output_type": "display_data"
    },
    {
     "data": {
      "text/html": [
       "<pre>| 36308        | 2.6e+09 | 50.0496     | 3h 43m       |</pre>"
      ],
      "text/plain": [
       "| 36308        | 2.6e+09 | 50.0496     | 3h 43m       |"
      ]
     },
     "metadata": {},
     "output_type": "display_data"
    },
    {
     "data": {
      "text/html": [
       "<pre>| 36386        | 2.6e+09 | 50.1571     | 3h 44m       |</pre>"
      ],
      "text/plain": [
       "| 36386        | 2.6e+09 | 50.1571     | 3h 44m       |"
      ]
     },
     "metadata": {},
     "output_type": "display_data"
    },
    {
     "data": {
      "text/html": [
       "<pre>| 64962        | 4.7e+09 | 89.5484     | 5h 29m       |</pre>"
      ],
      "text/plain": [
       "| 64962        | 4.7e+09 | 89.5484     | 5h 29m       |"
      ]
     },
     "metadata": {},
     "output_type": "display_data"
    },
    {
     "data": {
      "text/html": [
       "<pre>| 64998        | 4.7e+09 | 89.598      | 5h 29m       |</pre>"
      ],
      "text/plain": [
       "| 64998        | 4.7e+09 | 89.598      | 5h 29m       |"
      ]
     },
     "metadata": {},
     "output_type": "display_data"
    },
    {
     "data": {
      "text/html": [
       "<pre>| 65046        | 4.7e+09 | 89.6642     | 5h 29m       |</pre>"
      ],
      "text/plain": [
       "| 65046        | 4.7e+09 | 89.6642     | 5h 29m       |"
      ]
     },
     "metadata": {},
     "output_type": "display_data"
    },
    {
     "data": {
      "text/html": [
       "<pre>| 65108        | 4.7e+09 | 89.7497     | 5h 29m       |</pre>"
      ],
      "text/plain": [
       "| 65108        | 4.7e+09 | 89.7497     | 5h 29m       |"
      ]
     },
     "metadata": {},
     "output_type": "display_data"
    },
    {
     "data": {
      "text/html": [
       "<pre>| 65170        | 4.7e+09 | 89.8351     | 5h 29m       |</pre>"
      ],
      "text/plain": [
       "| 65170        | 4.7e+09 | 89.8351     | 5h 29m       |"
      ]
     },
     "metadata": {},
     "output_type": "display_data"
    },
    {
     "data": {
      "text/html": [
       "<pre>| 65215        | 4.7e+09 | 89.8972     | 5h 29m       |</pre>"
      ],
      "text/plain": [
       "| 65215        | 4.7e+09 | 89.8972     | 5h 29m       |"
      ]
     },
     "metadata": {},
     "output_type": "display_data"
    },
    {
     "data": {
      "text/html": [
       "<pre>| 65286        | 4.7e+09 | 89.995      | 5h 29m       |</pre>"
      ],
      "text/plain": [
       "| 65286        | 4.7e+09 | 89.995      | 5h 29m       |"
      ]
     },
     "metadata": {},
     "output_type": "display_data"
    },
    {
     "data": {
      "text/html": [
       "<pre>| 65361        | 4.7e+09 | 90.0984     | 5h 29m       |</pre>"
      ],
      "text/plain": [
       "| 65361        | 4.7e+09 | 90.0984     | 5h 29m       |"
      ]
     },
     "metadata": {},
     "output_type": "display_data"
    },
    {
     "data": {
      "text/html": [
       "<pre>| 65438        | 4.7e+09 | 90.2046     | 5h 29m       |</pre>"
      ],
      "text/plain": [
       "| 65438        | 4.7e+09 | 90.2046     | 5h 29m       |"
      ]
     },
     "metadata": {},
     "output_type": "display_data"
    },
    {
     "data": {
      "text/html": [
       "<pre>| 65512        | 4.8e+09 | 90.3066     | 5h 29m       |</pre>"
      ],
      "text/plain": [
       "| 65512        | 4.8e+09 | 90.3066     | 5h 29m       |"
      ]
     },
     "metadata": {},
     "output_type": "display_data"
    },
    {
     "data": {
      "text/html": [
       "<pre>| 65578        | 4.8e+09 | 90.3976     | 5h 29m       |</pre>"
      ],
      "text/plain": [
       "| 65578        | 4.8e+09 | 90.3976     | 5h 29m       |"
      ]
     },
     "metadata": {},
     "output_type": "display_data"
    },
    {
     "data": {
      "text/html": [
       "<pre>| 65650        | 4.8e+09 | 90.4968     | 5h 30m       |</pre>"
      ],
      "text/plain": [
       "| 65650        | 4.8e+09 | 90.4968     | 5h 30m       |"
      ]
     },
     "metadata": {},
     "output_type": "display_data"
    },
    {
     "data": {
      "text/html": [
       "<pre>| 65726        | 4.8e+09 | 90.6016     | 5h 30m       |</pre>"
      ],
      "text/plain": [
       "| 65726        | 4.8e+09 | 90.6016     | 5h 30m       |"
      ]
     },
     "metadata": {},
     "output_type": "display_data"
    },
    {
     "data": {
      "text/html": [
       "<pre>| 65805        | 4.8e+09 | 90.7105     | 5h 30m       |</pre>"
      ],
      "text/plain": [
       "| 65805        | 4.8e+09 | 90.7105     | 5h 30m       |"
      ]
     },
     "metadata": {},
     "output_type": "display_data"
    },
    {
     "data": {
      "text/html": [
       "<pre>| 65887        | 4.8e+09 | 90.8235     | 5h 30m       |</pre>"
      ],
      "text/plain": [
       "| 65887        | 4.8e+09 | 90.8235     | 5h 30m       |"
      ]
     },
     "metadata": {},
     "output_type": "display_data"
    },
    {
     "data": {
      "text/html": [
       "<pre>| 65965        | 4.8e+09 | 90.931      | 5h 30m       |</pre>"
      ],
      "text/plain": [
       "| 65965        | 4.8e+09 | 90.931      | 5h 30m       |"
      ]
     },
     "metadata": {},
     "output_type": "display_data"
    },
    {
     "data": {
      "text/html": [
       "<pre>| 66041        | 4.8e+09 | 91.0358     | 5h 30m       |</pre>"
      ],
      "text/plain": [
       "| 66041        | 4.8e+09 | 91.0358     | 5h 30m       |"
      ]
     },
     "metadata": {},
     "output_type": "display_data"
    },
    {
     "data": {
      "text/html": [
       "<pre>| 66118        | 4.8e+09 | 91.1419     | 5h 30m       |</pre>"
      ],
      "text/plain": [
       "| 66118        | 4.8e+09 | 91.1419     | 5h 30m       |"
      ]
     },
     "metadata": {},
     "output_type": "display_data"
    },
    {
     "data": {
      "text/html": [
       "<pre>| 66198        | 4.8e+09 | 91.2522     | 5h 30m       |</pre>"
      ],
      "text/plain": [
       "| 66198        | 4.8e+09 | 91.2522     | 5h 30m       |"
      ]
     },
     "metadata": {},
     "output_type": "display_data"
    },
    {
     "data": {
      "text/html": [
       "<pre>| 66274        | 4.8e+09 | 91.357      | 5h 30m       |</pre>"
      ],
      "text/plain": [
       "| 66274        | 4.8e+09 | 91.357      | 5h 30m       |"
      ]
     },
     "metadata": {},
     "output_type": "display_data"
    },
    {
     "data": {
      "text/html": [
       "<pre>| 66352        | 4.8e+09 | 91.4645     | 5h 30m       |</pre>"
      ],
      "text/plain": [
       "| 66352        | 4.8e+09 | 91.4645     | 5h 30m       |"
      ]
     },
     "metadata": {},
     "output_type": "display_data"
    },
    {
     "data": {
      "text/html": [
       "<pre>| 66429        | 4.8e+09 | 91.5706     | 5h 30m       |</pre>"
      ],
      "text/plain": [
       "| 66429        | 4.8e+09 | 91.5706     | 5h 30m       |"
      ]
     },
     "metadata": {},
     "output_type": "display_data"
    },
    {
     "data": {
      "text/html": [
       "<pre>| 66507        | 4.8e+09 | 91.6782     | 5h 30m       |</pre>"
      ],
      "text/plain": [
       "| 66507        | 4.8e+09 | 91.6782     | 5h 30m       |"
      ]
     },
     "metadata": {},
     "output_type": "display_data"
    },
    {
     "data": {
      "text/html": [
       "<pre>| 66585        | 4.8e+09 | 91.7857     | 5h 30m       |</pre>"
      ],
      "text/plain": [
       "| 66585        | 4.8e+09 | 91.7857     | 5h 30m       |"
      ]
     },
     "metadata": {},
     "output_type": "display_data"
    },
    {
     "data": {
      "text/html": [
       "<pre>| 66664        | 4.8e+09 | 91.8946     | 5h 30m       |</pre>"
      ],
      "text/plain": [
       "| 66664        | 4.8e+09 | 91.8946     | 5h 30m       |"
      ]
     },
     "metadata": {},
     "output_type": "display_data"
    },
    {
     "data": {
      "text/html": [
       "<pre>| 66742        | 4.8e+09 | 92.0021     | 5h 30m       |</pre>"
      ],
      "text/plain": [
       "| 66742        | 4.8e+09 | 92.0021     | 5h 30m       |"
      ]
     },
     "metadata": {},
     "output_type": "display_data"
    },
    {
     "data": {
      "text/html": [
       "<pre>| 66819        | 4.8e+09 | 92.1082     | 5h 30m       |</pre>"
      ],
      "text/plain": [
       "| 66819        | 4.8e+09 | 92.1082     | 5h 30m       |"
      ]
     },
     "metadata": {},
     "output_type": "display_data"
    },
    {
     "data": {
      "text/html": [
       "<pre>| 66895        | 4.9e+09 | 92.213      | 5h 30m       |</pre>"
      ],
      "text/plain": [
       "| 66895        | 4.9e+09 | 92.213      | 5h 30m       |"
      ]
     },
     "metadata": {},
     "output_type": "display_data"
    },
    {
     "data": {
      "text/html": [
       "<pre>| 66973        | 4.9e+09 | 92.3205     | 5h 30m       |</pre>"
      ],
      "text/plain": [
       "| 66973        | 4.9e+09 | 92.3205     | 5h 30m       |"
      ]
     },
     "metadata": {},
     "output_type": "display_data"
    },
    {
     "data": {
      "text/html": [
       "<pre>| 67049        | 4.9e+09 | 92.4253     | 5h 30m       |</pre>"
      ],
      "text/plain": [
       "| 67049        | 4.9e+09 | 92.4253     | 5h 30m       |"
      ]
     },
     "metadata": {},
     "output_type": "display_data"
    },
    {
     "data": {
      "text/html": [
       "<pre>| 67127        | 4.9e+09 | 92.5328     | 5h 30m       |</pre>"
      ],
      "text/plain": [
       "| 67127        | 4.9e+09 | 92.5328     | 5h 30m       |"
      ]
     },
     "metadata": {},
     "output_type": "display_data"
    },
    {
     "data": {
      "text/html": [
       "<pre>| 67204        | 4.9e+09 | 92.639      | 5h 31m       |</pre>"
      ],
      "text/plain": [
       "| 67204        | 4.9e+09 | 92.639      | 5h 31m       |"
      ]
     },
     "metadata": {},
     "output_type": "display_data"
    },
    {
     "data": {
      "text/html": [
       "<pre>| 67282        | 4.9e+09 | 92.7465     | 5h 31m       |</pre>"
      ],
      "text/plain": [
       "| 67282        | 4.9e+09 | 92.7465     | 5h 31m       |"
      ]
     },
     "metadata": {},
     "output_type": "display_data"
    },
    {
     "data": {
      "text/html": [
       "<pre>| 67335        | 4.9e+09 | 92.8195     | 5h 31m       |</pre>"
      ],
      "text/plain": [
       "| 67335        | 4.9e+09 | 92.8195     | 5h 31m       |"
      ]
     },
     "metadata": {},
     "output_type": "display_data"
    },
    {
     "data": {
      "text/html": [
       "<pre>| 67395        | 4.9e+09 | 92.9022     | 5h 31m       |</pre>"
      ],
      "text/plain": [
       "| 67395        | 4.9e+09 | 92.9022     | 5h 31m       |"
      ]
     },
     "metadata": {},
     "output_type": "display_data"
    },
    {
     "data": {
      "text/html": [
       "<pre>| 67470        | 4.9e+09 | 93.0056     | 5h 31m       |</pre>"
      ],
      "text/plain": [
       "| 67470        | 4.9e+09 | 93.0056     | 5h 31m       |"
      ]
     },
     "metadata": {},
     "output_type": "display_data"
    },
    {
     "data": {
      "text/html": [
       "<pre>| 67534        | 4.9e+09 | 93.0938     | 5h 31m       |</pre>"
      ],
      "text/plain": [
       "| 67534        | 4.9e+09 | 93.0938     | 5h 31m       |"
      ]
     },
     "metadata": {},
     "output_type": "display_data"
    },
    {
     "data": {
      "text/html": [
       "<pre>| 67565        | 4.9e+09 | 93.1366     | 5h 31m       |</pre>"
      ],
      "text/plain": [
       "| 67565        | 4.9e+09 | 93.1366     | 5h 31m       |"
      ]
     },
     "metadata": {},
     "output_type": "display_data"
    },
    {
     "data": {
      "text/html": [
       "<pre>| 67602        | 4.9e+09 | 93.1876     | 5h 31m       |</pre>"
      ],
      "text/plain": [
       "| 67602        | 4.9e+09 | 93.1876     | 5h 31m       |"
      ]
     },
     "metadata": {},
     "output_type": "display_data"
    },
    {
     "data": {
      "text/html": [
       "<pre>| 67651        | 4.9e+09 | 93.2551     | 5h 31m       |</pre>"
      ],
      "text/plain": [
       "| 67651        | 4.9e+09 | 93.2551     | 5h 31m       |"
      ]
     },
     "metadata": {},
     "output_type": "display_data"
    },
    {
     "data": {
      "text/html": [
       "<pre>| 67703        | 4.9e+09 | 93.3268     | 5h 31m       |</pre>"
      ],
      "text/plain": [
       "| 67703        | 4.9e+09 | 93.3268     | 5h 31m       |"
      ]
     },
     "metadata": {},
     "output_type": "display_data"
    },
    {
     "data": {
      "text/html": [
       "<pre>| 67755        | 4.9e+09 | 93.3985     | 5h 31m       |</pre>"
      ],
      "text/plain": [
       "| 67755        | 4.9e+09 | 93.3985     | 5h 31m       |"
      ]
     },
     "metadata": {},
     "output_type": "display_data"
    },
    {
     "data": {
      "text/html": [
       "<pre>| 67827        | 4.9e+09 | 93.4977     | 5h 31m       |</pre>"
      ],
      "text/plain": [
       "| 67827        | 4.9e+09 | 93.4977     | 5h 31m       |"
      ]
     },
     "metadata": {},
     "output_type": "display_data"
    },
    {
     "data": {
      "text/html": [
       "<pre>| 67904        | 4.9e+09 | 93.6039     | 5h 31m       |</pre>"
      ],
      "text/plain": [
       "| 67904        | 4.9e+09 | 93.6039     | 5h 31m       |"
      ]
     },
     "metadata": {},
     "output_type": "display_data"
    },
    {
     "data": {
      "text/html": [
       "<pre>| 67974        | 4.9e+09 | 93.7004     | 5h 31m       |</pre>"
      ],
      "text/plain": [
       "| 67974        | 4.9e+09 | 93.7004     | 5h 31m       |"
      ]
     },
     "metadata": {},
     "output_type": "display_data"
    },
    {
     "data": {
      "text/html": [
       "<pre>| 68041        | 4.9e+09 | 93.7927     | 5h 31m       |</pre>"
      ],
      "text/plain": [
       "| 68041        | 4.9e+09 | 93.7927     | 5h 31m       |"
      ]
     },
     "metadata": {},
     "output_type": "display_data"
    },
    {
     "data": {
      "text/html": [
       "<pre>| 68117        | 4.9e+09 | 93.8975     | 5h 31m       |</pre>"
      ],
      "text/plain": [
       "| 68117        | 4.9e+09 | 93.8975     | 5h 31m       |"
      ]
     },
     "metadata": {},
     "output_type": "display_data"
    },
    {
     "data": {
      "text/html": [
       "<pre>| 68182        | 4.9e+09 | 93.9871     | 5h 31m       |</pre>"
      ],
      "text/plain": [
       "| 68182        | 4.9e+09 | 93.9871     | 5h 31m       |"
      ]
     },
     "metadata": {},
     "output_type": "display_data"
    },
    {
     "data": {
      "text/html": [
       "<pre>| 68241        | 5e+09   | 94.0684     | 5h 31m       |</pre>"
      ],
      "text/plain": [
       "| 68241        | 5e+09   | 94.0684     | 5h 31m       |"
      ]
     },
     "metadata": {},
     "output_type": "display_data"
    },
    {
     "data": {
      "text/html": [
       "<pre>| 68309        | 5e+09   | 94.1622     | 5h 31m       |</pre>"
      ],
      "text/plain": [
       "| 68309        | 5e+09   | 94.1622     | 5h 31m       |"
      ]
     },
     "metadata": {},
     "output_type": "display_data"
    },
    {
     "data": {
      "text/html": [
       "<pre>| 68379        | 5e+09   | 94.2587     | 5h 31m       |</pre>"
      ],
      "text/plain": [
       "| 68379        | 5e+09   | 94.2587     | 5h 31m       |"
      ]
     },
     "metadata": {},
     "output_type": "display_data"
    },
    {
     "data": {
      "text/html": [
       "<pre>| 68448        | 5e+09   | 94.3538     | 5h 32m       |</pre>"
      ],
      "text/plain": [
       "| 68448        | 5e+09   | 94.3538     | 5h 32m       |"
      ]
     },
     "metadata": {},
     "output_type": "display_data"
    },
    {
     "data": {
      "text/html": [
       "<pre>| 68495        | 5e+09   | 94.4186     | 5h 32m       |</pre>"
      ],
      "text/plain": [
       "| 68495        | 5e+09   | 94.4186     | 5h 32m       |"
      ]
     },
     "metadata": {},
     "output_type": "display_data"
    },
    {
     "data": {
      "text/html": [
       "<pre>| 68553        | 5e+09   | 94.4985     | 5h 32m       |</pre>"
      ],
      "text/plain": [
       "| 68553        | 5e+09   | 94.4985     | 5h 32m       |"
      ]
     },
     "metadata": {},
     "output_type": "display_data"
    },
    {
     "data": {
      "text/html": [
       "<pre>| 68617        | 5e+09   | 94.5867     | 5h 32m       |</pre>"
      ],
      "text/plain": [
       "| 68617        | 5e+09   | 94.5867     | 5h 32m       |"
      ]
     },
     "metadata": {},
     "output_type": "display_data"
    },
    {
     "data": {
      "text/html": [
       "<pre>| 68662        | 5e+09   | 94.6488     | 5h 32m       |</pre>"
      ],
      "text/plain": [
       "| 68662        | 5e+09   | 94.6488     | 5h 32m       |"
      ]
     },
     "metadata": {},
     "output_type": "display_data"
    },
    {
     "data": {
      "text/html": [
       "<pre>| 68714        | 5e+09   | 94.7204     | 5h 32m       |</pre>"
      ],
      "text/plain": [
       "| 68714        | 5e+09   | 94.7204     | 5h 32m       |"
      ]
     },
     "metadata": {},
     "output_type": "display_data"
    },
    {
     "data": {
      "text/html": [
       "<pre>| 68756        | 5e+09   | 94.7783     | 5h 32m       |</pre>"
      ],
      "text/plain": [
       "| 68756        | 5e+09   | 94.7783     | 5h 32m       |"
      ]
     },
     "metadata": {},
     "output_type": "display_data"
    },
    {
     "data": {
      "text/html": [
       "<pre>| 68807        | 5e+09   | 94.8486     | 5h 32m       |</pre>"
      ],
      "text/plain": [
       "| 68807        | 5e+09   | 94.8486     | 5h 32m       |"
      ]
     },
     "metadata": {},
     "output_type": "display_data"
    },
    {
     "data": {
      "text/html": [
       "<pre>| 68850        | 5e+09   | 94.9079     | 5h 32m       |</pre>"
      ],
      "text/plain": [
       "| 68850        | 5e+09   | 94.9079     | 5h 32m       |"
      ]
     },
     "metadata": {},
     "output_type": "display_data"
    },
    {
     "data": {
      "text/html": [
       "<pre>| 68909        | 5e+09   | 94.9892     | 5h 32m       |</pre>"
      ],
      "text/plain": [
       "| 68909        | 5e+09   | 94.9892     | 5h 32m       |"
      ]
     },
     "metadata": {},
     "output_type": "display_data"
    },
    {
     "data": {
      "text/html": [
       "<pre>| 68965        | 5e+09   | 95.0664     | 5h 32m       |</pre>"
      ],
      "text/plain": [
       "| 68965        | 5e+09   | 95.0664     | 5h 32m       |"
      ]
     },
     "metadata": {},
     "output_type": "display_data"
    },
    {
     "data": {
      "text/html": [
       "<pre>| 69013        | 5e+09   | 95.1326     | 5h 32m       |</pre>"
      ],
      "text/plain": [
       "| 69013        | 5e+09   | 95.1326     | 5h 32m       |"
      ]
     },
     "metadata": {},
     "output_type": "display_data"
    },
    {
     "data": {
      "text/html": [
       "<pre>| 69063        | 5e+09   | 95.2015     | 5h 32m       |</pre>"
      ],
      "text/plain": [
       "| 69063        | 5e+09   | 95.2015     | 5h 32m       |"
      ]
     },
     "metadata": {},
     "output_type": "display_data"
    },
    {
     "data": {
      "text/html": [
       "<pre>| 69120        | 5e+09   | 95.2801     | 5h 32m       |</pre>"
      ],
      "text/plain": [
       "| 69120        | 5e+09   | 95.2801     | 5h 32m       |"
      ]
     },
     "metadata": {},
     "output_type": "display_data"
    },
    {
     "data": {
      "text/html": [
       "<pre>| 69199        | 5e+09   | 95.389      | 5h 32m       |</pre>"
      ],
      "text/plain": [
       "| 69199        | 5e+09   | 95.389      | 5h 32m       |"
      ]
     },
     "metadata": {},
     "output_type": "display_data"
    },
    {
     "data": {
      "text/html": [
       "<pre>| 69274        | 5e+09   | 95.4924     | 5h 32m       |</pre>"
      ],
      "text/plain": [
       "| 69274        | 5e+09   | 95.4924     | 5h 32m       |"
      ]
     },
     "metadata": {},
     "output_type": "display_data"
    },
    {
     "data": {
      "text/html": [
       "<pre>| 69352        | 5e+09   | 95.5999     | 5h 32m       |</pre>"
      ],
      "text/plain": [
       "| 69352        | 5e+09   | 95.5999     | 5h 32m       |"
      ]
     },
     "metadata": {},
     "output_type": "display_data"
    },
    {
     "data": {
      "text/html": [
       "<pre>| 69430        | 5e+09   | 95.7074     | 5h 32m       |</pre>"
      ],
      "text/plain": [
       "| 69430        | 5e+09   | 95.7074     | 5h 32m       |"
      ]
     },
     "metadata": {},
     "output_type": "display_data"
    },
    {
     "data": {
      "text/html": [
       "<pre>| 69507        | 5e+09   | 95.8136     | 5h 32m       |</pre>"
      ],
      "text/plain": [
       "| 69507        | 5e+09   | 95.8136     | 5h 32m       |"
      ]
     },
     "metadata": {},
     "output_type": "display_data"
    },
    {
     "data": {
      "text/html": [
       "<pre>| 69581        | 5e+09   | 95.9156     | 5h 32m       |</pre>"
      ],
      "text/plain": [
       "| 69581        | 5e+09   | 95.9156     | 5h 32m       |"
      ]
     },
     "metadata": {},
     "output_type": "display_data"
    },
    {
     "data": {
      "text/html": [
       "<pre>| 69657        | 5.1e+09 | 96.0203     | 5h 33m       |</pre>"
      ],
      "text/plain": [
       "| 69657        | 5.1e+09 | 96.0203     | 5h 33m       |"
      ]
     },
     "metadata": {},
     "output_type": "display_data"
    },
    {
     "data": {
      "text/html": [
       "<pre>| 69727        | 5.1e+09 | 96.1168     | 5h 33m       |</pre>"
      ],
      "text/plain": [
       "| 69727        | 5.1e+09 | 96.1168     | 5h 33m       |"
      ]
     },
     "metadata": {},
     "output_type": "display_data"
    },
    {
     "data": {
      "text/html": [
       "<pre>| 69794        | 5.1e+09 | 96.2092     | 5h 33m       |</pre>"
      ],
      "text/plain": [
       "| 69794        | 5.1e+09 | 96.2092     | 5h 33m       |"
      ]
     },
     "metadata": {},
     "output_type": "display_data"
    },
    {
     "data": {
      "text/html": [
       "<pre>| 69869        | 5.1e+09 | 96.3126     | 5h 33m       |</pre>"
      ],
      "text/plain": [
       "| 69869        | 5.1e+09 | 96.3126     | 5h 33m       |"
      ]
     },
     "metadata": {},
     "output_type": "display_data"
    },
    {
     "data": {
      "text/html": [
       "<pre>| 69914        | 5.1e+09 | 96.3746     | 5h 33m       |</pre>"
      ],
      "text/plain": [
       "| 69914        | 5.1e+09 | 96.3746     | 5h 33m       |"
      ]
     },
     "metadata": {},
     "output_type": "display_data"
    },
    {
     "data": {
      "text/html": [
       "<pre>| 69951        | 5.1e+09 | 96.4256     | 5h 33m       |</pre>"
      ],
      "text/plain": [
       "| 69951        | 5.1e+09 | 96.4256     | 5h 33m       |"
      ]
     },
     "metadata": {},
     "output_type": "display_data"
    },
    {
     "data": {
      "text/html": [
       "<pre>| 70009        | 5.1e+09 | 96.5056     | 5h 33m       |</pre>"
      ],
      "text/plain": [
       "| 70009        | 5.1e+09 | 96.5056     | 5h 33m       |"
      ]
     },
     "metadata": {},
     "output_type": "display_data"
    },
    {
     "data": {
      "text/html": [
       "<pre>| 70056        | 5.1e+09 | 96.5704     | 5h 33m       |</pre>"
      ],
      "text/plain": [
       "| 70056        | 5.1e+09 | 96.5704     | 5h 33m       |"
      ]
     },
     "metadata": {},
     "output_type": "display_data"
    },
    {
     "data": {
      "text/html": [
       "<pre>| 70109        | 5.1e+09 | 96.6434     | 5h 33m       |</pre>"
      ],
      "text/plain": [
       "| 70109        | 5.1e+09 | 96.6434     | 5h 33m       |"
      ]
     },
     "metadata": {},
     "output_type": "display_data"
    },
    {
     "data": {
      "text/html": [
       "<pre>| 70165        | 5.1e+09 | 96.7206     | 5h 33m       |</pre>"
      ],
      "text/plain": [
       "| 70165        | 5.1e+09 | 96.7206     | 5h 33m       |"
      ]
     },
     "metadata": {},
     "output_type": "display_data"
    },
    {
     "data": {
      "text/html": [
       "<pre>| 70208        | 5.1e+09 | 96.7799     | 5h 33m       |</pre>"
      ],
      "text/plain": [
       "| 70208        | 5.1e+09 | 96.7799     | 5h 33m       |"
      ]
     },
     "metadata": {},
     "output_type": "display_data"
    },
    {
     "data": {
      "text/html": [
       "<pre>| 70236        | 5.1e+09 | 96.8185     | 5h 33m       |</pre>"
      ],
      "text/plain": [
       "| 70236        | 5.1e+09 | 96.8185     | 5h 33m       |"
      ]
     },
     "metadata": {},
     "output_type": "display_data"
    },
    {
     "data": {
      "text/html": [
       "<pre>| 70285        | 5.1e+09 | 96.886      | 5h 33m       |</pre>"
      ],
      "text/plain": [
       "| 70285        | 5.1e+09 | 96.886      | 5h 33m       |"
      ]
     },
     "metadata": {},
     "output_type": "display_data"
    },
    {
     "data": {
      "text/html": [
       "<pre>| 70332        | 5.1e+09 | 96.9508     | 5h 33m       |</pre>"
      ],
      "text/plain": [
       "| 70332        | 5.1e+09 | 96.9508     | 5h 33m       |"
      ]
     },
     "metadata": {},
     "output_type": "display_data"
    },
    {
     "data": {
      "text/html": [
       "<pre>| 70379        | 5.1e+09 | 97.0156     | 5h 33m       |</pre>"
      ],
      "text/plain": [
       "| 70379        | 5.1e+09 | 97.0156     | 5h 33m       |"
      ]
     },
     "metadata": {},
     "output_type": "display_data"
    },
    {
     "data": {
      "text/html": [
       "<pre>| 70446        | 5.1e+09 | 97.108      | 5h 33m       |</pre>"
      ],
      "text/plain": [
       "| 70446        | 5.1e+09 | 97.108      | 5h 33m       |"
      ]
     },
     "metadata": {},
     "output_type": "display_data"
    },
    {
     "data": {
      "text/html": [
       "<pre>| 70508        | 5.1e+09 | 97.1934     | 5h 33m       |</pre>"
      ],
      "text/plain": [
       "| 70508        | 5.1e+09 | 97.1934     | 5h 33m       |"
      ]
     },
     "metadata": {},
     "output_type": "display_data"
    },
    {
     "data": {
      "text/html": [
       "<pre>| 70571        | 5.1e+09 | 97.2803     | 5h 33m       |</pre>"
      ],
      "text/plain": [
       "| 70571        | 5.1e+09 | 97.2803     | 5h 33m       |"
      ]
     },
     "metadata": {},
     "output_type": "display_data"
    },
    {
     "data": {
      "text/html": [
       "<pre>| 70624        | 5.1e+09 | 97.3533     | 5h 33m       |</pre>"
      ],
      "text/plain": [
       "| 70624        | 5.1e+09 | 97.3533     | 5h 33m       |"
      ]
     },
     "metadata": {},
     "output_type": "display_data"
    },
    {
     "data": {
      "text/html": [
       "<pre>| 70696        | 5.1e+09 | 97.4526     | 5h 33m       |</pre>"
      ],
      "text/plain": [
       "| 70696        | 5.1e+09 | 97.4526     | 5h 33m       |"
      ]
     },
     "metadata": {},
     "output_type": "display_data"
    },
    {
     "data": {
      "text/html": [
       "<pre>| 70765        | 5.1e+09 | 97.5477     | 5h 34m       |</pre>"
      ],
      "text/plain": [
       "| 70765        | 5.1e+09 | 97.5477     | 5h 34m       |"
      ]
     },
     "metadata": {},
     "output_type": "display_data"
    },
    {
     "data": {
      "text/html": [
       "<pre>| 70836        | 5.1e+09 | 97.6456     | 5h 34m       |</pre>"
      ],
      "text/plain": [
       "| 70836        | 5.1e+09 | 97.6456     | 5h 34m       |"
      ]
     },
     "metadata": {},
     "output_type": "display_data"
    },
    {
     "data": {
      "text/html": [
       "<pre>| 70895        | 5.1e+09 | 97.7269     | 5h 34m       |</pre>"
      ],
      "text/plain": [
       "| 70895        | 5.1e+09 | 97.7269     | 5h 34m       |"
      ]
     },
     "metadata": {},
     "output_type": "display_data"
    },
    {
     "data": {
      "text/html": [
       "<pre>| 70949        | 5.1e+09 | 97.8013     | 5h 34m       |</pre>"
      ],
      "text/plain": [
       "| 70949        | 5.1e+09 | 97.8013     | 5h 34m       |"
      ]
     },
     "metadata": {},
     "output_type": "display_data"
    },
    {
     "data": {
      "text/html": [
       "<pre>| 70995        | 5.2e+09 | 97.8647     | 5h 34m       |</pre>"
      ],
      "text/plain": [
       "| 70995        | 5.2e+09 | 97.8647     | 5h 34m       |"
      ]
     },
     "metadata": {},
     "output_type": "display_data"
    },
    {
     "data": {
      "text/html": [
       "<pre>| 71043        | 5.2e+09 | 97.9309     | 5h 34m       |</pre>"
      ],
      "text/plain": [
       "| 71043        | 5.2e+09 | 97.9309     | 5h 34m       |"
      ]
     },
     "metadata": {},
     "output_type": "display_data"
    },
    {
     "data": {
      "text/html": [
       "<pre>| 71089        | 5.2e+09 | 97.9943     | 5h 34m       |</pre>"
      ],
      "text/plain": [
       "| 71089        | 5.2e+09 | 97.9943     | 5h 34m       |"
      ]
     },
     "metadata": {},
     "output_type": "display_data"
    },
    {
     "data": {
      "text/html": [
       "<pre>| 71143        | 5.2e+09 | 98.0688     | 5h 34m       |</pre>"
      ],
      "text/plain": [
       "| 71143        | 5.2e+09 | 98.0688     | 5h 34m       |"
      ]
     },
     "metadata": {},
     "output_type": "display_data"
    },
    {
     "data": {
      "text/html": [
       "<pre>| 71184        | 5.2e+09 | 98.1253     | 5h 34m       |</pre>"
      ],
      "text/plain": [
       "| 71184        | 5.2e+09 | 98.1253     | 5h 34m       |"
      ]
     },
     "metadata": {},
     "output_type": "display_data"
    },
    {
     "data": {
      "text/html": [
       "<pre>| 71221        | 5.2e+09 | 98.1763     | 5h 34m       |</pre>"
      ],
      "text/plain": [
       "| 71221        | 5.2e+09 | 98.1763     | 5h 34m       |"
      ]
     },
     "metadata": {},
     "output_type": "display_data"
    },
    {
     "data": {
      "text/html": [
       "<pre>| 71256        | 5.2e+09 | 98.2245     | 5h 34m       |</pre>"
      ],
      "text/plain": [
       "| 71256        | 5.2e+09 | 98.2245     | 5h 34m       |"
      ]
     },
     "metadata": {},
     "output_type": "display_data"
    },
    {
     "data": {
      "text/html": [
       "<pre>| 71291        | 5.2e+09 | 98.2728     | 5h 34m       |</pre>"
      ],
      "text/plain": [
       "| 71291        | 5.2e+09 | 98.2728     | 5h 34m       |"
      ]
     },
     "metadata": {},
     "output_type": "display_data"
    },
    {
     "data": {
      "text/html": [
       "<pre>| 71322        | 5.2e+09 | 98.3155     | 5h 34m       |</pre>"
      ],
      "text/plain": [
       "| 71322        | 5.2e+09 | 98.3155     | 5h 34m       |"
      ]
     },
     "metadata": {},
     "output_type": "display_data"
    },
    {
     "data": {
      "text/html": [
       "<pre>| 71358        | 5.2e+09 | 98.3651     | 5h 34m       |</pre>"
      ],
      "text/plain": [
       "| 71358        | 5.2e+09 | 98.3651     | 5h 34m       |"
      ]
     },
     "metadata": {},
     "output_type": "display_data"
    },
    {
     "data": {
      "text/html": [
       "<pre>| 71400        | 5.2e+09 | 98.423      | 5h 34m       |</pre>"
      ],
      "text/plain": [
       "| 71400        | 5.2e+09 | 98.423      | 5h 34m       |"
      ]
     },
     "metadata": {},
     "output_type": "display_data"
    },
    {
     "data": {
      "text/html": [
       "<pre>| 71453        | 5.2e+09 | 98.4961     | 5h 34m       |</pre>"
      ],
      "text/plain": [
       "| 71453        | 5.2e+09 | 98.4961     | 5h 34m       |"
      ]
     },
     "metadata": {},
     "output_type": "display_data"
    },
    {
     "data": {
      "text/html": [
       "<pre>| 71505        | 5.2e+09 | 98.5678     | 5h 34m       |</pre>"
      ],
      "text/plain": [
       "| 71505        | 5.2e+09 | 98.5678     | 5h 34m       |"
      ]
     },
     "metadata": {},
     "output_type": "display_data"
    },
    {
     "data": {
      "text/html": [
       "<pre>| 71564        | 5.2e+09 | 98.6491     | 5h 34m       |</pre>"
      ],
      "text/plain": [
       "| 71564        | 5.2e+09 | 98.6491     | 5h 34m       |"
      ]
     },
     "metadata": {},
     "output_type": "display_data"
    },
    {
     "data": {
      "text/html": [
       "<pre>| 71628        | 5.2e+09 | 98.7373     | 5h 34m       |</pre>"
      ],
      "text/plain": [
       "| 71628        | 5.2e+09 | 98.7373     | 5h 34m       |"
      ]
     },
     "metadata": {},
     "output_type": "display_data"
    },
    {
     "data": {
      "text/html": [
       "<pre>| 71683        |         | 98.8131     | 5h 34m       |</pre>"
      ],
      "text/plain": [
       "| 71683        |         | 98.8131     | 5h 34m       |"
      ]
     },
     "metadata": {},
     "output_type": "display_data"
    },
    {
     "data": {
      "text/html": [
       "<pre>| 71731        | 5.2e+09 | 98.8793     | 5h 35m       |</pre>"
      ],
      "text/plain": [
       "| 71731        | 5.2e+09 | 98.8793     | 5h 35m       |"
      ]
     },
     "metadata": {},
     "output_type": "display_data"
    },
    {
     "data": {
      "text/html": [
       "<pre>| 71794        | 5.2e+09 | 98.9661     | 5h 35m       |</pre>"
      ],
      "text/plain": [
       "| 71794        | 5.2e+09 | 98.9661     | 5h 35m       |"
      ]
     },
     "metadata": {},
     "output_type": "display_data"
    },
    {
     "data": {
      "text/html": [
       "<pre>| 71855        | 5.2e+09 | 99.0502     | 5h 35m       |</pre>"
      ],
      "text/plain": [
       "| 71855        | 5.2e+09 | 99.0502     | 5h 35m       |"
      ]
     },
     "metadata": {},
     "output_type": "display_data"
    },
    {
     "data": {
      "text/html": [
       "<pre>| 71917        | 5.2e+09 | 99.1357     | 5h 35m       |</pre>"
      ],
      "text/plain": [
       "| 71917        | 5.2e+09 | 99.1357     | 5h 35m       |"
      ]
     },
     "metadata": {},
     "output_type": "display_data"
    },
    {
     "data": {
      "text/html": [
       "<pre>| 71977        | 5.2e+09 | 99.2184     | 5h 35m       |</pre>"
      ],
      "text/plain": [
       "| 71977        | 5.2e+09 | 99.2184     | 5h 35m       |"
      ]
     },
     "metadata": {},
     "output_type": "display_data"
    },
    {
     "data": {
      "text/html": [
       "<pre>| 72038        | 5.2e+09 | 99.3025     | 5h 35m       |</pre>"
      ],
      "text/plain": [
       "| 72038        | 5.2e+09 | 99.3025     | 5h 35m       |"
      ]
     },
     "metadata": {},
     "output_type": "display_data"
    },
    {
     "data": {
      "text/html": [
       "<pre>| 72098        | 5.2e+09 | 99.3852     | 5h 35m       |</pre>"
      ],
      "text/plain": [
       "| 72098        | 5.2e+09 | 99.3852     | 5h 35m       |"
      ]
     },
     "metadata": {},
     "output_type": "display_data"
    },
    {
     "data": {
      "text/html": [
       "<pre>| 72155        | 5.2e+09 | 99.4638     | 5h 35m       |</pre>"
      ],
      "text/plain": [
       "| 72155        | 5.2e+09 | 99.4638     | 5h 35m       |"
      ]
     },
     "metadata": {},
     "output_type": "display_data"
    },
    {
     "data": {
      "text/html": [
       "<pre>| 72223        | 5.2e+09 | 99.5575     | 5h 35m       |</pre>"
      ],
      "text/plain": [
       "| 72223        | 5.2e+09 | 99.5575     | 5h 35m       |"
      ]
     },
     "metadata": {},
     "output_type": "display_data"
    },
    {
     "data": {
      "text/html": [
       "<pre>| 72290        | 5.2e+09 | 99.6499     | 5h 35m       |</pre>"
      ],
      "text/plain": [
       "| 72290        | 5.2e+09 | 99.6499     | 5h 35m       |"
      ]
     },
     "metadata": {},
     "output_type": "display_data"
    },
    {
     "data": {
      "text/html": [
       "<pre>| 72358        | 5.2e+09 | 99.7436     | 5h 35m       |</pre>"
      ],
      "text/plain": [
       "| 72358        | 5.2e+09 | 99.7436     | 5h 35m       |"
      ]
     },
     "metadata": {},
     "output_type": "display_data"
    },
    {
     "data": {
      "text/html": [
       "<pre>| 72426        | 5.3e+09 | 99.8373     | 5h 35m       |</pre>"
      ],
      "text/plain": [
       "| 72426        | 5.3e+09 | 99.8373     | 5h 35m       |"
      ]
     },
     "metadata": {},
     "output_type": "display_data"
    },
    {
     "data": {
      "text/html": [
       "<pre>| 72476        | 5.3e+09 | 99.9063     | 5h 35m       |</pre>"
      ],
      "text/plain": [
       "| 72476        | 5.3e+09 | 99.9063     | 5h 35m       |"
      ]
     },
     "metadata": {},
     "output_type": "display_data"
    },
    {
     "data": {
      "text/html": [
       "<pre>| 72514        | 5.3e+09 | 99.9586     | 5h 35m       |</pre>"
      ],
      "text/plain": [
       "| 72514        | 5.3e+09 | 99.9586     | 5h 35m       |"
      ]
     },
     "metadata": {},
     "output_type": "display_data"
    },
    {
     "data": {
      "text/html": [
       "<pre>| Done         |         | 100         | 5h 35m       |</pre>"
      ],
      "text/plain": [
       "| Done         |         | 100         | 5h 35m       |"
      ]
     },
     "metadata": {},
     "output_type": "display_data"
    },
    {
     "data": {
      "text/html": [
       "<pre>+--------------+---------+-------------+--------------+</pre>"
      ],
      "text/plain": [
       "+--------------+---------+-------------+--------------+"
      ]
     },
     "metadata": {},
     "output_type": "display_data"
    },
    {
     "ename": "ToolkitError",
     "evalue": "Target column given as 'ratings', but this is not present in the provided data.",
     "output_type": "error",
     "traceback": [
      "\u001b[0;31m---------------------------------------------------------------------------\u001b[0m",
      "\u001b[0;31mToolkitError\u001b[0m                              Traceback (most recent call last)",
      "\u001b[0;32m<ipython-input-133-ea943c0c7f41>\u001b[0m in \u001b[0;36m<module>\u001b[0;34m()\u001b[0m\n\u001b[1;32m      1\u001b[0m \u001b[0mISM\u001b[0m \u001b[0;34m=\u001b[0m \u001b[0mtc\u001b[0m\u001b[0;34m.\u001b[0m\u001b[0mrecommender\u001b[0m\u001b[0;34m.\u001b[0m\u001b[0mitem_similarity_recommender\u001b[0m\u001b[0;34m.\u001b[0m\u001b[0mcreate\u001b[0m\u001b[0;34m(\u001b[0m\u001b[0manalyse\u001b[0m\u001b[0;34m,\u001b[0m \u001b[0muser_id\u001b[0m\u001b[0;34m=\u001b[0m\u001b[0;34m\"user_id\"\u001b[0m\u001b[0;34m,\u001b[0m \u001b[0mitem_id\u001b[0m\u001b[0;34m=\u001b[0m\u001b[0;34m\"movie_id\"\u001b[0m\u001b[0;34m,\u001b[0m \u001b[0mtarget\u001b[0m\u001b[0;34m=\u001b[0m \u001b[0;34m\"ratings\"\u001b[0m\u001b[0;34m)\u001b[0m\u001b[0;34m\u001b[0m\u001b[0m\n\u001b[0;32m----> 2\u001b[0;31m \u001b[0mICR\u001b[0m \u001b[0;34m=\u001b[0m \u001b[0mtc\u001b[0m\u001b[0;34m.\u001b[0m\u001b[0mrecommender\u001b[0m\u001b[0;34m.\u001b[0m\u001b[0mitem_content_recommender\u001b[0m\u001b[0;34m.\u001b[0m\u001b[0mcreate\u001b[0m\u001b[0;34m(\u001b[0m\u001b[0manalyse\u001b[0m\u001b[0;34m,\u001b[0m \u001b[0muser_id\u001b[0m\u001b[0;34m=\u001b[0m\u001b[0;34m\"user_id\"\u001b[0m\u001b[0;34m,\u001b[0m \u001b[0mitem_id\u001b[0m\u001b[0;34m=\u001b[0m\u001b[0;34m\"movie_id\"\u001b[0m\u001b[0;34m,\u001b[0m \u001b[0mtarget\u001b[0m\u001b[0;34m=\u001b[0m\u001b[0;34m\"ratings\"\u001b[0m\u001b[0;34m)\u001b[0m\u001b[0;34m\u001b[0m\u001b[0m\n\u001b[0m\u001b[1;32m      3\u001b[0m \u001b[0mFR\u001b[0m \u001b[0;34m=\u001b[0m \u001b[0mtc\u001b[0m\u001b[0;34m.\u001b[0m\u001b[0mrecommender\u001b[0m\u001b[0;34m.\u001b[0m\u001b[0mfactorization_recommender\u001b[0m\u001b[0;34m.\u001b[0m\u001b[0mcreate\u001b[0m\u001b[0;34m(\u001b[0m\u001b[0manalyse\u001b[0m\u001b[0;34m,\u001b[0m \u001b[0muser_id\u001b[0m\u001b[0;34m=\u001b[0m\u001b[0;34m\"user_id\"\u001b[0m\u001b[0;34m,\u001b[0m \u001b[0mitem_id\u001b[0m\u001b[0;34m=\u001b[0m\u001b[0;34m\"movie_id\"\u001b[0m\u001b[0;34m,\u001b[0m \u001b[0mtarget\u001b[0m\u001b[0;34m=\u001b[0m\u001b[0;34m\"ratings\"\u001b[0m\u001b[0;34m)\u001b[0m\u001b[0;34m\u001b[0m\u001b[0m\n",
      "\u001b[0;32m~/.local/share/virtualenvs/ds-ml-al-YMocjMnh/lib/python3.6/site-packages/turicreate/toolkits/recommender/item_content_recommender.py\u001b[0m in \u001b[0;36mcreate\u001b[0;34m(item_data, item_id, observation_data, user_id, target, weights, similarity_metrics, item_data_transform, max_item_neighborhood_size, verbose)\u001b[0m\n\u001b[1;32m    256\u001b[0m \u001b[0;34m\u001b[0m\u001b[0m\n\u001b[1;32m    257\u001b[0m     \u001b[0;32mwith\u001b[0m \u001b[0mQuietProgress\u001b[0m\u001b[0;34m(\u001b[0m\u001b[0mverbose\u001b[0m\u001b[0;34m)\u001b[0m\u001b[0;34m:\u001b[0m\u001b[0;34m\u001b[0m\u001b[0m\n\u001b[0;32m--> 258\u001b[0;31m         \u001b[0mresponse\u001b[0m \u001b[0;34m=\u001b[0m \u001b[0m_turicreate\u001b[0m\u001b[0;34m.\u001b[0m\u001b[0mextensions\u001b[0m\u001b[0;34m.\u001b[0m\u001b[0m_recsys\u001b[0m\u001b[0;34m.\u001b[0m\u001b[0mtrain\u001b[0m\u001b[0;34m(\u001b[0m\u001b[0mopts\u001b[0m\u001b[0;34m)\u001b[0m\u001b[0;34m\u001b[0m\u001b[0m\n\u001b[0m\u001b[1;32m    259\u001b[0m \u001b[0;34m\u001b[0m\u001b[0m\n\u001b[1;32m    260\u001b[0m     \u001b[0mout_model\u001b[0m \u001b[0;34m=\u001b[0m \u001b[0mItemContentRecommender\u001b[0m\u001b[0;34m(\u001b[0m\u001b[0mresponse\u001b[0m\u001b[0;34m[\u001b[0m\u001b[0;34m'model'\u001b[0m\u001b[0;34m]\u001b[0m\u001b[0;34m)\u001b[0m\u001b[0;34m\u001b[0m\u001b[0m\n",
      "\u001b[0;32m~/.local/share/virtualenvs/ds-ml-al-YMocjMnh/lib/python3.6/site-packages/turicreate/extensions.py\u001b[0m in \u001b[0;36m<lambda>\u001b[0;34m(*args, **kwargs)\u001b[0m\n\u001b[1;32m    168\u001b[0m \u001b[0;34m\u001b[0m\u001b[0m\n\u001b[1;32m    169\u001b[0m \u001b[0;32mdef\u001b[0m \u001b[0m_make_injected_function\u001b[0m\u001b[0;34m(\u001b[0m\u001b[0mfn\u001b[0m\u001b[0;34m,\u001b[0m \u001b[0marguments\u001b[0m\u001b[0;34m)\u001b[0m\u001b[0;34m:\u001b[0m\u001b[0;34m\u001b[0m\u001b[0m\n\u001b[0;32m--> 170\u001b[0;31m     \u001b[0;32mreturn\u001b[0m \u001b[0;32mlambda\u001b[0m \u001b[0;34m*\u001b[0m\u001b[0margs\u001b[0m\u001b[0;34m,\u001b[0m \u001b[0;34m**\u001b[0m\u001b[0mkwargs\u001b[0m\u001b[0;34m:\u001b[0m \u001b[0m_run_toolkit_function\u001b[0m\u001b[0;34m(\u001b[0m\u001b[0mfn\u001b[0m\u001b[0;34m,\u001b[0m \u001b[0marguments\u001b[0m\u001b[0;34m,\u001b[0m \u001b[0margs\u001b[0m\u001b[0;34m,\u001b[0m \u001b[0mkwargs\u001b[0m\u001b[0;34m)\u001b[0m\u001b[0;34m\u001b[0m\u001b[0m\n\u001b[0m\u001b[1;32m    171\u001b[0m \u001b[0;34m\u001b[0m\u001b[0m\n\u001b[1;32m    172\u001b[0m \u001b[0;32mdef\u001b[0m \u001b[0m_class_instance_from_name\u001b[0m\u001b[0;34m(\u001b[0m\u001b[0mclass_name\u001b[0m\u001b[0;34m,\u001b[0m \u001b[0;34m*\u001b[0m\u001b[0marg\u001b[0m\u001b[0;34m,\u001b[0m \u001b[0;34m**\u001b[0m\u001b[0mkwarg\u001b[0m\u001b[0;34m)\u001b[0m\u001b[0;34m:\u001b[0m\u001b[0;34m\u001b[0m\u001b[0m\n",
      "\u001b[0;32m~/.local/share/virtualenvs/ds-ml-al-YMocjMnh/lib/python3.6/site-packages/turicreate/extensions.py\u001b[0m in \u001b[0;36m_run_toolkit_function\u001b[0;34m(fnname, arguments, args, kwargs)\u001b[0m\n\u001b[1;32m    157\u001b[0m     \u001b[0;32mif\u001b[0m \u001b[0;32mnot\u001b[0m \u001b[0mret\u001b[0m\u001b[0;34m[\u001b[0m\u001b[0;36m0\u001b[0m\u001b[0;34m]\u001b[0m\u001b[0;34m:\u001b[0m\u001b[0;34m\u001b[0m\u001b[0m\n\u001b[1;32m    158\u001b[0m         \u001b[0;32mif\u001b[0m \u001b[0mlen\u001b[0m\u001b[0;34m(\u001b[0m\u001b[0mret\u001b[0m\u001b[0;34m[\u001b[0m\u001b[0;36m1\u001b[0m\u001b[0;34m]\u001b[0m\u001b[0;34m)\u001b[0m \u001b[0;34m>\u001b[0m \u001b[0;36m0\u001b[0m\u001b[0;34m:\u001b[0m\u001b[0;34m\u001b[0m\u001b[0m\n\u001b[0;32m--> 159\u001b[0;31m             \u001b[0;32mraise\u001b[0m \u001b[0m_ToolkitError\u001b[0m\u001b[0;34m(\u001b[0m\u001b[0mret\u001b[0m\u001b[0;34m[\u001b[0m\u001b[0;36m1\u001b[0m\u001b[0;34m]\u001b[0m\u001b[0;34m)\u001b[0m\u001b[0;34m\u001b[0m\u001b[0m\n\u001b[0m\u001b[1;32m    160\u001b[0m         \u001b[0;32melse\u001b[0m\u001b[0;34m:\u001b[0m\u001b[0;34m\u001b[0m\u001b[0m\n\u001b[1;32m    161\u001b[0m             \u001b[0;32mraise\u001b[0m \u001b[0m_ToolkitError\u001b[0m\u001b[0;34m(\u001b[0m\u001b[0;34m\"Toolkit failed with unknown error\"\u001b[0m\u001b[0;34m)\u001b[0m\u001b[0;34m\u001b[0m\u001b[0m\n",
      "\u001b[0;31mToolkitError\u001b[0m: Target column given as 'ratings', but this is not present in the provided data."
     ]
    }
   ],
   "source": [
    "ISM = tc.recommender.item_similarity_recommender.create(analyse, user_id=\"user_id\", item_id=\"movie_id\", target= \"ratings\")\n",
    "ICR = tc.recommender.item_content_recommender.create(analyse, user_id=\"user_id\", item_id=\"movie_id\", target=\"ratings\")\n",
    "FR = tc.recommender.factorization_recommender.create(analyse, user_id=\"user_id\", item_id=\"movie_id\", target=\"ratings\")"
   ]
  },
  {
   "cell_type": "code",
   "execution_count": null,
   "metadata": {},
   "outputs": [],
   "source": [
    "ism = ISM.recommed()\n",
    "icr = ICR.recommed()\n",
    "fr = FR.recommed()"
   ]
  },
  {
   "cell_type": "code",
   "execution_count": null,
   "metadata": {},
   "outputs": [],
   "source": [
    "#checking the rms value\n",
    "ism.evaluate_rms()"
   ]
  }
 ],
 "metadata": {
  "kernelspec": {
   "display_name": "Python 3",
   "language": "python",
   "name": "python3"
  },
  "language_info": {
   "codemirror_mode": {
    "name": "ipython",
    "version": 3
   },
   "file_extension": ".py",
   "mimetype": "text/x-python",
   "name": "python",
   "nbconvert_exporter": "python",
   "pygments_lexer": "ipython3",
   "version": "3.6.5"
  }
 },
 "nbformat": 4,
 "nbformat_minor": 2
}
