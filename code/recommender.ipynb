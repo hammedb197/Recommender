{
 "cells": [
  {
   "cell_type": "code",
   "execution_count": null,
   "metadata": {},
   "outputs": [],
   "source": [
    "import pandas as pd\n",
    "import turicreate as tc"
   ]
  },
  {
   "cell_type": "code",
   "execution_count": null,
   "metadata": {},
   "outputs": [],
   "source": [
    "user = tc.SFrame.read_csv(\"ml-100k/u.user\", header=None, delimiter='|', usecols=[\"X1\", \"X2\", \"X3\", \"X4\"])\n",
    "user = user.rename({\"X1\":\"user_id\", \"X2\":\"Age\", \"X4\":\"occupation\", \"X3\":\"Sex\"})\n",
    "base = tc.SFrame.read_csv(\"ml-100k/u1.base\", header=None, delimiter='\\t', usecols=[\"X1\", \"X2\", \"X3\"])\n",
    "base = base.rename({\"X1\":\"item_id\", \"X2\":\"user_id\", \"X3\":\"ratings\"})\n",
    "item = tc.SFrame.read_csv(\"ml-100k/u.item\", delimiter=\"|\",header=None, usecols=[\"X1\", \"X2\"])\n",
    "item = item.rename({\"X1\":\"user_id\", \"X2\":\"movie_title\"})"
   ]
  },
  {
   "cell_type": "code",
   "execution_count": null,
   "metadata": {},
   "outputs": [],
   "source": [
    "use = user.join(base)\n",
    "analyse =use.join(item)"
   ]
  },
  {
   "cell_type": "code",
   "execution_count": null,
   "metadata": {},
   "outputs": [],
   "source": [
    "analyse.head()"
   ]
  },
  {
   "cell_type": "code",
   "execution_count": null,
   "metadata": {},
   "outputs": [],
   "source": [
    "train,test = tc.recommender.util.random_split_by_user(analyse)"
   ]
  },
  {
   "cell_type": "code",
   "execution_count": null,
   "metadata": {},
   "outputs": [],
   "source": [
    "ISM = tc.recommender.item_similarity_recommender.create(train, user_id=\"user_id\", item_id=\"item_id\", target= \"ratings\")\n",
    "ICR = tc.recommender.item_content_recommender.create(train, user_id=\"user_id\", item_id=\"item_id\", target=\"ratings\")\n",
    "FR = tc.recommender.factorization_recommender.create(train, user_id=\"user_id\", item_id=\"item_id\", target=\"ratings\")"
   ]
  },
  {
   "cell_type": "code",
   "execution_count": null,
   "metadata": {},
   "outputs": [],
   "source": [
    "ism = ISM.recommed()\n",
    "icr = ICR.recommed()\n",
    "fr = FR.recommed()"
   ]
  },
  {
   "cell_type": "code",
   "execution_count": null,
   "metadata": {},
   "outputs": [],
   "source": [
    "from turicreate.toolkits.recommender.util import precision_recall_by_user\n",
    "\n",
    "precision_recall_by_user(test, ism)"
   ]
  },
  {
   "cell_type": "code",
   "execution_count": null,
   "metadata": {},
   "outputs": [],
   "source": [
    "#checking the rms value\n",
    "ism.evaluate_rms()"
   ]
  }
 ],
 "metadata": {
  "kernelspec": {
   "display_name": "Python 3",
   "language": "python",
   "name": "python3"
  },
  "language_info": {
   "codemirror_mode": {
    "name": "ipython",
    "version": 3
   },
   "file_extension": ".py",
   "mimetype": "text/x-python",
   "name": "python",
   "nbconvert_exporter": "python",
   "pygments_lexer": "ipython3",
   "version": "3.6.5"
  }
 },
 "nbformat": 4,
 "nbformat_minor": 2
}
