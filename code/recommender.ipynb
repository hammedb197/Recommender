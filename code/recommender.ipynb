{
 "cells": [
  {
   "cell_type": "code",
   "execution_count": 1,
   "metadata": {},
   "outputs": [],
   "source": [
    "import pandas as pd\n",
    "import turicreate as tc"
   ]
  },
  {
   "cell_type": "code",
   "execution_count": 104,
   "metadata": {},
   "outputs": [
    {
     "data": {
      "text/html": [
       "<pre>Read 100 lines. Lines per second: 1146.13</pre>"
      ],
      "text/plain": [
       "Read 100 lines. Lines per second: 1146.13"
      ]
     },
     "metadata": {},
     "output_type": "display_data"
    },
    {
     "data": {
      "text/html": [
       "<pre>Finished parsing file /home/hammed/Documents/PythonProject/ds-ml-al/Recommender/code/ml-100k/u.user</pre>"
      ],
      "text/plain": [
       "Finished parsing file /home/hammed/Documents/PythonProject/ds-ml-al/Recommender/code/ml-100k/u.user"
      ]
     },
     "metadata": {},
     "output_type": "display_data"
    },
    {
     "data": {
      "text/html": [
       "<pre>Parsing completed. Parsed 100 lines in 0.087433 secs.</pre>"
      ],
      "text/plain": [
       "Parsing completed. Parsed 100 lines in 0.087433 secs."
      ]
     },
     "metadata": {},
     "output_type": "display_data"
    },
    {
     "name": "stdout",
     "output_type": "stream",
     "text": [
      "------------------------------------------------------\n",
      "Inferred types from first 100 line(s) of file as \n",
      "column_type_hints=[int,int,str,str]\n",
      "If parsing fails due to incorrect types, you can correct\n",
      "the inferred type list above and pass it to read_csv in\n",
      "the column_type_hints argument\n",
      "------------------------------------------------------\n"
     ]
    },
    {
     "data": {
      "text/html": [
       "<pre>Finished parsing file /home/hammed/Documents/PythonProject/ds-ml-al/Recommender/code/ml-100k/u.user</pre>"
      ],
      "text/plain": [
       "Finished parsing file /home/hammed/Documents/PythonProject/ds-ml-al/Recommender/code/ml-100k/u.user"
      ]
     },
     "metadata": {},
     "output_type": "display_data"
    },
    {
     "data": {
      "text/html": [
       "<pre>Parsing completed. Parsed 943 lines in 0.09756 secs.</pre>"
      ],
      "text/plain": [
       "Parsing completed. Parsed 943 lines in 0.09756 secs."
      ]
     },
     "metadata": {},
     "output_type": "display_data"
    },
    {
     "data": {
      "text/html": [
       "<pre>Finished parsing file /home/hammed/Documents/PythonProject/ds-ml-al/Recommender/code/ml-100k/u1.base</pre>"
      ],
      "text/plain": [
       "Finished parsing file /home/hammed/Documents/PythonProject/ds-ml-al/Recommender/code/ml-100k/u1.base"
      ]
     },
     "metadata": {},
     "output_type": "display_data"
    },
    {
     "data": {
      "text/html": [
       "<pre>Parsing completed. Parsed 100 lines in 0.178498 secs.</pre>"
      ],
      "text/plain": [
       "Parsing completed. Parsed 100 lines in 0.178498 secs."
      ]
     },
     "metadata": {},
     "output_type": "display_data"
    },
    {
     "name": "stdout",
     "output_type": "stream",
     "text": [
      "------------------------------------------------------\n",
      "Inferred types from first 100 line(s) of file as \n",
      "column_type_hints=[int,int,int]\n",
      "If parsing fails due to incorrect types, you can correct\n",
      "the inferred type list above and pass it to read_csv in\n",
      "the column_type_hints argument\n",
      "------------------------------------------------------\n"
     ]
    },
    {
     "data": {
      "text/html": [
       "<pre>Finished parsing file /home/hammed/Documents/PythonProject/ds-ml-al/Recommender/code/ml-100k/u1.base</pre>"
      ],
      "text/plain": [
       "Finished parsing file /home/hammed/Documents/PythonProject/ds-ml-al/Recommender/code/ml-100k/u1.base"
      ]
     },
     "metadata": {},
     "output_type": "display_data"
    },
    {
     "data": {
      "text/html": [
       "<pre>Parsing completed. Parsed 80000 lines in 0.15425 secs.</pre>"
      ],
      "text/plain": [
       "Parsing completed. Parsed 80000 lines in 0.15425 secs."
      ]
     },
     "metadata": {},
     "output_type": "display_data"
    },
    {
     "data": {
      "text/html": [
       "<pre>Finished parsing file /home/hammed/Documents/PythonProject/ds-ml-al/Recommender/code/ml-100k/u.item</pre>"
      ],
      "text/plain": [
       "Finished parsing file /home/hammed/Documents/PythonProject/ds-ml-al/Recommender/code/ml-100k/u.item"
      ]
     },
     "metadata": {},
     "output_type": "display_data"
    },
    {
     "data": {
      "text/html": [
       "<pre>Parsing completed. Parsed 100 lines in 0.068201 secs.</pre>"
      ],
      "text/plain": [
       "Parsing completed. Parsed 100 lines in 0.068201 secs."
      ]
     },
     "metadata": {},
     "output_type": "display_data"
    },
    {
     "name": "stdout",
     "output_type": "stream",
     "text": [
      "------------------------------------------------------\n",
      "Inferred types from first 100 line(s) of file as \n",
      "column_type_hints=[int,str]\n",
      "If parsing fails due to incorrect types, you can correct\n",
      "the inferred type list above and pass it to read_csv in\n",
      "the column_type_hints argument\n",
      "------------------------------------------------------\n"
     ]
    },
    {
     "data": {
      "text/html": [
       "<pre>Finished parsing file /home/hammed/Documents/PythonProject/ds-ml-al/Recommender/code/ml-100k/u.item</pre>"
      ],
      "text/plain": [
       "Finished parsing file /home/hammed/Documents/PythonProject/ds-ml-al/Recommender/code/ml-100k/u.item"
      ]
     },
     "metadata": {},
     "output_type": "display_data"
    },
    {
     "data": {
      "text/html": [
       "<pre>Parsing completed. Parsed 1682 lines in 0.103629 secs.</pre>"
      ],
      "text/plain": [
       "Parsing completed. Parsed 1682 lines in 0.103629 secs."
      ]
     },
     "metadata": {},
     "output_type": "display_data"
    }
   ],
   "source": [
    "user = tc.SFrame.read_csv(\"ml-100k/u.user\", header=None, delimiter='|', usecols=[\"X1\", \"X2\", \"X3\", \"X4\"])\n",
    "user = user.rename({\"X1\":\"user_id\", \"X2\":\"Age\", \"X4\":\"occupation\", \"X3\":\"Sex\"})\n",
    "base = tc.SFrame.read_csv(\"ml-100k/u1.base\", header=None, delimiter='\\t', usecols=[\"X1\", \"X2\", \"X3\"])\n",
    "base = base.rename({\"X1\":\"movie_id\", \"X2\":\"user_id\", \"X3\":\"ratings\"})\n",
    "item = tc.SFrame.read_csv(\"ml-100k/u.item\", delimiter=\"|\",header=None, usecols=[\"X1\", \"X2\"])\n",
    "item = item.rename({\"X1\":\"user_id\", \"X2\":\"movie_title\"})"
   ]
  },
  {
   "cell_type": "code",
   "execution_count": 114,
   "metadata": {},
   "outputs": [],
   "source": [
    "use = user.join(base)\n",
    "analyse =use.join(item)"
   ]
  },
  {
   "cell_type": "code",
   "execution_count": 118,
   "metadata": {},
   "outputs": [
    {
     "data": {
      "text/html": [
       "<div style=\"max-height:1000px;max-width:1500px;overflow:auto;\"><table frame=\"box\" rules=\"cols\">\n",
       "    <tr>\n",
       "        <th style=\"padding-left: 1em; padding-right: 1em; text-align: center\">user_id</th>\n",
       "        <th style=\"padding-left: 1em; padding-right: 1em; text-align: center\">Age</th>\n",
       "        <th style=\"padding-left: 1em; padding-right: 1em; text-align: center\">Sex</th>\n",
       "        <th style=\"padding-left: 1em; padding-right: 1em; text-align: center\">occupation</th>\n",
       "        <th style=\"padding-left: 1em; padding-right: 1em; text-align: center\">movie_id</th>\n",
       "        <th style=\"padding-left: 1em; padding-right: 1em; text-align: center\">ratings</th>\n",
       "        <th style=\"padding-left: 1em; padding-right: 1em; text-align: center\">movie_title</th>\n",
       "    </tr>\n",
       "    <tr>\n",
       "        <td style=\"padding-left: 1em; padding-right: 1em; text-align: center; vertical-align: top\">1</td>\n",
       "        <td style=\"padding-left: 1em; padding-right: 1em; text-align: center; vertical-align: top\">24</td>\n",
       "        <td style=\"padding-left: 1em; padding-right: 1em; text-align: center; vertical-align: top\">M</td>\n",
       "        <td style=\"padding-left: 1em; padding-right: 1em; text-align: center; vertical-align: top\">technician</td>\n",
       "        <td style=\"padding-left: 1em; padding-right: 1em; text-align: center; vertical-align: top\">1</td>\n",
       "        <td style=\"padding-left: 1em; padding-right: 1em; text-align: center; vertical-align: top\">5</td>\n",
       "        <td style=\"padding-left: 1em; padding-right: 1em; text-align: center; vertical-align: top\">Toy Story (1995)</td>\n",
       "    </tr>\n",
       "    <tr>\n",
       "        <td style=\"padding-left: 1em; padding-right: 1em; text-align: center; vertical-align: top\">2</td>\n",
       "        <td style=\"padding-left: 1em; padding-right: 1em; text-align: center; vertical-align: top\">53</td>\n",
       "        <td style=\"padding-left: 1em; padding-right: 1em; text-align: center; vertical-align: top\">F</td>\n",
       "        <td style=\"padding-left: 1em; padding-right: 1em; text-align: center; vertical-align: top\">other</td>\n",
       "        <td style=\"padding-left: 1em; padding-right: 1em; text-align: center; vertical-align: top\">1</td>\n",
       "        <td style=\"padding-left: 1em; padding-right: 1em; text-align: center; vertical-align: top\">3</td>\n",
       "        <td style=\"padding-left: 1em; padding-right: 1em; text-align: center; vertical-align: top\">GoldenEye (1995)</td>\n",
       "    </tr>\n",
       "    <tr>\n",
       "        <td style=\"padding-left: 1em; padding-right: 1em; text-align: center; vertical-align: top\">3</td>\n",
       "        <td style=\"padding-left: 1em; padding-right: 1em; text-align: center; vertical-align: top\">23</td>\n",
       "        <td style=\"padding-left: 1em; padding-right: 1em; text-align: center; vertical-align: top\">M</td>\n",
       "        <td style=\"padding-left: 1em; padding-right: 1em; text-align: center; vertical-align: top\">writer</td>\n",
       "        <td style=\"padding-left: 1em; padding-right: 1em; text-align: center; vertical-align: top\">1</td>\n",
       "        <td style=\"padding-left: 1em; padding-right: 1em; text-align: center; vertical-align: top\">4</td>\n",
       "        <td style=\"padding-left: 1em; padding-right: 1em; text-align: center; vertical-align: top\">Four Rooms (1995)</td>\n",
       "    </tr>\n",
       "    <tr>\n",
       "        <td style=\"padding-left: 1em; padding-right: 1em; text-align: center; vertical-align: top\">4</td>\n",
       "        <td style=\"padding-left: 1em; padding-right: 1em; text-align: center; vertical-align: top\">24</td>\n",
       "        <td style=\"padding-left: 1em; padding-right: 1em; text-align: center; vertical-align: top\">M</td>\n",
       "        <td style=\"padding-left: 1em; padding-right: 1em; text-align: center; vertical-align: top\">technician</td>\n",
       "        <td style=\"padding-left: 1em; padding-right: 1em; text-align: center; vertical-align: top\">1</td>\n",
       "        <td style=\"padding-left: 1em; padding-right: 1em; text-align: center; vertical-align: top\">3</td>\n",
       "        <td style=\"padding-left: 1em; padding-right: 1em; text-align: center; vertical-align: top\">Get Shorty (1995)</td>\n",
       "    </tr>\n",
       "    <tr>\n",
       "        <td style=\"padding-left: 1em; padding-right: 1em; text-align: center; vertical-align: top\">5</td>\n",
       "        <td style=\"padding-left: 1em; padding-right: 1em; text-align: center; vertical-align: top\">33</td>\n",
       "        <td style=\"padding-left: 1em; padding-right: 1em; text-align: center; vertical-align: top\">F</td>\n",
       "        <td style=\"padding-left: 1em; padding-right: 1em; text-align: center; vertical-align: top\">other</td>\n",
       "        <td style=\"padding-left: 1em; padding-right: 1em; text-align: center; vertical-align: top\">1</td>\n",
       "        <td style=\"padding-left: 1em; padding-right: 1em; text-align: center; vertical-align: top\">3</td>\n",
       "        <td style=\"padding-left: 1em; padding-right: 1em; text-align: center; vertical-align: top\">Copycat (1995)</td>\n",
       "    </tr>\n",
       "    <tr>\n",
       "        <td style=\"padding-left: 1em; padding-right: 1em; text-align: center; vertical-align: top\">7</td>\n",
       "        <td style=\"padding-left: 1em; padding-right: 1em; text-align: center; vertical-align: top\">57</td>\n",
       "        <td style=\"padding-left: 1em; padding-right: 1em; text-align: center; vertical-align: top\">M</td>\n",
       "        <td style=\"padding-left: 1em; padding-right: 1em; text-align: center; vertical-align: top\">administrator</td>\n",
       "        <td style=\"padding-left: 1em; padding-right: 1em; text-align: center; vertical-align: top\">1</td>\n",
       "        <td style=\"padding-left: 1em; padding-right: 1em; text-align: center; vertical-align: top\">4</td>\n",
       "        <td style=\"padding-left: 1em; padding-right: 1em; text-align: center; vertical-align: top\">Twelve Monkeys (1995)</td>\n",
       "    </tr>\n",
       "    <tr>\n",
       "        <td style=\"padding-left: 1em; padding-right: 1em; text-align: center; vertical-align: top\">8</td>\n",
       "        <td style=\"padding-left: 1em; padding-right: 1em; text-align: center; vertical-align: top\">36</td>\n",
       "        <td style=\"padding-left: 1em; padding-right: 1em; text-align: center; vertical-align: top\">M</td>\n",
       "        <td style=\"padding-left: 1em; padding-right: 1em; text-align: center; vertical-align: top\">administrator</td>\n",
       "        <td style=\"padding-left: 1em; padding-right: 1em; text-align: center; vertical-align: top\">1</td>\n",
       "        <td style=\"padding-left: 1em; padding-right: 1em; text-align: center; vertical-align: top\">1</td>\n",
       "        <td style=\"padding-left: 1em; padding-right: 1em; text-align: center; vertical-align: top\">Babe (1995)</td>\n",
       "    </tr>\n",
       "    <tr>\n",
       "        <td style=\"padding-left: 1em; padding-right: 1em; text-align: center; vertical-align: top\">9</td>\n",
       "        <td style=\"padding-left: 1em; padding-right: 1em; text-align: center; vertical-align: top\">29</td>\n",
       "        <td style=\"padding-left: 1em; padding-right: 1em; text-align: center; vertical-align: top\">M</td>\n",
       "        <td style=\"padding-left: 1em; padding-right: 1em; text-align: center; vertical-align: top\">student</td>\n",
       "        <td style=\"padding-left: 1em; padding-right: 1em; text-align: center; vertical-align: top\">1</td>\n",
       "        <td style=\"padding-left: 1em; padding-right: 1em; text-align: center; vertical-align: top\">5</td>\n",
       "        <td style=\"padding-left: 1em; padding-right: 1em; text-align: center; vertical-align: top\">Dead Man Walking (1995)</td>\n",
       "    </tr>\n",
       "    <tr>\n",
       "        <td style=\"padding-left: 1em; padding-right: 1em; text-align: center; vertical-align: top\">11</td>\n",
       "        <td style=\"padding-left: 1em; padding-right: 1em; text-align: center; vertical-align: top\">39</td>\n",
       "        <td style=\"padding-left: 1em; padding-right: 1em; text-align: center; vertical-align: top\">F</td>\n",
       "        <td style=\"padding-left: 1em; padding-right: 1em; text-align: center; vertical-align: top\">other</td>\n",
       "        <td style=\"padding-left: 1em; padding-right: 1em; text-align: center; vertical-align: top\">1</td>\n",
       "        <td style=\"padding-left: 1em; padding-right: 1em; text-align: center; vertical-align: top\">2</td>\n",
       "        <td style=\"padding-left: 1em; padding-right: 1em; text-align: center; vertical-align: top\">Seven (Se7en) (1995)</td>\n",
       "    </tr>\n",
       "    <tr>\n",
       "        <td style=\"padding-left: 1em; padding-right: 1em; text-align: center; vertical-align: top\">13</td>\n",
       "        <td style=\"padding-left: 1em; padding-right: 1em; text-align: center; vertical-align: top\">47</td>\n",
       "        <td style=\"padding-left: 1em; padding-right: 1em; text-align: center; vertical-align: top\">M</td>\n",
       "        <td style=\"padding-left: 1em; padding-right: 1em; text-align: center; vertical-align: top\">educator</td>\n",
       "        <td style=\"padding-left: 1em; padding-right: 1em; text-align: center; vertical-align: top\">1</td>\n",
       "        <td style=\"padding-left: 1em; padding-right: 1em; text-align: center; vertical-align: top\">5</td>\n",
       "        <td style=\"padding-left: 1em; padding-right: 1em; text-align: center; vertical-align: top\">Mighty Aphrodite (1995)</td>\n",
       "    </tr>\n",
       "</table>\n",
       "[10 rows x 7 columns]<br/>\n",
       "</div>"
      ],
      "text/plain": [
       "Columns:\n",
       "\tuser_id\tint\n",
       "\tAge\tint\n",
       "\tSex\tstr\n",
       "\toccupation\tstr\n",
       "\tmovie_id\tint\n",
       "\tratings\tint\n",
       "\tmovie_title\tstr\n",
       "\n",
       "Rows: 10\n",
       "\n",
       "Data:\n",
       "+---------+-----+-----+---------------+----------+---------+\n",
       "| user_id | Age | Sex |   occupation  | movie_id | ratings |\n",
       "+---------+-----+-----+---------------+----------+---------+\n",
       "|    1    |  24 |  M  |   technician  |    1     |    5    |\n",
       "|    2    |  53 |  F  |     other     |    1     |    3    |\n",
       "|    3    |  23 |  M  |     writer    |    1     |    4    |\n",
       "|    4    |  24 |  M  |   technician  |    1     |    3    |\n",
       "|    5    |  33 |  F  |     other     |    1     |    3    |\n",
       "|    7    |  57 |  M  | administrator |    1     |    4    |\n",
       "|    8    |  36 |  M  | administrator |    1     |    1    |\n",
       "|    9    |  29 |  M  |    student    |    1     |    5    |\n",
       "|    11   |  39 |  F  |     other     |    1     |    2    |\n",
       "|    13   |  47 |  M  |    educator   |    1     |    5    |\n",
       "+---------+-----+-----+---------------+----------+---------+\n",
       "+-------------------------+\n",
       "|       movie_title       |\n",
       "+-------------------------+\n",
       "|     Toy Story (1995)    |\n",
       "|     GoldenEye (1995)    |\n",
       "|    Four Rooms (1995)    |\n",
       "|    Get Shorty (1995)    |\n",
       "|      Copycat (1995)     |\n",
       "|  Twelve Monkeys (1995)  |\n",
       "|       Babe (1995)       |\n",
       "| Dead Man Walking (1995) |\n",
       "|   Seven (Se7en) (1995)  |\n",
       "| Mighty Aphrodite (1995) |\n",
       "+-------------------------+\n",
       "[10 rows x 7 columns]"
      ]
     },
     "execution_count": 118,
     "metadata": {},
     "output_type": "execute_result"
    }
   ],
   "source": [
    "analyse.head()"
   ]
  },
  {
   "cell_type": "code",
   "execution_count": null,
   "metadata": {},
   "outputs": [
    {
     "data": {
      "text/html": [
       "<pre>Recsys training: model = item_similarity</pre>"
      ],
      "text/plain": [
       "Recsys training: model = item_similarity"
      ]
     },
     "metadata": {},
     "output_type": "display_data"
    },
    {
     "data": {
      "text/html": [
       "<pre>Warning: Ignoring columns Age, Sex, occupation, movie_title;</pre>"
      ],
      "text/plain": [
       "Warning: Ignoring columns Age, Sex, occupation, movie_title;"
      ]
     },
     "metadata": {},
     "output_type": "display_data"
    },
    {
     "data": {
      "text/html": [
       "<pre>    To use these columns in scoring predictions, use a model that allows the use of additional features.</pre>"
      ],
      "text/plain": [
       "    To use these columns in scoring predictions, use a model that allows the use of additional features."
      ]
     },
     "metadata": {},
     "output_type": "display_data"
    },
    {
     "data": {
      "text/html": [
       "<pre>Preparing data set.</pre>"
      ],
      "text/plain": [
       "Preparing data set."
      ]
     },
     "metadata": {},
     "output_type": "display_data"
    },
    {
     "data": {
      "text/html": [
       "<pre>    Data has 72544 observations with 937 users and 943 items.</pre>"
      ],
      "text/plain": [
       "    Data has 72544 observations with 937 users and 943 items."
      ]
     },
     "metadata": {},
     "output_type": "display_data"
    },
    {
     "data": {
      "text/html": [
       "<pre>    Data prepared in: 0.592434s</pre>"
      ],
      "text/plain": [
       "    Data prepared in: 0.592434s"
      ]
     },
     "metadata": {},
     "output_type": "display_data"
    },
    {
     "data": {
      "text/html": [
       "<pre>Training model from provided data.</pre>"
      ],
      "text/plain": [
       "Training model from provided data."
      ]
     },
     "metadata": {},
     "output_type": "display_data"
    },
    {
     "data": {
      "text/html": [
       "<pre>Gathering per-item and per-user statistics.</pre>"
      ],
      "text/plain": [
       "Gathering per-item and per-user statistics."
      ]
     },
     "metadata": {},
     "output_type": "display_data"
    },
    {
     "data": {
      "text/html": [
       "<pre>+--------------------------------+------------+</pre>"
      ],
      "text/plain": [
       "+--------------------------------+------------+"
      ]
     },
     "metadata": {},
     "output_type": "display_data"
    },
    {
     "data": {
      "text/html": [
       "<pre>| Elapsed Time (Item Statistics) | % Complete |</pre>"
      ],
      "text/plain": [
       "| Elapsed Time (Item Statistics) | % Complete |"
      ]
     },
     "metadata": {},
     "output_type": "display_data"
    },
    {
     "data": {
      "text/html": [
       "<pre>+--------------------------------+------------+</pre>"
      ],
      "text/plain": [
       "+--------------------------------+------------+"
      ]
     },
     "metadata": {},
     "output_type": "display_data"
    },
    {
     "data": {
      "text/html": [
       "<pre>| 97.735ms                       | 100        |</pre>"
      ],
      "text/plain": [
       "| 97.735ms                       | 100        |"
      ]
     },
     "metadata": {},
     "output_type": "display_data"
    },
    {
     "data": {
      "text/html": [
       "<pre>+--------------------------------+------------+</pre>"
      ],
      "text/plain": [
       "+--------------------------------+------------+"
      ]
     },
     "metadata": {},
     "output_type": "display_data"
    },
    {
     "data": {
      "text/html": [
       "<pre>Setting up lookup tables.</pre>"
      ],
      "text/plain": [
       "Setting up lookup tables."
      ]
     },
     "metadata": {},
     "output_type": "display_data"
    },
    {
     "data": {
      "text/html": [
       "<pre>Processing data in one pass using dense lookup tables.</pre>"
      ],
      "text/plain": [
       "Processing data in one pass using dense lookup tables."
      ]
     },
     "metadata": {},
     "output_type": "display_data"
    },
    {
     "data": {
      "text/html": [
       "<pre>+-------------------------------------+------------------+-----------------+</pre>"
      ],
      "text/plain": [
       "+-------------------------------------+------------------+-----------------+"
      ]
     },
     "metadata": {},
     "output_type": "display_data"
    },
    {
     "data": {
      "text/html": [
       "<pre>| Elapsed Time (Constructing Lookups) | Total % Complete | Items Processed |</pre>"
      ],
      "text/plain": [
       "| Elapsed Time (Constructing Lookups) | Total % Complete | Items Processed |"
      ]
     },
     "metadata": {},
     "output_type": "display_data"
    },
    {
     "data": {
      "text/html": [
       "<pre>+-------------------------------------+------------------+-----------------+</pre>"
      ],
      "text/plain": [
       "+-------------------------------------+------------------+-----------------+"
      ]
     },
     "metadata": {},
     "output_type": "display_data"
    },
    {
     "data": {
      "text/html": [
       "<pre>| 100.987ms                           | 0                | 0               |</pre>"
      ],
      "text/plain": [
       "| 100.987ms                           | 0                | 0               |"
      ]
     },
     "metadata": {},
     "output_type": "display_data"
    },
    {
     "data": {
      "text/html": [
       "<pre>| 490.944ms                           | 100              | 943             |</pre>"
      ],
      "text/plain": [
       "| 490.944ms                           | 100              | 943             |"
      ]
     },
     "metadata": {},
     "output_type": "display_data"
    },
    {
     "data": {
      "text/html": [
       "<pre>+-------------------------------------+------------------+-----------------+</pre>"
      ],
      "text/plain": [
       "+-------------------------------------+------------------+-----------------+"
      ]
     },
     "metadata": {},
     "output_type": "display_data"
    },
    {
     "data": {
      "text/html": [
       "<pre>Finalizing lookup tables.</pre>"
      ],
      "text/plain": [
       "Finalizing lookup tables."
      ]
     },
     "metadata": {},
     "output_type": "display_data"
    },
    {
     "data": {
      "text/html": [
       "<pre>Generating candidate set for working with new users.</pre>"
      ],
      "text/plain": [
       "Generating candidate set for working with new users."
      ]
     },
     "metadata": {},
     "output_type": "display_data"
    },
    {
     "data": {
      "text/html": [
       "<pre>Finished training in 0.586264s</pre>"
      ],
      "text/plain": [
       "Finished training in 0.586264s"
      ]
     },
     "metadata": {},
     "output_type": "display_data"
    },
    {
     "name": "stdout",
     "output_type": "stream",
     "text": [
      "Applying transform:\n",
      "Class             : AutoVectorizer\n",
      "\n",
      "Model Fields\n",
      "------------\n",
      "Features          : ['user_id', 'Age', 'Sex', 'occupation', 'ratings', 'movie_title']\n",
      "Excluded Features : ['movie_id']\n",
      "\n",
      "Column       Type  Interpretation  Transforms                         Output Type\n",
      "-----------  ----  --------------  ---------------------------------  -----------\n",
      "user_id      int   numerical       None                               int        \n",
      "Age          int   numerical       None                               int        \n",
      "Sex          str   categorical     None                               str        \n",
      "occupation   str   categorical     None                               str        \n",
      "ratings      int   numerical       None                               int        \n",
      "movie_title  str   short_text      3-Character NGram Counts -> TFIDF  dict       \n",
      "\n",
      "\n"
     ]
    },
    {
     "data": {
      "text/html": [
       "<pre>Recsys training: model = item_content_recommender</pre>"
      ],
      "text/plain": [
       "Recsys training: model = item_content_recommender"
      ]
     },
     "metadata": {},
     "output_type": "display_data"
    },
    {
     "name": "stdout",
     "output_type": "stream",
     "text": [
      "Defaulting to brute force instead of ball tree because there are multiple distance components.\n"
     ]
    },
    {
     "data": {
      "text/html": [
       "<pre>Starting brute force nearest neighbors model training.</pre>"
      ],
      "text/plain": [
       "Starting brute force nearest neighbors model training."
      ]
     },
     "metadata": {},
     "output_type": "display_data"
    },
    {
     "data": {
      "text/html": [
       "<pre>Starting pairwise querying.</pre>"
      ],
      "text/plain": [
       "Starting pairwise querying."
      ]
     },
     "metadata": {},
     "output_type": "display_data"
    },
    {
     "data": {
      "text/html": [
       "<pre>+--------------+---------+-------------+--------------+</pre>"
      ],
      "text/plain": [
       "+--------------+---------+-------------+--------------+"
      ]
     },
     "metadata": {},
     "output_type": "display_data"
    },
    {
     "data": {
      "text/html": [
       "<pre>| Query points | # Pairs | % Complete. | Elapsed Time |</pre>"
      ],
      "text/plain": [
       "| Query points | # Pairs | % Complete. | Elapsed Time |"
      ]
     },
     "metadata": {},
     "output_type": "display_data"
    },
    {
     "data": {
      "text/html": [
       "<pre>+--------------+---------+-------------+--------------+</pre>"
      ],
      "text/plain": [
       "+--------------+---------+-------------+--------------+"
      ]
     },
     "metadata": {},
     "output_type": "display_data"
    },
    {
     "data": {
      "text/html": [
       "<pre>| 1            | 72544   | 0.00137847  | 441.011ms    |</pre>"
      ],
      "text/plain": [
       "| 1            | 72544   | 0.00137847  | 441.011ms    |"
      ]
     },
     "metadata": {},
     "output_type": "display_data"
    },
    {
     "data": {
      "text/html": [
       "<pre>| 53           | 3844832 | 0.0730591   | 3.48s        |</pre>"
      ],
      "text/plain": [
       "| 53           | 3844832 | 0.0730591   | 3.48s        |"
      ]
     },
     "metadata": {},
     "output_type": "display_data"
    },
    {
     "data": {
      "text/html": [
       "<pre>| 107          | 7762208 | 0.147497    | 6.48s        |</pre>"
      ],
      "text/plain": [
       "| 107          | 7762208 | 0.147497    | 6.48s        |"
      ]
     },
     "metadata": {},
     "output_type": "display_data"
    },
    {
     "data": {
      "text/html": [
       "<pre>| 167          | 1.2e+07 | 0.230205    | 9.45s        |</pre>"
      ],
      "text/plain": [
       "| 167          | 1.2e+07 | 0.230205    | 9.45s        |"
      ]
     },
     "metadata": {},
     "output_type": "display_data"
    },
    {
     "data": {
      "text/html": [
       "<pre>| 228          | 1.7e+07 | 0.314292    | 12.51s       |</pre>"
      ],
      "text/plain": [
       "| 228          | 1.7e+07 | 0.314292    | 12.51s       |"
      ]
     },
     "metadata": {},
     "output_type": "display_data"
    },
    {
     "data": {
      "text/html": [
       "<pre>| 286          | 2.1e+07 | 0.394243    | 15.49s       |</pre>"
      ],
      "text/plain": [
       "| 286          | 2.1e+07 | 0.394243    | 15.49s       |"
      ]
     },
     "metadata": {},
     "output_type": "display_data"
    },
    {
     "data": {
      "text/html": [
       "<pre>| 346          | 2.5e+07 | 0.476952    | 18.45s       |</pre>"
      ],
      "text/plain": [
       "| 346          | 2.5e+07 | 0.476952    | 18.45s       |"
      ]
     },
     "metadata": {},
     "output_type": "display_data"
    },
    {
     "data": {
      "text/html": [
       "<pre>| 398          | 2.9e+07 | 0.548633    | 21.44s       |</pre>"
      ],
      "text/plain": [
       "| 398          | 2.9e+07 | 0.548633    | 21.44s       |"
      ]
     },
     "metadata": {},
     "output_type": "display_data"
    },
    {
     "data": {
      "text/html": [
       "<pre>| 470          | 3.4e+07 | 0.647883    | 24.44s       |</pre>"
      ],
      "text/plain": [
       "| 470          | 3.4e+07 | 0.647883    | 24.44s       |"
      ]
     },
     "metadata": {},
     "output_type": "display_data"
    },
    {
     "data": {
      "text/html": [
       "<pre>| 542          | 3.9e+07 | 0.747133    | 27.44s       |</pre>"
      ],
      "text/plain": [
       "| 542          | 3.9e+07 | 0.747133    | 27.44s       |"
      ]
     },
     "metadata": {},
     "output_type": "display_data"
    },
    {
     "data": {
      "text/html": [
       "<pre>| 616          | 4.5e+07 | 0.84914     | 30.45s       |</pre>"
      ],
      "text/plain": [
       "| 616          | 4.5e+07 | 0.84914     | 30.45s       |"
      ]
     },
     "metadata": {},
     "output_type": "display_data"
    },
    {
     "data": {
      "text/html": [
       "<pre>| 689          | 5e+07   | 0.949768    | 33.46s       |</pre>"
      ],
      "text/plain": [
       "| 689          | 5e+07   | 0.949768    | 33.46s       |"
      ]
     },
     "metadata": {},
     "output_type": "display_data"
    },
    {
     "data": {
      "text/html": [
       "<pre>| 763          | 5.5e+07 | 1.05178     | 36.45s       |</pre>"
      ],
      "text/plain": [
       "| 763          | 5.5e+07 | 1.05178     | 36.45s       |"
      ]
     },
     "metadata": {},
     "output_type": "display_data"
    },
    {
     "data": {
      "text/html": [
       "<pre>| 838          | 6.1e+07 | 1.15516     | 39.45s       |</pre>"
      ],
      "text/plain": [
       "| 838          | 6.1e+07 | 1.15516     | 39.45s       |"
      ]
     },
     "metadata": {},
     "output_type": "display_data"
    },
    {
     "data": {
      "text/html": [
       "<pre>| 911          | 6.6e+07 | 1.25579     | 42.44s       |</pre>"
      ],
      "text/plain": [
       "| 911          | 6.6e+07 | 1.25579     | 42.44s       |"
      ]
     },
     "metadata": {},
     "output_type": "display_data"
    },
    {
     "data": {
      "text/html": [
       "<pre>| 980          | 7.1e+07 | 1.3509      | 45.45s       |</pre>"
      ],
      "text/plain": [
       "| 980          | 7.1e+07 | 1.3509      | 45.45s       |"
      ]
     },
     "metadata": {},
     "output_type": "display_data"
    },
    {
     "data": {
      "text/html": [
       "<pre>| 1052         | 7.6e+07 | 1.45015     | 48.43s       |</pre>"
      ],
      "text/plain": [
       "| 1052         | 7.6e+07 | 1.45015     | 48.43s       |"
      ]
     },
     "metadata": {},
     "output_type": "display_data"
    },
    {
     "data": {
      "text/html": [
       "<pre>| 1129         | 8.2e+07 | 1.5563      | 51.47s       |</pre>"
      ],
      "text/plain": [
       "| 1129         | 8.2e+07 | 1.5563      | 51.47s       |"
      ]
     },
     "metadata": {},
     "output_type": "display_data"
    },
    {
     "data": {
      "text/html": [
       "<pre>| 1205         | 8.7e+07 | 1.66106     | 54.45s       |</pre>"
      ],
      "text/plain": [
       "| 1205         | 8.7e+07 | 1.66106     | 54.45s       |"
      ]
     },
     "metadata": {},
     "output_type": "display_data"
    },
    {
     "data": {
      "text/html": [
       "<pre>| 1281         | 9.3e+07 | 1.76582     | 57.45s       |</pre>"
      ],
      "text/plain": [
       "| 1281         | 9.3e+07 | 1.76582     | 57.45s       |"
      ]
     },
     "metadata": {},
     "output_type": "display_data"
    },
    {
     "data": {
      "text/html": [
       "<pre>| 1356         | 9.8e+07 | 1.86921     | 1m 0s        |</pre>"
      ],
      "text/plain": [
       "| 1356         | 9.8e+07 | 1.86921     | 1m 0s        |"
      ]
     },
     "metadata": {},
     "output_type": "display_data"
    },
    {
     "data": {
      "text/html": [
       "<pre>| 1426         | 1e+08   | 1.9657      | 1m 3s        |</pre>"
      ],
      "text/plain": [
       "| 1426         | 1e+08   | 1.9657      | 1m 3s        |"
      ]
     },
     "metadata": {},
     "output_type": "display_data"
    },
    {
     "data": {
      "text/html": [
       "<pre>| 1492         | 1.1e+08 | 2.05668     | 1m 6s        |</pre>"
      ],
      "text/plain": [
       "| 1492         | 1.1e+08 | 2.05668     | 1m 6s        |"
      ]
     },
     "metadata": {},
     "output_type": "display_data"
    },
    {
     "data": {
      "text/html": [
       "<pre>| 1545         | 1.1e+08 | 2.12974     | 1m 9s        |</pre>"
      ],
      "text/plain": [
       "| 1545         | 1.1e+08 | 2.12974     | 1m 9s        |"
      ]
     },
     "metadata": {},
     "output_type": "display_data"
    },
    {
     "data": {
      "text/html": [
       "<pre>| 1592         | 1.2e+08 | 2.19453     | 1m 12s       |</pre>"
      ],
      "text/plain": [
       "| 1592         | 1.2e+08 | 2.19453     | 1m 12s       |"
      ]
     },
     "metadata": {},
     "output_type": "display_data"
    },
    {
     "data": {
      "text/html": [
       "<pre>| 1635         | 1.2e+08 | 2.2538      | 1m 15s       |</pre>"
      ],
      "text/plain": [
       "| 1635         | 1.2e+08 | 2.2538      | 1m 15s       |"
      ]
     },
     "metadata": {},
     "output_type": "display_data"
    },
    {
     "data": {
      "text/html": [
       "<pre>| 1684         | 1.2e+08 | 2.32135     | 1m 18s       |</pre>"
      ],
      "text/plain": [
       "| 1684         | 1.2e+08 | 2.32135     | 1m 18s       |"
      ]
     },
     "metadata": {},
     "output_type": "display_data"
    },
    {
     "data": {
      "text/html": [
       "<pre>| 1747         | 1.3e+08 | 2.40819     | 1m 21s       |</pre>"
      ],
      "text/plain": [
       "| 1747         | 1.3e+08 | 2.40819     | 1m 21s       |"
      ]
     },
     "metadata": {},
     "output_type": "display_data"
    },
    {
     "data": {
      "text/html": [
       "<pre>| 1816         | 1.3e+08 | 2.50331     | 1m 24s       |</pre>"
      ],
      "text/plain": [
       "| 1816         | 1.3e+08 | 2.50331     | 1m 24s       |"
      ]
     },
     "metadata": {},
     "output_type": "display_data"
    },
    {
     "data": {
      "text/html": [
       "<pre>| 1891         | 1.4e+08 | 2.60669     | 1m 27s       |</pre>"
      ],
      "text/plain": [
       "| 1891         | 1.4e+08 | 2.60669     | 1m 27s       |"
      ]
     },
     "metadata": {},
     "output_type": "display_data"
    },
    {
     "data": {
      "text/html": [
       "<pre>| 1955         | 1.4e+08 | 2.69492     | 1m 30s       |</pre>"
      ],
      "text/plain": [
       "| 1955         | 1.4e+08 | 2.69492     | 1m 30s       |"
      ]
     },
     "metadata": {},
     "output_type": "display_data"
    },
    {
     "data": {
      "text/html": [
       "<pre>| 2006         | 1.5e+08 | 2.76522     | 1m 33s       |</pre>"
      ],
      "text/plain": [
       "| 2006         | 1.5e+08 | 2.76522     | 1m 33s       |"
      ]
     },
     "metadata": {},
     "output_type": "display_data"
    },
    {
     "data": {
      "text/html": [
       "<pre>| 2042         | 1.5e+08 | 2.81484     | 1m 36s       |</pre>"
      ],
      "text/plain": [
       "| 2042         | 1.5e+08 | 2.81484     | 1m 36s       |"
      ]
     },
     "metadata": {},
     "output_type": "display_data"
    },
    {
     "data": {
      "text/html": [
       "<pre>| 2098         | 1.5e+08 | 2.89204     | 1m 39s       |</pre>"
      ],
      "text/plain": [
       "| 2098         | 1.5e+08 | 2.89204     | 1m 39s       |"
      ]
     },
     "metadata": {},
     "output_type": "display_data"
    },
    {
     "data": {
      "text/html": [
       "<pre>| 2154         | 1.6e+08 | 2.96923     | 1m 42s       |</pre>"
      ],
      "text/plain": [
       "| 2154         | 1.6e+08 | 2.96923     | 1m 42s       |"
      ]
     },
     "metadata": {},
     "output_type": "display_data"
    },
    {
     "data": {
      "text/html": [
       "<pre>| 2218         | 1.6e+08 | 3.05745     | 1m 45s       |</pre>"
      ],
      "text/plain": [
       "| 2218         | 1.6e+08 | 3.05745     | 1m 45s       |"
      ]
     },
     "metadata": {},
     "output_type": "display_data"
    },
    {
     "data": {
      "text/html": [
       "<pre>| 2255         | 1.6e+08 | 3.10846     | 1m 48s       |</pre>"
      ],
      "text/plain": [
       "| 2255         | 1.6e+08 | 3.10846     | 1m 48s       |"
      ]
     },
     "metadata": {},
     "output_type": "display_data"
    },
    {
     "data": {
      "text/html": [
       "<pre>| 2294         | 1.7e+08 | 3.16222     | 1m 51s       |</pre>"
      ],
      "text/plain": [
       "| 2294         | 1.7e+08 | 3.16222     | 1m 51s       |"
      ]
     },
     "metadata": {},
     "output_type": "display_data"
    },
    {
     "data": {
      "text/html": [
       "<pre>| 2331         | 1.7e+08 | 3.21322     | 1m 54s       |</pre>"
      ],
      "text/plain": [
       "| 2331         | 1.7e+08 | 3.21322     | 1m 54s       |"
      ]
     },
     "metadata": {},
     "output_type": "display_data"
    },
    {
     "data": {
      "text/html": [
       "<pre>| 2367         | 1.7e+08 | 3.26285     | 1m 57s       |</pre>"
      ],
      "text/plain": [
       "| 2367         | 1.7e+08 | 3.26285     | 1m 57s       |"
      ]
     },
     "metadata": {},
     "output_type": "display_data"
    },
    {
     "data": {
      "text/html": [
       "<pre>| 2418         | 1.8e+08 | 3.33315     | 2m 0s        |</pre>"
      ],
      "text/plain": [
       "| 2418         | 1.8e+08 | 3.33315     | 2m 0s        |"
      ]
     },
     "metadata": {},
     "output_type": "display_data"
    },
    {
     "data": {
      "text/html": [
       "<pre>| 2467         | 1.8e+08 | 3.40069     | 2m 3s        |</pre>"
      ],
      "text/plain": [
       "| 2467         | 1.8e+08 | 3.40069     | 2m 3s        |"
      ]
     },
     "metadata": {},
     "output_type": "display_data"
    },
    {
     "data": {
      "text/html": [
       "<pre>| 2526         | 1.8e+08 | 3.48202     | 2m 6s        |</pre>"
      ],
      "text/plain": [
       "| 2526         | 1.8e+08 | 3.48202     | 2m 6s        |"
      ]
     },
     "metadata": {},
     "output_type": "display_data"
    },
    {
     "data": {
      "text/html": [
       "<pre>| 2601         | 1.9e+08 | 3.58541     | 2m 9s        |</pre>"
      ],
      "text/plain": [
       "| 2601         | 1.9e+08 | 3.58541     | 2m 9s        |"
      ]
     },
     "metadata": {},
     "output_type": "display_data"
    },
    {
     "data": {
      "text/html": [
       "<pre>| 2659         | 1.9e+08 | 3.66536     | 2m 12s       |</pre>"
      ],
      "text/plain": [
       "| 2659         | 1.9e+08 | 3.66536     | 2m 12s       |"
      ]
     },
     "metadata": {},
     "output_type": "display_data"
    },
    {
     "data": {
      "text/html": [
       "<pre>| 2736         | 2e+08   | 3.7715      | 2m 15s       |</pre>"
      ],
      "text/plain": [
       "| 2736         | 2e+08   | 3.7715      | 2m 15s       |"
      ]
     },
     "metadata": {},
     "output_type": "display_data"
    },
    {
     "data": {
      "text/html": [
       "<pre>| 2813         | 2e+08   | 3.87765     | 2m 18s       |</pre>"
      ],
      "text/plain": [
       "| 2813         | 2e+08   | 3.87765     | 2m 18s       |"
      ]
     },
     "metadata": {},
     "output_type": "display_data"
    },
    {
     "data": {
      "text/html": [
       "<pre>| 2888         | 2.1e+08 | 3.98103     | 2m 21s       |</pre>"
      ],
      "text/plain": [
       "| 2888         | 2.1e+08 | 3.98103     | 2m 21s       |"
      ]
     },
     "metadata": {},
     "output_type": "display_data"
    },
    {
     "data": {
      "text/html": [
       "<pre>| 2967         | 2.2e+08 | 4.08993     | 2m 24s       |</pre>"
      ],
      "text/plain": [
       "| 2967         | 2.2e+08 | 4.08993     | 2m 24s       |"
      ]
     },
     "metadata": {},
     "output_type": "display_data"
    },
    {
     "data": {
      "text/html": [
       "<pre>| 3044         | 2.2e+08 | 4.19607     | 2m 27s       |</pre>"
      ],
      "text/plain": [
       "| 3044         | 2.2e+08 | 4.19607     | 2m 27s       |"
      ]
     },
     "metadata": {},
     "output_type": "display_data"
    },
    {
     "data": {
      "text/html": [
       "<pre>| 3121         | 2.3e+08 | 4.30222     | 2m 30s       |</pre>"
      ],
      "text/plain": [
       "| 3121         | 2.3e+08 | 4.30222     | 2m 30s       |"
      ]
     },
     "metadata": {},
     "output_type": "display_data"
    },
    {
     "data": {
      "text/html": [
       "<pre>| 3176         | 2.3e+08 | 4.37803     | 2m 33s       |</pre>"
      ],
      "text/plain": [
       "| 3176         | 2.3e+08 | 4.37803     | 2m 33s       |"
      ]
     },
     "metadata": {},
     "output_type": "display_data"
    },
    {
     "data": {
      "text/html": [
       "<pre>| 3247         | 2.4e+08 | 4.4759      | 2m 36s       |</pre>"
      ],
      "text/plain": [
       "| 3247         | 2.4e+08 | 4.4759      | 2m 36s       |"
      ]
     },
     "metadata": {},
     "output_type": "display_data"
    },
    {
     "data": {
      "text/html": [
       "<pre>| 3323         | 2.4e+08 | 4.58067     | 2m 39s       |</pre>"
      ],
      "text/plain": [
       "| 3323         | 2.4e+08 | 4.58067     | 2m 39s       |"
      ]
     },
     "metadata": {},
     "output_type": "display_data"
    },
    {
     "data": {
      "text/html": [
       "<pre>| 3400         | 2.5e+08 | 4.68681     | 2m 42s       |</pre>"
      ],
      "text/plain": [
       "| 3400         | 2.5e+08 | 4.68681     | 2m 42s       |"
      ]
     },
     "metadata": {},
     "output_type": "display_data"
    },
    {
     "data": {
      "text/html": [
       "<pre>| 3479         | 2.5e+08 | 4.79571     | 2m 45s       |</pre>"
      ],
      "text/plain": [
       "| 3479         | 2.5e+08 | 4.79571     | 2m 45s       |"
      ]
     },
     "metadata": {},
     "output_type": "display_data"
    },
    {
     "data": {
      "text/html": [
       "<pre>| 3555         | 2.6e+08 | 4.90047     | 2m 48s       |</pre>"
      ],
      "text/plain": [
       "| 3555         | 2.6e+08 | 4.90047     | 2m 48s       |"
      ]
     },
     "metadata": {},
     "output_type": "display_data"
    },
    {
     "data": {
      "text/html": [
       "<pre>| 3633         | 2.6e+08 | 5.008       | 2m 51s       |</pre>"
      ],
      "text/plain": [
       "| 3633         | 2.6e+08 | 5.008       | 2m 51s       |"
      ]
     },
     "metadata": {},
     "output_type": "display_data"
    },
    {
     "data": {
      "text/html": [
       "<pre>| 3704         | 2.7e+08 | 5.10587     | 2m 54s       |</pre>"
      ],
      "text/plain": [
       "| 3704         | 2.7e+08 | 5.10587     | 2m 54s       |"
      ]
     },
     "metadata": {},
     "output_type": "display_data"
    },
    {
     "data": {
      "text/html": [
       "<pre>| 3766         | 2.7e+08 | 5.19133     | 2m 57s       |</pre>"
      ],
      "text/plain": [
       "| 3766         | 2.7e+08 | 5.19133     | 2m 57s       |"
      ]
     },
     "metadata": {},
     "output_type": "display_data"
    },
    {
     "data": {
      "text/html": [
       "<pre>| 3841         | 2.8e+08 | 5.29472     | 3m 0s        |</pre>"
      ],
      "text/plain": [
       "| 3841         | 2.8e+08 | 5.29472     | 3m 0s        |"
      ]
     },
     "metadata": {},
     "output_type": "display_data"
    },
    {
     "data": {
      "text/html": [
       "<pre>| 3918         | 2.8e+08 | 5.40086     | 3m 3s        |</pre>"
      ],
      "text/plain": [
       "| 3918         | 2.8e+08 | 5.40086     | 3m 3s        |"
      ]
     },
     "metadata": {},
     "output_type": "display_data"
    },
    {
     "data": {
      "text/html": [
       "<pre>| 3996         | 2.9e+08 | 5.50838     | 3m 6s        |</pre>"
      ],
      "text/plain": [
       "| 3996         | 2.9e+08 | 5.50838     | 3m 6s        |"
      ]
     },
     "metadata": {},
     "output_type": "display_data"
    },
    {
     "data": {
      "text/html": [
       "<pre>| 4074         | 3e+08   | 5.6159      | 3m 9s        |</pre>"
      ],
      "text/plain": [
       "| 4074         | 3e+08   | 5.6159      | 3m 9s        |"
      ]
     },
     "metadata": {},
     "output_type": "display_data"
    },
    {
     "data": {
      "text/html": [
       "<pre>| 4150         | 3e+08   | 5.72067     | 3m 12s       |</pre>"
      ],
      "text/plain": [
       "| 4150         | 3e+08   | 5.72067     | 3m 12s       |"
      ]
     },
     "metadata": {},
     "output_type": "display_data"
    },
    {
     "data": {
      "text/html": [
       "<pre>| 4215         | 3.1e+08 | 5.81027     | 3m 15s       |</pre>"
      ],
      "text/plain": [
       "| 4215         | 3.1e+08 | 5.81027     | 3m 15s       |"
      ]
     },
     "metadata": {},
     "output_type": "display_data"
    },
    {
     "data": {
      "text/html": [
       "<pre>| 4292         | 3.1e+08 | 5.91641     | 3m 18s       |</pre>"
      ],
      "text/plain": [
       "| 4292         | 3.1e+08 | 5.91641     | 3m 18s       |"
      ]
     },
     "metadata": {},
     "output_type": "display_data"
    },
    {
     "data": {
      "text/html": [
       "<pre>| 4368         | 3.2e+08 | 6.02117     | 3m 21s       |</pre>"
      ],
      "text/plain": [
       "| 4368         | 3.2e+08 | 6.02117     | 3m 21s       |"
      ]
     },
     "metadata": {},
     "output_type": "display_data"
    },
    {
     "data": {
      "text/html": [
       "<pre>| 4446         | 3.2e+08 | 6.12869     | 3m 24s       |</pre>"
      ],
      "text/plain": [
       "| 4446         | 3.2e+08 | 6.12869     | 3m 24s       |"
      ]
     },
     "metadata": {},
     "output_type": "display_data"
    },
    {
     "data": {
      "text/html": [
       "<pre>| 4525         | 3.3e+08 | 6.23759     | 3m 27s       |</pre>"
      ],
      "text/plain": [
       "| 4525         | 3.3e+08 | 6.23759     | 3m 27s       |"
      ]
     },
     "metadata": {},
     "output_type": "display_data"
    },
    {
     "data": {
      "text/html": [
       "<pre>| 4602         | 3.3e+08 | 6.34374     | 3m 30s       |</pre>"
      ],
      "text/plain": [
       "| 4602         | 3.3e+08 | 6.34374     | 3m 30s       |"
      ]
     },
     "metadata": {},
     "output_type": "display_data"
    },
    {
     "data": {
      "text/html": [
       "<pre>| 4679         | 3.4e+08 | 6.44988     | 3m 33s       |</pre>"
      ],
      "text/plain": [
       "| 4679         | 3.4e+08 | 6.44988     | 3m 33s       |"
      ]
     },
     "metadata": {},
     "output_type": "display_data"
    },
    {
     "data": {
      "text/html": [
       "<pre>| 4757         | 3.5e+08 | 6.5574      | 3m 36s       |</pre>"
      ],
      "text/plain": [
       "| 4757         | 3.5e+08 | 6.5574      | 3m 36s       |"
      ]
     },
     "metadata": {},
     "output_type": "display_data"
    },
    {
     "data": {
      "text/html": [
       "<pre>| 4834         | 3.5e+08 | 6.66354     | 3m 39s       |</pre>"
      ],
      "text/plain": [
       "| 4834         | 3.5e+08 | 6.66354     | 3m 39s       |"
      ]
     },
     "metadata": {},
     "output_type": "display_data"
    },
    {
     "data": {
      "text/html": [
       "<pre>| 4910         | 3.6e+08 | 6.76831     | 3m 42s       |</pre>"
      ],
      "text/plain": [
       "| 4910         | 3.6e+08 | 6.76831     | 3m 42s       |"
      ]
     },
     "metadata": {},
     "output_type": "display_data"
    },
    {
     "data": {
      "text/html": [
       "<pre>| 4988         | 3.6e+08 | 6.87583     | 3m 45s       |</pre>"
      ],
      "text/plain": [
       "| 4988         | 3.6e+08 | 6.87583     | 3m 45s       |"
      ]
     },
     "metadata": {},
     "output_type": "display_data"
    },
    {
     "data": {
      "text/html": [
       "<pre>| 5061         | 3.7e+08 | 6.97646     | 3m 48s       |</pre>"
      ],
      "text/plain": [
       "| 5061         | 3.7e+08 | 6.97646     | 3m 48s       |"
      ]
     },
     "metadata": {},
     "output_type": "display_data"
    },
    {
     "data": {
      "text/html": [
       "<pre>| 5138         | 3.7e+08 | 7.0826      | 3m 51s       |</pre>"
      ],
      "text/plain": [
       "| 5138         | 3.7e+08 | 7.0826      | 3m 51s       |"
      ]
     },
     "metadata": {},
     "output_type": "display_data"
    },
    {
     "data": {
      "text/html": [
       "<pre>| 5213         | 3.8e+08 | 7.18598     | 3m 54s       |</pre>"
      ],
      "text/plain": [
       "| 5213         | 3.8e+08 | 7.18598     | 3m 54s       |"
      ]
     },
     "metadata": {},
     "output_type": "display_data"
    },
    {
     "data": {
      "text/html": [
       "<pre>| 5290         | 3.8e+08 | 7.29213     | 3m 57s       |</pre>"
      ],
      "text/plain": [
       "| 5290         | 3.8e+08 | 7.29213     | 3m 57s       |"
      ]
     },
     "metadata": {},
     "output_type": "display_data"
    },
    {
     "data": {
      "text/html": [
       "<pre>| 5365         | 3.9e+08 | 7.39551     | 4m 0s        |</pre>"
      ],
      "text/plain": [
       "| 5365         | 3.9e+08 | 7.39551     | 4m 0s        |"
      ]
     },
     "metadata": {},
     "output_type": "display_data"
    },
    {
     "data": {
      "text/html": [
       "<pre>| 5439         | 3.9e+08 | 7.49752     | 4m 3s        |</pre>"
      ],
      "text/plain": [
       "| 5439         | 3.9e+08 | 7.49752     | 4m 3s        |"
      ]
     },
     "metadata": {},
     "output_type": "display_data"
    },
    {
     "data": {
      "text/html": [
       "<pre>| 5516         | 4e+08   | 7.60366     | 4m 6s        |</pre>"
      ],
      "text/plain": [
       "| 5516         | 4e+08   | 7.60366     | 4m 6s        |"
      ]
     },
     "metadata": {},
     "output_type": "display_data"
    },
    {
     "data": {
      "text/html": [
       "<pre>| 5590         | 4.1e+08 | 7.70567     | 4m 9s        |</pre>"
      ],
      "text/plain": [
       "| 5590         | 4.1e+08 | 7.70567     | 4m 9s        |"
      ]
     },
     "metadata": {},
     "output_type": "display_data"
    },
    {
     "data": {
      "text/html": [
       "<pre>| 5664         | 4.1e+08 | 7.80768     | 4m 12s       |</pre>"
      ],
      "text/plain": [
       "| 5664         | 4.1e+08 | 7.80768     | 4m 12s       |"
      ]
     },
     "metadata": {},
     "output_type": "display_data"
    },
    {
     "data": {
      "text/html": [
       "<pre>| 5739         | 4.2e+08 | 7.91106     | 4m 15s       |</pre>"
      ],
      "text/plain": [
       "| 5739         | 4.2e+08 | 7.91106     | 4m 15s       |"
      ]
     },
     "metadata": {},
     "output_type": "display_data"
    },
    {
     "data": {
      "text/html": [
       "<pre>| 5797         | 4.2e+08 | 7.99101     | 4m 18s       |</pre>"
      ],
      "text/plain": [
       "| 5797         | 4.2e+08 | 7.99101     | 4m 18s       |"
      ]
     },
     "metadata": {},
     "output_type": "display_data"
    },
    {
     "data": {
      "text/html": [
       "<pre>| 5871         | 4.3e+08 | 8.09302     | 4m 21s       |</pre>"
      ],
      "text/plain": [
       "| 5871         | 4.3e+08 | 8.09302     | 4m 21s       |"
      ]
     },
     "metadata": {},
     "output_type": "display_data"
    },
    {
     "data": {
      "text/html": [
       "<pre>| 5946         | 4.3e+08 | 8.1964      | 4m 24s       |</pre>"
      ],
      "text/plain": [
       "| 5946         | 4.3e+08 | 8.1964      | 4m 24s       |"
      ]
     },
     "metadata": {},
     "output_type": "display_data"
    },
    {
     "data": {
      "text/html": [
       "<pre>| 6002         | 4.4e+08 | 8.2736      | 4m 27s       |</pre>"
      ],
      "text/plain": [
       "| 6002         | 4.4e+08 | 8.2736      | 4m 27s       |"
      ]
     },
     "metadata": {},
     "output_type": "display_data"
    },
    {
     "data": {
      "text/html": [
       "<pre>| 6077         | 4.4e+08 | 8.37699     | 4m 30s       |</pre>"
      ],
      "text/plain": [
       "| 6077         | 4.4e+08 | 8.37699     | 4m 30s       |"
      ]
     },
     "metadata": {},
     "output_type": "display_data"
    },
    {
     "data": {
      "text/html": [
       "<pre>| 6151         | 4.5e+08 | 8.47899     | 4m 33s       |</pre>"
      ],
      "text/plain": [
       "| 6151         | 4.5e+08 | 8.47899     | 4m 33s       |"
      ]
     },
     "metadata": {},
     "output_type": "display_data"
    },
    {
     "data": {
      "text/html": [
       "<pre>| 6227         | 4.5e+08 | 8.58376     | 4m 36s       |</pre>"
      ],
      "text/plain": [
       "| 6227         | 4.5e+08 | 8.58376     | 4m 36s       |"
      ]
     },
     "metadata": {},
     "output_type": "display_data"
    },
    {
     "data": {
      "text/html": [
       "<pre>| 6302         | 4.6e+08 | 8.68714     | 4m 39s       |</pre>"
      ],
      "text/plain": [
       "| 6302         | 4.6e+08 | 8.68714     | 4m 39s       |"
      ]
     },
     "metadata": {},
     "output_type": "display_data"
    },
    {
     "data": {
      "text/html": [
       "<pre>| 6377         | 4.6e+08 | 8.79053     | 4m 42s       |</pre>"
      ],
      "text/plain": [
       "| 6377         | 4.6e+08 | 8.79053     | 4m 42s       |"
      ]
     },
     "metadata": {},
     "output_type": "display_data"
    },
    {
     "data": {
      "text/html": [
       "<pre>| 6452         | 4.7e+08 | 8.89391     | 4m 45s       |</pre>"
      ],
      "text/plain": [
       "| 6452         | 4.7e+08 | 8.89391     | 4m 45s       |"
      ]
     },
     "metadata": {},
     "output_type": "display_data"
    },
    {
     "data": {
      "text/html": [
       "<pre>| 6527         | 4.7e+08 | 8.9973      | 4m 48s       |</pre>"
      ],
      "text/plain": [
       "| 6527         | 4.7e+08 | 8.9973      | 4m 48s       |"
      ]
     },
     "metadata": {},
     "output_type": "display_data"
    },
    {
     "data": {
      "text/html": [
       "<pre>| 6602         | 4.8e+08 | 9.10068     | 4m 51s       |</pre>"
      ],
      "text/plain": [
       "| 6602         | 4.8e+08 | 9.10068     | 4m 51s       |"
      ]
     },
     "metadata": {},
     "output_type": "display_data"
    },
    {
     "data": {
      "text/html": [
       "<pre>| 6677         | 4.8e+08 | 9.20407     | 4m 54s       |</pre>"
      ],
      "text/plain": [
       "| 6677         | 4.8e+08 | 9.20407     | 4m 54s       |"
      ]
     },
     "metadata": {},
     "output_type": "display_data"
    },
    {
     "data": {
      "text/html": [
       "<pre>| 6752         | 4.9e+08 | 9.30745     | 4m 57s       |</pre>"
      ],
      "text/plain": [
       "| 6752         | 4.9e+08 | 9.30745     | 4m 57s       |"
      ]
     },
     "metadata": {},
     "output_type": "display_data"
    },
    {
     "data": {
      "text/html": [
       "<pre>| 6827         | 5e+08   | 9.41084     | 5m 0s        |</pre>"
      ],
      "text/plain": [
       "| 6827         | 5e+08   | 9.41084     | 5m 0s        |"
      ]
     },
     "metadata": {},
     "output_type": "display_data"
    },
    {
     "data": {
      "text/html": [
       "<pre>| 6897         | 5e+08   | 9.50733     | 5m 3s        |</pre>"
      ],
      "text/plain": [
       "| 6897         | 5e+08   | 9.50733     | 5m 3s        |"
      ]
     },
     "metadata": {},
     "output_type": "display_data"
    },
    {
     "data": {
      "text/html": [
       "<pre>| 6968         | 5.1e+08 | 9.60521     | 5m 6s        |</pre>"
      ],
      "text/plain": [
       "| 6968         | 5.1e+08 | 9.60521     | 5m 6s        |"
      ]
     },
     "metadata": {},
     "output_type": "display_data"
    },
    {
     "data": {
      "text/html": [
       "<pre>| 7043         | 5.1e+08 | 9.70859     | 5m 9s        |</pre>"
      ],
      "text/plain": [
       "| 7043         | 5.1e+08 | 9.70859     | 5m 9s        |"
      ]
     },
     "metadata": {},
     "output_type": "display_data"
    },
    {
     "data": {
      "text/html": [
       "<pre>| 7118         | 5.2e+08 | 9.81198     | 5m 12s       |</pre>"
      ],
      "text/plain": [
       "| 7118         | 5.2e+08 | 9.81198     | 5m 12s       |"
      ]
     },
     "metadata": {},
     "output_type": "display_data"
    },
    {
     "data": {
      "text/html": [
       "<pre>| 7195         | 5.2e+08 | 9.91812     | 5m 15s       |</pre>"
      ],
      "text/plain": [
       "| 7195         | 5.2e+08 | 9.91812     | 5m 15s       |"
      ]
     },
     "metadata": {},
     "output_type": "display_data"
    },
    {
     "data": {
      "text/html": [
       "<pre>| 7273         | 5.3e+08 | 10.0256     | 5m 18s       |</pre>"
      ],
      "text/plain": [
       "| 7273         | 5.3e+08 | 10.0256     | 5m 18s       |"
      ]
     },
     "metadata": {},
     "output_type": "display_data"
    },
    {
     "data": {
      "text/html": [
       "<pre>| 7341         | 5.3e+08 | 10.1194     | 5m 21s       |</pre>"
      ],
      "text/plain": [
       "| 7341         | 5.3e+08 | 10.1194     | 5m 21s       |"
      ]
     },
     "metadata": {},
     "output_type": "display_data"
    },
    {
     "data": {
      "text/html": [
       "<pre>| 7419         | 5.4e+08 | 10.2269     | 5m 24s       |</pre>"
      ],
      "text/plain": [
       "| 7419         | 5.4e+08 | 10.2269     | 5m 24s       |"
      ]
     },
     "metadata": {},
     "output_type": "display_data"
    },
    {
     "data": {
      "text/html": [
       "<pre>| 7496         | 5.4e+08 | 10.333      | 5m 27s       |</pre>"
      ],
      "text/plain": [
       "| 7496         | 5.4e+08 | 10.333      | 5m 27s       |"
      ]
     },
     "metadata": {},
     "output_type": "display_data"
    },
    {
     "data": {
      "text/html": [
       "<pre>| 7574         | 5.5e+08 | 10.4406     | 5m 30s       |</pre>"
      ],
      "text/plain": [
       "| 7574         | 5.5e+08 | 10.4406     | 5m 30s       |"
      ]
     },
     "metadata": {},
     "output_type": "display_data"
    },
    {
     "data": {
      "text/html": [
       "<pre>| 7653         | 5.6e+08 | 10.5495     | 5m 33s       |</pre>"
      ],
      "text/plain": [
       "| 7653         | 5.6e+08 | 10.5495     | 5m 33s       |"
      ]
     },
     "metadata": {},
     "output_type": "display_data"
    },
    {
     "data": {
      "text/html": [
       "<pre>| 7731         | 5.6e+08 | 10.657      | 5m 36s       |</pre>"
      ],
      "text/plain": [
       "| 7731         | 5.6e+08 | 10.657      | 5m 36s       |"
      ]
     },
     "metadata": {},
     "output_type": "display_data"
    },
    {
     "data": {
      "text/html": [
       "<pre>| 7808         | 5.7e+08 | 10.7631     | 5m 39s       |</pre>"
      ],
      "text/plain": [
       "| 7808         | 5.7e+08 | 10.7631     | 5m 39s       |"
      ]
     },
     "metadata": {},
     "output_type": "display_data"
    },
    {
     "data": {
      "text/html": [
       "<pre>| 7887         | 5.7e+08 | 10.872      | 5m 42s       |</pre>"
      ],
      "text/plain": [
       "| 7887         | 5.7e+08 | 10.872      | 5m 42s       |"
      ]
     },
     "metadata": {},
     "output_type": "display_data"
    },
    {
     "data": {
      "text/html": [
       "<pre>| 7964         | 5.8e+08 | 10.9782     | 5m 45s       |</pre>"
      ],
      "text/plain": [
       "| 7964         | 5.8e+08 | 10.9782     | 5m 45s       |"
      ]
     },
     "metadata": {},
     "output_type": "display_data"
    },
    {
     "data": {
      "text/html": [
       "<pre>| 8042         | 5.8e+08 | 11.0857     | 5m 48s       |</pre>"
      ],
      "text/plain": [
       "| 8042         | 5.8e+08 | 11.0857     | 5m 48s       |"
      ]
     },
     "metadata": {},
     "output_type": "display_data"
    },
    {
     "data": {
      "text/html": [
       "<pre>| 8116         | 5.9e+08 | 11.1877     | 5m 51s       |</pre>"
      ],
      "text/plain": [
       "| 8116         | 5.9e+08 | 11.1877     | 5m 51s       |"
      ]
     },
     "metadata": {},
     "output_type": "display_data"
    },
    {
     "data": {
      "text/html": [
       "<pre>| 8192         | 5.9e+08 | 11.2925     | 5m 54s       |</pre>"
      ],
      "text/plain": [
       "| 8192         | 5.9e+08 | 11.2925     | 5m 54s       |"
      ]
     },
     "metadata": {},
     "output_type": "display_data"
    },
    {
     "data": {
      "text/html": [
       "<pre>| 8269         | 6e+08   | 11.3986     | 5m 57s       |</pre>"
      ],
      "text/plain": [
       "| 8269         | 6e+08   | 11.3986     | 5m 57s       |"
      ]
     },
     "metadata": {},
     "output_type": "display_data"
    },
    {
     "data": {
      "text/html": [
       "<pre>| 8346         | 6.1e+08 | 11.5047     | 6m 0s        |</pre>"
      ],
      "text/plain": [
       "| 8346         | 6.1e+08 | 11.5047     | 6m 0s        |"
      ]
     },
     "metadata": {},
     "output_type": "display_data"
    },
    {
     "data": {
      "text/html": [
       "<pre>| 8412         | 6.1e+08 | 11.5957     | 6m 3s        |</pre>"
      ],
      "text/plain": [
       "| 8412         | 6.1e+08 | 11.5957     | 6m 3s        |"
      ]
     },
     "metadata": {},
     "output_type": "display_data"
    },
    {
     "data": {
      "text/html": [
       "<pre>| 8491         | 6.2e+08 | 11.7046     | 6m 6s        |</pre>"
      ],
      "text/plain": [
       "| 8491         | 6.2e+08 | 11.7046     | 6m 6s        |"
      ]
     },
     "metadata": {},
     "output_type": "display_data"
    },
    {
     "data": {
      "text/html": [
       "<pre>| 8563         | 6.2e+08 | 11.8039     | 6m 9s        |</pre>"
      ],
      "text/plain": [
       "| 8563         | 6.2e+08 | 11.8039     | 6m 9s        |"
      ]
     },
     "metadata": {},
     "output_type": "display_data"
    },
    {
     "data": {
      "text/html": [
       "<pre>| 8642         | 6.3e+08 | 11.9128     | 6m 12s       |</pre>"
      ],
      "text/plain": [
       "| 8642         | 6.3e+08 | 11.9128     | 6m 12s       |"
      ]
     },
     "metadata": {},
     "output_type": "display_data"
    },
    {
     "data": {
      "text/html": [
       "<pre>| 8719         | 6.3e+08 | 12.0189     | 6m 15s       |</pre>"
      ],
      "text/plain": [
       "| 8719         | 6.3e+08 | 12.0189     | 6m 15s       |"
      ]
     },
     "metadata": {},
     "output_type": "display_data"
    },
    {
     "data": {
      "text/html": [
       "<pre>| 8787         | 6.4e+08 | 12.1126     | 6m 18s       |</pre>"
      ],
      "text/plain": [
       "| 8787         | 6.4e+08 | 12.1126     | 6m 18s       |"
      ]
     },
     "metadata": {},
     "output_type": "display_data"
    },
    {
     "data": {
      "text/html": [
       "<pre>| 8858         | 6.4e+08 | 12.2105     | 6m 21s       |</pre>"
      ],
      "text/plain": [
       "| 8858         | 6.4e+08 | 12.2105     | 6m 21s       |"
      ]
     },
     "metadata": {},
     "output_type": "display_data"
    },
    {
     "data": {
      "text/html": [
       "<pre>| 8919         | 6.5e+08 | 12.2946     | 6m 24s       |</pre>"
      ],
      "text/plain": [
       "| 8919         | 6.5e+08 | 12.2946     | 6m 24s       |"
      ]
     },
     "metadata": {},
     "output_type": "display_data"
    },
    {
     "data": {
      "text/html": [
       "<pre>| 8986         | 6.5e+08 | 12.387      | 6m 27s       |</pre>"
      ],
      "text/plain": [
       "| 8986         | 6.5e+08 | 12.387      | 6m 27s       |"
      ]
     },
     "metadata": {},
     "output_type": "display_data"
    },
    {
     "data": {
      "text/html": [
       "<pre>| 9065         | 6.6e+08 | 12.4959     | 6m 30s       |</pre>"
      ],
      "text/plain": [
       "| 9065         | 6.6e+08 | 12.4959     | 6m 30s       |"
      ]
     },
     "metadata": {},
     "output_type": "display_data"
    },
    {
     "data": {
      "text/html": [
       "<pre>| 9143         | 6.6e+08 | 12.6034     | 6m 33s       |</pre>"
      ],
      "text/plain": [
       "| 9143         | 6.6e+08 | 12.6034     | 6m 33s       |"
      ]
     },
     "metadata": {},
     "output_type": "display_data"
    },
    {
     "data": {
      "text/html": [
       "<pre>| 9221         | 6.7e+08 | 12.7109     | 6m 36s       |</pre>"
      ],
      "text/plain": [
       "| 9221         | 6.7e+08 | 12.7109     | 6m 36s       |"
      ]
     },
     "metadata": {},
     "output_type": "display_data"
    },
    {
     "data": {
      "text/html": [
       "<pre>| 9299         | 6.7e+08 | 12.8184     | 6m 39s       |</pre>"
      ],
      "text/plain": [
       "| 9299         | 6.7e+08 | 12.8184     | 6m 39s       |"
      ]
     },
     "metadata": {},
     "output_type": "display_data"
    },
    {
     "data": {
      "text/html": [
       "<pre>| 9377         | 6.8e+08 | 12.9259     | 6m 42s       |</pre>"
      ],
      "text/plain": [
       "| 9377         | 6.8e+08 | 12.9259     | 6m 42s       |"
      ]
     },
     "metadata": {},
     "output_type": "display_data"
    },
    {
     "data": {
      "text/html": [
       "<pre>| 9455         | 6.9e+08 | 13.0335     | 6m 45s       |</pre>"
      ],
      "text/plain": [
       "| 9455         | 6.9e+08 | 13.0335     | 6m 45s       |"
      ]
     },
     "metadata": {},
     "output_type": "display_data"
    },
    {
     "data": {
      "text/html": [
       "<pre>| 9533         | 6.9e+08 | 13.141      | 6m 48s       |</pre>"
      ],
      "text/plain": [
       "| 9533         | 6.9e+08 | 13.141      | 6m 48s       |"
      ]
     },
     "metadata": {},
     "output_type": "display_data"
    },
    {
     "data": {
      "text/html": [
       "<pre>| 9606         | 7e+08   | 13.2416     | 6m 51s       |</pre>"
      ],
      "text/plain": [
       "| 9606         | 7e+08   | 13.2416     | 6m 51s       |"
      ]
     },
     "metadata": {},
     "output_type": "display_data"
    },
    {
     "data": {
      "text/html": [
       "<pre>| 9679         | 7e+08   | 13.3422     | 6m 54s       |</pre>"
      ],
      "text/plain": [
       "| 9679         | 7e+08   | 13.3422     | 6m 54s       |"
      ]
     },
     "metadata": {},
     "output_type": "display_data"
    },
    {
     "data": {
      "text/html": [
       "<pre>| 9758         | 7.1e+08 | 13.4511     | 6m 57s       |</pre>"
      ],
      "text/plain": [
       "| 9758         | 7.1e+08 | 13.4511     | 6m 57s       |"
      ]
     },
     "metadata": {},
     "output_type": "display_data"
    },
    {
     "data": {
      "text/html": [
       "<pre>| 9836         | 7.1e+08 | 13.5587     | 7m 0s        |</pre>"
      ],
      "text/plain": [
       "| 9836         | 7.1e+08 | 13.5587     | 7m 0s        |"
      ]
     },
     "metadata": {},
     "output_type": "display_data"
    },
    {
     "data": {
      "text/html": [
       "<pre>| 9914         | 7.2e+08 | 13.6662     | 7m 3s        |</pre>"
      ],
      "text/plain": [
       "| 9914         | 7.2e+08 | 13.6662     | 7m 3s        |"
      ]
     },
     "metadata": {},
     "output_type": "display_data"
    },
    {
     "data": {
      "text/html": [
       "<pre>| 9993         | 7.2e+08 | 13.7751     | 7m 6s        |</pre>"
      ],
      "text/plain": [
       "| 9993         | 7.2e+08 | 13.7751     | 7m 6s        |"
      ]
     },
     "metadata": {},
     "output_type": "display_data"
    },
    {
     "data": {
      "text/html": [
       "<pre>| 10070        | 7.3e+08 | 13.8812     | 7m 9s        |</pre>"
      ],
      "text/plain": [
       "| 10070        | 7.3e+08 | 13.8812     | 7m 9s        |"
      ]
     },
     "metadata": {},
     "output_type": "display_data"
    },
    {
     "data": {
      "text/html": [
       "<pre>| 10149        | 7.4e+08 | 13.9901     | 7m 12s       |</pre>"
      ],
      "text/plain": [
       "| 10149        | 7.4e+08 | 13.9901     | 7m 12s       |"
      ]
     },
     "metadata": {},
     "output_type": "display_data"
    },
    {
     "data": {
      "text/html": [
       "<pre>| 10220        | 7.4e+08 | 14.088      | 7m 15s       |</pre>"
      ],
      "text/plain": [
       "| 10220        | 7.4e+08 | 14.088      | 7m 15s       |"
      ]
     },
     "metadata": {},
     "output_type": "display_data"
    },
    {
     "data": {
      "text/html": [
       "<pre>| 10298        | 7.5e+08 | 14.1955     | 7m 18s       |</pre>"
      ],
      "text/plain": [
       "| 10298        | 7.5e+08 | 14.1955     | 7m 18s       |"
      ]
     },
     "metadata": {},
     "output_type": "display_data"
    },
    {
     "data": {
      "text/html": [
       "<pre>| 10377        | 7.5e+08 | 14.3044     | 7m 21s       |</pre>"
      ],
      "text/plain": [
       "| 10377        | 7.5e+08 | 14.3044     | 7m 21s       |"
      ]
     },
     "metadata": {},
     "output_type": "display_data"
    },
    {
     "data": {
      "text/html": [
       "<pre>| 10456        | 7.6e+08 | 14.4133     | 7m 24s       |</pre>"
      ],
      "text/plain": [
       "| 10456        | 7.6e+08 | 14.4133     | 7m 24s       |"
      ]
     },
     "metadata": {},
     "output_type": "display_data"
    },
    {
     "data": {
      "text/html": [
       "<pre>| 10534        | 7.6e+08 | 14.5208     | 7m 27s       |</pre>"
      ],
      "text/plain": [
       "| 10534        | 7.6e+08 | 14.5208     | 7m 27s       |"
      ]
     },
     "metadata": {},
     "output_type": "display_data"
    },
    {
     "data": {
      "text/html": [
       "<pre>| 10612        | 7.7e+08 | 14.6284     | 7m 30s       |</pre>"
      ],
      "text/plain": [
       "| 10612        | 7.7e+08 | 14.6284     | 7m 30s       |"
      ]
     },
     "metadata": {},
     "output_type": "display_data"
    },
    {
     "data": {
      "text/html": [
       "<pre>| 10687        | 7.8e+08 | 14.7317     | 7m 33s       |</pre>"
      ],
      "text/plain": [
       "| 10687        | 7.8e+08 | 14.7317     | 7m 33s       |"
      ]
     },
     "metadata": {},
     "output_type": "display_data"
    },
    {
     "data": {
      "text/html": [
       "<pre>| 10766        | 7.8e+08 | 14.8406     | 7m 36s       |</pre>"
      ],
      "text/plain": [
       "| 10766        | 7.8e+08 | 14.8406     | 7m 36s       |"
      ]
     },
     "metadata": {},
     "output_type": "display_data"
    },
    {
     "data": {
      "text/html": [
       "<pre>| 10846        | 7.9e+08 | 14.9509     | 7m 39s       |</pre>"
      ],
      "text/plain": [
       "| 10846        | 7.9e+08 | 14.9509     | 7m 39s       |"
      ]
     },
     "metadata": {},
     "output_type": "display_data"
    },
    {
     "data": {
      "text/html": [
       "<pre>| 10925        | 7.9e+08 | 15.0598     | 7m 42s       |</pre>"
      ],
      "text/plain": [
       "| 10925        | 7.9e+08 | 15.0598     | 7m 42s       |"
      ]
     },
     "metadata": {},
     "output_type": "display_data"
    },
    {
     "data": {
      "text/html": [
       "<pre>| 11002        | 8e+08   | 15.166      | 7m 45s       |</pre>"
      ],
      "text/plain": [
       "| 11002        | 8e+08   | 15.166      | 7m 45s       |"
      ]
     },
     "metadata": {},
     "output_type": "display_data"
    },
    {
     "data": {
      "text/html": [
       "<pre>| 11082        | 8e+08   | 15.2762     | 7m 48s       |</pre>"
      ],
      "text/plain": [
       "| 11082        | 8e+08   | 15.2762     | 7m 48s       |"
      ]
     },
     "metadata": {},
     "output_type": "display_data"
    },
    {
     "data": {
      "text/html": [
       "<pre>| 11160        | 8.1e+08 | 15.3838     | 7m 51s       |</pre>"
      ],
      "text/plain": [
       "| 11160        | 8.1e+08 | 15.3838     | 7m 51s       |"
      ]
     },
     "metadata": {},
     "output_type": "display_data"
    },
    {
     "data": {
      "text/html": [
       "<pre>| 11239        | 8.2e+08 | 15.4927     | 7m 54s       |</pre>"
      ],
      "text/plain": [
       "| 11239        | 8.2e+08 | 15.4927     | 7m 54s       |"
      ]
     },
     "metadata": {},
     "output_type": "display_data"
    },
    {
     "data": {
      "text/html": [
       "<pre>| 11318        | 8.2e+08 | 15.6016     | 7m 57s       |</pre>"
      ],
      "text/plain": [
       "| 11318        | 8.2e+08 | 15.6016     | 7m 57s       |"
      ]
     },
     "metadata": {},
     "output_type": "display_data"
    },
    {
     "data": {
      "text/html": [
       "<pre>| 11396        | 8.3e+08 | 15.7091     | 8m 0s        |</pre>"
      ],
      "text/plain": [
       "| 11396        | 8.3e+08 | 15.7091     | 8m 0s        |"
      ]
     },
     "metadata": {},
     "output_type": "display_data"
    },
    {
     "data": {
      "text/html": [
       "<pre>| 11471        | 8.3e+08 | 15.8125     | 8m 3s        |</pre>"
      ],
      "text/plain": [
       "| 11471        | 8.3e+08 | 15.8125     | 8m 3s        |"
      ]
     },
     "metadata": {},
     "output_type": "display_data"
    },
    {
     "data": {
      "text/html": [
       "<pre>| 11550        | 8.4e+08 | 15.9214     | 8m 6s        |</pre>"
      ],
      "text/plain": [
       "| 11550        | 8.4e+08 | 15.9214     | 8m 6s        |"
      ]
     },
     "metadata": {},
     "output_type": "display_data"
    },
    {
     "data": {
      "text/html": [
       "<pre>| 11628        | 8.4e+08 | 16.0289     | 8m 9s        |</pre>"
      ],
      "text/plain": [
       "| 11628        | 8.4e+08 | 16.0289     | 8m 9s        |"
      ]
     },
     "metadata": {},
     "output_type": "display_data"
    },
    {
     "data": {
      "text/html": [
       "<pre>| 11708        | 8.5e+08 | 16.1392     | 8m 12s       |</pre>"
      ],
      "text/plain": [
       "| 11708        | 8.5e+08 | 16.1392     | 8m 12s       |"
      ]
     },
     "metadata": {},
     "output_type": "display_data"
    },
    {
     "data": {
      "text/html": [
       "<pre>| 11786        | 8.6e+08 | 16.2467     | 8m 15s       |</pre>"
      ],
      "text/plain": [
       "| 11786        | 8.6e+08 | 16.2467     | 8m 15s       |"
      ]
     },
     "metadata": {},
     "output_type": "display_data"
    },
    {
     "data": {
      "text/html": [
       "<pre>| 11865        | 8.6e+08 | 16.3556     | 8m 18s       |</pre>"
      ],
      "text/plain": [
       "| 11865        | 8.6e+08 | 16.3556     | 8m 18s       |"
      ]
     },
     "metadata": {},
     "output_type": "display_data"
    },
    {
     "data": {
      "text/html": [
       "<pre>| 11945        | 8.7e+08 | 16.4659     | 8m 21s       |</pre>"
      ],
      "text/plain": [
       "| 11945        | 8.7e+08 | 16.4659     | 8m 21s       |"
      ]
     },
     "metadata": {},
     "output_type": "display_data"
    },
    {
     "data": {
      "text/html": [
       "<pre>| 12024        | 8.7e+08 | 16.5748     | 8m 24s       |</pre>"
      ],
      "text/plain": [
       "| 12024        | 8.7e+08 | 16.5748     | 8m 24s       |"
      ]
     },
     "metadata": {},
     "output_type": "display_data"
    },
    {
     "data": {
      "text/html": [
       "<pre>| 12103        | 8.8e+08 | 16.6837     | 8m 27s       |</pre>"
      ],
      "text/plain": [
       "| 12103        | 8.8e+08 | 16.6837     | 8m 27s       |"
      ]
     },
     "metadata": {},
     "output_type": "display_data"
    },
    {
     "data": {
      "text/html": [
       "<pre>| 12180        | 8.8e+08 | 16.7898     | 8m 30s       |</pre>"
      ],
      "text/plain": [
       "| 12180        | 8.8e+08 | 16.7898     | 8m 30s       |"
      ]
     },
     "metadata": {},
     "output_type": "display_data"
    },
    {
     "data": {
      "text/html": [
       "<pre>| 12257        | 8.9e+08 | 16.896      | 8m 33s       |</pre>"
      ],
      "text/plain": [
       "| 12257        | 8.9e+08 | 16.896      | 8m 33s       |"
      ]
     },
     "metadata": {},
     "output_type": "display_data"
    },
    {
     "data": {
      "text/html": [
       "<pre>| 12337        | 8.9e+08 | 17.0062     | 8m 36s       |</pre>"
      ],
      "text/plain": [
       "| 12337        | 8.9e+08 | 17.0062     | 8m 36s       |"
      ]
     },
     "metadata": {},
     "output_type": "display_data"
    },
    {
     "data": {
      "text/html": [
       "<pre>| 12416        | 9e+08   | 17.1151     | 8m 39s       |</pre>"
      ],
      "text/plain": [
       "| 12416        | 9e+08   | 17.1151     | 8m 39s       |"
      ]
     },
     "metadata": {},
     "output_type": "display_data"
    },
    {
     "data": {
      "text/html": [
       "<pre>| 12495        | 9.1e+08 | 17.224      | 8m 42s       |</pre>"
      ],
      "text/plain": [
       "| 12495        | 9.1e+08 | 17.224      | 8m 42s       |"
      ]
     },
     "metadata": {},
     "output_type": "display_data"
    },
    {
     "data": {
      "text/html": [
       "<pre>| 12573        | 9.1e+08 | 17.3316     | 8m 45s       |</pre>"
      ],
      "text/plain": [
       "| 12573        | 9.1e+08 | 17.3316     | 8m 45s       |"
      ]
     },
     "metadata": {},
     "output_type": "display_data"
    },
    {
     "data": {
      "text/html": [
       "<pre>| 12653        | 9.2e+08 | 17.4418     | 8m 48s       |</pre>"
      ],
      "text/plain": [
       "| 12653        | 9.2e+08 | 17.4418     | 8m 48s       |"
      ]
     },
     "metadata": {},
     "output_type": "display_data"
    },
    {
     "data": {
      "text/html": [
       "<pre>| 12731        | 9.2e+08 | 17.5493     | 8m 51s       |</pre>"
      ],
      "text/plain": [
       "| 12731        | 9.2e+08 | 17.5493     | 8m 51s       |"
      ]
     },
     "metadata": {},
     "output_type": "display_data"
    },
    {
     "data": {
      "text/html": [
       "<pre>| 12810        | 9.3e+08 | 17.6582     | 8m 54s       |</pre>"
      ],
      "text/plain": [
       "| 12810        | 9.3e+08 | 17.6582     | 8m 54s       |"
      ]
     },
     "metadata": {},
     "output_type": "display_data"
    },
    {
     "data": {
      "text/html": [
       "<pre>| 12890        | 9.4e+08 | 17.7685     | 8m 57s       |</pre>"
      ],
      "text/plain": [
       "| 12890        | 9.4e+08 | 17.7685     | 8m 57s       |"
      ]
     },
     "metadata": {},
     "output_type": "display_data"
    },
    {
     "data": {
      "text/html": [
       "<pre>| 12968        | 9.4e+08 | 17.876      | 9m 0s        |</pre>"
      ],
      "text/plain": [
       "| 12968        | 9.4e+08 | 17.876      | 9m 0s        |"
      ]
     },
     "metadata": {},
     "output_type": "display_data"
    },
    {
     "data": {
      "text/html": [
       "<pre>| 13046        | 9.5e+08 | 17.9836     | 9m 3s        |</pre>"
      ],
      "text/plain": [
       "| 13046        | 9.5e+08 | 17.9836     | 9m 3s        |"
      ]
     },
     "metadata": {},
     "output_type": "display_data"
    },
    {
     "data": {
      "text/html": [
       "<pre>| 13125        | 9.5e+08 | 18.0925     | 9m 6s        |</pre>"
      ],
      "text/plain": [
       "| 13125        | 9.5e+08 | 18.0925     | 9m 6s        |"
      ]
     },
     "metadata": {},
     "output_type": "display_data"
    },
    {
     "data": {
      "text/html": [
       "<pre>| 13203        | 9.6e+08 | 18.2        | 9m 9s        |</pre>"
      ],
      "text/plain": [
       "| 13203        | 9.6e+08 | 18.2        | 9m 9s        |"
      ]
     },
     "metadata": {},
     "output_type": "display_data"
    },
    {
     "data": {
      "text/html": [
       "<pre>| 13281        | 9.6e+08 | 18.3075     | 9m 12s       |</pre>"
      ],
      "text/plain": [
       "| 13281        | 9.6e+08 | 18.3075     | 9m 12s       |"
      ]
     },
     "metadata": {},
     "output_type": "display_data"
    },
    {
     "data": {
      "text/html": [
       "<pre>| 13361        | 9.7e+08 | 18.4178     | 9m 15s       |</pre>"
      ],
      "text/plain": [
       "| 13361        | 9.7e+08 | 18.4178     | 9m 15s       |"
      ]
     },
     "metadata": {},
     "output_type": "display_data"
    },
    {
     "data": {
      "text/html": [
       "<pre>| 13439        | 9.7e+08 | 18.5253     | 9m 18s       |</pre>"
      ],
      "text/plain": [
       "| 13439        | 9.7e+08 | 18.5253     | 9m 18s       |"
      ]
     },
     "metadata": {},
     "output_type": "display_data"
    },
    {
     "data": {
      "text/html": [
       "<pre>| 13520        | 9.8e+08 | 18.637      | 9m 21s       |</pre>"
      ],
      "text/plain": [
       "| 13520        | 9.8e+08 | 18.637      | 9m 21s       |"
      ]
     },
     "metadata": {},
     "output_type": "display_data"
    },
    {
     "data": {
      "text/html": [
       "<pre>| 13588        | 9.9e+08 | 18.7307     | 9m 24s       |</pre>"
      ],
      "text/plain": [
       "| 13588        | 9.9e+08 | 18.7307     | 9m 24s       |"
      ]
     },
     "metadata": {},
     "output_type": "display_data"
    },
    {
     "data": {
      "text/html": [
       "<pre>| 13666        | 9.9e+08 | 18.8382     | 9m 27s       |</pre>"
      ],
      "text/plain": [
       "| 13666        | 9.9e+08 | 18.8382     | 9m 27s       |"
      ]
     },
     "metadata": {},
     "output_type": "display_data"
    },
    {
     "data": {
      "text/html": [
       "<pre>| 13746        | 1e+09   | 18.9485     | 9m 30s       |</pre>"
      ],
      "text/plain": [
       "| 13746        | 1e+09   | 18.9485     | 9m 30s       |"
      ]
     },
     "metadata": {},
     "output_type": "display_data"
    },
    {
     "data": {
      "text/html": [
       "<pre>| 13823        | 1e+09   | 19.0546     | 9m 33s       |</pre>"
      ],
      "text/plain": [
       "| 13823        | 1e+09   | 19.0546     | 9m 33s       |"
      ]
     },
     "metadata": {},
     "output_type": "display_data"
    },
    {
     "data": {
      "text/html": [
       "<pre>| 13903        | 1e+09   | 19.1649     | 9m 36s       |</pre>"
      ],
      "text/plain": [
       "| 13903        | 1e+09   | 19.1649     | 9m 36s       |"
      ]
     },
     "metadata": {},
     "output_type": "display_data"
    },
    {
     "data": {
      "text/html": [
       "<pre>| 13980        | 1e+09   | 19.2711     | 9m 39s       |</pre>"
      ],
      "text/plain": [
       "| 13980        | 1e+09   | 19.2711     | 9m 39s       |"
      ]
     },
     "metadata": {},
     "output_type": "display_data"
    },
    {
     "data": {
      "text/html": [
       "<pre>| 14057        | 1e+09   | 19.3772     | 9m 42s       |</pre>"
      ],
      "text/plain": [
       "| 14057        | 1e+09   | 19.3772     | 9m 42s       |"
      ]
     },
     "metadata": {},
     "output_type": "display_data"
    },
    {
     "data": {
      "text/html": [
       "<pre>| 14135        | 1e+09   | 19.4847     | 9m 45s       |</pre>"
      ],
      "text/plain": [
       "| 14135        | 1e+09   | 19.4847     | 9m 45s       |"
      ]
     },
     "metadata": {},
     "output_type": "display_data"
    },
    {
     "data": {
      "text/html": [
       "<pre>| 14211        | 1e+09   | 19.5895     | 9m 48s       |</pre>"
      ],
      "text/plain": [
       "| 14211        | 1e+09   | 19.5895     | 9m 48s       |"
      ]
     },
     "metadata": {},
     "output_type": "display_data"
    },
    {
     "data": {
      "text/html": [
       "<pre>| 14289        | 1e+09   | 19.697      | 9m 51s       |</pre>"
      ],
      "text/plain": [
       "| 14289        | 1e+09   | 19.697      | 9m 51s       |"
      ]
     },
     "metadata": {},
     "output_type": "display_data"
    },
    {
     "data": {
      "text/html": [
       "<pre>| 14367        | 1e+09   | 19.8045     | 9m 54s       |</pre>"
      ],
      "text/plain": [
       "| 14367        | 1e+09   | 19.8045     | 9m 54s       |"
      ]
     },
     "metadata": {},
     "output_type": "display_data"
    },
    {
     "data": {
      "text/html": [
       "<pre>| 14445        | 1e+09   | 19.9121     | 9m 57s       |</pre>"
      ],
      "text/plain": [
       "| 14445        | 1e+09   | 19.9121     | 9m 57s       |"
      ]
     },
     "metadata": {},
     "output_type": "display_data"
    },
    {
     "data": {
      "text/html": [
       "<pre>| 14523        | 1.1e+09 | 20.0196     | 10m 0s       |</pre>"
      ],
      "text/plain": [
       "| 14523        | 1.1e+09 | 20.0196     | 10m 0s       |"
      ]
     },
     "metadata": {},
     "output_type": "display_data"
    },
    {
     "data": {
      "text/html": [
       "<pre>| 14601        | 1.1e+09 | 20.1271     | 10m 3s       |</pre>"
      ],
      "text/plain": [
       "| 14601        | 1.1e+09 | 20.1271     | 10m 3s       |"
      ]
     },
     "metadata": {},
     "output_type": "display_data"
    },
    {
     "data": {
      "text/html": [
       "<pre>| 14680        | 1.1e+09 | 20.236      | 10m 6s       |</pre>"
      ],
      "text/plain": [
       "| 14680        | 1.1e+09 | 20.236      | 10m 6s       |"
      ]
     },
     "metadata": {},
     "output_type": "display_data"
    },
    {
     "data": {
      "text/html": [
       "<pre>| 14758        | 1.1e+09 | 20.3435     | 10m 9s       |</pre>"
      ],
      "text/plain": [
       "| 14758        | 1.1e+09 | 20.3435     | 10m 9s       |"
      ]
     },
     "metadata": {},
     "output_type": "display_data"
    },
    {
     "data": {
      "text/html": [
       "<pre>| 14837        | 1.1e+09 | 20.4524     | 10m 12s      |</pre>"
      ],
      "text/plain": [
       "| 14837        | 1.1e+09 | 20.4524     | 10m 12s      |"
      ]
     },
     "metadata": {},
     "output_type": "display_data"
    },
    {
     "data": {
      "text/html": [
       "<pre>| 14916        | 1.1e+09 | 20.5613     | 10m 15s      |</pre>"
      ],
      "text/plain": [
       "| 14916        | 1.1e+09 | 20.5613     | 10m 15s      |"
      ]
     },
     "metadata": {},
     "output_type": "display_data"
    },
    {
     "data": {
      "text/html": [
       "<pre>| 14995        | 1.1e+09 | 20.6702     | 10m 18s      |</pre>"
      ],
      "text/plain": [
       "| 14995        | 1.1e+09 | 20.6702     | 10m 18s      |"
      ]
     },
     "metadata": {},
     "output_type": "display_data"
    },
    {
     "data": {
      "text/html": [
       "<pre>| 15063        | 1.1e+09 | 20.764      | 10m 21s      |</pre>"
      ],
      "text/plain": [
       "| 15063        | 1.1e+09 | 20.764      | 10m 21s      |"
      ]
     },
     "metadata": {},
     "output_type": "display_data"
    },
    {
     "data": {
      "text/html": [
       "<pre>| 15135        | 1.1e+09 | 20.8632     | 10m 24s      |</pre>"
      ],
      "text/plain": [
       "| 15135        | 1.1e+09 | 20.8632     | 10m 24s      |"
      ]
     },
     "metadata": {},
     "output_type": "display_data"
    },
    {
     "data": {
      "text/html": [
       "<pre>| 15208        | 1.1e+09 | 20.9638     | 10m 27s      |</pre>"
      ],
      "text/plain": [
       "| 15208        | 1.1e+09 | 20.9638     | 10m 27s      |"
      ]
     },
     "metadata": {},
     "output_type": "display_data"
    },
    {
     "data": {
      "text/html": [
       "<pre>| 15287        | 1.1e+09 | 21.0727     | 10m 30s      |</pre>"
      ],
      "text/plain": [
       "| 15287        | 1.1e+09 | 21.0727     | 10m 30s      |"
      ]
     },
     "metadata": {},
     "output_type": "display_data"
    },
    {
     "data": {
      "text/html": [
       "<pre>| 15364        | 1.1e+09 | 21.1789     | 10m 33s      |</pre>"
      ],
      "text/plain": [
       "| 15364        | 1.1e+09 | 21.1789     | 10m 33s      |"
      ]
     },
     "metadata": {},
     "output_type": "display_data"
    },
    {
     "data": {
      "text/html": [
       "<pre>| 15443        | 1.1e+09 | 21.2878     | 10m 36s      |</pre>"
      ],
      "text/plain": [
       "| 15443        | 1.1e+09 | 21.2878     | 10m 36s      |"
      ]
     },
     "metadata": {},
     "output_type": "display_data"
    },
    {
     "data": {
      "text/html": [
       "<pre>| 15520        | 1.1e+09 | 21.3939     | 10m 39s      |</pre>"
      ],
      "text/plain": [
       "| 15520        | 1.1e+09 | 21.3939     | 10m 39s      |"
      ]
     },
     "metadata": {},
     "output_type": "display_data"
    },
    {
     "data": {
      "text/html": [
       "<pre>| 15600        | 1.1e+09 | 21.5042     | 10m 42s      |</pre>"
      ],
      "text/plain": [
       "| 15600        | 1.1e+09 | 21.5042     | 10m 42s      |"
      ]
     },
     "metadata": {},
     "output_type": "display_data"
    },
    {
     "data": {
      "text/html": [
       "<pre>| 15678        | 1.1e+09 | 21.6117     | 10m 45s      |</pre>"
      ],
      "text/plain": [
       "| 15678        | 1.1e+09 | 21.6117     | 10m 45s      |"
      ]
     },
     "metadata": {},
     "output_type": "display_data"
    },
    {
     "data": {
      "text/html": [
       "<pre>| 15756        | 1.1e+09 | 21.7192     | 10m 48s      |</pre>"
      ],
      "text/plain": [
       "| 15756        | 1.1e+09 | 21.7192     | 10m 48s      |"
      ]
     },
     "metadata": {},
     "output_type": "display_data"
    },
    {
     "data": {
      "text/html": [
       "<pre>| 15835        | 1.1e+09 | 21.8281     | 10m 51s      |</pre>"
      ],
      "text/plain": [
       "| 15835        | 1.1e+09 | 21.8281     | 10m 51s      |"
      ]
     },
     "metadata": {},
     "output_type": "display_data"
    },
    {
     "data": {
      "text/html": [
       "<pre>| 15914        | 1.2e+09 | 21.937      | 10m 54s      |</pre>"
      ],
      "text/plain": [
       "| 15914        | 1.2e+09 | 21.937      | 10m 54s      |"
      ]
     },
     "metadata": {},
     "output_type": "display_data"
    },
    {
     "data": {
      "text/html": [
       "<pre>| 15993        | 1.2e+09 | 22.0459     | 10m 57s      |</pre>"
      ],
      "text/plain": [
       "| 15993        | 1.2e+09 | 22.0459     | 10m 57s      |"
      ]
     },
     "metadata": {},
     "output_type": "display_data"
    },
    {
     "data": {
      "text/html": [
       "<pre>| 16068        | 1.2e+09 | 22.1493     | 11m 0s       |</pre>"
      ],
      "text/plain": [
       "| 16068        | 1.2e+09 | 22.1493     | 11m 0s       |"
      ]
     },
     "metadata": {},
     "output_type": "display_data"
    },
    {
     "data": {
      "text/html": [
       "<pre>| 16145        | 1.2e+09 | 22.2555     | 11m 3s       |</pre>"
      ],
      "text/plain": [
       "| 16145        | 1.2e+09 | 22.2555     | 11m 3s       |"
      ]
     },
     "metadata": {},
     "output_type": "display_data"
    },
    {
     "data": {
      "text/html": [
       "<pre>| 16223        | 1.2e+09 | 22.363      | 11m 6s       |</pre>"
      ],
      "text/plain": [
       "| 16223        | 1.2e+09 | 22.363      | 11m 6s       |"
      ]
     },
     "metadata": {},
     "output_type": "display_data"
    },
    {
     "data": {
      "text/html": [
       "<pre>| 16301        | 1.2e+09 | 22.4705     | 11m 9s       |</pre>"
      ],
      "text/plain": [
       "| 16301        | 1.2e+09 | 22.4705     | 11m 9s       |"
      ]
     },
     "metadata": {},
     "output_type": "display_data"
    },
    {
     "data": {
      "text/html": [
       "<pre>| 16372        | 1.2e+09 | 22.5684     | 11m 12s      |</pre>"
      ],
      "text/plain": [
       "| 16372        | 1.2e+09 | 22.5684     | 11m 12s      |"
      ]
     },
     "metadata": {},
     "output_type": "display_data"
    },
    {
     "data": {
      "text/html": [
       "<pre>| 16451        | 1.2e+09 | 22.6773     | 11m 15s      |</pre>"
      ],
      "text/plain": [
       "| 16451        | 1.2e+09 | 22.6773     | 11m 15s      |"
      ]
     },
     "metadata": {},
     "output_type": "display_data"
    },
    {
     "data": {
      "text/html": [
       "<pre>| 16527        | 1.2e+09 | 22.782      | 11m 18s      |</pre>"
      ],
      "text/plain": [
       "| 16527        | 1.2e+09 | 22.782      | 11m 18s      |"
      ]
     },
     "metadata": {},
     "output_type": "display_data"
    },
    {
     "data": {
      "text/html": [
       "<pre>| 16607        | 1.2e+09 | 22.8923     | 11m 21s      |</pre>"
      ],
      "text/plain": [
       "| 16607        | 1.2e+09 | 22.8923     | 11m 21s      |"
      ]
     },
     "metadata": {},
     "output_type": "display_data"
    },
    {
     "data": {
      "text/html": [
       "<pre>| 16683        | 1.2e+09 | 22.9971     | 11m 24s      |</pre>"
      ],
      "text/plain": [
       "| 16683        | 1.2e+09 | 22.9971     | 11m 24s      |"
      ]
     },
     "metadata": {},
     "output_type": "display_data"
    },
    {
     "data": {
      "text/html": [
       "<pre>| 16755        | 1.2e+09 | 23.0963     | 11m 27s      |</pre>"
      ],
      "text/plain": [
       "| 16755        | 1.2e+09 | 23.0963     | 11m 27s      |"
      ]
     },
     "metadata": {},
     "output_type": "display_data"
    },
    {
     "data": {
      "text/html": [
       "<pre>| 16828        | 1.2e+09 | 23.197      | 11m 30s      |</pre>"
      ],
      "text/plain": [
       "| 16828        | 1.2e+09 | 23.197      | 11m 30s      |"
      ]
     },
     "metadata": {},
     "output_type": "display_data"
    },
    {
     "data": {
      "text/html": [
       "<pre>| 16904        | 1.2e+09 | 23.3017     | 11m 33s      |</pre>"
      ],
      "text/plain": [
       "| 16904        | 1.2e+09 | 23.3017     | 11m 33s      |"
      ]
     },
     "metadata": {},
     "output_type": "display_data"
    },
    {
     "data": {
      "text/html": [
       "<pre>| 16973        | 1.2e+09 | 23.3968     | 11m 36s      |</pre>"
      ],
      "text/plain": [
       "| 16973        | 1.2e+09 | 23.3968     | 11m 36s      |"
      ]
     },
     "metadata": {},
     "output_type": "display_data"
    },
    {
     "data": {
      "text/html": [
       "<pre>| 17050        | 1.2e+09 | 23.503      | 11m 39s      |</pre>"
      ],
      "text/plain": [
       "| 17050        | 1.2e+09 | 23.503      | 11m 39s      |"
      ]
     },
     "metadata": {},
     "output_type": "display_data"
    },
    {
     "data": {
      "text/html": [
       "<pre>| 17127        | 1.2e+09 | 23.6091     | 11m 42s      |</pre>"
      ],
      "text/plain": [
       "| 17127        | 1.2e+09 | 23.6091     | 11m 42s      |"
      ]
     },
     "metadata": {},
     "output_type": "display_data"
    },
    {
     "data": {
      "text/html": [
       "<pre>| 17205        | 1.2e+09 | 23.7166     | 11m 45s      |</pre>"
      ],
      "text/plain": [
       "| 17205        | 1.2e+09 | 23.7166     | 11m 45s      |"
      ]
     },
     "metadata": {},
     "output_type": "display_data"
    },
    {
     "data": {
      "text/html": [
       "<pre>| 17283        | 1.3e+09 | 23.8242     | 11m 48s      |</pre>"
      ],
      "text/plain": [
       "| 17283        | 1.3e+09 | 23.8242     | 11m 48s      |"
      ]
     },
     "metadata": {},
     "output_type": "display_data"
    },
    {
     "data": {
      "text/html": [
       "<pre>| 17362        | 1.3e+09 | 23.9331     | 11m 51s      |</pre>"
      ],
      "text/plain": [
       "| 17362        | 1.3e+09 | 23.9331     | 11m 51s      |"
      ]
     },
     "metadata": {},
     "output_type": "display_data"
    },
    {
     "data": {
      "text/html": [
       "<pre>| 17440        | 1.3e+09 | 24.0406     | 11m 54s      |</pre>"
      ],
      "text/plain": [
       "| 17440        | 1.3e+09 | 24.0406     | 11m 54s      |"
      ]
     },
     "metadata": {},
     "output_type": "display_data"
    },
    {
     "data": {
      "text/html": [
       "<pre>| 17520        | 1.3e+09 | 24.1509     | 11m 57s      |</pre>"
      ],
      "text/plain": [
       "| 17520        | 1.3e+09 | 24.1509     | 11m 57s      |"
      ]
     },
     "metadata": {},
     "output_type": "display_data"
    },
    {
     "data": {
      "text/html": [
       "<pre>| 17596        | 1.3e+09 | 24.2556     | 12m 0s       |</pre>"
      ],
      "text/plain": [
       "| 17596        | 1.3e+09 | 24.2556     | 12m 0s       |"
      ]
     },
     "metadata": {},
     "output_type": "display_data"
    },
    {
     "data": {
      "text/html": [
       "<pre>| 17674        | 1.3e+09 | 24.3631     | 12m 3s       |</pre>"
      ],
      "text/plain": [
       "| 17674        | 1.3e+09 | 24.3631     | 12m 3s       |"
      ]
     },
     "metadata": {},
     "output_type": "display_data"
    },
    {
     "data": {
      "text/html": [
       "<pre>| 17754        | 1.3e+09 | 24.4734     | 12m 6s       |</pre>"
      ],
      "text/plain": [
       "| 17754        | 1.3e+09 | 24.4734     | 12m 6s       |"
      ]
     },
     "metadata": {},
     "output_type": "display_data"
    },
    {
     "data": {
      "text/html": [
       "<pre>| 17831        | 1.3e+09 | 24.5796     | 12m 9s       |</pre>"
      ],
      "text/plain": [
       "| 17831        | 1.3e+09 | 24.5796     | 12m 9s       |"
      ]
     },
     "metadata": {},
     "output_type": "display_data"
    },
    {
     "data": {
      "text/html": [
       "<pre>| 17910        | 1.3e+09 | 24.6885     | 12m 12s      |</pre>"
      ],
      "text/plain": [
       "| 17910        | 1.3e+09 | 24.6885     | 12m 12s      |"
      ]
     },
     "metadata": {},
     "output_type": "display_data"
    },
    {
     "data": {
      "text/html": [
       "<pre>| 17990        | 1.3e+09 | 24.7987     | 12m 15s      |</pre>"
      ],
      "text/plain": [
       "| 17990        | 1.3e+09 | 24.7987     | 12m 15s      |"
      ]
     },
     "metadata": {},
     "output_type": "display_data"
    },
    {
     "data": {
      "text/html": [
       "<pre>| 18069        | 1.3e+09 | 24.9076     | 12m 18s      |</pre>"
      ],
      "text/plain": [
       "| 18069        | 1.3e+09 | 24.9076     | 12m 18s      |"
      ]
     },
     "metadata": {},
     "output_type": "display_data"
    },
    {
     "data": {
      "text/html": [
       "<pre>| 18148        | 1.3e+09 | 25.0165     | 12m 21s      |</pre>"
      ],
      "text/plain": [
       "| 18148        | 1.3e+09 | 25.0165     | 12m 21s      |"
      ]
     },
     "metadata": {},
     "output_type": "display_data"
    },
    {
     "data": {
      "text/html": [
       "<pre>| 18228        | 1.3e+09 | 25.1268     | 12m 24s      |</pre>"
      ],
      "text/plain": [
       "| 18228        | 1.3e+09 | 25.1268     | 12m 24s      |"
      ]
     },
     "metadata": {},
     "output_type": "display_data"
    },
    {
     "data": {
      "text/html": [
       "<pre>| 18306        | 1.3e+09 | 25.2343     | 12m 27s      |</pre>"
      ],
      "text/plain": [
       "| 18306        | 1.3e+09 | 25.2343     | 12m 27s      |"
      ]
     },
     "metadata": {},
     "output_type": "display_data"
    },
    {
     "data": {
      "text/html": [
       "<pre>| 18386        | 1.3e+09 | 25.3446     | 12m 30s      |</pre>"
      ],
      "text/plain": [
       "| 18386        | 1.3e+09 | 25.3446     | 12m 30s      |"
      ]
     },
     "metadata": {},
     "output_type": "display_data"
    },
    {
     "data": {
      "text/html": [
       "<pre>| 18465        | 1.3e+09 | 25.4535     | 12m 33s      |</pre>"
      ],
      "text/plain": [
       "| 18465        | 1.3e+09 | 25.4535     | 12m 33s      |"
      ]
     },
     "metadata": {},
     "output_type": "display_data"
    },
    {
     "data": {
      "text/html": [
       "<pre>| 18543        | 1.3e+09 | 25.561      | 12m 36s      |</pre>"
      ],
      "text/plain": [
       "| 18543        | 1.3e+09 | 25.561      | 12m 36s      |"
      ]
     },
     "metadata": {},
     "output_type": "display_data"
    },
    {
     "data": {
      "text/html": [
       "<pre>| 18622        | 1.4e+09 | 25.6699     | 12m 39s      |</pre>"
      ],
      "text/plain": [
       "| 18622        | 1.4e+09 | 25.6699     | 12m 39s      |"
      ]
     },
     "metadata": {},
     "output_type": "display_data"
    },
    {
     "data": {
      "text/html": [
       "<pre>| 18701        | 1.4e+09 | 25.7788     | 12m 42s      |</pre>"
      ],
      "text/plain": [
       "| 18701        | 1.4e+09 | 25.7788     | 12m 42s      |"
      ]
     },
     "metadata": {},
     "output_type": "display_data"
    },
    {
     "data": {
      "text/html": [
       "<pre>| 18780        | 1.4e+09 | 25.8877     | 12m 45s      |</pre>"
      ],
      "text/plain": [
       "| 18780        | 1.4e+09 | 25.8877     | 12m 45s      |"
      ]
     },
     "metadata": {},
     "output_type": "display_data"
    },
    {
     "data": {
      "text/html": [
       "<pre>| 18858        | 1.4e+09 | 25.9953     | 12m 48s      |</pre>"
      ],
      "text/plain": [
       "| 18858        | 1.4e+09 | 25.9953     | 12m 48s      |"
      ]
     },
     "metadata": {},
     "output_type": "display_data"
    },
    {
     "data": {
      "text/html": [
       "<pre>| 18937        | 1.4e+09 | 26.1042     | 12m 51s      |</pre>"
      ],
      "text/plain": [
       "| 18937        | 1.4e+09 | 26.1042     | 12m 51s      |"
      ]
     },
     "metadata": {},
     "output_type": "display_data"
    },
    {
     "data": {
      "text/html": [
       "<pre>| 19016        | 1.4e+09 | 26.2131     | 12m 54s      |</pre>"
      ],
      "text/plain": [
       "| 19016        | 1.4e+09 | 26.2131     | 12m 54s      |"
      ]
     },
     "metadata": {},
     "output_type": "display_data"
    },
    {
     "data": {
      "text/html": [
       "<pre>| 19095        | 1.4e+09 | 26.322      | 12m 57s      |</pre>"
      ],
      "text/plain": [
       "| 19095        | 1.4e+09 | 26.322      | 12m 57s      |"
      ]
     },
     "metadata": {},
     "output_type": "display_data"
    },
    {
     "data": {
      "text/html": [
       "<pre>| 19173        | 1.4e+09 | 26.4295     | 13m 0s       |</pre>"
      ],
      "text/plain": [
       "| 19173        | 1.4e+09 | 26.4295     | 13m 0s       |"
      ]
     },
     "metadata": {},
     "output_type": "display_data"
    },
    {
     "data": {
      "text/html": [
       "<pre>| 19249        | 1.4e+09 | 26.5342     | 13m 3s       |</pre>"
      ],
      "text/plain": [
       "| 19249        | 1.4e+09 | 26.5342     | 13m 3s       |"
      ]
     },
     "metadata": {},
     "output_type": "display_data"
    },
    {
     "data": {
      "text/html": [
       "<pre>| 19328        | 1.4e+09 | 26.6431     | 13m 6s       |</pre>"
      ],
      "text/plain": [
       "| 19328        | 1.4e+09 | 26.6431     | 13m 6s       |"
      ]
     },
     "metadata": {},
     "output_type": "display_data"
    },
    {
     "data": {
      "text/html": [
       "<pre>| 19407        | 1.4e+09 | 26.752      | 13m 9s       |</pre>"
      ],
      "text/plain": [
       "| 19407        | 1.4e+09 | 26.752      | 13m 9s       |"
      ]
     },
     "metadata": {},
     "output_type": "display_data"
    },
    {
     "data": {
      "text/html": [
       "<pre>| 19485        | 1.4e+09 | 26.8596     | 13m 12s      |</pre>"
      ],
      "text/plain": [
       "| 19485        | 1.4e+09 | 26.8596     | 13m 12s      |"
      ]
     },
     "metadata": {},
     "output_type": "display_data"
    },
    {
     "data": {
      "text/html": [
       "<pre>| 19565        | 1.4e+09 | 26.9698     | 13m 15s      |</pre>"
      ],
      "text/plain": [
       "| 19565        | 1.4e+09 | 26.9698     | 13m 15s      |"
      ]
     },
     "metadata": {},
     "output_type": "display_data"
    },
    {
     "data": {
      "text/html": [
       "<pre>| 19644        | 1.4e+09 | 27.0787     | 13m 18s      |</pre>"
      ],
      "text/plain": [
       "| 19644        | 1.4e+09 | 27.0787     | 13m 18s      |"
      ]
     },
     "metadata": {},
     "output_type": "display_data"
    },
    {
     "data": {
      "text/html": [
       "<pre>| 19723        | 1.4e+09 | 27.1876     | 13m 21s      |</pre>"
      ],
      "text/plain": [
       "| 19723        | 1.4e+09 | 27.1876     | 13m 21s      |"
      ]
     },
     "metadata": {},
     "output_type": "display_data"
    },
    {
     "data": {
      "text/html": [
       "<pre>| 19801        | 1.4e+09 | 27.2952     | 13m 24s      |</pre>"
      ],
      "text/plain": [
       "| 19801        | 1.4e+09 | 27.2952     | 13m 24s      |"
      ]
     },
     "metadata": {},
     "output_type": "display_data"
    },
    {
     "data": {
      "text/html": [
       "<pre>| 19881        | 1.4e+09 | 27.4054     | 13m 27s      |</pre>"
      ],
      "text/plain": [
       "| 19881        | 1.4e+09 | 27.4054     | 13m 27s      |"
      ]
     },
     "metadata": {},
     "output_type": "display_data"
    },
    {
     "data": {
      "text/html": [
       "<pre>| 19960        | 1.4e+09 | 27.5143     | 13m 30s      |</pre>"
      ],
      "text/plain": [
       "| 19960        | 1.4e+09 | 27.5143     | 13m 30s      |"
      ]
     },
     "metadata": {},
     "output_type": "display_data"
    },
    {
     "data": {
      "text/html": [
       "<pre>| 20034        | 1.5e+09 | 27.6163     | 13m 33s      |</pre>"
      ],
      "text/plain": [
       "| 20034        | 1.5e+09 | 27.6163     | 13m 33s      |"
      ]
     },
     "metadata": {},
     "output_type": "display_data"
    },
    {
     "data": {
      "text/html": [
       "<pre>| 20114        | 1.5e+09 | 27.7266     | 13m 36s      |</pre>"
      ],
      "text/plain": [
       "| 20114        | 1.5e+09 | 27.7266     | 13m 36s      |"
      ]
     },
     "metadata": {},
     "output_type": "display_data"
    },
    {
     "data": {
      "text/html": [
       "<pre>| 20193        | 1.5e+09 | 27.8355     | 13m 39s      |</pre>"
      ],
      "text/plain": [
       "| 20193        | 1.5e+09 | 27.8355     | 13m 39s      |"
      ]
     },
     "metadata": {},
     "output_type": "display_data"
    },
    {
     "data": {
      "text/html": [
       "<pre>| 20273        | 1.5e+09 | 27.9458     | 13m 42s      |</pre>"
      ],
      "text/plain": [
       "| 20273        | 1.5e+09 | 27.9458     | 13m 42s      |"
      ]
     },
     "metadata": {},
     "output_type": "display_data"
    },
    {
     "data": {
      "text/html": [
       "<pre>| 20337        | 1.5e+09 | 28.034      | 13m 45s      |</pre>"
      ],
      "text/plain": [
       "| 20337        | 1.5e+09 | 28.034      | 13m 45s      |"
      ]
     },
     "metadata": {},
     "output_type": "display_data"
    },
    {
     "data": {
      "text/html": [
       "<pre>| 20416        | 1.5e+09 | 28.1429     | 13m 48s      |</pre>"
      ],
      "text/plain": [
       "| 20416        | 1.5e+09 | 28.1429     | 13m 48s      |"
      ]
     },
     "metadata": {},
     "output_type": "display_data"
    },
    {
     "data": {
      "text/html": [
       "<pre>| 20494        | 1.5e+09 | 28.2504     | 13m 51s      |</pre>"
      ],
      "text/plain": [
       "| 20494        | 1.5e+09 | 28.2504     | 13m 51s      |"
      ]
     },
     "metadata": {},
     "output_type": "display_data"
    },
    {
     "data": {
      "text/html": [
       "<pre>| 20572        | 1.5e+09 | 28.358      | 13m 54s      |</pre>"
      ],
      "text/plain": [
       "| 20572        | 1.5e+09 | 28.358      | 13m 54s      |"
      ]
     },
     "metadata": {},
     "output_type": "display_data"
    },
    {
     "data": {
      "text/html": [
       "<pre>| 20651        | 1.5e+09 | 28.4669     | 13m 57s      |</pre>"
      ],
      "text/plain": [
       "| 20651        | 1.5e+09 | 28.4669     | 13m 57s      |"
      ]
     },
     "metadata": {},
     "output_type": "display_data"
    },
    {
     "data": {
      "text/html": [
       "<pre>| 20725        | 1.5e+09 | 28.5689     | 14m 0s       |</pre>"
      ],
      "text/plain": [
       "| 20725        | 1.5e+09 | 28.5689     | 14m 0s       |"
      ]
     },
     "metadata": {},
     "output_type": "display_data"
    },
    {
     "data": {
      "text/html": [
       "<pre>| 20804        | 1.5e+09 | 28.6778     | 14m 3s       |</pre>"
      ],
      "text/plain": [
       "| 20804        | 1.5e+09 | 28.6778     | 14m 3s       |"
      ]
     },
     "metadata": {},
     "output_type": "display_data"
    },
    {
     "data": {
      "text/html": [
       "<pre>| 20883        | 1.5e+09 | 28.7867     | 14m 6s       |</pre>"
      ],
      "text/plain": [
       "| 20883        | 1.5e+09 | 28.7867     | 14m 6s       |"
      ]
     },
     "metadata": {},
     "output_type": "display_data"
    },
    {
     "data": {
      "text/html": [
       "<pre>| 20963        | 1.5e+09 | 28.8969     | 14m 9s       |</pre>"
      ],
      "text/plain": [
       "| 20963        | 1.5e+09 | 28.8969     | 14m 9s       |"
      ]
     },
     "metadata": {},
     "output_type": "display_data"
    },
    {
     "data": {
      "text/html": [
       "<pre>| 21042        | 1.5e+09 | 29.0058     | 14m 12s      |</pre>"
      ],
      "text/plain": [
       "| 21042        | 1.5e+09 | 29.0058     | 14m 12s      |"
      ]
     },
     "metadata": {},
     "output_type": "display_data"
    },
    {
     "data": {
      "text/html": [
       "<pre>| 21120        | 1.5e+09 | 29.1134     | 14m 15s      |</pre>"
      ],
      "text/plain": [
       "| 21120        | 1.5e+09 | 29.1134     | 14m 15s      |"
      ]
     },
     "metadata": {},
     "output_type": "display_data"
    },
    {
     "data": {
      "text/html": [
       "<pre>| 21199        | 1.5e+09 | 29.2223     | 14m 18s      |</pre>"
      ],
      "text/plain": [
       "| 21199        | 1.5e+09 | 29.2223     | 14m 18s      |"
      ]
     },
     "metadata": {},
     "output_type": "display_data"
    },
    {
     "data": {
      "text/html": [
       "<pre>| 21278        | 1.5e+09 | 29.3312     | 14m 21s      |</pre>"
      ],
      "text/plain": [
       "| 21278        | 1.5e+09 | 29.3312     | 14m 21s      |"
      ]
     },
     "metadata": {},
     "output_type": "display_data"
    },
    {
     "data": {
      "text/html": [
       "<pre>| 21357        | 1.5e+09 | 29.4401     | 14m 24s      |</pre>"
      ],
      "text/plain": [
       "| 21357        | 1.5e+09 | 29.4401     | 14m 24s      |"
      ]
     },
     "metadata": {},
     "output_type": "display_data"
    },
    {
     "data": {
      "text/html": [
       "<pre>| 21436        | 1.6e+09 | 29.549      | 14m 27s      |</pre>"
      ],
      "text/plain": [
       "| 21436        | 1.6e+09 | 29.549      | 14m 27s      |"
      ]
     },
     "metadata": {},
     "output_type": "display_data"
    },
    {
     "data": {
      "text/html": [
       "<pre>| 21516        | 1.6e+09 | 29.6592     | 14m 30s      |</pre>"
      ],
      "text/plain": [
       "| 21516        | 1.6e+09 | 29.6592     | 14m 30s      |"
      ]
     },
     "metadata": {},
     "output_type": "display_data"
    },
    {
     "data": {
      "text/html": [
       "<pre>| 21593        | 1.6e+09 | 29.7654     | 14m 33s      |</pre>"
      ],
      "text/plain": [
       "| 21593        | 1.6e+09 | 29.7654     | 14m 33s      |"
      ]
     },
     "metadata": {},
     "output_type": "display_data"
    },
    {
     "data": {
      "text/html": [
       "<pre>| 21673        | 1.6e+09 | 29.8757     | 14m 36s      |</pre>"
      ],
      "text/plain": [
       "| 21673        | 1.6e+09 | 29.8757     | 14m 36s      |"
      ]
     },
     "metadata": {},
     "output_type": "display_data"
    },
    {
     "data": {
      "text/html": [
       "<pre>| 21752        | 1.6e+09 | 29.9846     | 14m 39s      |</pre>"
      ],
      "text/plain": [
       "| 21752        | 1.6e+09 | 29.9846     | 14m 39s      |"
      ]
     },
     "metadata": {},
     "output_type": "display_data"
    },
    {
     "data": {
      "text/html": [
       "<pre>| 21832        | 1.6e+09 | 30.0948     | 14m 42s      |</pre>"
      ],
      "text/plain": [
       "| 21832        | 1.6e+09 | 30.0948     | 14m 42s      |"
      ]
     },
     "metadata": {},
     "output_type": "display_data"
    },
    {
     "data": {
      "text/html": [
       "<pre>| 21910        | 1.6e+09 | 30.2024     | 14m 45s      |</pre>"
      ],
      "text/plain": [
       "| 21910        | 1.6e+09 | 30.2024     | 14m 45s      |"
      ]
     },
     "metadata": {},
     "output_type": "display_data"
    },
    {
     "data": {
      "text/html": [
       "<pre>| 21981        | 1.6e+09 | 30.3002     | 14m 48s      |</pre>"
      ],
      "text/plain": [
       "| 21981        | 1.6e+09 | 30.3002     | 14m 48s      |"
      ]
     },
     "metadata": {},
     "output_type": "display_data"
    },
    {
     "data": {
      "text/html": [
       "<pre>| 22025        | 1.6e+09 | 30.3609     | 14m 51s      |</pre>"
      ],
      "text/plain": [
       "| 22025        | 1.6e+09 | 30.3609     | 14m 51s      |"
      ]
     },
     "metadata": {},
     "output_type": "display_data"
    },
    {
     "data": {
      "text/html": [
       "<pre>| 22071        | 1.6e+09 | 30.4243     | 14m 54s      |</pre>"
      ],
      "text/plain": [
       "| 22071        | 1.6e+09 | 30.4243     | 14m 54s      |"
      ]
     },
     "metadata": {},
     "output_type": "display_data"
    },
    {
     "data": {
      "text/html": [
       "<pre>| 22119        | 1.6e+09 | 30.4905     | 14m 57s      |</pre>"
      ],
      "text/plain": [
       "| 22119        | 1.6e+09 | 30.4905     | 14m 57s      |"
      ]
     },
     "metadata": {},
     "output_type": "display_data"
    },
    {
     "data": {
      "text/html": [
       "<pre>| 22166        | 1.6e+09 | 30.5552     | 15m 0s       |</pre>"
      ],
      "text/plain": [
       "| 22166        | 1.6e+09 | 30.5552     | 15m 0s       |"
      ]
     },
     "metadata": {},
     "output_type": "display_data"
    },
    {
     "data": {
      "text/html": [
       "<pre>| 22238        | 1.6e+09 | 30.6545     | 15m 3s       |</pre>"
      ],
      "text/plain": [
       "| 22238        | 1.6e+09 | 30.6545     | 15m 3s       |"
      ]
     },
     "metadata": {},
     "output_type": "display_data"
    },
    {
     "data": {
      "text/html": [
       "<pre>| 22301        | 1.6e+09 | 30.7413     | 15m 6s       |</pre>"
      ],
      "text/plain": [
       "| 22301        | 1.6e+09 | 30.7413     | 15m 6s       |"
      ]
     },
     "metadata": {},
     "output_type": "display_data"
    },
    {
     "data": {
      "text/html": [
       "<pre>| 22358        | 1.6e+09 | 30.8199     | 15m 9s       |</pre>"
      ],
      "text/plain": [
       "| 22358        | 1.6e+09 | 30.8199     | 15m 9s       |"
      ]
     },
     "metadata": {},
     "output_type": "display_data"
    },
    {
     "data": {
      "text/html": [
       "<pre>| 22422        | 1.6e+09 | 30.9081     | 15m 12s      |</pre>"
      ],
      "text/plain": [
       "| 22422        | 1.6e+09 | 30.9081     | 15m 12s      |"
      ]
     },
     "metadata": {},
     "output_type": "display_data"
    },
    {
     "data": {
      "text/html": [
       "<pre>| 22489        | 1.6e+09 | 31.0005     | 15m 15s      |</pre>"
      ],
      "text/plain": [
       "| 22489        | 1.6e+09 | 31.0005     | 15m 15s      |"
      ]
     },
     "metadata": {},
     "output_type": "display_data"
    },
    {
     "data": {
      "text/html": [
       "<pre>| 22552        | 1.6e+09 | 31.0873     | 15m 18s      |</pre>"
      ],
      "text/plain": [
       "| 22552        | 1.6e+09 | 31.0873     | 15m 18s      |"
      ]
     },
     "metadata": {},
     "output_type": "display_data"
    },
    {
     "data": {
      "text/html": [
       "<pre>| 22610        | 1.6e+09 | 31.1673     | 15m 21s      |</pre>"
      ],
      "text/plain": [
       "| 22610        | 1.6e+09 | 31.1673     | 15m 21s      |"
      ]
     },
     "metadata": {},
     "output_type": "display_data"
    },
    {
     "data": {
      "text/html": [
       "<pre>| 22677        | 1.6e+09 | 31.2596     | 15m 24s      |</pre>"
      ],
      "text/plain": [
       "| 22677        | 1.6e+09 | 31.2596     | 15m 24s      |"
      ]
     },
     "metadata": {},
     "output_type": "display_data"
    },
    {
     "data": {
      "text/html": [
       "<pre>| 22747        | 1.7e+09 | 31.3561     | 15m 27s      |</pre>"
      ],
      "text/plain": [
       "| 22747        | 1.7e+09 | 31.3561     | 15m 27s      |"
      ]
     },
     "metadata": {},
     "output_type": "display_data"
    },
    {
     "data": {
      "text/html": [
       "<pre>| 22815        | 1.7e+09 | 31.4499     | 15m 30s      |</pre>"
      ],
      "text/plain": [
       "| 22815        | 1.7e+09 | 31.4499     | 15m 30s      |"
      ]
     },
     "metadata": {},
     "output_type": "display_data"
    },
    {
     "data": {
      "text/html": [
       "<pre>| 22873        | 1.7e+09 | 31.5298     | 15m 33s      |</pre>"
      ],
      "text/plain": [
       "| 22873        | 1.7e+09 | 31.5298     | 15m 33s      |"
      ]
     },
     "metadata": {},
     "output_type": "display_data"
    },
    {
     "data": {
      "text/html": [
       "<pre>| 22929        | 1.7e+09 | 31.607      | 15m 36s      |</pre>"
      ],
      "text/plain": [
       "| 22929        | 1.7e+09 | 31.607      | 15m 36s      |"
      ]
     },
     "metadata": {},
     "output_type": "display_data"
    },
    {
     "data": {
      "text/html": [
       "<pre>| 22983        | 1.7e+09 | 31.6815     | 15m 39s      |</pre>"
      ],
      "text/plain": [
       "| 22983        | 1.7e+09 | 31.6815     | 15m 39s      |"
      ]
     },
     "metadata": {},
     "output_type": "display_data"
    },
    {
     "data": {
      "text/html": [
       "<pre>| 23043        | 1.7e+09 | 31.7642     | 15m 42s      |</pre>"
      ],
      "text/plain": [
       "| 23043        | 1.7e+09 | 31.7642     | 15m 42s      |"
      ]
     },
     "metadata": {},
     "output_type": "display_data"
    },
    {
     "data": {
      "text/html": [
       "<pre>| 23119        | 1.7e+09 | 31.8689     | 15m 45s      |</pre>"
      ],
      "text/plain": [
       "| 23119        | 1.7e+09 | 31.8689     | 15m 45s      |"
      ]
     },
     "metadata": {},
     "output_type": "display_data"
    },
    {
     "data": {
      "text/html": [
       "<pre>| 23195        | 1.7e+09 | 31.9737     | 15m 48s      |</pre>"
      ],
      "text/plain": [
       "| 23195        | 1.7e+09 | 31.9737     | 15m 48s      |"
      ]
     },
     "metadata": {},
     "output_type": "display_data"
    },
    {
     "data": {
      "text/html": [
       "<pre>| 23272        | 1.7e+09 | 32.0798     | 15m 51s      |</pre>"
      ],
      "text/plain": [
       "| 23272        | 1.7e+09 | 32.0798     | 15m 51s      |"
      ]
     },
     "metadata": {},
     "output_type": "display_data"
    },
    {
     "data": {
      "text/html": [
       "<pre>| 23335        | 1.7e+09 | 32.1667     | 15m 54s      |</pre>"
      ],
      "text/plain": [
       "| 23335        | 1.7e+09 | 32.1667     | 15m 54s      |"
      ]
     },
     "metadata": {},
     "output_type": "display_data"
    },
    {
     "data": {
      "text/html": [
       "<pre>| 23408        | 1.7e+09 | 32.2673     | 15m 57s      |</pre>"
      ],
      "text/plain": [
       "| 23408        | 1.7e+09 | 32.2673     | 15m 57s      |"
      ]
     },
     "metadata": {},
     "output_type": "display_data"
    },
    {
     "data": {
      "text/html": [
       "<pre>| 23483        | 1.7e+09 | 32.3707     | 16m 0s       |</pre>"
      ],
      "text/plain": [
       "| 23483        | 1.7e+09 | 32.3707     | 16m 0s       |"
      ]
     },
     "metadata": {},
     "output_type": "display_data"
    },
    {
     "data": {
      "text/html": [
       "<pre>| 23557        | 1.7e+09 | 32.4727     | 16m 3s       |</pre>"
      ],
      "text/plain": [
       "| 23557        | 1.7e+09 | 32.4727     | 16m 3s       |"
      ]
     },
     "metadata": {},
     "output_type": "display_data"
    },
    {
     "data": {
      "text/html": [
       "<pre>| 23629        | 1.7e+09 | 32.572      | 16m 6s       |</pre>"
      ],
      "text/plain": [
       "| 23629        | 1.7e+09 | 32.572      | 16m 6s       |"
      ]
     },
     "metadata": {},
     "output_type": "display_data"
    },
    {
     "data": {
      "text/html": [
       "<pre>| 23683        | 1.7e+09 | 32.6464     | 16m 9s       |</pre>"
      ],
      "text/plain": [
       "| 23683        | 1.7e+09 | 32.6464     | 16m 9s       |"
      ]
     },
     "metadata": {},
     "output_type": "display_data"
    },
    {
     "data": {
      "text/html": [
       "<pre>| 23744        | 1.7e+09 | 32.7305     | 16m 12s      |</pre>"
      ],
      "text/plain": [
       "| 23744        | 1.7e+09 | 32.7305     | 16m 12s      |"
      ]
     },
     "metadata": {},
     "output_type": "display_data"
    },
    {
     "data": {
      "text/html": [
       "<pre>| 23787        | 1.7e+09 | 32.7898     | 16m 15s      |</pre>"
      ],
      "text/plain": [
       "| 23787        | 1.7e+09 | 32.7898     | 16m 15s      |"
      ]
     },
     "metadata": {},
     "output_type": "display_data"
    },
    {
     "data": {
      "text/html": [
       "<pre>| 23826        | 1.7e+09 | 32.8435     | 16m 18s      |</pre>"
      ],
      "text/plain": [
       "| 23826        | 1.7e+09 | 32.8435     | 16m 18s      |"
      ]
     },
     "metadata": {},
     "output_type": "display_data"
    },
    {
     "data": {
      "text/html": [
       "<pre>| 23862        | 1.7e+09 | 32.8931     | 16m 21s      |</pre>"
      ],
      "text/plain": [
       "| 23862        | 1.7e+09 | 32.8931     | 16m 21s      |"
      ]
     },
     "metadata": {},
     "output_type": "display_data"
    },
    {
     "data": {
      "text/html": [
       "<pre>| 23920        | 1.7e+09 | 32.9731     | 16m 24s      |</pre>"
      ],
      "text/plain": [
       "| 23920        | 1.7e+09 | 32.9731     | 16m 24s      |"
      ]
     },
     "metadata": {},
     "output_type": "display_data"
    },
    {
     "data": {
      "text/html": [
       "<pre>| 23973        | 1.7e+09 | 33.0462     | 16m 27s      |</pre>"
      ],
      "text/plain": [
       "| 23973        | 1.7e+09 | 33.0462     | 16m 27s      |"
      ]
     },
     "metadata": {},
     "output_type": "display_data"
    },
    {
     "data": {
      "text/html": [
       "<pre>| 24019        | 1.7e+09 | 33.1096     | 16m 30s      |</pre>"
      ],
      "text/plain": [
       "| 24019        | 1.7e+09 | 33.1096     | 16m 30s      |"
      ]
     },
     "metadata": {},
     "output_type": "display_data"
    },
    {
     "data": {
      "text/html": [
       "<pre>| 24056        | 1.7e+09 | 33.1606     | 16m 33s      |</pre>"
      ],
      "text/plain": [
       "| 24056        | 1.7e+09 | 33.1606     | 16m 33s      |"
      ]
     },
     "metadata": {},
     "output_type": "display_data"
    },
    {
     "data": {
      "text/html": [
       "<pre>| 24092        | 1.7e+09 | 33.2102     | 16m 36s      |</pre>"
      ],
      "text/plain": [
       "| 24092        | 1.7e+09 | 33.2102     | 16m 36s      |"
      ]
     },
     "metadata": {},
     "output_type": "display_data"
    },
    {
     "data": {
      "text/html": [
       "<pre>| 24138        | 1.8e+09 | 33.2736     | 16m 39s      |</pre>"
      ],
      "text/plain": [
       "| 24138        | 1.8e+09 | 33.2736     | 16m 39s      |"
      ]
     },
     "metadata": {},
     "output_type": "display_data"
    },
    {
     "data": {
      "text/html": [
       "<pre>| 24194        | 1.8e+09 | 33.3508     | 16m 42s      |</pre>"
      ],
      "text/plain": [
       "| 24194        | 1.8e+09 | 33.3508     | 16m 42s      |"
      ]
     },
     "metadata": {},
     "output_type": "display_data"
    },
    {
     "data": {
      "text/html": [
       "<pre>| 24256        | 1.8e+09 | 33.4363     | 16m 45s      |</pre>"
      ],
      "text/plain": [
       "| 24256        | 1.8e+09 | 33.4363     | 16m 45s      |"
      ]
     },
     "metadata": {},
     "output_type": "display_data"
    },
    {
     "data": {
      "text/html": [
       "<pre>| 24307        | 1.8e+09 | 33.5066     | 16m 48s      |</pre>"
      ],
      "text/plain": [
       "| 24307        | 1.8e+09 | 33.5066     | 16m 48s      |"
      ]
     },
     "metadata": {},
     "output_type": "display_data"
    },
    {
     "data": {
      "text/html": [
       "<pre>| 24346        | 1.8e+09 | 33.5603     | 16m 51s      |</pre>"
      ],
      "text/plain": [
       "| 24346        | 1.8e+09 | 33.5603     | 16m 51s      |"
      ]
     },
     "metadata": {},
     "output_type": "display_data"
    },
    {
     "data": {
      "text/html": [
       "<pre>| 24386        | 1.8e+09 | 33.6155     | 16m 54s      |</pre>"
      ],
      "text/plain": [
       "| 24386        | 1.8e+09 | 33.6155     | 16m 54s      |"
      ]
     },
     "metadata": {},
     "output_type": "display_data"
    },
    {
     "data": {
      "text/html": [
       "<pre>| 24434        | 1.8e+09 | 33.6816     | 16m 57s      |</pre>"
      ],
      "text/plain": [
       "| 24434        | 1.8e+09 | 33.6816     | 16m 57s      |"
      ]
     },
     "metadata": {},
     "output_type": "display_data"
    },
    {
     "data": {
      "text/html": [
       "<pre>| 24503        | 1.8e+09 | 33.7767     | 17m 0s       |</pre>"
      ],
      "text/plain": [
       "| 24503        | 1.8e+09 | 33.7767     | 17m 0s       |"
      ]
     },
     "metadata": {},
     "output_type": "display_data"
    },
    {
     "data": {
      "text/html": [
       "<pre>| 24578        | 1.8e+09 | 33.8801     | 17m 3s       |</pre>"
      ],
      "text/plain": [
       "| 24578        | 1.8e+09 | 33.8801     | 17m 3s       |"
      ]
     },
     "metadata": {},
     "output_type": "display_data"
    },
    {
     "data": {
      "text/html": [
       "<pre>| 24652        | 1.8e+09 | 33.9821     | 17m 6s       |</pre>"
      ],
      "text/plain": [
       "| 24652        | 1.8e+09 | 33.9821     | 17m 6s       |"
      ]
     },
     "metadata": {},
     "output_type": "display_data"
    },
    {
     "data": {
      "text/html": [
       "<pre>| 24714        | 1.8e+09 | 34.0676     | 17m 9s       |</pre>"
      ],
      "text/plain": [
       "| 24714        | 1.8e+09 | 34.0676     | 17m 9s       |"
      ]
     },
     "metadata": {},
     "output_type": "display_data"
    },
    {
     "data": {
      "text/html": [
       "<pre>| 24789        | 1.8e+09 | 34.171      | 17m 12s      |</pre>"
      ],
      "text/plain": [
       "| 24789        | 1.8e+09 | 34.171      | 17m 12s      |"
      ]
     },
     "metadata": {},
     "output_type": "display_data"
    },
    {
     "data": {
      "text/html": [
       "<pre>| 24852        | 1.8e+09 | 34.2578     | 17m 15s      |</pre>"
      ],
      "text/plain": [
       "| 24852        | 1.8e+09 | 34.2578     | 17m 15s      |"
      ]
     },
     "metadata": {},
     "output_type": "display_data"
    },
    {
     "data": {
      "text/html": [
       "<pre>| 24906        | 1.8e+09 | 34.3323     | 17m 18s      |</pre>"
      ],
      "text/plain": [
       "| 24906        | 1.8e+09 | 34.3323     | 17m 18s      |"
      ]
     },
     "metadata": {},
     "output_type": "display_data"
    },
    {
     "data": {
      "text/html": [
       "<pre>| 24977        | 1.8e+09 | 34.4301     | 17m 21s      |</pre>"
      ],
      "text/plain": [
       "| 24977        | 1.8e+09 | 34.4301     | 17m 21s      |"
      ]
     },
     "metadata": {},
     "output_type": "display_data"
    },
    {
     "data": {
      "text/html": [
       "<pre>| 25055        | 1.8e+09 | 34.5377     | 17m 24s      |</pre>"
      ],
      "text/plain": [
       "| 25055        | 1.8e+09 | 34.5377     | 17m 24s      |"
      ]
     },
     "metadata": {},
     "output_type": "display_data"
    },
    {
     "data": {
      "text/html": [
       "<pre>| 25105        | 1.8e+09 | 34.6066     | 17m 27s      |</pre>"
      ],
      "text/plain": [
       "| 25105        | 1.8e+09 | 34.6066     | 17m 27s      |"
      ]
     },
     "metadata": {},
     "output_type": "display_data"
    },
    {
     "data": {
      "text/html": [
       "<pre>| 25157        | 1.8e+09 | 34.6783     | 17m 30s      |</pre>"
      ],
      "text/plain": [
       "| 25157        | 1.8e+09 | 34.6783     | 17m 30s      |"
      ]
     },
     "metadata": {},
     "output_type": "display_data"
    },
    {
     "data": {
      "text/html": [
       "<pre>| 25214        | 1.8e+09 | 34.7568     | 17m 33s      |</pre>"
      ],
      "text/plain": [
       "| 25214        | 1.8e+09 | 34.7568     | 17m 33s      |"
      ]
     },
     "metadata": {},
     "output_type": "display_data"
    },
    {
     "data": {
      "text/html": [
       "<pre>| 25289        | 1.8e+09 | 34.8602     | 17m 36s      |</pre>"
      ],
      "text/plain": [
       "| 25289        | 1.8e+09 | 34.8602     | 17m 36s      |"
      ]
     },
     "metadata": {},
     "output_type": "display_data"
    },
    {
     "data": {
      "text/html": [
       "<pre>| 25354        | 1.8e+09 | 34.9498     | 17m 39s      |</pre>"
      ],
      "text/plain": [
       "| 25354        | 1.8e+09 | 34.9498     | 17m 39s      |"
      ]
     },
     "metadata": {},
     "output_type": "display_data"
    },
    {
     "data": {
      "text/html": [
       "<pre>| 25431        | 1.8e+09 | 35.056      | 17m 42s      |</pre>"
      ],
      "text/plain": [
       "| 25431        | 1.8e+09 | 35.056      | 17m 42s      |"
      ]
     },
     "metadata": {},
     "output_type": "display_data"
    },
    {
     "data": {
      "text/html": [
       "<pre>| 25510        | 1.9e+09 | 35.1649     | 17m 45s      |</pre>"
      ],
      "text/plain": [
       "| 25510        | 1.9e+09 | 35.1649     | 17m 45s      |"
      ]
     },
     "metadata": {},
     "output_type": "display_data"
    },
    {
     "data": {
      "text/html": [
       "<pre>| 25587        | 1.9e+09 | 35.271      | 17m 48s      |</pre>"
      ],
      "text/plain": [
       "| 25587        | 1.9e+09 | 35.271      | 17m 48s      |"
      ]
     },
     "metadata": {},
     "output_type": "display_data"
    },
    {
     "data": {
      "text/html": [
       "<pre>| 25667        | 1.9e+09 | 35.3813     | 17m 51s      |</pre>"
      ],
      "text/plain": [
       "| 25667        | 1.9e+09 | 35.3813     | 17m 51s      |"
      ]
     },
     "metadata": {},
     "output_type": "display_data"
    },
    {
     "data": {
      "text/html": [
       "<pre>| 25745        | 1.9e+09 | 35.4888     | 17m 54s      |</pre>"
      ],
      "text/plain": [
       "| 25745        | 1.9e+09 | 35.4888     | 17m 54s      |"
      ]
     },
     "metadata": {},
     "output_type": "display_data"
    },
    {
     "data": {
      "text/html": [
       "<pre>| 25825        | 1.9e+09 | 35.5991     | 17m 57s      |</pre>"
      ],
      "text/plain": [
       "| 25825        | 1.9e+09 | 35.5991     | 17m 57s      |"
      ]
     },
     "metadata": {},
     "output_type": "display_data"
    },
    {
     "data": {
      "text/html": [
       "<pre>| 25902        | 1.9e+09 | 35.7052     | 18m 0s       |</pre>"
      ],
      "text/plain": [
       "| 25902        | 1.9e+09 | 35.7052     | 18m 0s       |"
      ]
     },
     "metadata": {},
     "output_type": "display_data"
    },
    {
     "data": {
      "text/html": [
       "<pre>| 25978        | 1.9e+09 | 35.81       | 18m 3s       |</pre>"
      ],
      "text/plain": [
       "| 25978        | 1.9e+09 | 35.81       | 18m 3s       |"
      ]
     },
     "metadata": {},
     "output_type": "display_data"
    },
    {
     "data": {
      "text/html": [
       "<pre>| 26041        | 1.9e+09 | 35.8968     | 18m 6s       |</pre>"
      ],
      "text/plain": [
       "| 26041        | 1.9e+09 | 35.8968     | 18m 6s       |"
      ]
     },
     "metadata": {},
     "output_type": "display_data"
    },
    {
     "data": {
      "text/html": [
       "<pre>| 26119        | 1.9e+09 | 36.0044     | 18m 9s       |</pre>"
      ],
      "text/plain": [
       "| 26119        | 1.9e+09 | 36.0044     | 18m 9s       |"
      ]
     },
     "metadata": {},
     "output_type": "display_data"
    },
    {
     "data": {
      "text/html": [
       "<pre>| 26181        | 1.9e+09 | 36.0898     | 18m 12s      |</pre>"
      ],
      "text/plain": [
       "| 26181        | 1.9e+09 | 36.0898     | 18m 12s      |"
      ]
     },
     "metadata": {},
     "output_type": "display_data"
    },
    {
     "data": {
      "text/html": [
       "<pre>| 26260        | 1.9e+09 | 36.1987     | 18m 15s      |</pre>"
      ],
      "text/plain": [
       "| 26260        | 1.9e+09 | 36.1987     | 18m 15s      |"
      ]
     },
     "metadata": {},
     "output_type": "display_data"
    },
    {
     "data": {
      "text/html": [
       "<pre>| 26339        | 1.9e+09 | 36.3076     | 18m 18s      |</pre>"
      ],
      "text/plain": [
       "| 26339        | 1.9e+09 | 36.3076     | 18m 18s      |"
      ]
     },
     "metadata": {},
     "output_type": "display_data"
    },
    {
     "data": {
      "text/html": [
       "<pre>| 26419        | 1.9e+09 | 36.4179     | 18m 21s      |</pre>"
      ],
      "text/plain": [
       "| 26419        | 1.9e+09 | 36.4179     | 18m 21s      |"
      ]
     },
     "metadata": {},
     "output_type": "display_data"
    },
    {
     "data": {
      "text/html": [
       "<pre>| 26498        | 1.9e+09 | 36.5268     | 18m 24s      |</pre>"
      ],
      "text/plain": [
       "| 26498        | 1.9e+09 | 36.5268     | 18m 24s      |"
      ]
     },
     "metadata": {},
     "output_type": "display_data"
    },
    {
     "data": {
      "text/html": [
       "<pre>| 26577        | 1.9e+09 | 36.6357     | 18m 27s      |</pre>"
      ],
      "text/plain": [
       "| 26577        | 1.9e+09 | 36.6357     | 18m 27s      |"
      ]
     },
     "metadata": {},
     "output_type": "display_data"
    },
    {
     "data": {
      "text/html": [
       "<pre>| 26657        | 1.9e+09 | 36.746      | 18m 30s      |</pre>"
      ],
      "text/plain": [
       "| 26657        | 1.9e+09 | 36.746      | 18m 30s      |"
      ]
     },
     "metadata": {},
     "output_type": "display_data"
    },
    {
     "data": {
      "text/html": [
       "<pre>| 26711        | 1.9e+09 | 36.8204     | 18m 33s      |</pre>"
      ],
      "text/plain": [
       "| 26711        | 1.9e+09 | 36.8204     | 18m 33s      |"
      ]
     },
     "metadata": {},
     "output_type": "display_data"
    },
    {
     "data": {
      "text/html": [
       "<pre>| 26768        | 1.9e+09 | 36.899      | 18m 36s      |</pre>"
      ],
      "text/plain": [
       "| 26768        | 1.9e+09 | 36.899      | 18m 36s      |"
      ]
     },
     "metadata": {},
     "output_type": "display_data"
    },
    {
     "data": {
      "text/html": [
       "<pre>| 26844        | 1.9e+09 | 37.0037     | 18m 39s      |</pre>"
      ],
      "text/plain": [
       "| 26844        | 1.9e+09 | 37.0037     | 18m 39s      |"
      ]
     },
     "metadata": {},
     "output_type": "display_data"
    },
    {
     "data": {
      "text/html": [
       "<pre>| 26922        | 2e+09   | 37.1113     | 18m 42s      |</pre>"
      ],
      "text/plain": [
       "| 26922        | 2e+09   | 37.1113     | 18m 42s      |"
      ]
     },
     "metadata": {},
     "output_type": "display_data"
    },
    {
     "data": {
      "text/html": [
       "<pre>| 27001        | 2e+09   | 37.2202     | 18m 45s      |</pre>"
      ],
      "text/plain": [
       "| 27001        | 2e+09   | 37.2202     | 18m 45s      |"
      ]
     },
     "metadata": {},
     "output_type": "display_data"
    },
    {
     "data": {
      "text/html": [
       "<pre>| 27061        | 2e+09   | 37.3029     | 18m 48s      |</pre>"
      ],
      "text/plain": [
       "| 27061        | 2e+09   | 37.3029     | 18m 48s      |"
      ]
     },
     "metadata": {},
     "output_type": "display_data"
    },
    {
     "data": {
      "text/html": [
       "<pre>| 27141        | 2e+09   | 37.4132     | 18m 51s      |</pre>"
      ],
      "text/plain": [
       "| 27141        | 2e+09   | 37.4132     | 18m 51s      |"
      ]
     },
     "metadata": {},
     "output_type": "display_data"
    },
    {
     "data": {
      "text/html": [
       "<pre>| 27221        | 2e+09   | 37.5234     | 18m 54s      |</pre>"
      ],
      "text/plain": [
       "| 27221        | 2e+09   | 37.5234     | 18m 54s      |"
      ]
     },
     "metadata": {},
     "output_type": "display_data"
    },
    {
     "data": {
      "text/html": [
       "<pre>| 27281        | 2e+09   | 37.6061     | 18m 57s      |</pre>"
      ],
      "text/plain": [
       "| 27281        | 2e+09   | 37.6061     | 18m 57s      |"
      ]
     },
     "metadata": {},
     "output_type": "display_data"
    },
    {
     "data": {
      "text/html": [
       "<pre>| 27350        | 2e+09   | 37.7013     | 19m 0s       |</pre>"
      ],
      "text/plain": [
       "| 27350        | 2e+09   | 37.7013     | 19m 0s       |"
      ]
     },
     "metadata": {},
     "output_type": "display_data"
    },
    {
     "data": {
      "text/html": [
       "<pre>| 27427        | 2e+09   | 37.8074     | 19m 3s       |</pre>"
      ],
      "text/plain": [
       "| 27427        | 2e+09   | 37.8074     | 19m 3s       |"
      ]
     },
     "metadata": {},
     "output_type": "display_data"
    },
    {
     "data": {
      "text/html": [
       "<pre>| 27505        | 2e+09   | 37.9149     | 19m 6s       |</pre>"
      ],
      "text/plain": [
       "| 27505        | 2e+09   | 37.9149     | 19m 6s       |"
      ]
     },
     "metadata": {},
     "output_type": "display_data"
    },
    {
     "data": {
      "text/html": [
       "<pre>| 27584        | 2e+09   | 38.0238     | 19m 9s       |</pre>"
      ],
      "text/plain": [
       "| 27584        | 2e+09   | 38.0238     | 19m 9s       |"
      ]
     },
     "metadata": {},
     "output_type": "display_data"
    },
    {
     "data": {
      "text/html": [
       "<pre>| 27661        | 2e+09   | 38.13       | 19m 12s      |</pre>"
      ],
      "text/plain": [
       "| 27661        | 2e+09   | 38.13       | 19m 12s      |"
      ]
     },
     "metadata": {},
     "output_type": "display_data"
    },
    {
     "data": {
      "text/html": [
       "<pre>| 27741        | 2e+09   | 38.2402     | 19m 15s      |</pre>"
      ],
      "text/plain": [
       "| 27741        | 2e+09   | 38.2402     | 19m 15s      |"
      ]
     },
     "metadata": {},
     "output_type": "display_data"
    },
    {
     "data": {
      "text/html": [
       "<pre>| 27820        | 2e+09   | 38.3491     | 19m 18s      |</pre>"
      ],
      "text/plain": [
       "| 27820        | 2e+09   | 38.3491     | 19m 18s      |"
      ]
     },
     "metadata": {},
     "output_type": "display_data"
    },
    {
     "data": {
      "text/html": [
       "<pre>| 27896        | 2e+09   | 38.4539     | 19m 21s      |</pre>"
      ],
      "text/plain": [
       "| 27896        | 2e+09   | 38.4539     | 19m 21s      |"
      ]
     },
     "metadata": {},
     "output_type": "display_data"
    },
    {
     "data": {
      "text/html": [
       "<pre>| 27975        | 2e+09   | 38.5628     | 19m 24s      |</pre>"
      ],
      "text/plain": [
       "| 27975        | 2e+09   | 38.5628     | 19m 24s      |"
      ]
     },
     "metadata": {},
     "output_type": "display_data"
    },
    {
     "data": {
      "text/html": [
       "<pre>| 28055        | 2e+09   | 38.6731     | 19m 27s      |</pre>"
      ],
      "text/plain": [
       "| 28055        | 2e+09   | 38.6731     | 19m 27s      |"
      ]
     },
     "metadata": {},
     "output_type": "display_data"
    },
    {
     "data": {
      "text/html": [
       "<pre>| 28131        | 2e+09   | 38.7778     | 19m 30s      |</pre>"
      ],
      "text/plain": [
       "| 28131        | 2e+09   | 38.7778     | 19m 30s      |"
      ]
     },
     "metadata": {},
     "output_type": "display_data"
    },
    {
     "data": {
      "text/html": [
       "<pre>| 28211        | 2e+09   | 38.8881     | 19m 33s      |</pre>"
      ],
      "text/plain": [
       "| 28211        | 2e+09   | 38.8881     | 19m 33s      |"
      ]
     },
     "metadata": {},
     "output_type": "display_data"
    },
    {
     "data": {
      "text/html": [
       "<pre>| 28288        | 2.1e+09 | 38.9943     | 19m 36s      |</pre>"
      ],
      "text/plain": [
       "| 28288        | 2.1e+09 | 38.9943     | 19m 36s      |"
      ]
     },
     "metadata": {},
     "output_type": "display_data"
    },
    {
     "data": {
      "text/html": [
       "<pre>| 28334        | 2.1e+09 | 39.0577     | 19m 39s      |</pre>"
      ],
      "text/plain": [
       "| 28334        | 2.1e+09 | 39.0577     | 19m 39s      |"
      ]
     },
     "metadata": {},
     "output_type": "display_data"
    },
    {
     "data": {
      "text/html": [
       "<pre>| 28414        | 2.1e+09 | 39.168      | 19m 42s      |</pre>"
      ],
      "text/plain": [
       "| 28414        | 2.1e+09 | 39.168      | 19m 42s      |"
      ]
     },
     "metadata": {},
     "output_type": "display_data"
    },
    {
     "data": {
      "text/html": [
       "<pre>| 28494        | 2.1e+09 | 39.2782     | 19m 45s      |</pre>"
      ],
      "text/plain": [
       "| 28494        | 2.1e+09 | 39.2782     | 19m 45s      |"
      ]
     },
     "metadata": {},
     "output_type": "display_data"
    },
    {
     "data": {
      "text/html": [
       "<pre>| 28557        | 2.1e+09 | 39.3651     | 19m 48s      |</pre>"
      ],
      "text/plain": [
       "| 28557        | 2.1e+09 | 39.3651     | 19m 48s      |"
      ]
     },
     "metadata": {},
     "output_type": "display_data"
    },
    {
     "data": {
      "text/html": [
       "<pre>| 28612        | 2.1e+09 | 39.4409     | 19m 51s      |</pre>"
      ],
      "text/plain": [
       "| 28612        | 2.1e+09 | 39.4409     | 19m 51s      |"
      ]
     },
     "metadata": {},
     "output_type": "display_data"
    },
    {
     "data": {
      "text/html": [
       "<pre>| 28675        | 2.1e+09 | 39.5277     | 19m 54s      |</pre>"
      ],
      "text/plain": [
       "| 28675        | 2.1e+09 | 39.5277     | 19m 54s      |"
      ]
     },
     "metadata": {},
     "output_type": "display_data"
    },
    {
     "data": {
      "text/html": [
       "<pre>| 28753        | 2.1e+09 | 39.6353     | 19m 57s      |</pre>"
      ],
      "text/plain": [
       "| 28753        | 2.1e+09 | 39.6353     | 19m 57s      |"
      ]
     },
     "metadata": {},
     "output_type": "display_data"
    },
    {
     "data": {
      "text/html": [
       "<pre>| 28831        | 2.1e+09 | 39.7428     | 20m 0s       |</pre>"
      ],
      "text/plain": [
       "| 28831        | 2.1e+09 | 39.7428     | 20m 0s       |"
      ]
     },
     "metadata": {},
     "output_type": "display_data"
    },
    {
     "data": {
      "text/html": [
       "<pre>| 28910        | 2.1e+09 | 39.8517     | 20m 3s       |</pre>"
      ],
      "text/plain": [
       "| 28910        | 2.1e+09 | 39.8517     | 20m 3s       |"
      ]
     },
     "metadata": {},
     "output_type": "display_data"
    },
    {
     "data": {
      "text/html": [
       "<pre>| 28988        | 2.1e+09 | 39.9592     | 20m 6s       |</pre>"
      ],
      "text/plain": [
       "| 28988        | 2.1e+09 | 39.9592     | 20m 6s       |"
      ]
     },
     "metadata": {},
     "output_type": "display_data"
    },
    {
     "data": {
      "text/html": [
       "<pre>| 29068        | 2.1e+09 | 40.0695     | 20m 9s       |</pre>"
      ],
      "text/plain": [
       "| 29068        | 2.1e+09 | 40.0695     | 20m 9s       |"
      ]
     },
     "metadata": {},
     "output_type": "display_data"
    },
    {
     "data": {
      "text/html": [
       "<pre>| 29129        | 2.1e+09 | 40.1536     | 20m 12s      |</pre>"
      ],
      "text/plain": [
       "| 29129        | 2.1e+09 | 40.1536     | 20m 12s      |"
      ]
     },
     "metadata": {},
     "output_type": "display_data"
    },
    {
     "data": {
      "text/html": [
       "<pre>| 29170        | 2.1e+09 | 40.2101     | 20m 15s      |</pre>"
      ],
      "text/plain": [
       "| 29170        | 2.1e+09 | 40.2101     | 20m 15s      |"
      ]
     },
     "metadata": {},
     "output_type": "display_data"
    },
    {
     "data": {
      "text/html": [
       "<pre>| 29235        | 2.1e+09 | 40.2997     | 20m 18s      |</pre>"
      ],
      "text/plain": [
       "| 29235        | 2.1e+09 | 40.2997     | 20m 18s      |"
      ]
     },
     "metadata": {},
     "output_type": "display_data"
    },
    {
     "data": {
      "text/html": [
       "<pre>| 29297        | 2.1e+09 | 40.3851     | 20m 21s      |</pre>"
      ],
      "text/plain": [
       "| 29297        | 2.1e+09 | 40.3851     | 20m 21s      |"
      ]
     },
     "metadata": {},
     "output_type": "display_data"
    },
    {
     "data": {
      "text/html": [
       "<pre>| 29351        | 2.1e+09 | 40.4596     | 20m 24s      |</pre>"
      ],
      "text/plain": [
       "| 29351        | 2.1e+09 | 40.4596     | 20m 24s      |"
      ]
     },
     "metadata": {},
     "output_type": "display_data"
    },
    {
     "data": {
      "text/html": [
       "<pre>| 29388        | 2.1e+09 | 40.5106     | 20m 27s      |</pre>"
      ],
      "text/plain": [
       "| 29388        | 2.1e+09 | 40.5106     | 20m 27s      |"
      ]
     },
     "metadata": {},
     "output_type": "display_data"
    },
    {
     "data": {
      "text/html": [
       "<pre>| 29427        | 2.1e+09 | 40.5643     | 20m 30s      |</pre>"
      ],
      "text/plain": [
       "| 29427        | 2.1e+09 | 40.5643     | 20m 30s      |"
      ]
     },
     "metadata": {},
     "output_type": "display_data"
    },
    {
     "data": {
      "text/html": [
       "<pre>| 29466        | 2.1e+09 | 40.6181     | 20m 33s      |</pre>"
      ],
      "text/plain": [
       "| 29466        | 2.1e+09 | 40.6181     | 20m 33s      |"
      ]
     },
     "metadata": {},
     "output_type": "display_data"
    },
    {
     "data": {
      "text/html": [
       "<pre>| 29509        | 2.1e+09 | 40.6774     | 20m 36s      |</pre>"
      ],
      "text/plain": [
       "| 29509        | 2.1e+09 | 40.6774     | 20m 36s      |"
      ]
     },
     "metadata": {},
     "output_type": "display_data"
    },
    {
     "data": {
      "text/html": [
       "<pre>| 29550        | 2.1e+09 | 40.7339     | 20m 39s      |</pre>"
      ],
      "text/plain": [
       "| 29550        | 2.1e+09 | 40.7339     | 20m 39s      |"
      ]
     },
     "metadata": {},
     "output_type": "display_data"
    },
    {
     "data": {
      "text/html": [
       "<pre>| 29590        | 2.1e+09 | 40.789      | 20m 42s      |</pre>"
      ],
      "text/plain": [
       "| 29590        | 2.1e+09 | 40.789      | 20m 42s      |"
      ]
     },
     "metadata": {},
     "output_type": "display_data"
    },
    {
     "data": {
      "text/html": [
       "<pre>| 29634        | 2.1e+09 | 40.8497     | 20m 45s      |</pre>"
      ],
      "text/plain": [
       "| 29634        | 2.1e+09 | 40.8497     | 20m 45s      |"
      ]
     },
     "metadata": {},
     "output_type": "display_data"
    },
    {
     "data": {
      "text/html": [
       "<pre>| 29684        | 2.2e+09 | 40.9186     | 20m 48s      |</pre>"
      ],
      "text/plain": [
       "| 29684        | 2.2e+09 | 40.9186     | 20m 48s      |"
      ]
     },
     "metadata": {},
     "output_type": "display_data"
    },
    {
     "data": {
      "text/html": [
       "<pre>| 29728        | 2.2e+09 | 40.9793     | 20m 51s      |</pre>"
      ],
      "text/plain": [
       "| 29728        | 2.2e+09 | 40.9793     | 20m 51s      |"
      ]
     },
     "metadata": {},
     "output_type": "display_data"
    },
    {
     "data": {
      "text/html": [
       "<pre>| 29763        | 2.2e+09 | 41.0275     | 20m 54s      |</pre>"
      ],
      "text/plain": [
       "| 29763        | 2.2e+09 | 41.0275     | 20m 54s      |"
      ]
     },
     "metadata": {},
     "output_type": "display_data"
    },
    {
     "data": {
      "text/html": [
       "<pre>| 29804        | 2.2e+09 | 41.084      | 20m 57s      |</pre>"
      ],
      "text/plain": [
       "| 29804        | 2.2e+09 | 41.084      | 20m 57s      |"
      ]
     },
     "metadata": {},
     "output_type": "display_data"
    },
    {
     "data": {
      "text/html": [
       "<pre>| 29861        | 2.2e+09 | 41.1626     | 21m 0s       |</pre>"
      ],
      "text/plain": [
       "| 29861        | 2.2e+09 | 41.1626     | 21m 0s       |"
      ]
     },
     "metadata": {},
     "output_type": "display_data"
    },
    {
     "data": {
      "text/html": [
       "<pre>| 29932        | 2.2e+09 | 41.2605     | 21m 3s       |</pre>"
      ],
      "text/plain": [
       "| 29932        | 2.2e+09 | 41.2605     | 21m 3s       |"
      ]
     },
     "metadata": {},
     "output_type": "display_data"
    },
    {
     "data": {
      "text/html": [
       "<pre>| 30007        | 2.2e+09 | 41.3639     | 21m 6s       |</pre>"
      ],
      "text/plain": [
       "| 30007        | 2.2e+09 | 41.3639     | 21m 6s       |"
      ]
     },
     "metadata": {},
     "output_type": "display_data"
    },
    {
     "data": {
      "text/html": [
       "<pre>| 30075        | 2.2e+09 | 41.4576     | 21m 9s       |</pre>"
      ],
      "text/plain": [
       "| 30075        | 2.2e+09 | 41.4576     | 21m 9s       |"
      ]
     },
     "metadata": {},
     "output_type": "display_data"
    },
    {
     "data": {
      "text/html": [
       "<pre>| 30130        | 2.2e+09 | 41.5334     | 21m 12s      |</pre>"
      ],
      "text/plain": [
       "| 30130        | 2.2e+09 | 41.5334     | 21m 12s      |"
      ]
     },
     "metadata": {},
     "output_type": "display_data"
    },
    {
     "data": {
      "text/html": [
       "<pre>| 30168        | 2.2e+09 | 41.5858     | 21m 15s      |</pre>"
      ],
      "text/plain": [
       "| 30168        | 2.2e+09 | 41.5858     | 21m 15s      |"
      ]
     },
     "metadata": {},
     "output_type": "display_data"
    },
    {
     "data": {
      "text/html": [
       "<pre>| 30235        | 2.2e+09 | 41.6782     | 21m 18s      |</pre>"
      ],
      "text/plain": [
       "| 30235        | 2.2e+09 | 41.6782     | 21m 18s      |"
      ]
     },
     "metadata": {},
     "output_type": "display_data"
    },
    {
     "data": {
      "text/html": [
       "<pre>| 30281        | 2.2e+09 | 41.7416     | 21m 21s      |</pre>"
      ],
      "text/plain": [
       "| 30281        | 2.2e+09 | 41.7416     | 21m 21s      |"
      ]
     },
     "metadata": {},
     "output_type": "display_data"
    },
    {
     "data": {
      "text/html": [
       "<pre>| 30346        | 2.2e+09 | 41.8312     | 21m 24s      |</pre>"
      ],
      "text/plain": [
       "| 30346        | 2.2e+09 | 41.8312     | 21m 24s      |"
      ]
     },
     "metadata": {},
     "output_type": "display_data"
    },
    {
     "data": {
      "text/html": [
       "<pre>| 30403        | 2.2e+09 | 41.9097     | 21m 27s      |</pre>"
      ],
      "text/plain": [
       "| 30403        | 2.2e+09 | 41.9097     | 21m 27s      |"
      ]
     },
     "metadata": {},
     "output_type": "display_data"
    },
    {
     "data": {
      "text/html": [
       "<pre>| 30463        | 2.2e+09 | 41.9924     | 21m 30s      |</pre>"
      ],
      "text/plain": [
       "| 30463        | 2.2e+09 | 41.9924     | 21m 30s      |"
      ]
     },
     "metadata": {},
     "output_type": "display_data"
    },
    {
     "data": {
      "text/html": [
       "<pre>| 30519        | 2.2e+09 | 42.0696     | 21m 33s      |</pre>"
      ],
      "text/plain": [
       "| 30519        | 2.2e+09 | 42.0696     | 21m 33s      |"
      ]
     },
     "metadata": {},
     "output_type": "display_data"
    },
    {
     "data": {
      "text/html": [
       "<pre>| 30577        | 2.2e+09 | 42.1496     | 21m 36s      |</pre>"
      ],
      "text/plain": [
       "| 30577        | 2.2e+09 | 42.1496     | 21m 36s      |"
      ]
     },
     "metadata": {},
     "output_type": "display_data"
    },
    {
     "data": {
      "text/html": [
       "<pre>| 30614        | 2.2e+09 | 42.2006     | 21m 39s      |</pre>"
      ],
      "text/plain": [
       "| 30614        | 2.2e+09 | 42.2006     | 21m 39s      |"
      ]
     },
     "metadata": {},
     "output_type": "display_data"
    },
    {
     "data": {
      "text/html": [
       "<pre>| 30651        | 2.2e+09 | 42.2516     | 21m 42s      |</pre>"
      ],
      "text/plain": [
       "| 30651        | 2.2e+09 | 42.2516     | 21m 42s      |"
      ]
     },
     "metadata": {},
     "output_type": "display_data"
    },
    {
     "data": {
      "text/html": [
       "<pre>| 30687        | 2.2e+09 | 42.3012     | 21m 45s      |</pre>"
      ],
      "text/plain": [
       "| 30687        | 2.2e+09 | 42.3012     | 21m 45s      |"
      ]
     },
     "metadata": {},
     "output_type": "display_data"
    },
    {
     "data": {
      "text/html": [
       "<pre>| 30740        | 2.2e+09 | 42.3743     | 21m 48s      |</pre>"
      ],
      "text/plain": [
       "| 30740        | 2.2e+09 | 42.3743     | 21m 48s      |"
      ]
     },
     "metadata": {},
     "output_type": "display_data"
    },
    {
     "data": {
      "text/html": [
       "<pre>| 30779        | 2.2e+09 | 42.428      | 21m 51s      |</pre>"
      ],
      "text/plain": [
       "| 30779        | 2.2e+09 | 42.428      | 21m 51s      |"
      ]
     },
     "metadata": {},
     "output_type": "display_data"
    },
    {
     "data": {
      "text/html": [
       "<pre>| 30842        | 2.2e+09 | 42.5149     | 21m 54s      |</pre>"
      ],
      "text/plain": [
       "| 30842        | 2.2e+09 | 42.5149     | 21m 54s      |"
      ]
     },
     "metadata": {},
     "output_type": "display_data"
    },
    {
     "data": {
      "text/html": [
       "<pre>| 30901        | 2.2e+09 | 42.5962     | 21m 57s      |</pre>"
      ],
      "text/plain": [
       "| 30901        | 2.2e+09 | 42.5962     | 21m 57s      |"
      ]
     },
     "metadata": {},
     "output_type": "display_data"
    },
    {
     "data": {
      "text/html": [
       "<pre>| 30939        | 2.2e+09 | 42.6486     | 22m 0s       |</pre>"
      ],
      "text/plain": [
       "| 30939        | 2.2e+09 | 42.6486     | 22m 0s       |"
      ]
     },
     "metadata": {},
     "output_type": "display_data"
    },
    {
     "data": {
      "text/html": [
       "<pre>| 30974        | 2.2e+09 | 42.6968     | 22m 3s       |</pre>"
      ],
      "text/plain": [
       "| 30974        | 2.2e+09 | 42.6968     | 22m 3s       |"
      ]
     },
     "metadata": {},
     "output_type": "display_data"
    },
    {
     "data": {
      "text/html": [
       "<pre>| 31015        | 2.2e+09 | 42.7534     | 22m 6s       |</pre>"
      ],
      "text/plain": [
       "| 31015        | 2.2e+09 | 42.7534     | 22m 6s       |"
      ]
     },
     "metadata": {},
     "output_type": "display_data"
    },
    {
     "data": {
      "text/html": [
       "<pre>| 31076        | 2.3e+09 | 42.8375     | 22m 9s       |</pre>"
      ],
      "text/plain": [
       "| 31076        | 2.3e+09 | 42.8375     | 22m 9s       |"
      ]
     },
     "metadata": {},
     "output_type": "display_data"
    },
    {
     "data": {
      "text/html": [
       "<pre>| 31128        | 2.3e+09 | 42.9091     | 22m 12s      |</pre>"
      ],
      "text/plain": [
       "| 31128        | 2.3e+09 | 42.9091     | 22m 12s      |"
      ]
     },
     "metadata": {},
     "output_type": "display_data"
    },
    {
     "data": {
      "text/html": [
       "<pre>| 31183        | 2.3e+09 | 42.9849     | 22m 15s      |</pre>"
      ],
      "text/plain": [
       "| 31183        | 2.3e+09 | 42.9849     | 22m 15s      |"
      ]
     },
     "metadata": {},
     "output_type": "display_data"
    },
    {
     "data": {
      "text/html": [
       "<pre>| 31255        | 2.3e+09 | 43.0842     | 22m 18s      |</pre>"
      ],
      "text/plain": [
       "| 31255        | 2.3e+09 | 43.0842     | 22m 18s      |"
      ]
     },
     "metadata": {},
     "output_type": "display_data"
    },
    {
     "data": {
      "text/html": [
       "<pre>| 31307        | 2.3e+09 | 43.1559     | 22m 21s      |</pre>"
      ],
      "text/plain": [
       "| 31307        | 2.3e+09 | 43.1559     | 22m 21s      |"
      ]
     },
     "metadata": {},
     "output_type": "display_data"
    },
    {
     "data": {
      "text/html": [
       "<pre>| 31352        | 2.3e+09 | 43.2179     | 22m 24s      |</pre>"
      ],
      "text/plain": [
       "| 31352        | 2.3e+09 | 43.2179     | 22m 24s      |"
      ]
     },
     "metadata": {},
     "output_type": "display_data"
    },
    {
     "data": {
      "text/html": [
       "<pre>| 31416        | 2.3e+09 | 43.3061     | 22m 27s      |</pre>"
      ],
      "text/plain": [
       "| 31416        | 2.3e+09 | 43.3061     | 22m 27s      |"
      ]
     },
     "metadata": {},
     "output_type": "display_data"
    },
    {
     "data": {
      "text/html": [
       "<pre>| 31466        | 2.3e+09 | 43.3751     | 22m 30s      |</pre>"
      ],
      "text/plain": [
       "| 31466        | 2.3e+09 | 43.3751     | 22m 30s      |"
      ]
     },
     "metadata": {},
     "output_type": "display_data"
    },
    {
     "data": {
      "text/html": [
       "<pre>| 31541        | 2.3e+09 | 43.4784     | 22m 33s      |</pre>"
      ],
      "text/plain": [
       "| 31541        | 2.3e+09 | 43.4784     | 22m 33s      |"
      ]
     },
     "metadata": {},
     "output_type": "display_data"
    },
    {
     "data": {
      "text/html": [
       "<pre>| 31601        | 2.3e+09 | 43.5611     | 22m 36s      |</pre>"
      ],
      "text/plain": [
       "| 31601        | 2.3e+09 | 43.5611     | 22m 36s      |"
      ]
     },
     "metadata": {},
     "output_type": "display_data"
    },
    {
     "data": {
      "text/html": [
       "<pre>| 31657        | 2.3e+09 | 43.6383     | 22m 39s      |</pre>"
      ],
      "text/plain": [
       "| 31657        | 2.3e+09 | 43.6383     | 22m 39s      |"
      ]
     },
     "metadata": {},
     "output_type": "display_data"
    },
    {
     "data": {
      "text/html": [
       "<pre>| 31712        | 2.3e+09 | 43.7142     | 22m 42s      |</pre>"
      ],
      "text/plain": [
       "| 31712        | 2.3e+09 | 43.7142     | 22m 42s      |"
      ]
     },
     "metadata": {},
     "output_type": "display_data"
    },
    {
     "data": {
      "text/html": [
       "<pre>| 31761        | 2.3e+09 | 43.7817     | 22m 45s      |</pre>"
      ],
      "text/plain": [
       "| 31761        | 2.3e+09 | 43.7817     | 22m 45s      |"
      ]
     },
     "metadata": {},
     "output_type": "display_data"
    },
    {
     "data": {
      "text/html": [
       "<pre>| 31810        | 2.3e+09 | 43.8493     | 22m 48s      |</pre>"
      ],
      "text/plain": [
       "| 31810        | 2.3e+09 | 43.8493     | 22m 48s      |"
      ]
     },
     "metadata": {},
     "output_type": "display_data"
    },
    {
     "data": {
      "text/html": [
       "<pre>| 31868        | 2.3e+09 | 43.9292     | 22m 51s      |</pre>"
      ],
      "text/plain": [
       "| 31868        | 2.3e+09 | 43.9292     | 22m 51s      |"
      ]
     },
     "metadata": {},
     "output_type": "display_data"
    },
    {
     "data": {
      "text/html": [
       "<pre>| 31926        | 2.3e+09 | 44.0092     | 22m 54s      |</pre>"
      ],
      "text/plain": [
       "| 31926        | 2.3e+09 | 44.0092     | 22m 54s      |"
      ]
     },
     "metadata": {},
     "output_type": "display_data"
    },
    {
     "data": {
      "text/html": [
       "<pre>| 31983        | 2.3e+09 | 44.0877     | 22m 57s      |</pre>"
      ],
      "text/plain": [
       "| 31983        | 2.3e+09 | 44.0877     | 22m 57s      |"
      ]
     },
     "metadata": {},
     "output_type": "display_data"
    },
    {
     "data": {
      "text/html": [
       "<pre>| 32050        | 2.3e+09 | 44.1801     | 23m 0s       |</pre>"
      ],
      "text/plain": [
       "| 32050        | 2.3e+09 | 44.1801     | 23m 0s       |"
      ]
     },
     "metadata": {},
     "output_type": "display_data"
    },
    {
     "data": {
      "text/html": [
       "<pre>| 32091        | 2.3e+09 | 44.2366     | 23m 3s       |</pre>"
      ],
      "text/plain": [
       "| 32091        | 2.3e+09 | 44.2366     | 23m 3s       |"
      ]
     },
     "metadata": {},
     "output_type": "display_data"
    },
    {
     "data": {
      "text/html": [
       "<pre>| 32149        | 2.3e+09 | 44.3166     | 23m 6s       |</pre>"
      ],
      "text/plain": [
       "| 32149        | 2.3e+09 | 44.3166     | 23m 6s       |"
      ]
     },
     "metadata": {},
     "output_type": "display_data"
    },
    {
     "data": {
      "text/html": [
       "<pre>| 32206        | 2.3e+09 | 44.3951     | 23m 9s       |</pre>"
      ],
      "text/plain": [
       "| 32206        | 2.3e+09 | 44.3951     | 23m 9s       |"
      ]
     },
     "metadata": {},
     "output_type": "display_data"
    },
    {
     "data": {
      "text/html": [
       "<pre>| 32253        | 2.3e+09 | 44.4599     | 23m 12s      |</pre>"
      ],
      "text/plain": [
       "| 32253        | 2.3e+09 | 44.4599     | 23m 12s      |"
      ]
     },
     "metadata": {},
     "output_type": "display_data"
    },
    {
     "data": {
      "text/html": [
       "<pre>| 32288        | 2.3e+09 | 44.5082     | 23m 15s      |</pre>"
      ],
      "text/plain": [
       "| 32288        | 2.3e+09 | 44.5082     | 23m 15s      |"
      ]
     },
     "metadata": {},
     "output_type": "display_data"
    },
    {
     "data": {
      "text/html": [
       "<pre>| 32327        | 2.3e+09 | 44.5619     | 23m 18s      |</pre>"
      ],
      "text/plain": [
       "| 32327        | 2.3e+09 | 44.5619     | 23m 18s      |"
      ]
     },
     "metadata": {},
     "output_type": "display_data"
    },
    {
     "data": {
      "text/html": [
       "<pre>| 32382        | 2.3e+09 | 44.6377     | 23m 21s      |</pre>"
      ],
      "text/plain": [
       "| 32382        | 2.3e+09 | 44.6377     | 23m 21s      |"
      ]
     },
     "metadata": {},
     "output_type": "display_data"
    },
    {
     "data": {
      "text/html": [
       "<pre>| 32436        | 2.4e+09 | 44.7122     | 23m 24s      |</pre>"
      ],
      "text/plain": [
       "| 32436        | 2.4e+09 | 44.7122     | 23m 24s      |"
      ]
     },
     "metadata": {},
     "output_type": "display_data"
    },
    {
     "data": {
      "text/html": [
       "<pre>| 32489        | 2.4e+09 | 44.7852     | 23m 27s      |</pre>"
      ],
      "text/plain": [
       "| 32489        | 2.4e+09 | 44.7852     | 23m 27s      |"
      ]
     },
     "metadata": {},
     "output_type": "display_data"
    },
    {
     "data": {
      "text/html": [
       "<pre>| 32525        | 2.4e+09 | 44.8349     | 23m 30s      |</pre>"
      ],
      "text/plain": [
       "| 32525        | 2.4e+09 | 44.8349     | 23m 30s      |"
      ]
     },
     "metadata": {},
     "output_type": "display_data"
    },
    {
     "data": {
      "text/html": [
       "<pre>| 32562        | 2.4e+09 | 44.8859     | 23m 33s      |</pre>"
      ],
      "text/plain": [
       "| 32562        | 2.4e+09 | 44.8859     | 23m 33s      |"
      ]
     },
     "metadata": {},
     "output_type": "display_data"
    },
    {
     "data": {
      "text/html": [
       "<pre>| 32603        | 2.4e+09 | 44.9424     | 23m 36s      |</pre>"
      ],
      "text/plain": [
       "| 32603        | 2.4e+09 | 44.9424     | 23m 36s      |"
      ]
     },
     "metadata": {},
     "output_type": "display_data"
    },
    {
     "data": {
      "text/html": [
       "<pre>| 32640        | 2.4e+09 | 44.9934     | 23m 39s      |</pre>"
      ],
      "text/plain": [
       "| 32640        | 2.4e+09 | 44.9934     | 23m 39s      |"
      ]
     },
     "metadata": {},
     "output_type": "display_data"
    },
    {
     "data": {
      "text/html": [
       "<pre>| 32682        | 2.4e+09 | 45.0513     | 23m 42s      |</pre>"
      ],
      "text/plain": [
       "| 32682        | 2.4e+09 | 45.0513     | 23m 42s      |"
      ]
     },
     "metadata": {},
     "output_type": "display_data"
    },
    {
     "data": {
      "text/html": [
       "<pre>| 32737        | 2.4e+09 | 45.1271     | 23m 45s      |</pre>"
      ],
      "text/plain": [
       "| 32737        | 2.4e+09 | 45.1271     | 23m 45s      |"
      ]
     },
     "metadata": {},
     "output_type": "display_data"
    },
    {
     "data": {
      "text/html": [
       "<pre>| 32793        | 2.4e+09 | 45.2043     | 23m 48s      |</pre>"
      ],
      "text/plain": [
       "| 32793        | 2.4e+09 | 45.2043     | 23m 48s      |"
      ]
     },
     "metadata": {},
     "output_type": "display_data"
    },
    {
     "data": {
      "text/html": [
       "<pre>| 32851        | 2.4e+09 | 45.2842     | 23m 51s      |</pre>"
      ],
      "text/plain": [
       "| 32851        | 2.4e+09 | 45.2842     | 23m 51s      |"
      ]
     },
     "metadata": {},
     "output_type": "display_data"
    },
    {
     "data": {
      "text/html": [
       "<pre>| 32890        | 2.4e+09 | 45.338      | 23m 54s      |</pre>"
      ],
      "text/plain": [
       "| 32890        | 2.4e+09 | 45.338      | 23m 54s      |"
      ]
     },
     "metadata": {},
     "output_type": "display_data"
    },
    {
     "data": {
      "text/html": [
       "<pre>| 32927        | 2.4e+09 | 45.389      | 23m 57s      |</pre>"
      ],
      "text/plain": [
       "| 32927        | 2.4e+09 | 45.389      | 23m 57s      |"
      ]
     },
     "metadata": {},
     "output_type": "display_data"
    },
    {
     "data": {
      "text/html": [
       "<pre>| 32963        | 2.4e+09 | 45.4386     | 24m 0s       |</pre>"
      ],
      "text/plain": [
       "| 32963        | 2.4e+09 | 45.4386     | 24m 0s       |"
      ]
     },
     "metadata": {},
     "output_type": "display_data"
    },
    {
     "data": {
      "text/html": [
       "<pre>| 32996        | 2.4e+09 | 45.4841     | 24m 3s       |</pre>"
      ],
      "text/plain": [
       "| 32996        | 2.4e+09 | 45.4841     | 24m 3s       |"
      ]
     },
     "metadata": {},
     "output_type": "display_data"
    },
    {
     "data": {
      "text/html": [
       "<pre>| 33029        | 2.4e+09 | 45.5296     | 24m 6s       |</pre>"
      ],
      "text/plain": [
       "| 33029        | 2.4e+09 | 45.5296     | 24m 6s       |"
      ]
     },
     "metadata": {},
     "output_type": "display_data"
    },
    {
     "data": {
      "text/html": [
       "<pre>| 33063        | 2.4e+09 | 45.5765     | 24m 9s       |</pre>"
      ],
      "text/plain": [
       "| 33063        | 2.4e+09 | 45.5765     | 24m 9s       |"
      ]
     },
     "metadata": {},
     "output_type": "display_data"
    },
    {
     "data": {
      "text/html": [
       "<pre>| 33098        | 2.4e+09 | 45.6247     | 24m 12s      |</pre>"
      ],
      "text/plain": [
       "| 33098        | 2.4e+09 | 45.6247     | 24m 12s      |"
      ]
     },
     "metadata": {},
     "output_type": "display_data"
    },
    {
     "data": {
      "text/html": [
       "<pre>| 33135        | 2.4e+09 | 45.6757     | 24m 15s      |</pre>"
      ],
      "text/plain": [
       "| 33135        | 2.4e+09 | 45.6757     | 24m 15s      |"
      ]
     },
     "metadata": {},
     "output_type": "display_data"
    },
    {
     "data": {
      "text/html": [
       "<pre>| 33172        | 2.4e+09 | 45.7267     | 24m 18s      |</pre>"
      ],
      "text/plain": [
       "| 33172        | 2.4e+09 | 45.7267     | 24m 18s      |"
      ]
     },
     "metadata": {},
     "output_type": "display_data"
    },
    {
     "data": {
      "text/html": [
       "<pre>| 33214        | 2.4e+09 | 45.7846     | 24m 21s      |</pre>"
      ],
      "text/plain": [
       "| 33214        | 2.4e+09 | 45.7846     | 24m 21s      |"
      ]
     },
     "metadata": {},
     "output_type": "display_data"
    },
    {
     "data": {
      "text/html": [
       "<pre>| 33262        | 2.4e+09 | 45.8508     | 24m 24s      |</pre>"
      ],
      "text/plain": [
       "| 33262        | 2.4e+09 | 45.8508     | 24m 24s      |"
      ]
     },
     "metadata": {},
     "output_type": "display_data"
    },
    {
     "data": {
      "text/html": [
       "<pre>| 33308        | 2.4e+09 | 45.9142     | 24m 27s      |</pre>"
      ],
      "text/plain": [
       "| 33308        | 2.4e+09 | 45.9142     | 24m 27s      |"
      ]
     },
     "metadata": {},
     "output_type": "display_data"
    },
    {
     "data": {
      "text/html": [
       "<pre>| 33358        | 2.4e+09 | 45.9831     | 24m 30s      |</pre>"
      ],
      "text/plain": [
       "| 33358        | 2.4e+09 | 45.9831     | 24m 30s      |"
      ]
     },
     "metadata": {},
     "output_type": "display_data"
    },
    {
     "data": {
      "text/html": [
       "<pre>| 33388        | 2.4e+09 | 46.0245     | 24m 33s      |</pre>"
      ],
      "text/plain": [
       "| 33388        | 2.4e+09 | 46.0245     | 24m 33s      |"
      ]
     },
     "metadata": {},
     "output_type": "display_data"
    },
    {
     "data": {
      "text/html": [
       "<pre>| 33415        | 2.4e+09 | 46.0617     | 24m 36s      |</pre>"
      ],
      "text/plain": [
       "| 33415        | 2.4e+09 | 46.0617     | 24m 36s      |"
      ]
     },
     "metadata": {},
     "output_type": "display_data"
    },
    {
     "data": {
      "text/html": [
       "<pre>| 33444        | 2.4e+09 | 46.1017     | 24m 39s      |</pre>"
      ],
      "text/plain": [
       "| 33444        | 2.4e+09 | 46.1017     | 24m 39s      |"
      ]
     },
     "metadata": {},
     "output_type": "display_data"
    },
    {
     "data": {
      "text/html": [
       "<pre>| 33497        | 2.4e+09 | 46.1747     | 24m 42s      |</pre>"
      ],
      "text/plain": [
       "| 33497        | 2.4e+09 | 46.1747     | 24m 42s      |"
      ]
     },
     "metadata": {},
     "output_type": "display_data"
    },
    {
     "data": {
      "text/html": [
       "<pre>| 33560        | 2.4e+09 | 46.2616     | 24m 45s      |</pre>"
      ],
      "text/plain": [
       "| 33560        | 2.4e+09 | 46.2616     | 24m 45s      |"
      ]
     },
     "metadata": {},
     "output_type": "display_data"
    },
    {
     "data": {
      "text/html": [
       "<pre>| 33618        | 2.4e+09 | 46.3415     | 24m 48s      |</pre>"
      ],
      "text/plain": [
       "| 33618        | 2.4e+09 | 46.3415     | 24m 48s      |"
      ]
     },
     "metadata": {},
     "output_type": "display_data"
    },
    {
     "data": {
      "text/html": [
       "<pre>| 33656        | 2.4e+09 | 46.3939     | 24m 51s      |</pre>"
      ],
      "text/plain": [
       "| 33656        | 2.4e+09 | 46.3939     | 24m 51s      |"
      ]
     },
     "metadata": {},
     "output_type": "display_data"
    },
    {
     "data": {
      "text/html": [
       "<pre>| 33689        | 2.4e+09 | 46.4394     | 24m 54s      |</pre>"
      ],
      "text/plain": [
       "| 33689        | 2.4e+09 | 46.4394     | 24m 54s      |"
      ]
     },
     "metadata": {},
     "output_type": "display_data"
    },
    {
     "data": {
      "text/html": [
       "<pre>| 33724        | 2.4e+09 | 46.4876     | 24m 57s      |</pre>"
      ],
      "text/plain": [
       "| 33724        | 2.4e+09 | 46.4876     | 24m 57s      |"
      ]
     },
     "metadata": {},
     "output_type": "display_data"
    },
    {
     "data": {
      "text/html": [
       "<pre>| 33759        | 2.4e+09 | 46.5359     | 25m 0s       |</pre>"
      ],
      "text/plain": [
       "| 33759        | 2.4e+09 | 46.5359     | 25m 0s       |"
      ]
     },
     "metadata": {},
     "output_type": "display_data"
    },
    {
     "data": {
      "text/html": [
       "<pre>| 33790        | 2.5e+09 | 46.5786     | 25m 3s       |</pre>"
      ],
      "text/plain": [
       "| 33790        | 2.5e+09 | 46.5786     | 25m 3s       |"
      ]
     },
     "metadata": {},
     "output_type": "display_data"
    },
    {
     "data": {
      "text/html": [
       "<pre>| 33822        | 2.5e+09 | 46.6227     | 25m 6s       |</pre>"
      ],
      "text/plain": [
       "| 33822        | 2.5e+09 | 46.6227     | 25m 6s       |"
      ]
     },
     "metadata": {},
     "output_type": "display_data"
    },
    {
     "data": {
      "text/html": [
       "<pre>| 33860        | 2.5e+09 | 46.6751     | 25m 9s       |</pre>"
      ],
      "text/plain": [
       "| 33860        | 2.5e+09 | 46.6751     | 25m 9s       |"
      ]
     },
     "metadata": {},
     "output_type": "display_data"
    },
    {
     "data": {
      "text/html": [
       "<pre>| 33896        | 2.5e+09 | 46.7247     | 25m 12s      |</pre>"
      ],
      "text/plain": [
       "| 33896        | 2.5e+09 | 46.7247     | 25m 12s      |"
      ]
     },
     "metadata": {},
     "output_type": "display_data"
    },
    {
     "data": {
      "text/html": [
       "<pre>| 33941        | 2.5e+09 | 46.7868     | 25m 15s      |</pre>"
      ],
      "text/plain": [
       "| 33941        | 2.5e+09 | 46.7868     | 25m 15s      |"
      ]
     },
     "metadata": {},
     "output_type": "display_data"
    },
    {
     "data": {
      "text/html": [
       "<pre>| 33989        | 2.5e+09 | 46.8529     | 25m 18s      |</pre>"
      ],
      "text/plain": [
       "| 33989        | 2.5e+09 | 46.8529     | 25m 18s      |"
      ]
     },
     "metadata": {},
     "output_type": "display_data"
    },
    {
     "data": {
      "text/html": [
       "<pre>| 34025        | 2.5e+09 | 46.9026     | 25m 21s      |</pre>"
      ],
      "text/plain": [
       "| 34025        | 2.5e+09 | 46.9026     | 25m 21s      |"
      ]
     },
     "metadata": {},
     "output_type": "display_data"
    },
    {
     "data": {
      "text/html": [
       "<pre>| 34069        | 2.5e+09 | 46.9632     | 25m 24s      |</pre>"
      ],
      "text/plain": [
       "| 34069        | 2.5e+09 | 46.9632     | 25m 24s      |"
      ]
     },
     "metadata": {},
     "output_type": "display_data"
    },
    {
     "data": {
      "text/html": [
       "<pre>| 34103        | 2.5e+09 | 47.0101     | 25m 27s      |</pre>"
      ],
      "text/plain": [
       "| 34103        | 2.5e+09 | 47.0101     | 25m 27s      |"
      ]
     },
     "metadata": {},
     "output_type": "display_data"
    },
    {
     "data": {
      "text/html": [
       "<pre>| 34134        | 2.5e+09 | 47.0528     | 25m 30s      |</pre>"
      ],
      "text/plain": [
       "| 34134        | 2.5e+09 | 47.0528     | 25m 30s      |"
      ]
     },
     "metadata": {},
     "output_type": "display_data"
    },
    {
     "data": {
      "text/html": [
       "<pre>| 34167        | 2.5e+09 | 47.0983     | 25m 33s      |</pre>"
      ],
      "text/plain": [
       "| 34167        | 2.5e+09 | 47.0983     | 25m 33s      |"
      ]
     },
     "metadata": {},
     "output_type": "display_data"
    },
    {
     "data": {
      "text/html": [
       "<pre>| 34198        | 2.5e+09 | 47.141      | 25m 36s      |</pre>"
      ],
      "text/plain": [
       "| 34198        | 2.5e+09 | 47.141      | 25m 36s      |"
      ]
     },
     "metadata": {},
     "output_type": "display_data"
    },
    {
     "data": {
      "text/html": [
       "<pre>| 34230        | 2.5e+09 | 47.1852     | 25m 39s      |</pre>"
      ],
      "text/plain": [
       "| 34230        | 2.5e+09 | 47.1852     | 25m 39s      |"
      ]
     },
     "metadata": {},
     "output_type": "display_data"
    },
    {
     "data": {
      "text/html": [
       "<pre>| 34270        | 2.5e+09 | 47.2403     | 25m 42s      |</pre>"
      ],
      "text/plain": [
       "| 34270        | 2.5e+09 | 47.2403     | 25m 42s      |"
      ]
     },
     "metadata": {},
     "output_type": "display_data"
    },
    {
     "data": {
      "text/html": [
       "<pre>| 34305        | 2.5e+09 | 47.2885     | 25m 45s      |</pre>"
      ],
      "text/plain": [
       "| 34305        | 2.5e+09 | 47.2885     | 25m 45s      |"
      ]
     },
     "metadata": {},
     "output_type": "display_data"
    },
    {
     "data": {
      "text/html": [
       "<pre>| 34340        | 2.5e+09 | 47.3368     | 25m 48s      |</pre>"
      ],
      "text/plain": [
       "| 34340        | 2.5e+09 | 47.3368     | 25m 48s      |"
      ]
     },
     "metadata": {},
     "output_type": "display_data"
    },
    {
     "data": {
      "text/html": [
       "<pre>| 34374        | 2.5e+09 | 47.3837     | 25m 51s      |</pre>"
      ],
      "text/plain": [
       "| 34374        | 2.5e+09 | 47.3837     | 25m 51s      |"
      ]
     },
     "metadata": {},
     "output_type": "display_data"
    },
    {
     "data": {
      "text/html": [
       "<pre>| 34410        | 2.5e+09 | 47.4333     | 25m 54s      |</pre>"
      ],
      "text/plain": [
       "| 34410        | 2.5e+09 | 47.4333     | 25m 54s      |"
      ]
     },
     "metadata": {},
     "output_type": "display_data"
    },
    {
     "data": {
      "text/html": [
       "<pre>| 34448        | 2.5e+09 | 47.4857     | 25m 57s      |</pre>"
      ],
      "text/plain": [
       "| 34448        | 2.5e+09 | 47.4857     | 25m 57s      |"
      ]
     },
     "metadata": {},
     "output_type": "display_data"
    },
    {
     "data": {
      "text/html": [
       "<pre>| 34483        | 2.5e+09 | 47.5339     | 26m 0s       |</pre>"
      ],
      "text/plain": [
       "| 34483        | 2.5e+09 | 47.5339     | 26m 0s       |"
      ]
     },
     "metadata": {},
     "output_type": "display_data"
    },
    {
     "data": {
      "text/html": [
       "<pre>| 34518        | 2.5e+09 | 47.5822     | 26m 3s       |</pre>"
      ],
      "text/plain": [
       "| 34518        | 2.5e+09 | 47.5822     | 26m 3s       |"
      ]
     },
     "metadata": {},
     "output_type": "display_data"
    },
    {
     "data": {
      "text/html": [
       "<pre>| 34553        | 2.5e+09 | 47.6304     | 26m 6s       |</pre>"
      ],
      "text/plain": [
       "| 34553        | 2.5e+09 | 47.6304     | 26m 6s       |"
      ]
     },
     "metadata": {},
     "output_type": "display_data"
    },
    {
     "data": {
      "text/html": [
       "<pre>| 34589        | 2.5e+09 | 47.68       | 26m 9s       |</pre>"
      ],
      "text/plain": [
       "| 34589        | 2.5e+09 | 47.68       | 26m 9s       |"
      ]
     },
     "metadata": {},
     "output_type": "display_data"
    },
    {
     "data": {
      "text/html": [
       "<pre>| 34626        | 2.5e+09 | 47.731      | 26m 12s      |</pre>"
      ],
      "text/plain": [
       "| 34626        | 2.5e+09 | 47.731      | 26m 12s      |"
      ]
     },
     "metadata": {},
     "output_type": "display_data"
    },
    {
     "data": {
      "text/html": [
       "<pre>| 34661        | 2.5e+09 | 47.7793     | 26m 15s      |</pre>"
      ],
      "text/plain": [
       "| 34661        | 2.5e+09 | 47.7793     | 26m 15s      |"
      ]
     },
     "metadata": {},
     "output_type": "display_data"
    },
    {
     "data": {
      "text/html": [
       "<pre>| 34696        | 2.5e+09 | 47.8275     | 26m 18s      |</pre>"
      ],
      "text/plain": [
       "| 34696        | 2.5e+09 | 47.8275     | 26m 18s      |"
      ]
     },
     "metadata": {},
     "output_type": "display_data"
    },
    {
     "data": {
      "text/html": [
       "<pre>| 34744        | 2.5e+09 | 47.8937     | 26m 21s      |</pre>"
      ],
      "text/plain": [
       "| 34744        | 2.5e+09 | 47.8937     | 26m 21s      |"
      ]
     },
     "metadata": {},
     "output_type": "display_data"
    },
    {
     "data": {
      "text/html": [
       "<pre>| 34799        | 2.5e+09 | 47.9695     | 26m 24s      |</pre>"
      ],
      "text/plain": [
       "| 34799        | 2.5e+09 | 47.9695     | 26m 24s      |"
      ]
     },
     "metadata": {},
     "output_type": "display_data"
    },
    {
     "data": {
      "text/html": [
       "<pre>| 34844        | 2.5e+09 | 48.0315     | 26m 27s      |</pre>"
      ],
      "text/plain": [
       "| 34844        | 2.5e+09 | 48.0315     | 26m 27s      |"
      ]
     },
     "metadata": {},
     "output_type": "display_data"
    },
    {
     "data": {
      "text/html": [
       "<pre>| 34903        | 2.5e+09 | 48.1129     | 26m 30s      |</pre>"
      ],
      "text/plain": [
       "| 34903        | 2.5e+09 | 48.1129     | 26m 30s      |"
      ]
     },
     "metadata": {},
     "output_type": "display_data"
    },
    {
     "data": {
      "text/html": [
       "<pre>| 34952        | 2.5e+09 | 48.1804     | 26m 33s      |</pre>"
      ],
      "text/plain": [
       "| 34952        | 2.5e+09 | 48.1804     | 26m 33s      |"
      ]
     },
     "metadata": {},
     "output_type": "display_data"
    },
    {
     "data": {
      "text/html": [
       "<pre>| 34995        | 2.5e+09 | 48.2397     | 26m 36s      |</pre>"
      ],
      "text/plain": [
       "| 34995        | 2.5e+09 | 48.2397     | 26m 36s      |"
      ]
     },
     "metadata": {},
     "output_type": "display_data"
    },
    {
     "data": {
      "text/html": [
       "<pre>| 35047        | 2.5e+09 | 48.3114     | 26m 39s      |</pre>"
      ],
      "text/plain": [
       "| 35047        | 2.5e+09 | 48.3114     | 26m 39s      |"
      ]
     },
     "metadata": {},
     "output_type": "display_data"
    },
    {
     "data": {
      "text/html": [
       "<pre>| 35114        | 2.5e+09 | 48.4037     | 26m 42s      |</pre>"
      ],
      "text/plain": [
       "| 35114        | 2.5e+09 | 48.4037     | 26m 42s      |"
      ]
     },
     "metadata": {},
     "output_type": "display_data"
    },
    {
     "data": {
      "text/html": [
       "<pre>| 35157        | 2.6e+09 | 48.463      | 26m 45s      |</pre>"
      ],
      "text/plain": [
       "| 35157        | 2.6e+09 | 48.463      | 26m 45s      |"
      ]
     },
     "metadata": {},
     "output_type": "display_data"
    },
    {
     "data": {
      "text/html": [
       "<pre>| 35219        | 2.6e+09 | 48.5485     | 26m 48s      |</pre>"
      ],
      "text/plain": [
       "| 35219        | 2.6e+09 | 48.5485     | 26m 48s      |"
      ]
     },
     "metadata": {},
     "output_type": "display_data"
    },
    {
     "data": {
      "text/html": [
       "<pre>| 35295        | 2.6e+09 | 48.6532     | 26m 51s      |</pre>"
      ],
      "text/plain": [
       "| 35295        | 2.6e+09 | 48.6532     | 26m 51s      |"
      ]
     },
     "metadata": {},
     "output_type": "display_data"
    },
    {
     "data": {
      "text/html": [
       "<pre>| 35354        | 2.6e+09 | 48.7346     | 26m 54s      |</pre>"
      ],
      "text/plain": [
       "| 35354        | 2.6e+09 | 48.7346     | 26m 54s      |"
      ]
     },
     "metadata": {},
     "output_type": "display_data"
    },
    {
     "data": {
      "text/html": [
       "<pre>| 35417        | 2.6e+09 | 48.8214     | 26m 57s      |</pre>"
      ],
      "text/plain": [
       "| 35417        | 2.6e+09 | 48.8214     | 26m 57s      |"
      ]
     },
     "metadata": {},
     "output_type": "display_data"
    },
    {
     "data": {
      "text/html": [
       "<pre>| 35479        | 2.6e+09 | 48.9069     | 27m 0s       |</pre>"
      ],
      "text/plain": [
       "| 35479        | 2.6e+09 | 48.9069     | 27m 0s       |"
      ]
     },
     "metadata": {},
     "output_type": "display_data"
    },
    {
     "data": {
      "text/html": [
       "<pre>| 35550        | 2.6e+09 | 49.0047     | 27m 3s       |</pre>"
      ],
      "text/plain": [
       "| 35550        | 2.6e+09 | 49.0047     | 27m 3s       |"
      ]
     },
     "metadata": {},
     "output_type": "display_data"
    },
    {
     "data": {
      "text/html": [
       "<pre>| 35625        | 2.6e+09 | 49.1081     | 27m 6s       |</pre>"
      ],
      "text/plain": [
       "| 35625        | 2.6e+09 | 49.1081     | 27m 6s       |"
      ]
     },
     "metadata": {},
     "output_type": "display_data"
    },
    {
     "data": {
      "text/html": [
       "<pre>| 35696        | 2.6e+09 | 49.206      | 27m 9s       |</pre>"
      ],
      "text/plain": [
       "| 35696        | 2.6e+09 | 49.206      | 27m 9s       |"
      ]
     },
     "metadata": {},
     "output_type": "display_data"
    },
    {
     "data": {
      "text/html": [
       "<pre>| 35756        | 2.6e+09 | 49.2887     | 27m 12s      |</pre>"
      ],
      "text/plain": [
       "| 35756        | 2.6e+09 | 49.2887     | 27m 12s      |"
      ]
     },
     "metadata": {},
     "output_type": "display_data"
    },
    {
     "data": {
      "text/html": [
       "<pre>| 35811        | 2.6e+09 | 49.3645     | 27m 15s      |</pre>"
      ],
      "text/plain": [
       "| 35811        | 2.6e+09 | 49.3645     | 27m 15s      |"
      ]
     },
     "metadata": {},
     "output_type": "display_data"
    },
    {
     "data": {
      "text/html": [
       "<pre>| 35843        |         | 49.4086     | 27m 18s      |</pre>"
      ],
      "text/plain": [
       "| 35843        |         | 49.4086     | 27m 18s      |"
      ]
     },
     "metadata": {},
     "output_type": "display_data"
    },
    {
     "data": {
      "text/html": [
       "<pre>| 35909        | 2.6e+09 | 49.4996     | 27m 21s      |</pre>"
      ],
      "text/plain": [
       "| 35909        | 2.6e+09 | 49.4996     | 27m 21s      |"
      ]
     },
     "metadata": {},
     "output_type": "display_data"
    },
    {
     "data": {
      "text/html": [
       "<pre>| 35985        | 2.6e+09 | 49.6044     | 27m 24s      |</pre>"
      ],
      "text/plain": [
       "| 35985        | 2.6e+09 | 49.6044     | 27m 24s      |"
      ]
     },
     "metadata": {},
     "output_type": "display_data"
    },
    {
     "data": {
      "text/html": [
       "<pre>| 36062        | 2.6e+09 | 49.7105     | 27m 27s      |</pre>"
      ],
      "text/plain": [
       "| 36062        | 2.6e+09 | 49.7105     | 27m 27s      |"
      ]
     },
     "metadata": {},
     "output_type": "display_data"
    },
    {
     "data": {
      "text/html": [
       "<pre>| 36138        | 2.6e+09 | 49.8153     | 27m 30s      |</pre>"
      ],
      "text/plain": [
       "| 36138        | 2.6e+09 | 49.8153     | 27m 30s      |"
      ]
     },
     "metadata": {},
     "output_type": "display_data"
    },
    {
     "data": {
      "text/html": [
       "<pre>| 36215        | 2.6e+09 | 49.9214     | 27m 33s      |</pre>"
      ],
      "text/plain": [
       "| 36215        | 2.6e+09 | 49.9214     | 27m 33s      |"
      ]
     },
     "metadata": {},
     "output_type": "display_data"
    },
    {
     "data": {
      "text/html": [
       "<pre>| 36287        | 2.6e+09 | 50.0207     | 27m 36s      |</pre>"
      ],
      "text/plain": [
       "| 36287        | 2.6e+09 | 50.0207     | 27m 36s      |"
      ]
     },
     "metadata": {},
     "output_type": "display_data"
    },
    {
     "data": {
      "text/html": [
       "<pre>| 36363        | 2.6e+09 | 50.1254     | 27m 39s      |</pre>"
      ],
      "text/plain": [
       "| 36363        | 2.6e+09 | 50.1254     | 27m 39s      |"
      ]
     },
     "metadata": {},
     "output_type": "display_data"
    },
    {
     "data": {
      "text/html": [
       "<pre>| 36439        | 2.6e+09 | 50.2302     | 27m 42s      |</pre>"
      ],
      "text/plain": [
       "| 36439        | 2.6e+09 | 50.2302     | 27m 42s      |"
      ]
     },
     "metadata": {},
     "output_type": "display_data"
    },
    {
     "data": {
      "text/html": [
       "<pre>| 36516        | 2.6e+09 | 50.3363     | 27m 45s      |</pre>"
      ],
      "text/plain": [
       "| 36516        | 2.6e+09 | 50.3363     | 27m 45s      |"
      ]
     },
     "metadata": {},
     "output_type": "display_data"
    },
    {
     "data": {
      "text/html": [
       "<pre>| 36592        | 2.7e+09 | 50.4411     | 27m 48s      |</pre>"
      ],
      "text/plain": [
       "| 36592        | 2.7e+09 | 50.4411     | 27m 48s      |"
      ]
     },
     "metadata": {},
     "output_type": "display_data"
    },
    {
     "data": {
      "text/html": [
       "<pre>| 36667        | 2.7e+09 | 50.5445     | 27m 51s      |</pre>"
      ],
      "text/plain": [
       "| 36667        | 2.7e+09 | 50.5445     | 27m 51s      |"
      ]
     },
     "metadata": {},
     "output_type": "display_data"
    },
    {
     "data": {
      "text/html": [
       "<pre>| 36743        | 2.7e+09 | 50.6493     | 27m 54s      |</pre>"
      ],
      "text/plain": [
       "| 36743        | 2.7e+09 | 50.6493     | 27m 54s      |"
      ]
     },
     "metadata": {},
     "output_type": "display_data"
    },
    {
     "data": {
      "text/html": [
       "<pre>| 36820        | 2.7e+09 | 50.7554     | 27m 57s      |</pre>"
      ],
      "text/plain": [
       "| 36820        | 2.7e+09 | 50.7554     | 27m 57s      |"
      ]
     },
     "metadata": {},
     "output_type": "display_data"
    },
    {
     "data": {
      "text/html": [
       "<pre>| 36893        | 2.7e+09 | 50.856      | 28m 0s       |</pre>"
      ],
      "text/plain": [
       "| 36893        | 2.7e+09 | 50.856      | 28m 0s       |"
      ]
     },
     "metadata": {},
     "output_type": "display_data"
    },
    {
     "data": {
      "text/html": [
       "<pre>| 36963        | 2.7e+09 | 50.9525     | 28m 3s       |</pre>"
      ],
      "text/plain": [
       "| 36963        | 2.7e+09 | 50.9525     | 28m 3s       |"
      ]
     },
     "metadata": {},
     "output_type": "display_data"
    },
    {
     "data": {
      "text/html": [
       "<pre>| 37039        | 2.7e+09 | 51.0573     | 28m 6s       |</pre>"
      ],
      "text/plain": [
       "| 37039        | 2.7e+09 | 51.0573     | 28m 6s       |"
      ]
     },
     "metadata": {},
     "output_type": "display_data"
    },
    {
     "data": {
      "text/html": [
       "<pre>| 37114        | 2.7e+09 | 51.1607     | 28m 9s       |</pre>"
      ],
      "text/plain": [
       "| 37114        | 2.7e+09 | 51.1607     | 28m 9s       |"
      ]
     },
     "metadata": {},
     "output_type": "display_data"
    },
    {
     "data": {
      "text/html": [
       "<pre>| 37189        | 2.7e+09 | 51.2641     | 28m 12s      |</pre>"
      ],
      "text/plain": [
       "| 37189        | 2.7e+09 | 51.2641     | 28m 12s      |"
      ]
     },
     "metadata": {},
     "output_type": "display_data"
    },
    {
     "data": {
      "text/html": [
       "<pre>| 37266        | 2.7e+09 | 51.3702     | 28m 15s      |</pre>"
      ],
      "text/plain": [
       "| 37266        | 2.7e+09 | 51.3702     | 28m 15s      |"
      ]
     },
     "metadata": {},
     "output_type": "display_data"
    },
    {
     "data": {
      "text/html": [
       "<pre>| 37340        | 2.7e+09 | 51.4722     | 28m 18s      |</pre>"
      ],
      "text/plain": [
       "| 37340        | 2.7e+09 | 51.4722     | 28m 18s      |"
      ]
     },
     "metadata": {},
     "output_type": "display_data"
    },
    {
     "data": {
      "text/html": [
       "<pre>| 37414        | 2.7e+09 | 51.5742     | 28m 21s      |</pre>"
      ],
      "text/plain": [
       "| 37414        | 2.7e+09 | 51.5742     | 28m 21s      |"
      ]
     },
     "metadata": {},
     "output_type": "display_data"
    },
    {
     "data": {
      "text/html": [
       "<pre>| 37484        | 2.7e+09 | 51.6707     | 28m 24s      |</pre>"
      ],
      "text/plain": [
       "| 37484        | 2.7e+09 | 51.6707     | 28m 24s      |"
      ]
     },
     "metadata": {},
     "output_type": "display_data"
    },
    {
     "data": {
      "text/html": [
       "<pre>| 37561        | 2.7e+09 | 51.7769     | 28m 27s      |</pre>"
      ],
      "text/plain": [
       "| 37561        | 2.7e+09 | 51.7769     | 28m 27s      |"
      ]
     },
     "metadata": {},
     "output_type": "display_data"
    },
    {
     "data": {
      "text/html": [
       "<pre>| 37636        | 2.7e+09 | 51.8802     | 28m 30s      |</pre>"
      ],
      "text/plain": [
       "| 37636        | 2.7e+09 | 51.8802     | 28m 30s      |"
      ]
     },
     "metadata": {},
     "output_type": "display_data"
    },
    {
     "data": {
      "text/html": [
       "<pre>| 37713        | 2.7e+09 | 51.9864     | 28m 33s      |</pre>"
      ],
      "text/plain": [
       "| 37713        | 2.7e+09 | 51.9864     | 28m 33s      |"
      ]
     },
     "metadata": {},
     "output_type": "display_data"
    },
    {
     "data": {
      "text/html": [
       "<pre>| 37790        | 2.7e+09 | 52.0925     | 28m 36s      |</pre>"
      ],
      "text/plain": [
       "| 37790        | 2.7e+09 | 52.0925     | 28m 36s      |"
      ]
     },
     "metadata": {},
     "output_type": "display_data"
    },
    {
     "data": {
      "text/html": [
       "<pre>| 37867        | 2.7e+09 | 52.1987     | 28m 39s      |</pre>"
      ],
      "text/plain": [
       "| 37867        | 2.7e+09 | 52.1987     | 28m 39s      |"
      ]
     },
     "metadata": {},
     "output_type": "display_data"
    },
    {
     "data": {
      "text/html": [
       "<pre>| 37942        | 2.8e+09 | 52.3021     | 28m 42s      |</pre>"
      ],
      "text/plain": [
       "| 37942        | 2.8e+09 | 52.3021     | 28m 42s      |"
      ]
     },
     "metadata": {},
     "output_type": "display_data"
    },
    {
     "data": {
      "text/html": [
       "<pre>| 38018        | 2.8e+09 | 52.4068     | 28m 45s      |</pre>"
      ],
      "text/plain": [
       "| 38018        | 2.8e+09 | 52.4068     | 28m 45s      |"
      ]
     },
     "metadata": {},
     "output_type": "display_data"
    },
    {
     "data": {
      "text/html": [
       "<pre>| 38094        | 2.8e+09 | 52.5116     | 28m 48s      |</pre>"
      ],
      "text/plain": [
       "| 38094        | 2.8e+09 | 52.5116     | 28m 48s      |"
      ]
     },
     "metadata": {},
     "output_type": "display_data"
    },
    {
     "data": {
      "text/html": [
       "<pre>| 38172        | 2.8e+09 | 52.6191     | 28m 51s      |</pre>"
      ],
      "text/plain": [
       "| 38172        | 2.8e+09 | 52.6191     | 28m 51s      |"
      ]
     },
     "metadata": {},
     "output_type": "display_data"
    },
    {
     "data": {
      "text/html": [
       "<pre>| 38249        | 2.8e+09 | 52.7252     | 28m 54s      |</pre>"
      ],
      "text/plain": [
       "| 38249        | 2.8e+09 | 52.7252     | 28m 54s      |"
      ]
     },
     "metadata": {},
     "output_type": "display_data"
    },
    {
     "data": {
      "text/html": [
       "<pre>| 38325        | 2.8e+09 | 52.83       | 28m 57s      |</pre>"
      ],
      "text/plain": [
       "| 38325        | 2.8e+09 | 52.83       | 28m 57s      |"
      ]
     },
     "metadata": {},
     "output_type": "display_data"
    },
    {
     "data": {
      "text/html": [
       "<pre>| 38400        | 2.8e+09 | 52.9334     | 29m 0s       |</pre>"
      ],
      "text/plain": [
       "| 38400        | 2.8e+09 | 52.9334     | 29m 0s       |"
      ]
     },
     "metadata": {},
     "output_type": "display_data"
    },
    {
     "data": {
      "text/html": [
       "<pre>| 38476        | 2.8e+09 | 53.0382     | 29m 3s       |</pre>"
      ],
      "text/plain": [
       "| 38476        | 2.8e+09 | 53.0382     | 29m 3s       |"
      ]
     },
     "metadata": {},
     "output_type": "display_data"
    },
    {
     "data": {
      "text/html": [
       "<pre>| 38551        | 2.8e+09 | 53.1415     | 29m 6s       |</pre>"
      ],
      "text/plain": [
       "| 38551        | 2.8e+09 | 53.1415     | 29m 6s       |"
      ]
     },
     "metadata": {},
     "output_type": "display_data"
    },
    {
     "data": {
      "text/html": [
       "<pre>| 38609        | 2.8e+09 | 53.2215     | 29m 9s       |</pre>"
      ],
      "text/plain": [
       "| 38609        | 2.8e+09 | 53.2215     | 29m 9s       |"
      ]
     },
     "metadata": {},
     "output_type": "display_data"
    },
    {
     "data": {
      "text/html": [
       "<pre>| 38644        | 2.8e+09 | 53.2697     | 29m 12s      |</pre>"
      ],
      "text/plain": [
       "| 38644        | 2.8e+09 | 53.2697     | 29m 12s      |"
      ]
     },
     "metadata": {},
     "output_type": "display_data"
    },
    {
     "data": {
      "text/html": [
       "<pre>| 38694        | 2.8e+09 | 53.3387     | 29m 15s      |</pre>"
      ],
      "text/plain": [
       "| 38694        | 2.8e+09 | 53.3387     | 29m 15s      |"
      ]
     },
     "metadata": {},
     "output_type": "display_data"
    },
    {
     "data": {
      "text/html": [
       "<pre>| 38746        | 2.8e+09 | 53.4103     | 29m 18s      |</pre>"
      ],
      "text/plain": [
       "| 38746        | 2.8e+09 | 53.4103     | 29m 18s      |"
      ]
     },
     "metadata": {},
     "output_type": "display_data"
    },
    {
     "data": {
      "text/html": [
       "<pre>| 38821        | 2.8e+09 | 53.5137     | 29m 21s      |</pre>"
      ],
      "text/plain": [
       "| 38821        | 2.8e+09 | 53.5137     | 29m 21s      |"
      ]
     },
     "metadata": {},
     "output_type": "display_data"
    },
    {
     "data": {
      "text/html": [
       "<pre>| 38889        | 2.8e+09 | 53.6075     | 29m 24s      |</pre>"
      ],
      "text/plain": [
       "| 38889        | 2.8e+09 | 53.6075     | 29m 24s      |"
      ]
     },
     "metadata": {},
     "output_type": "display_data"
    },
    {
     "data": {
      "text/html": [
       "<pre>| 38959        | 2.8e+09 | 53.704      | 29m 27s      |</pre>"
      ],
      "text/plain": [
       "| 38959        | 2.8e+09 | 53.704      | 29m 27s      |"
      ]
     },
     "metadata": {},
     "output_type": "display_data"
    },
    {
     "data": {
      "text/html": [
       "<pre>| 39032        | 2.8e+09 | 53.8046     | 29m 30s      |</pre>"
      ],
      "text/plain": [
       "| 39032        | 2.8e+09 | 53.8046     | 29m 30s      |"
      ]
     },
     "metadata": {},
     "output_type": "display_data"
    },
    {
     "data": {
      "text/html": [
       "<pre>| 39099        | 2.8e+09 | 53.8969     | 29m 33s      |</pre>"
      ],
      "text/plain": [
       "| 39099        | 2.8e+09 | 53.8969     | 29m 33s      |"
      ]
     },
     "metadata": {},
     "output_type": "display_data"
    },
    {
     "data": {
      "text/html": [
       "<pre>| 39166        | 2.8e+09 | 53.9893     | 29m 36s      |</pre>"
      ],
      "text/plain": [
       "| 39166        | 2.8e+09 | 53.9893     | 29m 36s      |"
      ]
     },
     "metadata": {},
     "output_type": "display_data"
    },
    {
     "data": {
      "text/html": [
       "<pre>| 39214        | 2.8e+09 | 54.0555     | 29m 39s      |</pre>"
      ],
      "text/plain": [
       "| 39214        | 2.8e+09 | 54.0555     | 29m 39s      |"
      ]
     },
     "metadata": {},
     "output_type": "display_data"
    },
    {
     "data": {
      "text/html": [
       "<pre>| 39254        | 2.8e+09 | 54.1106     | 29m 42s      |</pre>"
      ],
      "text/plain": [
       "| 39254        | 2.8e+09 | 54.1106     | 29m 42s      |"
      ]
     },
     "metadata": {},
     "output_type": "display_data"
    },
    {
     "data": {
      "text/html": [
       "<pre>| 39292        | 2.9e+09 | 54.163      | 29m 45s      |</pre>"
      ],
      "text/plain": [
       "| 39292        | 2.9e+09 | 54.163      | 29m 45s      |"
      ]
     },
     "metadata": {},
     "output_type": "display_data"
    },
    {
     "data": {
      "text/html": [
       "<pre>| 39349        | 2.9e+09 | 54.2416     | 29m 48s      |</pre>"
      ],
      "text/plain": [
       "| 39349        | 2.9e+09 | 54.2416     | 29m 48s      |"
      ]
     },
     "metadata": {},
     "output_type": "display_data"
    },
    {
     "data": {
      "text/html": [
       "<pre>| 39394        | 2.9e+09 | 54.3036     | 29m 51s      |</pre>"
      ],
      "text/plain": [
       "| 39394        | 2.9e+09 | 54.3036     | 29m 51s      |"
      ]
     },
     "metadata": {},
     "output_type": "display_data"
    },
    {
     "data": {
      "text/html": [
       "<pre>| 39447        | 2.9e+09 | 54.3767     | 29m 54s      |</pre>"
      ],
      "text/plain": [
       "| 39447        | 2.9e+09 | 54.3767     | 29m 54s      |"
      ]
     },
     "metadata": {},
     "output_type": "display_data"
    },
    {
     "data": {
      "text/html": [
       "<pre>| 39497        | 2.9e+09 | 54.4456     | 29m 57s      |</pre>"
      ],
      "text/plain": [
       "| 39497        | 2.9e+09 | 54.4456     | 29m 57s      |"
      ]
     },
     "metadata": {},
     "output_type": "display_data"
    },
    {
     "data": {
      "text/html": [
       "<pre>| 39565        | 2.9e+09 | 54.5393     | 30m 0s       |</pre>"
      ],
      "text/plain": [
       "| 39565        | 2.9e+09 | 54.5393     | 30m 0s       |"
      ]
     },
     "metadata": {},
     "output_type": "display_data"
    },
    {
     "data": {
      "text/html": [
       "<pre>| 39638        | 2.9e+09 | 54.6399     | 30m 3s       |</pre>"
      ],
      "text/plain": [
       "| 39638        | 2.9e+09 | 54.6399     | 30m 3s       |"
      ]
     },
     "metadata": {},
     "output_type": "display_data"
    },
    {
     "data": {
      "text/html": [
       "<pre>| 39704        | 2.9e+09 | 54.7309     | 30m 6s       |</pre>"
      ],
      "text/plain": [
       "| 39704        | 2.9e+09 | 54.7309     | 30m 6s       |"
      ]
     },
     "metadata": {},
     "output_type": "display_data"
    },
    {
     "data": {
      "text/html": [
       "<pre>| 39764        | 2.9e+09 | 54.8136     | 30m 9s       |</pre>"
      ],
      "text/plain": [
       "| 39764        | 2.9e+09 | 54.8136     | 30m 9s       |"
      ]
     },
     "metadata": {},
     "output_type": "display_data"
    },
    {
     "data": {
      "text/html": [
       "<pre>| 39826        | 2.9e+09 | 54.8991     | 30m 12s      |</pre>"
      ],
      "text/plain": [
       "| 39826        | 2.9e+09 | 54.8991     | 30m 12s      |"
      ]
     },
     "metadata": {},
     "output_type": "display_data"
    },
    {
     "data": {
      "text/html": [
       "<pre>| 39882        | 2.9e+09 | 54.9763     | 30m 15s      |</pre>"
      ],
      "text/plain": [
       "| 39882        | 2.9e+09 | 54.9763     | 30m 15s      |"
      ]
     },
     "metadata": {},
     "output_type": "display_data"
    },
    {
     "data": {
      "text/html": [
       "<pre>| 39921        | 2.9e+09 | 55.0301     | 30m 18s      |</pre>"
      ],
      "text/plain": [
       "| 39921        | 2.9e+09 | 55.0301     | 30m 18s      |"
      ]
     },
     "metadata": {},
     "output_type": "display_data"
    },
    {
     "data": {
      "text/html": [
       "<pre>| 39955        | 2.9e+09 | 55.0769     | 30m 21s      |</pre>"
      ],
      "text/plain": [
       "| 39955        | 2.9e+09 | 55.0769     | 30m 21s      |"
      ]
     },
     "metadata": {},
     "output_type": "display_data"
    },
    {
     "data": {
      "text/html": [
       "<pre>| 39991        | 2.9e+09 | 55.1265     | 30m 24s      |</pre>"
      ],
      "text/plain": [
       "| 39991        | 2.9e+09 | 55.1265     | 30m 24s      |"
      ]
     },
     "metadata": {},
     "output_type": "display_data"
    },
    {
     "data": {
      "text/html": [
       "<pre>| 40052        | 2.9e+09 | 55.2106     | 30m 27s      |</pre>"
      ],
      "text/plain": [
       "| 40052        | 2.9e+09 | 55.2106     | 30m 27s      |"
      ]
     },
     "metadata": {},
     "output_type": "display_data"
    },
    {
     "data": {
      "text/html": [
       "<pre>| 40090        | 2.9e+09 | 55.263      | 30m 30s      |</pre>"
      ],
      "text/plain": [
       "| 40090        | 2.9e+09 | 55.263      | 30m 30s      |"
      ]
     },
     "metadata": {},
     "output_type": "display_data"
    },
    {
     "data": {
      "text/html": [
       "<pre>| 40126        | 2.9e+09 | 55.3126     | 30m 33s      |</pre>"
      ],
      "text/plain": [
       "| 40126        | 2.9e+09 | 55.3126     | 30m 33s      |"
      ]
     },
     "metadata": {},
     "output_type": "display_data"
    },
    {
     "data": {
      "text/html": [
       "<pre>| 40161        | 2.9e+09 | 55.3609     | 30m 36s      |</pre>"
      ],
      "text/plain": [
       "| 40161        | 2.9e+09 | 55.3609     | 30m 36s      |"
      ]
     },
     "metadata": {},
     "output_type": "display_data"
    },
    {
     "data": {
      "text/html": [
       "<pre>| 40198        | 2.9e+09 | 55.4119     | 30m 39s      |</pre>"
      ],
      "text/plain": [
       "| 40198        | 2.9e+09 | 55.4119     | 30m 39s      |"
      ]
     },
     "metadata": {},
     "output_type": "display_data"
    },
    {
     "data": {
      "text/html": [
       "<pre>| 40236        | 2.9e+09 | 55.4643     | 30m 42s      |</pre>"
      ],
      "text/plain": [
       "| 40236        | 2.9e+09 | 55.4643     | 30m 42s      |"
      ]
     },
     "metadata": {},
     "output_type": "display_data"
    },
    {
     "data": {
      "text/html": [
       "<pre>| 40293        | 2.9e+09 | 55.5428     | 30m 45s      |</pre>"
      ],
      "text/plain": [
       "| 40293        | 2.9e+09 | 55.5428     | 30m 45s      |"
      ]
     },
     "metadata": {},
     "output_type": "display_data"
    },
    {
     "data": {
      "text/html": [
       "<pre>| 40336        | 2.9e+09 | 55.6021     | 30m 48s      |</pre>"
      ],
      "text/plain": [
       "| 40336        | 2.9e+09 | 55.6021     | 30m 48s      |"
      ]
     },
     "metadata": {},
     "output_type": "display_data"
    },
    {
     "data": {
      "text/html": [
       "<pre>| 40373        | 2.9e+09 | 55.6531     | 30m 51s      |</pre>"
      ],
      "text/plain": [
       "| 40373        | 2.9e+09 | 55.6531     | 30m 51s      |"
      ]
     },
     "metadata": {},
     "output_type": "display_data"
    },
    {
     "data": {
      "text/html": [
       "<pre>| 40412        | 2.9e+09 | 55.7069     | 30m 54s      |</pre>"
      ],
      "text/plain": [
       "| 40412        | 2.9e+09 | 55.7069     | 30m 54s      |"
      ]
     },
     "metadata": {},
     "output_type": "display_data"
    },
    {
     "data": {
      "text/html": [
       "<pre>| 40448        | 2.9e+09 | 55.7565     | 30m 57s      |</pre>"
      ],
      "text/plain": [
       "| 40448        | 2.9e+09 | 55.7565     | 30m 57s      |"
      ]
     },
     "metadata": {},
     "output_type": "display_data"
    },
    {
     "data": {
      "text/html": [
       "<pre>| 40483        | 2.9e+09 | 55.8048     | 31m 0s       |</pre>"
      ],
      "text/plain": [
       "| 40483        | 2.9e+09 | 55.8048     | 31m 0s       |"
      ]
     },
     "metadata": {},
     "output_type": "display_data"
    },
    {
     "data": {
      "text/html": [
       "<pre>| 40539        | 2.9e+09 | 55.8819     | 31m 3s       |</pre>"
      ],
      "text/plain": [
       "| 40539        | 2.9e+09 | 55.8819     | 31m 3s       |"
      ]
     },
     "metadata": {},
     "output_type": "display_data"
    },
    {
     "data": {
      "text/html": [
       "<pre>| 40587        | 2.9e+09 | 55.9481     | 31m 6s       |</pre>"
      ],
      "text/plain": [
       "| 40587        | 2.9e+09 | 55.9481     | 31m 6s       |"
      ]
     },
     "metadata": {},
     "output_type": "display_data"
    },
    {
     "data": {
      "text/html": [
       "<pre>| 40637        | 2.9e+09 | 56.017      | 31m 9s       |</pre>"
      ],
      "text/plain": [
       "| 40637        | 2.9e+09 | 56.017      | 31m 9s       |"
      ]
     },
     "metadata": {},
     "output_type": "display_data"
    },
    {
     "data": {
      "text/html": [
       "<pre>| 40685        | 3e+09   | 56.0832     | 31m 12s      |</pre>"
      ],
      "text/plain": [
       "| 40685        | 3e+09   | 56.0832     | 31m 12s      |"
      ]
     },
     "metadata": {},
     "output_type": "display_data"
    },
    {
     "data": {
      "text/html": [
       "<pre>| 40735        | 3e+09   | 56.1521     | 31m 15s      |</pre>"
      ],
      "text/plain": [
       "| 40735        | 3e+09   | 56.1521     | 31m 15s      |"
      ]
     },
     "metadata": {},
     "output_type": "display_data"
    },
    {
     "data": {
      "text/html": [
       "<pre>| 40778        | 3e+09   | 56.2114     | 31m 18s      |</pre>"
      ],
      "text/plain": [
       "| 40778        | 3e+09   | 56.2114     | 31m 18s      |"
      ]
     },
     "metadata": {},
     "output_type": "display_data"
    },
    {
     "data": {
      "text/html": [
       "<pre>| 40813        | 3e+09   | 56.2596     | 31m 21s      |</pre>"
      ],
      "text/plain": [
       "| 40813        | 3e+09   | 56.2596     | 31m 21s      |"
      ]
     },
     "metadata": {},
     "output_type": "display_data"
    },
    {
     "data": {
      "text/html": [
       "<pre>| 40869        | 3e+09   | 56.3368     | 31m 24s      |</pre>"
      ],
      "text/plain": [
       "| 40869        | 3e+09   | 56.3368     | 31m 24s      |"
      ]
     },
     "metadata": {},
     "output_type": "display_data"
    },
    {
     "data": {
      "text/html": [
       "<pre>| 40917        | 3e+09   | 56.403      | 31m 27s      |</pre>"
      ],
      "text/plain": [
       "| 40917        | 3e+09   | 56.403      | 31m 27s      |"
      ]
     },
     "metadata": {},
     "output_type": "display_data"
    },
    {
     "data": {
      "text/html": [
       "<pre>| 40957        | 3e+09   | 56.4581     | 31m 30s      |</pre>"
      ],
      "text/plain": [
       "| 40957        | 3e+09   | 56.4581     | 31m 30s      |"
      ]
     },
     "metadata": {},
     "output_type": "display_data"
    },
    {
     "data": {
      "text/html": [
       "<pre>| 40988        | 3e+09   | 56.5009     | 31m 33s      |</pre>"
      ],
      "text/plain": [
       "| 40988        | 3e+09   | 56.5009     | 31m 33s      |"
      ]
     },
     "metadata": {},
     "output_type": "display_data"
    },
    {
     "data": {
      "text/html": [
       "<pre>| 41026        | 3e+09   | 56.5533     | 31m 36s      |</pre>"
      ],
      "text/plain": [
       "| 41026        | 3e+09   | 56.5533     | 31m 36s      |"
      ]
     },
     "metadata": {},
     "output_type": "display_data"
    },
    {
     "data": {
      "text/html": [
       "<pre>| 41060        | 3e+09   | 56.6001     | 31m 39s      |</pre>"
      ],
      "text/plain": [
       "| 41060        | 3e+09   | 56.6001     | 31m 39s      |"
      ]
     },
     "metadata": {},
     "output_type": "display_data"
    },
    {
     "data": {
      "text/html": [
       "<pre>| 41110        | 3e+09   | 56.6691     | 31m 42s      |</pre>"
      ],
      "text/plain": [
       "| 41110        | 3e+09   | 56.6691     | 31m 42s      |"
      ]
     },
     "metadata": {},
     "output_type": "display_data"
    },
    {
     "data": {
      "text/html": [
       "<pre>| 41165        | 3e+09   | 56.7449     | 31m 45s      |</pre>"
      ],
      "text/plain": [
       "| 41165        | 3e+09   | 56.7449     | 31m 45s      |"
      ]
     },
     "metadata": {},
     "output_type": "display_data"
    },
    {
     "data": {
      "text/html": [
       "<pre>| 41205        | 3e+09   | 56.8        | 31m 48s      |</pre>"
      ],
      "text/plain": [
       "| 41205        | 3e+09   | 56.8        | 31m 48s      |"
      ]
     },
     "metadata": {},
     "output_type": "display_data"
    },
    {
     "data": {
      "text/html": [
       "<pre>| 41248        | 3e+09   | 56.8593     | 31m 51s      |</pre>"
      ],
      "text/plain": [
       "| 41248        | 3e+09   | 56.8593     | 31m 51s      |"
      ]
     },
     "metadata": {},
     "output_type": "display_data"
    },
    {
     "data": {
      "text/html": [
       "<pre>| 41294        | 3e+09   | 56.9227     | 31m 54s      |</pre>"
      ],
      "text/plain": [
       "| 41294        | 3e+09   | 56.9227     | 31m 54s      |"
      ]
     },
     "metadata": {},
     "output_type": "display_data"
    },
    {
     "data": {
      "text/html": [
       "<pre>| 41343        | 3e+09   | 56.9902     | 31m 57s      |</pre>"
      ],
      "text/plain": [
       "| 41343        | 3e+09   | 56.9902     | 31m 57s      |"
      ]
     },
     "metadata": {},
     "output_type": "display_data"
    },
    {
     "data": {
      "text/html": [
       "<pre>| 41379        | 3e+09   | 57.0399     | 32m 0s       |</pre>"
      ],
      "text/plain": [
       "| 41379        | 3e+09   | 57.0399     | 32m 0s       |"
      ]
     },
     "metadata": {},
     "output_type": "display_data"
    },
    {
     "data": {
      "text/html": [
       "<pre>| 41416        | 3e+09   | 57.0909     | 32m 3s       |</pre>"
      ],
      "text/plain": [
       "| 41416        | 3e+09   | 57.0909     | 32m 3s       |"
      ]
     },
     "metadata": {},
     "output_type": "display_data"
    },
    {
     "data": {
      "text/html": [
       "<pre>| 41452        | 3e+09   | 57.1405     | 32m 6s       |</pre>"
      ],
      "text/plain": [
       "| 41452        | 3e+09   | 57.1405     | 32m 6s       |"
      ]
     },
     "metadata": {},
     "output_type": "display_data"
    },
    {
     "data": {
      "text/html": [
       "<pre>| 41486        | 3e+09   | 57.1874     | 32m 9s       |</pre>"
      ],
      "text/plain": [
       "| 41486        | 3e+09   | 57.1874     | 32m 9s       |"
      ]
     },
     "metadata": {},
     "output_type": "display_data"
    },
    {
     "data": {
      "text/html": [
       "<pre>| 41521        | 3e+09   | 57.2356     | 32m 12s      |</pre>"
      ],
      "text/plain": [
       "| 41521        | 3e+09   | 57.2356     | 32m 12s      |"
      ]
     },
     "metadata": {},
     "output_type": "display_data"
    },
    {
     "data": {
      "text/html": [
       "<pre>| 41558        | 3e+09   | 57.2866     | 32m 15s      |</pre>"
      ],
      "text/plain": [
       "| 41558        | 3e+09   | 57.2866     | 32m 15s      |"
      ]
     },
     "metadata": {},
     "output_type": "display_data"
    },
    {
     "data": {
      "text/html": [
       "<pre>| 41594        | 3e+09   | 57.3362     | 32m 18s      |</pre>"
      ],
      "text/plain": [
       "| 41594        | 3e+09   | 57.3362     | 32m 18s      |"
      ]
     },
     "metadata": {},
     "output_type": "display_data"
    },
    {
     "data": {
      "text/html": [
       "<pre>| 41635        | 3e+09   | 57.3928     | 32m 21s      |</pre>"
      ],
      "text/plain": [
       "| 41635        | 3e+09   | 57.3928     | 32m 21s      |"
      ]
     },
     "metadata": {},
     "output_type": "display_data"
    },
    {
     "data": {
      "text/html": [
       "<pre>| 41669        | 3e+09   | 57.4396     | 32m 24s      |</pre>"
      ],
      "text/plain": [
       "| 41669        | 3e+09   | 57.4396     | 32m 24s      |"
      ]
     },
     "metadata": {},
     "output_type": "display_data"
    },
    {
     "data": {
      "text/html": [
       "<pre>| 41701        | 3e+09   | 57.4837     | 32m 27s      |</pre>"
      ],
      "text/plain": [
       "| 41701        | 3e+09   | 57.4837     | 32m 27s      |"
      ]
     },
     "metadata": {},
     "output_type": "display_data"
    },
    {
     "data": {
      "text/html": [
       "<pre>| 41745        | 3e+09   | 57.5444     | 32m 30s      |</pre>"
      ],
      "text/plain": [
       "| 41745        | 3e+09   | 57.5444     | 32m 30s      |"
      ]
     },
     "metadata": {},
     "output_type": "display_data"
    },
    {
     "data": {
      "text/html": [
       "<pre>| 41803        | 3e+09   | 57.6243     | 32m 33s      |</pre>"
      ],
      "text/plain": [
       "| 41803        | 3e+09   | 57.6243     | 32m 33s      |"
      ]
     },
     "metadata": {},
     "output_type": "display_data"
    },
    {
     "data": {
      "text/html": [
       "<pre>| 41850        | 3e+09   | 57.6891     | 32m 36s      |</pre>"
      ],
      "text/plain": [
       "| 41850        | 3e+09   | 57.6891     | 32m 36s      |"
      ]
     },
     "metadata": {},
     "output_type": "display_data"
    },
    {
     "data": {
      "text/html": [
       "<pre>| 41888        | 3e+09   | 57.7415     | 32m 39s      |</pre>"
      ],
      "text/plain": [
       "| 41888        | 3e+09   | 57.7415     | 32m 39s      |"
      ]
     },
     "metadata": {},
     "output_type": "display_data"
    },
    {
     "data": {
      "text/html": [
       "<pre>| 41935        | 3e+09   | 57.8063     | 32m 42s      |</pre>"
      ],
      "text/plain": [
       "| 41935        | 3e+09   | 57.8063     | 32m 42s      |"
      ]
     },
     "metadata": {},
     "output_type": "display_data"
    },
    {
     "data": {
      "text/html": [
       "<pre>| 41985        | 3e+09   | 57.8752     | 32m 45s      |</pre>"
      ],
      "text/plain": [
       "| 41985        | 3e+09   | 57.8752     | 32m 45s      |"
      ]
     },
     "metadata": {},
     "output_type": "display_data"
    },
    {
     "data": {
      "text/html": [
       "<pre>| 42043        | 3e+09   | 57.9552     | 32m 48s      |</pre>"
      ],
      "text/plain": [
       "| 42043        | 3e+09   | 57.9552     | 32m 48s      |"
      ]
     },
     "metadata": {},
     "output_type": "display_data"
    },
    {
     "data": {
      "text/html": [
       "<pre>| 42092        | 3.1e+09 | 58.0227     | 32m 51s      |</pre>"
      ],
      "text/plain": [
       "| 42092        | 3.1e+09 | 58.0227     | 32m 51s      |"
      ]
     },
     "metadata": {},
     "output_type": "display_data"
    },
    {
     "data": {
      "text/html": [
       "<pre>| 42128        | 3.1e+09 | 58.0723     | 32m 54s      |</pre>"
      ],
      "text/plain": [
       "| 42128        | 3.1e+09 | 58.0723     | 32m 54s      |"
      ]
     },
     "metadata": {},
     "output_type": "display_data"
    },
    {
     "data": {
      "text/html": [
       "<pre>| 42159        | 3.1e+09 | 58.1151     | 32m 57s      |</pre>"
      ],
      "text/plain": [
       "| 42159        | 3.1e+09 | 58.1151     | 32m 57s      |"
      ]
     },
     "metadata": {},
     "output_type": "display_data"
    },
    {
     "data": {
      "text/html": [
       "<pre>| 42192        | 3.1e+09 | 58.1606     | 33m 0s       |</pre>"
      ],
      "text/plain": [
       "| 42192        | 3.1e+09 | 58.1606     | 33m 0s       |"
      ]
     },
     "metadata": {},
     "output_type": "display_data"
    },
    {
     "data": {
      "text/html": [
       "<pre>| 42227        | 3.1e+09 | 58.2088     | 33m 3s       |</pre>"
      ],
      "text/plain": [
       "| 42227        | 3.1e+09 | 58.2088     | 33m 3s       |"
      ]
     },
     "metadata": {},
     "output_type": "display_data"
    },
    {
     "data": {
      "text/html": [
       "<pre>| 42263        | 3.1e+09 | 58.2584     | 33m 6s       |</pre>"
      ],
      "text/plain": [
       "| 42263        | 3.1e+09 | 58.2584     | 33m 6s       |"
      ]
     },
     "metadata": {},
     "output_type": "display_data"
    },
    {
     "data": {
      "text/html": [
       "<pre>| 42302        | 3.1e+09 | 58.3122     | 33m 9s       |</pre>"
      ],
      "text/plain": [
       "| 42302        | 3.1e+09 | 58.3122     | 33m 9s       |"
      ]
     },
     "metadata": {},
     "output_type": "display_data"
    },
    {
     "data": {
      "text/html": [
       "<pre>| 42338        | 3.1e+09 | 58.3618     | 33m 12s      |</pre>"
      ],
      "text/plain": [
       "| 42338        | 3.1e+09 | 58.3618     | 33m 12s      |"
      ]
     },
     "metadata": {},
     "output_type": "display_data"
    },
    {
     "data": {
      "text/html": [
       "<pre>| 42372        | 3.1e+09 | 58.4087     | 33m 15s      |</pre>"
      ],
      "text/plain": [
       "| 42372        | 3.1e+09 | 58.4087     | 33m 15s      |"
      ]
     },
     "metadata": {},
     "output_type": "display_data"
    },
    {
     "data": {
      "text/html": [
       "<pre>| 42405        | 3.1e+09 | 58.4542     | 33m 18s      |</pre>"
      ],
      "text/plain": [
       "| 42405        | 3.1e+09 | 58.4542     | 33m 18s      |"
      ]
     },
     "metadata": {},
     "output_type": "display_data"
    },
    {
     "data": {
      "text/html": [
       "<pre>| 42440        | 3.1e+09 | 58.5024     | 33m 21s      |</pre>"
      ],
      "text/plain": [
       "| 42440        | 3.1e+09 | 58.5024     | 33m 21s      |"
      ]
     },
     "metadata": {},
     "output_type": "display_data"
    },
    {
     "data": {
      "text/html": [
       "<pre>| 42474        | 3.1e+09 | 58.5493     | 33m 24s      |</pre>"
      ],
      "text/plain": [
       "| 42474        | 3.1e+09 | 58.5493     | 33m 24s      |"
      ]
     },
     "metadata": {},
     "output_type": "display_data"
    },
    {
     "data": {
      "text/html": [
       "<pre>| 42510        | 3.1e+09 | 58.5989     | 33m 27s      |</pre>"
      ],
      "text/plain": [
       "| 42510        | 3.1e+09 | 58.5989     | 33m 27s      |"
      ]
     },
     "metadata": {},
     "output_type": "display_data"
    },
    {
     "data": {
      "text/html": [
       "<pre>| 42538        | 3.1e+09 | 58.6375     | 33m 30s      |</pre>"
      ],
      "text/plain": [
       "| 42538        | 3.1e+09 | 58.6375     | 33m 30s      |"
      ]
     },
     "metadata": {},
     "output_type": "display_data"
    },
    {
     "data": {
      "text/html": [
       "<pre>| 42568        | 3.1e+09 | 58.6789     | 33m 33s      |</pre>"
      ],
      "text/plain": [
       "| 42568        | 3.1e+09 | 58.6789     | 33m 33s      |"
      ]
     },
     "metadata": {},
     "output_type": "display_data"
    },
    {
     "data": {
      "text/html": [
       "<pre>| 42605        | 3.1e+09 | 58.7299     | 33m 36s      |</pre>"
      ],
      "text/plain": [
       "| 42605        | 3.1e+09 | 58.7299     | 33m 36s      |"
      ]
     },
     "metadata": {},
     "output_type": "display_data"
    },
    {
     "data": {
      "text/html": [
       "<pre>| 42648        | 3.1e+09 | 58.7891     | 33m 39s      |</pre>"
      ],
      "text/plain": [
       "| 42648        | 3.1e+09 | 58.7891     | 33m 39s      |"
      ]
     },
     "metadata": {},
     "output_type": "display_data"
    },
    {
     "data": {
      "text/html": [
       "<pre>| 42683        | 3.1e+09 | 58.8374     | 33m 42s      |</pre>"
      ],
      "text/plain": [
       "| 42683        | 3.1e+09 | 58.8374     | 33m 42s      |"
      ]
     },
     "metadata": {},
     "output_type": "display_data"
    },
    {
     "data": {
      "text/html": [
       "<pre>| 42720        | 3.1e+09 | 58.8884     | 33m 45s      |</pre>"
      ],
      "text/plain": [
       "| 42720        | 3.1e+09 | 58.8884     | 33m 45s      |"
      ]
     },
     "metadata": {},
     "output_type": "display_data"
    },
    {
     "data": {
      "text/html": [
       "<pre>| 42751        | 3.1e+09 | 58.9311     | 33m 48s      |</pre>"
      ],
      "text/plain": [
       "| 42751        | 3.1e+09 | 58.9311     | 33m 48s      |"
      ]
     },
     "metadata": {},
     "output_type": "display_data"
    },
    {
     "data": {
      "text/html": [
       "<pre>| 42782        | 3.1e+09 | 58.9739     | 33m 51s      |</pre>"
      ],
      "text/plain": [
       "| 42782        | 3.1e+09 | 58.9739     | 33m 51s      |"
      ]
     },
     "metadata": {},
     "output_type": "display_data"
    },
    {
     "data": {
      "text/html": [
       "<pre>| 42816        | 3.1e+09 | 59.0207     | 33m 54s      |</pre>"
      ],
      "text/plain": [
       "| 42816        | 3.1e+09 | 59.0207     | 33m 54s      |"
      ]
     },
     "metadata": {},
     "output_type": "display_data"
    },
    {
     "data": {
      "text/html": [
       "<pre>| 42850        | 3.1e+09 | 59.0676     | 33m 57s      |</pre>"
      ],
      "text/plain": [
       "| 42850        | 3.1e+09 | 59.0676     | 33m 57s      |"
      ]
     },
     "metadata": {},
     "output_type": "display_data"
    },
    {
     "data": {
      "text/html": [
       "<pre>| 42888        | 3.1e+09 | 59.12       | 34m 0s       |</pre>"
      ],
      "text/plain": [
       "| 42888        | 3.1e+09 | 59.12       | 34m 0s       |"
      ]
     },
     "metadata": {},
     "output_type": "display_data"
    },
    {
     "data": {
      "text/html": [
       "<pre>| 42927        | 3.1e+09 | 59.1737     | 34m 3s       |</pre>"
      ],
      "text/plain": [
       "| 42927        | 3.1e+09 | 59.1737     | 34m 3s       |"
      ]
     },
     "metadata": {},
     "output_type": "display_data"
    },
    {
     "data": {
      "text/html": [
       "<pre>| 42963        | 3.1e+09 | 59.2234     | 34m 6s       |</pre>"
      ],
      "text/plain": [
       "| 42963        | 3.1e+09 | 59.2234     | 34m 6s       |"
      ]
     },
     "metadata": {},
     "output_type": "display_data"
    },
    {
     "data": {
      "text/html": [
       "<pre>| 42996        | 3.1e+09 | 59.2689     | 34m 9s       |</pre>"
      ],
      "text/plain": [
       "| 42996        | 3.1e+09 | 59.2689     | 34m 9s       |"
      ]
     },
     "metadata": {},
     "output_type": "display_data"
    },
    {
     "data": {
      "text/html": [
       "<pre>| 43029        | 3.1e+09 | 59.3143     | 34m 12s      |</pre>"
      ],
      "text/plain": [
       "| 43029        | 3.1e+09 | 59.3143     | 34m 12s      |"
      ]
     },
     "metadata": {},
     "output_type": "display_data"
    },
    {
     "data": {
      "text/html": [
       "<pre>| 43066        | 3.1e+09 | 59.3654     | 34m 15s      |</pre>"
      ],
      "text/plain": [
       "| 43066        | 3.1e+09 | 59.3654     | 34m 15s      |"
      ]
     },
     "metadata": {},
     "output_type": "display_data"
    },
    {
     "data": {
      "text/html": [
       "<pre>| 43105        | 3.1e+09 | 59.4191     | 34m 18s      |</pre>"
      ],
      "text/plain": [
       "| 43105        | 3.1e+09 | 59.4191     | 34m 18s      |"
      ]
     },
     "metadata": {},
     "output_type": "display_data"
    },
    {
     "data": {
      "text/html": [
       "<pre>| 43144        | 3.1e+09 | 59.4729     | 34m 21s      |</pre>"
      ],
      "text/plain": [
       "| 43144        | 3.1e+09 | 59.4729     | 34m 21s      |"
      ]
     },
     "metadata": {},
     "output_type": "display_data"
    },
    {
     "data": {
      "text/html": [
       "<pre>| 43177        | 3.1e+09 | 59.5184     | 34m 24s      |</pre>"
      ],
      "text/plain": [
       "| 43177        | 3.1e+09 | 59.5184     | 34m 24s      |"
      ]
     },
     "metadata": {},
     "output_type": "display_data"
    },
    {
     "data": {
      "text/html": [
       "<pre>| 43209        | 3.1e+09 | 59.5625     | 34m 27s      |</pre>"
      ],
      "text/plain": [
       "| 43209        | 3.1e+09 | 59.5625     | 34m 27s      |"
      ]
     },
     "metadata": {},
     "output_type": "display_data"
    },
    {
     "data": {
      "text/html": [
       "<pre>| 43243        | 3.1e+09 | 59.6093     | 34m 30s      |</pre>"
      ],
      "text/plain": [
       "| 43243        | 3.1e+09 | 59.6093     | 34m 30s      |"
      ]
     },
     "metadata": {},
     "output_type": "display_data"
    },
    {
     "data": {
      "text/html": [
       "<pre>| 43281        | 3.1e+09 | 59.6617     | 34m 33s      |</pre>"
      ],
      "text/plain": [
       "| 43281        | 3.1e+09 | 59.6617     | 34m 33s      |"
      ]
     },
     "metadata": {},
     "output_type": "display_data"
    },
    {
     "data": {
      "text/html": [
       "<pre>| 43318        | 3.1e+09 | 59.7127     | 34m 36s      |</pre>"
      ],
      "text/plain": [
       "| 43318        | 3.1e+09 | 59.7127     | 34m 36s      |"
      ]
     },
     "metadata": {},
     "output_type": "display_data"
    },
    {
     "data": {
      "text/html": [
       "<pre>| 43354        | 3.1e+09 | 59.7624     | 34m 39s      |</pre>"
      ],
      "text/plain": [
       "| 43354        | 3.1e+09 | 59.7624     | 34m 39s      |"
      ]
     },
     "metadata": {},
     "output_type": "display_data"
    },
    {
     "data": {
      "text/html": [
       "<pre>| 43390        | 3.1e+09 | 59.812      | 34m 42s      |</pre>"
      ],
      "text/plain": [
       "| 43390        | 3.1e+09 | 59.812      | 34m 42s      |"
      ]
     },
     "metadata": {},
     "output_type": "display_data"
    },
    {
     "data": {
      "text/html": [
       "<pre>| 43425        | 3.2e+09 | 59.8602     | 34m 45s      |</pre>"
      ],
      "text/plain": [
       "| 43425        | 3.2e+09 | 59.8602     | 34m 45s      |"
      ]
     },
     "metadata": {},
     "output_type": "display_data"
    },
    {
     "data": {
      "text/html": [
       "<pre>| 43456        | 3.2e+09 | 59.903      | 34m 48s      |</pre>"
      ],
      "text/plain": [
       "| 43456        | 3.2e+09 | 59.903      | 34m 48s      |"
      ]
     },
     "metadata": {},
     "output_type": "display_data"
    },
    {
     "data": {
      "text/html": [
       "<pre>| 43497        | 3.2e+09 | 59.9595     | 34m 51s      |</pre>"
      ],
      "text/plain": [
       "| 43497        | 3.2e+09 | 59.9595     | 34m 51s      |"
      ]
     },
     "metadata": {},
     "output_type": "display_data"
    },
    {
     "data": {
      "text/html": [
       "<pre>| 43538        | 3.2e+09 | 60.016      | 34m 54s      |</pre>"
      ],
      "text/plain": [
       "| 43538        | 3.2e+09 | 60.016      | 34m 54s      |"
      ]
     },
     "metadata": {},
     "output_type": "display_data"
    },
    {
     "data": {
      "text/html": [
       "<pre>| 43579        | 3.2e+09 | 60.0725     | 34m 57s      |</pre>"
      ],
      "text/plain": [
       "| 43579        | 3.2e+09 | 60.0725     | 34m 57s      |"
      ]
     },
     "metadata": {},
     "output_type": "display_data"
    },
    {
     "data": {
      "text/html": [
       "<pre>| 43612        | 3.2e+09 | 60.118      | 35m 0s       |</pre>"
      ],
      "text/plain": [
       "| 43612        | 3.2e+09 | 60.118      | 35m 0s       |"
      ]
     },
     "metadata": {},
     "output_type": "display_data"
    },
    {
     "data": {
      "text/html": [
       "<pre>| 43644        | 3.2e+09 | 60.1621     | 35m 3s       |</pre>"
      ],
      "text/plain": [
       "| 43644        | 3.2e+09 | 60.1621     | 35m 3s       |"
      ]
     },
     "metadata": {},
     "output_type": "display_data"
    },
    {
     "data": {
      "text/html": [
       "<pre>| 43675        | 3.2e+09 | 60.2048     | 35m 6s       |</pre>"
      ],
      "text/plain": [
       "| 43675        | 3.2e+09 | 60.2048     | 35m 6s       |"
      ]
     },
     "metadata": {},
     "output_type": "display_data"
    },
    {
     "data": {
      "text/html": [
       "<pre>| 43709        | 3.2e+09 | 60.2517     | 35m 9s       |</pre>"
      ],
      "text/plain": [
       "| 43709        | 3.2e+09 | 60.2517     | 35m 9s       |"
      ]
     },
     "metadata": {},
     "output_type": "display_data"
    },
    {
     "data": {
      "text/html": [
       "<pre>| 43745        | 3.2e+09 | 60.3013     | 35m 12s      |</pre>"
      ],
      "text/plain": [
       "| 43745        | 3.2e+09 | 60.3013     | 35m 12s      |"
      ]
     },
     "metadata": {},
     "output_type": "display_data"
    },
    {
     "data": {
      "text/html": [
       "<pre>| 43781        | 3.2e+09 | 60.351      | 35m 15s      |</pre>"
      ],
      "text/plain": [
       "| 43781        | 3.2e+09 | 60.351      | 35m 15s      |"
      ]
     },
     "metadata": {},
     "output_type": "display_data"
    },
    {
     "data": {
      "text/html": [
       "<pre>| 43817        | 3.2e+09 | 60.4006     | 35m 18s      |</pre>"
      ],
      "text/plain": [
       "| 43817        | 3.2e+09 | 60.4006     | 35m 18s      |"
      ]
     },
     "metadata": {},
     "output_type": "display_data"
    },
    {
     "data": {
      "text/html": [
       "<pre>| 43857        | 3.2e+09 | 60.4557     | 35m 21s      |</pre>"
      ],
      "text/plain": [
       "| 43857        | 3.2e+09 | 60.4557     | 35m 21s      |"
      ]
     },
     "metadata": {},
     "output_type": "display_data"
    },
    {
     "data": {
      "text/html": [
       "<pre>| 43895        | 3.2e+09 | 60.5081     | 35m 24s      |</pre>"
      ],
      "text/plain": [
       "| 43895        | 3.2e+09 | 60.5081     | 35m 24s      |"
      ]
     },
     "metadata": {},
     "output_type": "display_data"
    },
    {
     "data": {
      "text/html": [
       "<pre>| 43929        | 3.2e+09 | 60.555      | 35m 27s      |</pre>"
      ],
      "text/plain": [
       "| 43929        | 3.2e+09 | 60.555      | 35m 27s      |"
      ]
     },
     "metadata": {},
     "output_type": "display_data"
    },
    {
     "data": {
      "text/html": [
       "<pre>| 43967        | 3.2e+09 | 60.6074     | 35m 30s      |</pre>"
      ],
      "text/plain": [
       "| 43967        | 3.2e+09 | 60.6074     | 35m 30s      |"
      ]
     },
     "metadata": {},
     "output_type": "display_data"
    },
    {
     "data": {
      "text/html": [
       "<pre>| 43999        | 3.2e+09 | 60.6515     | 35m 33s      |</pre>"
      ],
      "text/plain": [
       "| 43999        | 3.2e+09 | 60.6515     | 35m 33s      |"
      ]
     },
     "metadata": {},
     "output_type": "display_data"
    },
    {
     "data": {
      "text/html": [
       "<pre>| 44037        | 3.2e+09 | 60.7038     | 35m 36s      |</pre>"
      ],
      "text/plain": [
       "| 44037        | 3.2e+09 | 60.7038     | 35m 36s      |"
      ]
     },
     "metadata": {},
     "output_type": "display_data"
    },
    {
     "data": {
      "text/html": [
       "<pre>| 44094        | 3.2e+09 | 60.7824     | 35m 39s      |</pre>"
      ],
      "text/plain": [
       "| 44094        | 3.2e+09 | 60.7824     | 35m 39s      |"
      ]
     },
     "metadata": {},
     "output_type": "display_data"
    },
    {
     "data": {
      "text/html": [
       "<pre>| 44131        | 3.2e+09 | 60.8334     | 35m 42s      |</pre>"
      ],
      "text/plain": [
       "| 44131        | 3.2e+09 | 60.8334     | 35m 42s      |"
      ]
     },
     "metadata": {},
     "output_type": "display_data"
    },
    {
     "data": {
      "text/html": [
       "<pre>| 44175        | 3.2e+09 | 60.8941     | 35m 45s      |</pre>"
      ],
      "text/plain": [
       "| 44175        | 3.2e+09 | 60.8941     | 35m 45s      |"
      ]
     },
     "metadata": {},
     "output_type": "display_data"
    },
    {
     "data": {
      "text/html": [
       "<pre>| 44225        | 3.2e+09 | 60.963      | 35m 48s      |</pre>"
      ],
      "text/plain": [
       "| 44225        | 3.2e+09 | 60.963      | 35m 48s      |"
      ]
     },
     "metadata": {},
     "output_type": "display_data"
    },
    {
     "data": {
      "text/html": [
       "<pre>| 44280        | 3.2e+09 | 61.0388     | 35m 51s      |</pre>"
      ],
      "text/plain": [
       "| 44280        | 3.2e+09 | 61.0388     | 35m 51s      |"
      ]
     },
     "metadata": {},
     "output_type": "display_data"
    },
    {
     "data": {
      "text/html": [
       "<pre>| 44338        | 3.2e+09 | 61.1188     | 35m 54s      |</pre>"
      ],
      "text/plain": [
       "| 44338        | 3.2e+09 | 61.1188     | 35m 54s      |"
      ]
     },
     "metadata": {},
     "output_type": "display_data"
    },
    {
     "data": {
      "text/html": [
       "<pre>| 44381        | 3.2e+09 | 61.178      | 35m 57s      |</pre>"
      ],
      "text/plain": [
       "| 44381        | 3.2e+09 | 61.178      | 35m 57s      |"
      ]
     },
     "metadata": {},
     "output_type": "display_data"
    },
    {
     "data": {
      "text/html": [
       "<pre>| 44430        | 3.2e+09 | 61.2456     | 36m 0s       |</pre>"
      ],
      "text/plain": [
       "| 44430        | 3.2e+09 | 61.2456     | 36m 0s       |"
      ]
     },
     "metadata": {},
     "output_type": "display_data"
    },
    {
     "data": {
      "text/html": [
       "<pre>| 44476        | 3.2e+09 | 61.309      | 36m 3s       |</pre>"
      ],
      "text/plain": [
       "| 44476        | 3.2e+09 | 61.309      | 36m 3s       |"
      ]
     },
     "metadata": {},
     "output_type": "display_data"
    },
    {
     "data": {
      "text/html": [
       "<pre>| 44529        | 3.2e+09 | 61.3821     | 36m 6s       |</pre>"
      ],
      "text/plain": [
       "| 44529        | 3.2e+09 | 61.3821     | 36m 6s       |"
      ]
     },
     "metadata": {},
     "output_type": "display_data"
    },
    {
     "data": {
      "text/html": [
       "<pre>| 44567        | 3.2e+09 | 61.4344     | 36m 9s       |</pre>"
      ],
      "text/plain": [
       "| 44567        | 3.2e+09 | 61.4344     | 36m 9s       |"
      ]
     },
     "metadata": {},
     "output_type": "display_data"
    },
    {
     "data": {
      "text/html": [
       "<pre>| 44611        | 3.2e+09 | 61.4951     | 36m 12s      |</pre>"
      ],
      "text/plain": [
       "| 44611        | 3.2e+09 | 61.4951     | 36m 12s      |"
      ]
     },
     "metadata": {},
     "output_type": "display_data"
    },
    {
     "data": {
      "text/html": [
       "<pre>| 44671        | 3.2e+09 | 61.5778     | 36m 15s      |</pre>"
      ],
      "text/plain": [
       "| 44671        | 3.2e+09 | 61.5778     | 36m 15s      |"
      ]
     },
     "metadata": {},
     "output_type": "display_data"
    },
    {
     "data": {
      "text/html": [
       "<pre>| 44712        | 3.2e+09 | 61.6343     | 36m 18s      |</pre>"
      ],
      "text/plain": [
       "| 44712        | 3.2e+09 | 61.6343     | 36m 18s      |"
      ]
     },
     "metadata": {},
     "output_type": "display_data"
    },
    {
     "data": {
      "text/html": [
       "<pre>| 44749        | 3.2e+09 | 61.6853     | 36m 21s      |</pre>"
      ],
      "text/plain": [
       "| 44749        | 3.2e+09 | 61.6853     | 36m 21s      |"
      ]
     },
     "metadata": {},
     "output_type": "display_data"
    },
    {
     "data": {
      "text/html": [
       "<pre>| 44786        | 3.2e+09 | 61.7363     | 36m 24s      |</pre>"
      ],
      "text/plain": [
       "| 44786        | 3.2e+09 | 61.7363     | 36m 24s      |"
      ]
     },
     "metadata": {},
     "output_type": "display_data"
    },
    {
     "data": {
      "text/html": [
       "<pre>| 44848        | 3.3e+09 | 61.8218     | 36m 27s      |</pre>"
      ],
      "text/plain": [
       "| 44848        | 3.3e+09 | 61.8218     | 36m 27s      |"
      ]
     },
     "metadata": {},
     "output_type": "display_data"
    },
    {
     "data": {
      "text/html": [
       "<pre>| 44918        | 3.3e+09 | 61.9183     | 36m 30s      |</pre>"
      ],
      "text/plain": [
       "| 44918        | 3.3e+09 | 61.9183     | 36m 30s      |"
      ]
     },
     "metadata": {},
     "output_type": "display_data"
    },
    {
     "data": {
      "text/html": [
       "<pre>| 44976        | 3.3e+09 | 61.9982     | 36m 32s      |</pre>"
      ],
      "text/plain": [
       "| 44976        | 3.3e+09 | 61.9982     | 36m 32s      |"
      ]
     },
     "metadata": {},
     "output_type": "display_data"
    },
    {
     "data": {
      "text/html": [
       "<pre>| 45035        | 3.3e+09 | 62.0796     | 36m 36s      |</pre>"
      ],
      "text/plain": [
       "| 45035        | 3.3e+09 | 62.0796     | 36m 36s      |"
      ]
     },
     "metadata": {},
     "output_type": "display_data"
    },
    {
     "data": {
      "text/html": [
       "<pre>| 45072        | 3.3e+09 | 62.1306     | 36m 38s      |</pre>"
      ],
      "text/plain": [
       "| 45072        | 3.3e+09 | 62.1306     | 36m 38s      |"
      ]
     },
     "metadata": {},
     "output_type": "display_data"
    },
    {
     "data": {
      "text/html": [
       "<pre>| 45108        | 3.3e+09 | 62.1802     | 36m 42s      |</pre>"
      ],
      "text/plain": [
       "| 45108        | 3.3e+09 | 62.1802     | 36m 42s      |"
      ]
     },
     "metadata": {},
     "output_type": "display_data"
    },
    {
     "data": {
      "text/html": [
       "<pre>| 45144        | 3.3e+09 | 62.2298     | 36m 45s      |</pre>"
      ],
      "text/plain": [
       "| 45144        | 3.3e+09 | 62.2298     | 36m 45s      |"
      ]
     },
     "metadata": {},
     "output_type": "display_data"
    },
    {
     "data": {
      "text/html": [
       "<pre>| 45180        | 3.3e+09 | 62.2794     | 36m 47s      |</pre>"
      ],
      "text/plain": [
       "| 45180        | 3.3e+09 | 62.2794     | 36m 47s      |"
      ]
     },
     "metadata": {},
     "output_type": "display_data"
    },
    {
     "data": {
      "text/html": [
       "<pre>| 45217        | 3.3e+09 | 62.3304     | 36m 50s      |</pre>"
      ],
      "text/plain": [
       "| 45217        | 3.3e+09 | 62.3304     | 36m 50s      |"
      ]
     },
     "metadata": {},
     "output_type": "display_data"
    },
    {
     "data": {
      "text/html": [
       "<pre>| 45255        | 3.3e+09 | 62.3828     | 36m 54s      |</pre>"
      ],
      "text/plain": [
       "| 45255        | 3.3e+09 | 62.3828     | 36m 54s      |"
      ]
     },
     "metadata": {},
     "output_type": "display_data"
    },
    {
     "data": {
      "text/html": [
       "<pre>| 45291        | 3.3e+09 | 62.4325     | 36m 56s      |</pre>"
      ],
      "text/plain": [
       "| 45291        | 3.3e+09 | 62.4325     | 36m 56s      |"
      ]
     },
     "metadata": {},
     "output_type": "display_data"
    },
    {
     "data": {
      "text/html": [
       "<pre>| 45327        | 3.3e+09 | 62.4821     | 37m 0s       |</pre>"
      ],
      "text/plain": [
       "| 45327        | 3.3e+09 | 62.4821     | 37m 0s       |"
      ]
     },
     "metadata": {},
     "output_type": "display_data"
    },
    {
     "data": {
      "text/html": [
       "<pre>| 45363        | 3.3e+09 | 62.5317     | 37m 2s       |</pre>"
      ],
      "text/plain": [
       "| 45363        | 3.3e+09 | 62.5317     | 37m 2s       |"
      ]
     },
     "metadata": {},
     "output_type": "display_data"
    },
    {
     "data": {
      "text/html": [
       "<pre>| 45400        | 3.3e+09 | 62.5827     | 37m 5s       |</pre>"
      ],
      "text/plain": [
       "| 45400        | 3.3e+09 | 62.5827     | 37m 5s       |"
      ]
     },
     "metadata": {},
     "output_type": "display_data"
    },
    {
     "data": {
      "text/html": [
       "<pre>| 45434        | 3.3e+09 | 62.6296     | 37m 8s       |</pre>"
      ],
      "text/plain": [
       "| 45434        | 3.3e+09 | 62.6296     | 37m 8s       |"
      ]
     },
     "metadata": {},
     "output_type": "display_data"
    },
    {
     "data": {
      "text/html": [
       "<pre>| 45467        | 3.3e+09 | 62.6751     | 37m 11s      |</pre>"
      ],
      "text/plain": [
       "| 45467        | 3.3e+09 | 62.6751     | 37m 11s      |"
      ]
     },
     "metadata": {},
     "output_type": "display_data"
    },
    {
     "data": {
      "text/html": [
       "<pre>| 45499        | 3.3e+09 | 62.7192     | 37m 15s      |</pre>"
      ],
      "text/plain": [
       "| 45499        | 3.3e+09 | 62.7192     | 37m 15s      |"
      ]
     },
     "metadata": {},
     "output_type": "display_data"
    },
    {
     "data": {
      "text/html": [
       "<pre>| 45532        | 3.3e+09 | 62.7647     | 37m 17s      |</pre>"
      ],
      "text/plain": [
       "| 45532        | 3.3e+09 | 62.7647     | 37m 17s      |"
      ]
     },
     "metadata": {},
     "output_type": "display_data"
    },
    {
     "data": {
      "text/html": [
       "<pre>| 45567        | 3.3e+09 | 62.8129     | 37m 20s      |</pre>"
      ],
      "text/plain": [
       "| 45567        | 3.3e+09 | 62.8129     | 37m 20s      |"
      ]
     },
     "metadata": {},
     "output_type": "display_data"
    },
    {
     "data": {
      "text/html": [
       "<pre>| 45603        | 3.3e+09 | 62.8625     | 37m 23s      |</pre>"
      ],
      "text/plain": [
       "| 45603        | 3.3e+09 | 62.8625     | 37m 23s      |"
      ]
     },
     "metadata": {},
     "output_type": "display_data"
    },
    {
     "data": {
      "text/html": [
       "<pre>| 45638        | 3.3e+09 | 62.9108     | 37m 26s      |</pre>"
      ],
      "text/plain": [
       "| 45638        | 3.3e+09 | 62.9108     | 37m 26s      |"
      ]
     },
     "metadata": {},
     "output_type": "display_data"
    },
    {
     "data": {
      "text/html": [
       "<pre>| 45675        | 3.3e+09 | 62.9618     | 37m 29s      |</pre>"
      ],
      "text/plain": [
       "| 45675        | 3.3e+09 | 62.9618     | 37m 29s      |"
      ]
     },
     "metadata": {},
     "output_type": "display_data"
    },
    {
     "data": {
      "text/html": [
       "<pre>| 45709        | 3.3e+09 | 63.0087     | 37m 32s      |</pre>"
      ],
      "text/plain": [
       "| 45709        | 3.3e+09 | 63.0087     | 37m 32s      |"
      ]
     },
     "metadata": {},
     "output_type": "display_data"
    },
    {
     "data": {
      "text/html": [
       "<pre>| 45743        | 3.3e+09 | 63.0555     | 37m 35s      |</pre>"
      ],
      "text/plain": [
       "| 45743        | 3.3e+09 | 63.0555     | 37m 35s      |"
      ]
     },
     "metadata": {},
     "output_type": "display_data"
    },
    {
     "data": {
      "text/html": [
       "<pre>| 45773        | 3.3e+09 | 63.0969     | 37m 38s      |</pre>"
      ],
      "text/plain": [
       "| 45773        | 3.3e+09 | 63.0969     | 37m 38s      |"
      ]
     },
     "metadata": {},
     "output_type": "display_data"
    },
    {
     "data": {
      "text/html": [
       "<pre>| 45807        | 3.3e+09 | 63.1437     | 37m 41s      |</pre>"
      ],
      "text/plain": [
       "| 45807        | 3.3e+09 | 63.1437     | 37m 41s      |"
      ]
     },
     "metadata": {},
     "output_type": "display_data"
    },
    {
     "data": {
      "text/html": [
       "<pre>| 45856        | 3.3e+09 | 63.2113     | 37m 44s      |</pre>"
      ],
      "text/plain": [
       "| 45856        | 3.3e+09 | 63.2113     | 37m 44s      |"
      ]
     },
     "metadata": {},
     "output_type": "display_data"
    }
   ],
   "source": [
    "ISM = tc.recommender.item_similarity_recommender.create(analyse, user_id=\"user_id\", item_id=\"movie_id\", target= \"ratings\")\n",
    "ICR = tc.recommender.item_content_recommender.create(analyse, user_id=\"user_id\", item_id=\"movie_id\", target=\"ratings\")\n",
    "FR = tc.recommender.factorization_recommender.create(analyse, user_id=\"user_id\", item_id=\"movie_id\", target=\"ratings\")"
   ]
  },
  {
   "cell_type": "code",
   "execution_count": null,
   "metadata": {},
   "outputs": [],
   "source": [
    "ism = ISM.recommed()\n",
    "icr = ICR.recommed()\n",
    "fr = FR.recommed()"
   ]
  },
  {
   "cell_type": "code",
   "execution_count": null,
   "metadata": {},
   "outputs": [],
   "source": [
    "#checking the rms value\n",
    "ism.evaluate_rms()"
   ]
  }
 ],
 "metadata": {
  "kernelspec": {
   "display_name": "Python 3",
   "language": "python",
   "name": "python3"
  },
  "language_info": {
   "codemirror_mode": {
    "name": "ipython",
    "version": 3
   },
   "file_extension": ".py",
   "mimetype": "text/x-python",
   "name": "python",
   "nbconvert_exporter": "python",
   "pygments_lexer": "ipython3",
   "version": "3.6.5"
  }
 },
 "nbformat": 4,
 "nbformat_minor": 2
}
